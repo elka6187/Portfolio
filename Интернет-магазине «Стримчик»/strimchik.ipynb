{
 "cells": [
  {
   "cell_type": "markdown",
   "metadata": {},
   "source": [
    "<div class=\"alert alert-block alert-info\">\n",
    "\n",
    "\n",
    "# H1<b>Исследование продаж игровых приставок для интернет-магазина \"Стримчик\".</b>\n",
    "\n",
    "<b>Цель проекта:</b>\n",
    "Выявить определяющие успешность игры закономерности. Это позволит сделать ставку на потенциально популярный продукт и спланировать рекламные кампании.\n",
    "\n",
    "<b>Заказчик:</b>\n",
    "Интернет-магазина «Стримчик», который продаёт по всему миру компьютерные игры.    \n",
    "\n",
    "<b>Описание данных:</b>\n",
    "Из открытых источников доступны исторические данные о продажах игр, оценки пользователей и экспертов, жанры и платформы (например, Xbox или PlayStation) до 2016 года. \n",
    "\n",
    "В наборе данных попадается аббревиатура ESRB (Entertainment Software Rating Board) — это ассоциация, определяющая возрастной рейтинг компьютерных игр. ESRB оценивает игровой контент и присваивает ему подходящую возрастную категорию, например, «Для взрослых», «Для детей младшего возраста» или «Для подростков».\n",
    "\n",
    "<b>Этапы исследования:</b>\n",
    "\n",
    "Откройте файл с данными и изучите общую информацию\n",
    "\n",
    "Подготовка данных\n",
    "\n",
    "2.1. Замените названия столбцов;\n",
    "\n",
    "2.2. Преобразуйте данные в нужные типы. Опишите, в каких столбцах заменили тип данных и почему;\n",
    "\n",
    "2.3. Обработайте пропуски при необходимости:\n",
    "\n",
    "2.3.1. Объясните, почему заполнили пропуски определённым образом или почему не стали это делать;\n",
    "\n",
    "2.3.2. Опишите причины, которые могли привести к пропускам;\n",
    "\n",
    "2.3.3. Обратите внимание на аббревиатуру 'tbd' в столбцах с рейтингом. Отдельно разберите это значение и опишите, как его обработать;\n",
    "\n",
    "Исследовательский анализ данных\n",
    "\n",
    "3.1. Посмотрите, сколько игр выпускалось в разные годы. Важны ли данные за все периоды?\n",
    "\n",
    "3.2. Посмотрите, как менялись продажи по платформам. Выберите платформы с наибольшими суммарными продажами и постройте распределение по годам. За какой характерный срок появляются новые и исчезают старые платформы?\n",
    "\n",
    "3.3. Возьмите данные за соответствующий актуальный период. Актуальный период определите самостоятельно в результате исследования предыдущих вопросов. Основной фактор — эти данные помогут построить прогноз на 2017 год.\n",
    "\n",
    "3.4. Какие платформы лидируют по продажам, растут или падают? Выберите несколько потенциально прибыльных платформ;\n",
    "\n",
    "3.5. Постройте график «ящик с усами» по глобальным продажам игр в разбивке по платформам. Опишите результат;\n",
    "\n",
    "3.6. Посмотрите, как влияют на продажи внутри одной популярной платформы отзывы пользователей и критиков. Постройте диаграмму рассеяния и посчитайте корреляцию между отзывами и продажами. Сформулируйте выводы;\n",
    "\n",
    "Составление портрета пользователя каждого региона, Определите для пользователя каждого региона (NA, EU, JP):\n",
    "\n",
    "4.1. Самые популярные платформы (топ-5). Опишите различия в долях продаж.\n",
    "\n",
    "4.2. Самые популярные жанры (топ-5). Поясните разницу.\n",
    "\n",
    "4.3. Влияет ли рейтинг ESRB на продажи в отдельном регионе?\n",
    "\n",
    "Проверка гипотез\n",
    "\n",
    "5.1. Средние пользовательские рейтинги платформ Xbox One и PC одинаковые;\n",
    "\n",
    "5.2. Средние пользовательские рейтинги жанров Action (англ. «действие», экшен-игры) и Sports (англ. «спортивные соревнования») разные;\n",
    "\n",
    "5.3. Как вы сформулировали нулевую и альтернативную гипотезы;\n",
    "\n",
    "5.4. Какой критерий применили для проверки гипотез и почему;\n",
    "\n",
    "Общий вывод\n",
    "\n",
    "\n",
    "<b>Название столбцов:</b>\n",
    "\n",
    "Name — название игры\n",
    "\n",
    "Platform — платформа\n",
    "\n",
    "Year_of_Release — год выпуска\n",
    "\n",
    "Genre — жанр игры\n",
    "\n",
    "NA_sales — продажи в Северной Америке (миллионы проданных копий)\n",
    "\n",
    "EU_sales — продажи в Европе (миллионы проданных копий)\n",
    "\n",
    "JP_sales — продажи в Японии (миллионы проданных копий)\n",
    "\n",
    "Other_sales — продажи в других странах (миллионы проданных копий)\n",
    "\n",
    "Critic_Score — оценка критиков (максимум 100)\n",
    "\n",
    "User_Score — оценка пользователей (максимум 10)\n",
    "\n",
    "Rating — рейтинг от организации ESRB (англ. Entertainment Software Rating Board).\n",
    "\n",
    "Эта ассоциация определяет рейтинг компьютерных игр и присваивает им подходящую возрастную категорию.\n",
    "\n",
    "в столбцах с рейтингом. Отдельно разберите это значение и опишите, как его обработать.\n",
    "\n",
    "\n"
   ]
  },
  {
   "cell_type": "code",
   "execution_count": 1,
   "metadata": {},
   "outputs": [],
   "source": [
    "import numpy as np\n",
    "import pandas as pd\n",
    "import seaborn as sns\n",
    "import matplotlib.pyplot as plt\n",
    "from scipy import stats as st"
   ]
  },
  {
   "cell_type": "code",
   "execution_count": 2,
   "metadata": {},
   "outputs": [],
   "source": [
    "dt = pd.read_csv('/datasets/games.csv')"
   ]
  },
  {
   "cell_type": "code",
   "execution_count": 3,
   "metadata": {},
   "outputs": [
    {
     "data": {
      "text/html": [
       "<div>\n",
       "<style scoped>\n",
       "    .dataframe tbody tr th:only-of-type {\n",
       "        vertical-align: middle;\n",
       "    }\n",
       "\n",
       "    .dataframe tbody tr th {\n",
       "        vertical-align: top;\n",
       "    }\n",
       "\n",
       "    .dataframe thead th {\n",
       "        text-align: right;\n",
       "    }\n",
       "</style>\n",
       "<table border=\"1\" class=\"dataframe\">\n",
       "  <thead>\n",
       "    <tr style=\"text-align: right;\">\n",
       "      <th></th>\n",
       "      <th>Name</th>\n",
       "      <th>Platform</th>\n",
       "      <th>Year_of_Release</th>\n",
       "      <th>Genre</th>\n",
       "      <th>NA_sales</th>\n",
       "      <th>EU_sales</th>\n",
       "      <th>JP_sales</th>\n",
       "      <th>Other_sales</th>\n",
       "      <th>Critic_Score</th>\n",
       "      <th>User_Score</th>\n",
       "      <th>Rating</th>\n",
       "    </tr>\n",
       "  </thead>\n",
       "  <tbody>\n",
       "    <tr>\n",
       "      <th>0</th>\n",
       "      <td>Wii Sports</td>\n",
       "      <td>Wii</td>\n",
       "      <td>2006.0</td>\n",
       "      <td>Sports</td>\n",
       "      <td>41.36</td>\n",
       "      <td>28.96</td>\n",
       "      <td>3.77</td>\n",
       "      <td>8.45</td>\n",
       "      <td>76.0</td>\n",
       "      <td>8</td>\n",
       "      <td>E</td>\n",
       "    </tr>\n",
       "    <tr>\n",
       "      <th>1</th>\n",
       "      <td>Super Mario Bros.</td>\n",
       "      <td>NES</td>\n",
       "      <td>1985.0</td>\n",
       "      <td>Platform</td>\n",
       "      <td>29.08</td>\n",
       "      <td>3.58</td>\n",
       "      <td>6.81</td>\n",
       "      <td>0.77</td>\n",
       "      <td>NaN</td>\n",
       "      <td>NaN</td>\n",
       "      <td>NaN</td>\n",
       "    </tr>\n",
       "    <tr>\n",
       "      <th>2</th>\n",
       "      <td>Mario Kart Wii</td>\n",
       "      <td>Wii</td>\n",
       "      <td>2008.0</td>\n",
       "      <td>Racing</td>\n",
       "      <td>15.68</td>\n",
       "      <td>12.76</td>\n",
       "      <td>3.79</td>\n",
       "      <td>3.29</td>\n",
       "      <td>82.0</td>\n",
       "      <td>8.3</td>\n",
       "      <td>E</td>\n",
       "    </tr>\n",
       "    <tr>\n",
       "      <th>3</th>\n",
       "      <td>Wii Sports Resort</td>\n",
       "      <td>Wii</td>\n",
       "      <td>2009.0</td>\n",
       "      <td>Sports</td>\n",
       "      <td>15.61</td>\n",
       "      <td>10.93</td>\n",
       "      <td>3.28</td>\n",
       "      <td>2.95</td>\n",
       "      <td>80.0</td>\n",
       "      <td>8</td>\n",
       "      <td>E</td>\n",
       "    </tr>\n",
       "    <tr>\n",
       "      <th>4</th>\n",
       "      <td>Pokemon Red/Pokemon Blue</td>\n",
       "      <td>GB</td>\n",
       "      <td>1996.0</td>\n",
       "      <td>Role-Playing</td>\n",
       "      <td>11.27</td>\n",
       "      <td>8.89</td>\n",
       "      <td>10.22</td>\n",
       "      <td>1.00</td>\n",
       "      <td>NaN</td>\n",
       "      <td>NaN</td>\n",
       "      <td>NaN</td>\n",
       "    </tr>\n",
       "    <tr>\n",
       "      <th>5</th>\n",
       "      <td>Tetris</td>\n",
       "      <td>GB</td>\n",
       "      <td>1989.0</td>\n",
       "      <td>Puzzle</td>\n",
       "      <td>23.20</td>\n",
       "      <td>2.26</td>\n",
       "      <td>4.22</td>\n",
       "      <td>0.58</td>\n",
       "      <td>NaN</td>\n",
       "      <td>NaN</td>\n",
       "      <td>NaN</td>\n",
       "    </tr>\n",
       "    <tr>\n",
       "      <th>6</th>\n",
       "      <td>New Super Mario Bros.</td>\n",
       "      <td>DS</td>\n",
       "      <td>2006.0</td>\n",
       "      <td>Platform</td>\n",
       "      <td>11.28</td>\n",
       "      <td>9.14</td>\n",
       "      <td>6.50</td>\n",
       "      <td>2.88</td>\n",
       "      <td>89.0</td>\n",
       "      <td>8.5</td>\n",
       "      <td>E</td>\n",
       "    </tr>\n",
       "    <tr>\n",
       "      <th>7</th>\n",
       "      <td>Wii Play</td>\n",
       "      <td>Wii</td>\n",
       "      <td>2006.0</td>\n",
       "      <td>Misc</td>\n",
       "      <td>13.96</td>\n",
       "      <td>9.18</td>\n",
       "      <td>2.93</td>\n",
       "      <td>2.84</td>\n",
       "      <td>58.0</td>\n",
       "      <td>6.6</td>\n",
       "      <td>E</td>\n",
       "    </tr>\n",
       "    <tr>\n",
       "      <th>8</th>\n",
       "      <td>New Super Mario Bros. Wii</td>\n",
       "      <td>Wii</td>\n",
       "      <td>2009.0</td>\n",
       "      <td>Platform</td>\n",
       "      <td>14.44</td>\n",
       "      <td>6.94</td>\n",
       "      <td>4.70</td>\n",
       "      <td>2.24</td>\n",
       "      <td>87.0</td>\n",
       "      <td>8.4</td>\n",
       "      <td>E</td>\n",
       "    </tr>\n",
       "    <tr>\n",
       "      <th>9</th>\n",
       "      <td>Duck Hunt</td>\n",
       "      <td>NES</td>\n",
       "      <td>1984.0</td>\n",
       "      <td>Shooter</td>\n",
       "      <td>26.93</td>\n",
       "      <td>0.63</td>\n",
       "      <td>0.28</td>\n",
       "      <td>0.47</td>\n",
       "      <td>NaN</td>\n",
       "      <td>NaN</td>\n",
       "      <td>NaN</td>\n",
       "    </tr>\n",
       "  </tbody>\n",
       "</table>\n",
       "</div>"
      ],
      "text/plain": [
       "                        Name Platform  Year_of_Release         Genre  \\\n",
       "0                 Wii Sports      Wii           2006.0        Sports   \n",
       "1          Super Mario Bros.      NES           1985.0      Platform   \n",
       "2             Mario Kart Wii      Wii           2008.0        Racing   \n",
       "3          Wii Sports Resort      Wii           2009.0        Sports   \n",
       "4   Pokemon Red/Pokemon Blue       GB           1996.0  Role-Playing   \n",
       "5                     Tetris       GB           1989.0        Puzzle   \n",
       "6      New Super Mario Bros.       DS           2006.0      Platform   \n",
       "7                   Wii Play      Wii           2006.0          Misc   \n",
       "8  New Super Mario Bros. Wii      Wii           2009.0      Platform   \n",
       "9                  Duck Hunt      NES           1984.0       Shooter   \n",
       "\n",
       "   NA_sales  EU_sales  JP_sales  Other_sales  Critic_Score User_Score Rating  \n",
       "0     41.36     28.96      3.77         8.45          76.0          8      E  \n",
       "1     29.08      3.58      6.81         0.77           NaN        NaN    NaN  \n",
       "2     15.68     12.76      3.79         3.29          82.0        8.3      E  \n",
       "3     15.61     10.93      3.28         2.95          80.0          8      E  \n",
       "4     11.27      8.89     10.22         1.00           NaN        NaN    NaN  \n",
       "5     23.20      2.26      4.22         0.58           NaN        NaN    NaN  \n",
       "6     11.28      9.14      6.50         2.88          89.0        8.5      E  \n",
       "7     13.96      9.18      2.93         2.84          58.0        6.6      E  \n",
       "8     14.44      6.94      4.70         2.24          87.0        8.4      E  \n",
       "9     26.93      0.63      0.28         0.47           NaN        NaN    NaN  "
      ]
     },
     "execution_count": 3,
     "metadata": {},
     "output_type": "execute_result"
    }
   ],
   "source": [
    "dt.head(10)"
   ]
  },
  {
   "cell_type": "code",
   "execution_count": 4,
   "metadata": {},
   "outputs": [
    {
     "name": "stdout",
     "output_type": "stream",
     "text": [
      "<class 'pandas.core.frame.DataFrame'>\n",
      "RangeIndex: 16715 entries, 0 to 16714\n",
      "Data columns (total 11 columns):\n",
      " #   Column           Non-Null Count  Dtype  \n",
      "---  ------           --------------  -----  \n",
      " 0   Name             16713 non-null  object \n",
      " 1   Platform         16715 non-null  object \n",
      " 2   Year_of_Release  16446 non-null  float64\n",
      " 3   Genre            16713 non-null  object \n",
      " 4   NA_sales         16715 non-null  float64\n",
      " 5   EU_sales         16715 non-null  float64\n",
      " 6   JP_sales         16715 non-null  float64\n",
      " 7   Other_sales      16715 non-null  float64\n",
      " 8   Critic_Score     8137 non-null   float64\n",
      " 9   User_Score       10014 non-null  object \n",
      " 10  Rating           9949 non-null   object \n",
      "dtypes: float64(6), object(5)\n",
      "memory usage: 1.4+ MB\n"
     ]
    }
   ],
   "source": [
    "dt.info()"
   ]
  },
  {
   "cell_type": "markdown",
   "metadata": {},
   "source": [
    "<div class=\"alert alert-block alert-info\">\n",
    "По общей информации видно, что всего строк 16 715, столбцов - 11, есть пропуски в Name,Year_of_Release, Genre, Critic_Score, User_Score и Rating. Вижу, что год релиза в формате object, нужно будет перевести в целое число. "
   ]
  },
  {
   "cell_type": "code",
   "execution_count": 5,
   "metadata": {
    "scrolled": true
   },
   "outputs": [
    {
     "data": {
      "text/plain": [
       "Index(['name', 'platform', 'year_of_release', 'genre', 'na_sales', 'eu_sales',\n",
       "       'jp_sales', 'other_sales', 'critic_score', 'user_score', 'rating'],\n",
       "      dtype='object')"
      ]
     },
     "execution_count": 5,
     "metadata": {},
     "output_type": "execute_result"
    }
   ],
   "source": [
    "#заменю название столбцов (приведу к нижнему регистру)\n",
    "dt.rename(columns={\n",
    "    'Name': 'name', \n",
    "    'Platform': 'platform', \n",
    "    'Year_of_Release': 'year_of_release', \n",
    "    'Genre': 'genre', \n",
    "    'NA_sales': 'na_sales', \n",
    "    'EU_sales': 'eu_sales', \n",
    "    'JP_sales': 'jp_sales', \n",
    "    'Other_sales': 'other_sales',\n",
    "    'Critic_Score': 'critic_score', \n",
    "    'User_Score': 'user_score',\n",
    "    'Rating': 'rating'\n",
    "}, inplace=True)\n",
    "dt.columns"
   ]
  },
  {
   "cell_type": "markdown",
   "id": "8f3d8fd3",
   "metadata": {},
   "source": [
    "Также названия столбцов можно привести в нижнему регистру, если к `df.columns` применить метод `str.lower`</div>\n",
    "\n",
    "```python\n",
    "\n",
    "                                    df.columns = df.columns.str.lower()\n",
    "    \n",
    "```"
   ]
  },
  {
   "cell_type": "code",
   "execution_count": 6,
   "metadata": {},
   "outputs": [
    {
     "data": {
      "text/plain": [
       "critic_score       8578\n",
       "rating             6766\n",
       "user_score         6701\n",
       "year_of_release     269\n",
       "name                  2\n",
       "genre                 2\n",
       "platform              0\n",
       "na_sales              0\n",
       "eu_sales              0\n",
       "jp_sales              0\n",
       "other_sales           0\n",
       "dtype: int64"
      ]
     },
     "execution_count": 6,
     "metadata": {},
     "output_type": "execute_result"
    }
   ],
   "source": [
    "#считаю пропуски в Year_of_Release - год выпуска\n",
    "dt.isnull().sum().sort_values(ascending=False)"
   ]
  },
  {
   "cell_type": "markdown",
   "metadata": {},
   "source": [
    "\n",
    "Анализ пропущенных значений:\n",
    "    \n",
    "-critic_score и  user_score - оценка критиков и оценка пользователей находятся в топ3 по кол-ву пропусков. Причина пропусков, скорее всего, что пользователь не захотел оценивать игру или еще не успел этого сделать, т.к. еще не завершил ее.\n",
    "В этих пропусках замену сделаем медиаоной;\n",
    "\n",
    "-rating - рейтинг от организации ESRB также имеет значительное кол-во проусков, но заменить их корректно не получится, поэтому, придется, проставить значение -1;\n",
    "\n",
    "-столбец year_of_release - год выпуска имеет незначительное кол-во пропусков, поэтому можно удалить. Причина пропусков, скорее всего, случайна или с незнанием;\n",
    "\n",
    "-в столбце name хранится название игры, которое может отсутвовть по причине отсутвия самого названия;\n",
    "\n",
    "-столбец genre - жанр имеет 2 пропуска, которые можно удалить. Причина пропусков связана с незнание или отсутвием конкретного жанра у игры.\n"
   ]
  },
  {
   "cell_type": "code",
   "execution_count": 7,
   "metadata": {},
   "outputs": [],
   "source": [
    "#удаляю пропуски с незначительным кол-ом: year_of_release, name, genre:\n",
    "dt.dropna(subset=['year_of_release', 'name', 'genre'], inplace=True)"
   ]
  },
  {
   "cell_type": "code",
   "execution_count": 8,
   "metadata": {},
   "outputs": [],
   "source": [
    "#замена типа данных в Year_of_Release - год выпуска, чтобы убрать ноль после запятой\n",
    "dt['year_of_release'] = dt['year_of_release'].astype('int')"
   ]
  },
  {
   "cell_type": "code",
   "execution_count": 9,
   "metadata": {},
   "outputs": [
    {
     "data": {
      "text/plain": [
       "array([76., nan, 82., 80., 89., 58., 87., 91., 61., 97., 95., 77., 88.,\n",
       "       83., 94., 93., 85., 86., 98., 96., 90., 84., 73., 74., 78., 92.,\n",
       "       71., 72., 68., 62., 49., 67., 81., 66., 56., 79., 70., 59., 64.,\n",
       "       75., 60., 63., 69., 50., 25., 42., 44., 55., 48., 57., 29., 47.,\n",
       "       65., 54., 20., 53., 37., 38., 33., 52., 30., 32., 43., 45., 51.,\n",
       "       40., 46., 39., 34., 41., 36., 31., 27., 35., 26., 19., 28., 23.,\n",
       "       24., 21., 17., 13.])"
      ]
     },
     "metadata": {},
     "output_type": "display_data"
    },
    {
     "data": {
      "text/plain": [
       "array(['E', nan, 'M', 'T', 'E10+', 'K-A', 'AO', 'EC', 'RP'], dtype=object)"
      ]
     },
     "metadata": {},
     "output_type": "display_data"
    },
    {
     "data": {
      "text/plain": [
       "array(['8', nan, '8.3', '8.5', '6.6', '8.4', '8.6', '7.7', '6.3', '7.4',\n",
       "       '8.2', '9', '7.9', '8.1', '8.7', '7.1', '3.4', '5.3', '4.8', '3.2',\n",
       "       '8.9', '6.4', '7.8', '7.5', '2.6', '7.2', '9.2', '7', '7.3', '4.3',\n",
       "       '7.6', '5.7', '5', '9.1', '6.5', 'tbd', '8.8', '6.9', '9.4', '6.8',\n",
       "       '6.1', '6.7', '5.4', '4', '4.9', '4.5', '9.3', '6.2', '4.2', '6',\n",
       "       '3.7', '4.1', '5.8', '5.6', '5.5', '4.4', '4.6', '5.9', '3.9',\n",
       "       '3.1', '2.9', '5.2', '3.3', '4.7', '5.1', '3.5', '2.5', '1.9', '3',\n",
       "       '2.7', '2.2', '2', '9.5', '2.1', '3.6', '2.8', '1.8', '3.8', '0',\n",
       "       '1.6', '9.6', '2.4', '1.7', '1.1', '0.3', '1.5', '0.7', '1.2',\n",
       "       '2.3', '0.5', '1.3', '0.2', '0.6', '1.4', '0.9', '1', '9.7'],\n",
       "      dtype=object)"
      ]
     },
     "metadata": {},
     "output_type": "display_data"
    }
   ],
   "source": [
    "#проверяю уникальные значения в столбцац с пропусками\n",
    "display(dt['critic_score'].unique())\n",
    "display(dt['rating'].unique())\n",
    "display(dt['user_score'].unique())"
   ]
  },
  {
   "cell_type": "markdown",
   "metadata": {},
   "source": [
    "В ячейке user_score (оценка пользователей) есть пропуски со значением tbd -to be discussed, т.е. неизвестное, вероятнее всего, связанные с отсутвием самой оценки, поэтому попробуем заменить данные на NaN"
   ]
  },
  {
   "cell_type": "code",
   "execution_count": 10,
   "metadata": {},
   "outputs": [],
   "source": [
    "# для замены tbd на non применю логическую индексацию\n",
    "dt.loc[dt['user_score']=='tbd', 'user_score'] = float('nan')\n",
    "#dt['user_score'].unique()"
   ]
  },
  {
   "cell_type": "code",
   "execution_count": 11,
   "metadata": {},
   "outputs": [],
   "source": [
    "#теперь можно заменить тип данных в user_score с object на float\n",
    "dt['user_score'] = dt['user_score'].astype('float')\n",
    "#dt.info()"
   ]
  },
  {
   "cell_type": "code",
   "execution_count": 12,
   "metadata": {},
   "outputs": [
    {
     "data": {
      "text/plain": [
       "user_score         8981\n",
       "critic_score       8461\n",
       "rating             6676\n",
       "name                  0\n",
       "platform              0\n",
       "year_of_release       0\n",
       "genre                 0\n",
       "na_sales              0\n",
       "eu_sales              0\n",
       "jp_sales              0\n",
       "other_sales           0\n",
       "dtype: int64"
      ]
     },
     "execution_count": 12,
     "metadata": {},
     "output_type": "execute_result"
    }
   ],
   "source": [
    "dt.isnull().sum().sort_values(ascending=False)"
   ]
  },
  {
   "cell_type": "code",
   "execution_count": 13,
   "metadata": {},
   "outputs": [
    {
     "data": {
      "text/plain": [
       "user_score         8981\n",
       "critic_score       8461\n",
       "name                  0\n",
       "platform              0\n",
       "year_of_release       0\n",
       "genre                 0\n",
       "na_sales              0\n",
       "eu_sales              0\n",
       "jp_sales              0\n",
       "other_sales           0\n",
       "rating                0\n",
       "dtype: int64"
      ]
     },
     "execution_count": 13,
     "metadata": {},
     "output_type": "execute_result"
    }
   ],
   "source": [
    "#заменю пропуски в critic_score и user_score медианым значеним:\n",
    "#dt['critic_score'] = dt['critic_score'].fillna(-1)\n",
    "#dt['user_score'] = dt['user_score'].fillna(-1)\n",
    "#заменю пропуски в rating на -1:\n",
    "dt['rating'] = dt['rating'].fillna('unknown')\n",
    "#проверю кол-во пропусков:\n",
    "dt.isnull().sum().sort_values(ascending=False)"
   ]
  },
  {
   "cell_type": "markdown",
   "metadata": {},
   "source": []
  },
  {
   "cell_type": "code",
   "execution_count": 14,
   "metadata": {
    "scrolled": true
   },
   "outputs": [
    {
     "data": {
      "text/html": [
       "<div>\n",
       "<style scoped>\n",
       "    .dataframe tbody tr th:only-of-type {\n",
       "        vertical-align: middle;\n",
       "    }\n",
       "\n",
       "    .dataframe tbody tr th {\n",
       "        vertical-align: top;\n",
       "    }\n",
       "\n",
       "    .dataframe thead th {\n",
       "        text-align: right;\n",
       "    }\n",
       "</style>\n",
       "<table border=\"1\" class=\"dataframe\">\n",
       "  <thead>\n",
       "    <tr style=\"text-align: right;\">\n",
       "      <th></th>\n",
       "      <th>name</th>\n",
       "      <th>platform</th>\n",
       "      <th>year_of_release</th>\n",
       "      <th>genre</th>\n",
       "      <th>na_sales</th>\n",
       "      <th>eu_sales</th>\n",
       "      <th>jp_sales</th>\n",
       "      <th>other_sales</th>\n",
       "      <th>critic_score</th>\n",
       "      <th>user_score</th>\n",
       "      <th>rating</th>\n",
       "      <th>total_sales</th>\n",
       "    </tr>\n",
       "  </thead>\n",
       "  <tbody>\n",
       "    <tr>\n",
       "      <th>0</th>\n",
       "      <td>Wii Sports</td>\n",
       "      <td>Wii</td>\n",
       "      <td>2006</td>\n",
       "      <td>Sports</td>\n",
       "      <td>41.36</td>\n",
       "      <td>28.96</td>\n",
       "      <td>3.77</td>\n",
       "      <td>8.45</td>\n",
       "      <td>76.0</td>\n",
       "      <td>8.0</td>\n",
       "      <td>E</td>\n",
       "      <td>74.09</td>\n",
       "    </tr>\n",
       "    <tr>\n",
       "      <th>1</th>\n",
       "      <td>Super Mario Bros.</td>\n",
       "      <td>NES</td>\n",
       "      <td>1985</td>\n",
       "      <td>Platform</td>\n",
       "      <td>29.08</td>\n",
       "      <td>3.58</td>\n",
       "      <td>6.81</td>\n",
       "      <td>0.77</td>\n",
       "      <td>NaN</td>\n",
       "      <td>NaN</td>\n",
       "      <td>unknown</td>\n",
       "      <td>39.47</td>\n",
       "    </tr>\n",
       "    <tr>\n",
       "      <th>2</th>\n",
       "      <td>Mario Kart Wii</td>\n",
       "      <td>Wii</td>\n",
       "      <td>2008</td>\n",
       "      <td>Racing</td>\n",
       "      <td>15.68</td>\n",
       "      <td>12.76</td>\n",
       "      <td>3.79</td>\n",
       "      <td>3.29</td>\n",
       "      <td>82.0</td>\n",
       "      <td>8.3</td>\n",
       "      <td>E</td>\n",
       "      <td>32.23</td>\n",
       "    </tr>\n",
       "    <tr>\n",
       "      <th>3</th>\n",
       "      <td>Wii Sports Resort</td>\n",
       "      <td>Wii</td>\n",
       "      <td>2009</td>\n",
       "      <td>Sports</td>\n",
       "      <td>15.61</td>\n",
       "      <td>10.93</td>\n",
       "      <td>3.28</td>\n",
       "      <td>2.95</td>\n",
       "      <td>80.0</td>\n",
       "      <td>8.0</td>\n",
       "      <td>E</td>\n",
       "      <td>29.82</td>\n",
       "    </tr>\n",
       "    <tr>\n",
       "      <th>4</th>\n",
       "      <td>Pokemon Red/Pokemon Blue</td>\n",
       "      <td>GB</td>\n",
       "      <td>1996</td>\n",
       "      <td>Role-Playing</td>\n",
       "      <td>11.27</td>\n",
       "      <td>8.89</td>\n",
       "      <td>10.22</td>\n",
       "      <td>1.00</td>\n",
       "      <td>NaN</td>\n",
       "      <td>NaN</td>\n",
       "      <td>unknown</td>\n",
       "      <td>30.38</td>\n",
       "    </tr>\n",
       "    <tr>\n",
       "      <th>5</th>\n",
       "      <td>Tetris</td>\n",
       "      <td>GB</td>\n",
       "      <td>1989</td>\n",
       "      <td>Puzzle</td>\n",
       "      <td>23.20</td>\n",
       "      <td>2.26</td>\n",
       "      <td>4.22</td>\n",
       "      <td>0.58</td>\n",
       "      <td>NaN</td>\n",
       "      <td>NaN</td>\n",
       "      <td>unknown</td>\n",
       "      <td>29.68</td>\n",
       "    </tr>\n",
       "    <tr>\n",
       "      <th>6</th>\n",
       "      <td>New Super Mario Bros.</td>\n",
       "      <td>DS</td>\n",
       "      <td>2006</td>\n",
       "      <td>Platform</td>\n",
       "      <td>11.28</td>\n",
       "      <td>9.14</td>\n",
       "      <td>6.50</td>\n",
       "      <td>2.88</td>\n",
       "      <td>89.0</td>\n",
       "      <td>8.5</td>\n",
       "      <td>E</td>\n",
       "      <td>26.92</td>\n",
       "    </tr>\n",
       "    <tr>\n",
       "      <th>7</th>\n",
       "      <td>Wii Play</td>\n",
       "      <td>Wii</td>\n",
       "      <td>2006</td>\n",
       "      <td>Misc</td>\n",
       "      <td>13.96</td>\n",
       "      <td>9.18</td>\n",
       "      <td>2.93</td>\n",
       "      <td>2.84</td>\n",
       "      <td>58.0</td>\n",
       "      <td>6.6</td>\n",
       "      <td>E</td>\n",
       "      <td>26.07</td>\n",
       "    </tr>\n",
       "    <tr>\n",
       "      <th>8</th>\n",
       "      <td>New Super Mario Bros. Wii</td>\n",
       "      <td>Wii</td>\n",
       "      <td>2009</td>\n",
       "      <td>Platform</td>\n",
       "      <td>14.44</td>\n",
       "      <td>6.94</td>\n",
       "      <td>4.70</td>\n",
       "      <td>2.24</td>\n",
       "      <td>87.0</td>\n",
       "      <td>8.4</td>\n",
       "      <td>E</td>\n",
       "      <td>26.08</td>\n",
       "    </tr>\n",
       "    <tr>\n",
       "      <th>9</th>\n",
       "      <td>Duck Hunt</td>\n",
       "      <td>NES</td>\n",
       "      <td>1984</td>\n",
       "      <td>Shooter</td>\n",
       "      <td>26.93</td>\n",
       "      <td>0.63</td>\n",
       "      <td>0.28</td>\n",
       "      <td>0.47</td>\n",
       "      <td>NaN</td>\n",
       "      <td>NaN</td>\n",
       "      <td>unknown</td>\n",
       "      <td>27.84</td>\n",
       "    </tr>\n",
       "  </tbody>\n",
       "</table>\n",
       "</div>"
      ],
      "text/plain": [
       "                        name platform  year_of_release         genre  \\\n",
       "0                 Wii Sports      Wii             2006        Sports   \n",
       "1          Super Mario Bros.      NES             1985      Platform   \n",
       "2             Mario Kart Wii      Wii             2008        Racing   \n",
       "3          Wii Sports Resort      Wii             2009        Sports   \n",
       "4   Pokemon Red/Pokemon Blue       GB             1996  Role-Playing   \n",
       "5                     Tetris       GB             1989        Puzzle   \n",
       "6      New Super Mario Bros.       DS             2006      Platform   \n",
       "7                   Wii Play      Wii             2006          Misc   \n",
       "8  New Super Mario Bros. Wii      Wii             2009      Platform   \n",
       "9                  Duck Hunt      NES             1984       Shooter   \n",
       "\n",
       "   na_sales  eu_sales  jp_sales  other_sales  critic_score  user_score  \\\n",
       "0     41.36     28.96      3.77         8.45          76.0         8.0   \n",
       "1     29.08      3.58      6.81         0.77           NaN         NaN   \n",
       "2     15.68     12.76      3.79         3.29          82.0         8.3   \n",
       "3     15.61     10.93      3.28         2.95          80.0         8.0   \n",
       "4     11.27      8.89     10.22         1.00           NaN         NaN   \n",
       "5     23.20      2.26      4.22         0.58           NaN         NaN   \n",
       "6     11.28      9.14      6.50         2.88          89.0         8.5   \n",
       "7     13.96      9.18      2.93         2.84          58.0         6.6   \n",
       "8     14.44      6.94      4.70         2.24          87.0         8.4   \n",
       "9     26.93      0.63      0.28         0.47           NaN         NaN   \n",
       "\n",
       "    rating  total_sales  \n",
       "0        E        74.09  \n",
       "1  unknown        39.47  \n",
       "2        E        32.23  \n",
       "3        E        29.82  \n",
       "4  unknown        30.38  \n",
       "5  unknown        29.68  \n",
       "6        E        26.92  \n",
       "7        E        26.07  \n",
       "8        E        26.08  \n",
       "9  unknown        27.84  "
      ]
     },
     "execution_count": 14,
     "metadata": {},
     "output_type": "execute_result"
    }
   ],
   "source": [
    "#посчитаю суммарные продажи во всех регионах\n",
    "dt['total_sales'] = dt['na_sales'] + dt['eu_sales'] + dt['jp_sales']\n",
    "dt.head(10)"
   ]
  },
  {
   "cell_type": "markdown",
   "id": "75cfc0a7",
   "metadata": {},
   "source": [
    "\n",
    "Тут можно использовать метод `DataFrame.sum` с аргументом `axis=1`</div>\n",
    "\n",
    "```python\n",
    "\n",
    "        df['total_sum'] = df[['value_1', 'value_2', 'value_3']].sum(axis=1)\n",
    "    \n",
    "```"
   ]
  },
  {
   "cell_type": "markdown",
   "metadata": {},
   "source": [
    "Шаг 3\n",
    "\n",
    "Посмотрите, сколько игр выпускалось в разные годы. Важны ли данные за все периоды?\n",
    "\n",
    "Посмотрите, как менялись продажи по платформам. \n",
    "\n",
    "Выберите платформы с наибольшими суммарными продажами и постройте распределение по годам. \n",
    "\n",
    "За какой характерный срок появляются новые и исчезают старые платформы?\n",
    "\n",
    "Возьмите данные за соответствующий актуальный период. \n",
    "\n",
    "Актуальный период определите самостоятельно в результате исследования предыдущих вопросов. Основной фактор — эти данные помогут построить прогноз на 2017 год.\n",
    "Не учитывайте в работе данные за предыдущие годы.\n",
    "\n",
    "Какие платформы лидируют по продажам, растут или падают? Выберите несколько потенциально прибыльных платформ.\n",
    "\n",
    "Постройте график «ящик с усами» по глобальным продажам игр в разбивке по платформам. Опишите результат.\n",
    "\n",
    "Посмотрите, как влияют на продажи внутри одной популярной платформы отзывы пользователей и критиков. Постройте диаграмму рассеяния и посчитайте корреляцию между отзывами и продажами. Сформулируйте выводы.\n",
    "\n",
    "Соотнесите выводы с продажами игр на других платформах.\n",
    "Посмотрите на общее распределение игр по жанрам. Что можно сказать о самых прибыльных жанрах? Выделяются ли жанры с высокими и низкими продажами?"
   ]
  },
  {
   "cell_type": "code",
   "execution_count": 15,
   "metadata": {},
   "outputs": [
    {
     "data": {
      "text/plain": [
       "Text(0.5, 1.0, 'Выпуск игр по годам')"
      ]
     },
     "execution_count": 15,
     "metadata": {},
     "output_type": "execute_result"
    },
    {
     "data": {
      "image/png": "[encoded data removed]",
      "text/plain": [
       "<Figure size 432x288 with 1 Axes>"
      ]
     },
     "metadata": {
      "needs_background": "light"
     },
     "output_type": "display_data"
    }
   ],
   "source": [
    "#Посмотрю сколько игр выпускалось в разные годы. Важны ли данные за все периоды?\n",
    "#создам сводную таблицу total_sales по годам year_of_release и построим по ней график:\n",
    "dt.pivot_table(index='year_of_release', values='name', aggfunc='count').plot(kind='bar')\n",
    "plt.title('Выпуск игр по годам')"
   ]
  },
  {
   "cell_type": "markdown",
   "metadata": {},
   "source": [
    "<div class=\"alert alert-block alert-info\">\n",
    "Убрала sort_values(by='name')"
   ]
  },
  {
   "cell_type": "markdown",
   "metadata": {},
   "source": [
    "По графику видно, что данные важны начиная с 1994 года. До этого выпуск игр был совсм незначительный"
   ]
  },
  {
   "cell_type": "code",
   "execution_count": 16,
   "metadata": {},
   "outputs": [
    {
     "data": {
      "text/plain": [
       "Text(0, 0.5, 'Количество продаж')"
      ]
     },
     "execution_count": 16,
     "metadata": {},
     "output_type": "execute_result"
    },
    {
     "data": {
      "image/png": "[encoded data removed]",
      "text/plain": [
       "<Figure size 936x432 with 1 Axes>"
      ]
     },
     "metadata": {
      "needs_background": "light"
     },
     "output_type": "display_data"
    }
   ],
   "source": [
    "#Посмотрю, как менялись продажи по платформам. \n",
    "sales_in_platform = dt.pivot_table(index='platform', values='total_sales', aggfunc='count').sort_values(by='total_sales', ascending=False)\n",
    "plt.figure(figsize=(13,6))\n",
    "sns.barplot(x=sales_in_platform.index,y=sales_in_platform['total_sales'])\n",
    "plt.title(\"Продажи по платформам за все года\")\n",
    "plt.xlabel(\"Название платформы\")\n",
    "plt.ylabel(\"Количество продаж\")"
   ]
  },
  {
   "cell_type": "markdown",
   "metadata": {},
   "source": [
    "Из графика видно, что самые популярные игровые платформы за весь период это PS2, DS, PS3, WII, X360, PS3, PS, GBA, XB"
   ]
  },
  {
   "cell_type": "code",
   "execution_count": 17,
   "metadata": {},
   "outputs": [
    {
     "data": {
      "text/plain": [
       "array(['PS2', 'DS', 'PS3', 'Wii', 'X360', 'PSP', 'PS', 'PC', 'GBA', 'XB'],\n",
       "      dtype=object)"
      ]
     },
     "execution_count": 17,
     "metadata": {},
     "output_type": "execute_result"
    }
   ],
   "source": [
    "#Построим график продаж по годам по пополуярным платформам\n",
    "#для этого можно выделить топ10 платформ по количеству продаж:\n",
    "top_platforms = sales_in_platform.head(10).reset_index()\n",
    "#top_platforms\n",
    "#создам словарь с пополярными платформами:\n",
    "top_platforms_dict = top_platforms['platform'].unique()\n",
    "top_platforms_dict"
   ]
  },
  {
   "cell_type": "code",
   "execution_count": 18,
   "metadata": {},
   "outputs": [
    {
     "data": {
      "image/png": "[encoded data removed]",
      "text/plain": [
       "<Figure size 1080x360 with 1 Axes>"
      ]
     },
     "metadata": {
      "needs_background": "light"
     },
     "output_type": "display_data"
    },
    {
     "data": {
      "image/png": "[encoded data removed]",
      "text/plain": [
       "<Figure size 1080x360 with 1 Axes>"
      ]
     },
     "metadata": {
      "needs_background": "light"
     },
     "output_type": "display_data"
    },
    {
     "data": {
      "image/png": "[encoded data removed]",
      "text/plain": [
       "<Figure size 1080x360 with 1 Axes>"
      ]
     },
     "metadata": {
      "needs_background": "light"
     },
     "output_type": "display_data"
    },
    {
     "data": {
      "image/png": "[encoded data removed]",
      "text/plain": [
       "<Figure size 1080x360 with 1 Axes>"
      ]
     },
     "metadata": {
      "needs_background": "light"
     },
     "output_type": "display_data"
    },
    {
     "data": {
      "image/png": "[encoded data removed]",
      "text/plain": [
       "<Figure size 1080x360 with 1 Axes>"
      ]
     },
     "metadata": {
      "needs_background": "light"
     },
     "output_type": "display_data"
    },
    {
     "data": {
      "image/png": "[encoded data removed]",
      "text/plain": [
       "<Figure size 1080x360 with 1 Axes>"
      ]
     },
     "metadata": {
      "needs_background": "light"
     },
     "output_type": "display_data"
    },
    {
     "data": {
      "image/png": "[encoded data removed]",
      "text/plain": [
       "<Figure size 1080x360 with 1 Axes>"
      ]
     },
     "metadata": {
      "needs_background": "light"
     },
     "output_type": "display_data"
    },
    {
     "data": {
      "image/png": "[encoded data removed]",
      "text/plain": [
       "<Figure size 1080x360 with 1 Axes>"
      ]
     },
     "metadata": {
      "needs_background": "light"
     },
     "output_type": "display_data"
    },
    {
     "data": {
      "image/png": "[encoded data removed]",
      "text/plain": [
       "<Figure size 1080x360 with 1 Axes>"
      ]
     },
     "metadata": {
      "needs_background": "light"
     },
     "output_type": "display_data"
    },
    {
     "data": {
      "image/png": "[encoded data removed]",
      "text/plain": [
       "<Figure size 1080x360 with 1 Axes>"
      ]
     },
     "metadata": {
      "needs_background": "light"
     },
     "output_type": "display_data"
    }
   ],
   "source": [
    "#Построю график продаж по годам по пополуярным платформам\n",
    "for platform in top_platforms_dict:\n",
    "    dt[dt['platform'] == platform].pivot_table(index='year_of_release', values='total_sales', aggfunc='sum').plot(kind='bar', figsize=(15,5))\n",
    "    plt.title(platform)"
   ]
  },
  {
   "cell_type": "markdown",
   "metadata": {},
   "source": [
    "По графикам видно, что платформы в среднем существуют 10 лет, пик продаж в основном приходится на 5-год запуска и постепенно снижается.\n",
    "Общий период продаж у всех платформ примерно с 2006 по 2016 год - актуальный период."
   ]
  },
  {
   "cell_type": "code",
   "execution_count": 19,
   "metadata": {},
   "outputs": [
    {
     "data": {
      "text/plain": [
       "<AxesSubplot:xlabel='platform', ylabel='total_sales'>"
      ]
     },
     "execution_count": 19,
     "metadata": {},
     "output_type": "execute_result"
    },
    {
     "data": {
      "image/png": "[encoded data removed]",
      "text/plain": [
       "<Figure size 1296x360 with 1 Axes>"
      ]
     },
     "metadata": {},
     "output_type": "display_data"
    }
   ],
   "source": [
    "#Какие платформы лидируют по продажам, растут или падают? Выберим несколько потенциально прибыльных платформ.\n",
    "#сделаю срез данных после 2013 года:\n",
    "actual_period = dt.query('year_of_release >= 2013') \n",
    "\n",
    "#сравню платформы по сумме продаж:\n",
    "the_best_platform = actual_period.pivot_table(index=['platform'], values='total_sales', aggfunc='sum').reset_index().sort_values(by='total_sales', ascending=False)\n",
    "sns.set_style('whitegrid')\n",
    "plt.figure(figsize=(18, 5))\n",
    "sns.barplot(data = the_best_platform, x='platform', y='total_sales')"
   ]
  },
  {
   "cell_type": "markdown",
   "metadata": {},
   "source": [
    "<div class=\"alert alert-block alert-info\">\n",
    "Наиболее прибыльные платформы - PS4, PS3, XOne, 3DS, X360, WiiU - растущие плафтормы"
   ]
  },
  {
   "cell_type": "markdown",
   "metadata": {},
   "source": [
    "<div class=\"alert alert-block alert-info\">\n",
    "Построила по the_best_platform"
   ]
  },
  {
   "cell_type": "code",
   "execution_count": 20,
   "metadata": {},
   "outputs": [
    {
     "data": {
      "text/plain": [
       "<AxesSubplot:title={'center':'total_sales'}, xlabel='platform'>"
      ]
     },
     "execution_count": 20,
     "metadata": {},
     "output_type": "execute_result"
    },
    {
     "data": {
      "image/png": "[encoded data removed]",
      "text/plain": [
       "<Figure size 720x576 with 1 Axes>"
      ]
     },
     "metadata": {},
     "output_type": "display_data"
    }
   ],
   "source": [
    "#строю график «ящик с усами» по глобальным продажам игр в разбивке по платформам.\n",
    "actual_period.boxplot(by='platform', column='total_sales', figsize=(10,8))"
   ]
  },
  {
   "cell_type": "markdown",
   "metadata": {},
   "source": [
    "Медианные значения не сильно различаются. Самые большие выбросы у WiiU. Самые крупные продажи у GBA, PS3, X360 и XOne."
   ]
  },
  {
   "cell_type": "markdown",
   "id": "c3c24969",
   "metadata": {},
   "source": [
    "<div class=\"alert alert-block alert-warning\">\n",
    "<b>🔁Что можно добавить:</b> \n",
    "    \n",
    "Диаграммы получились не очень информативными.\n",
    "    \n",
    "Чтобы отчетливо их рассмотреть можно расположить диаграммы горизонтально и немного ограничить ось со значениями продаж (пример ниже). Для визуализации мне больше нравится библиотека seaborn. Есть [отличная статья](https://habr.com/ru/post/468295/), где показаны различные способы визуализации. Может быть тебе пригодится)</div>"
   ]
  },
  {
   "cell_type": "code",
   "execution_count": 21,
   "id": "d0c5cdbd",
   "metadata": {
    "scrolled": false
   },
   "outputs": [
    {
     "data": {
      "image/png": "[encoded data removed]",
      "text/plain": [
       "<Figure size 1224x792 with 1 Axes>"
      ]
     },
     "metadata": {},
     "output_type": "display_data"
    }
   ],
   "source": [
    "# код ревьюера\n",
    "plt.figure(figsize=(17, 11))\n",
    "sns.boxplot(data=actual_period, y='platform', x='total_sales')\n",
    "plt.xlim(-0.1, 5)\n",
    "\n",
    "plt.title('Объемы продаж игр на разных платформах', size=17)\n",
    "plt.xlabel('Объем продаж', size=12)\n",
    "plt.ylabel('Название платформы', size=12)\n",
    "\n",
    "plt.show()"
   ]
  },
  {
   "cell_type": "markdown",
   "metadata": {},
   "source": [
    "Посмотрим, как влияют на продажи внутри одной популярной платформы отзывы пользователей и критиков. \n",
    "Построим диаграмму рассеяния и посчитаем корреляцию между отзывами и продажами."
   ]
  },
  {
   "cell_type": "code",
   "execution_count": 22,
   "metadata": {},
   "outputs": [
    {
     "data": {
      "image/png": "[encoded data removed]",
      "text/plain": [
       "<Figure size 576x576 with 1 Axes>"
      ]
     },
     "metadata": {},
     "output_type": "display_data"
    },
    {
     "data": {
      "image/png": "[encoded data removed]",
      "text/plain": [
       "<Figure size 576x576 with 1 Axes>"
      ]
     },
     "metadata": {},
     "output_type": "display_data"
    }
   ],
   "source": [
    "# выведу таблицу рассеивания по платформе PS3, отобразив отзывы пользователей:\n",
    "dt[dt['platform']=='PS4'].plot(x='user_score', y='total_sales', kind='scatter', alpha=0.3, figsize=(8,8), grid=True)\n",
    "plt.title('Корреляция между отзыми пользователей и продажами')\n",
    "plt.show()\n",
    "# выведу таблицу рассеивания по платформе PS3, отобразив отзывы критиков:\n",
    "dt[dt['platform']=='PS4'].plot(x='critic_score', y='total_sales', kind='scatter', alpha=0.3, figsize=(8,8), grid=True)\n",
    "plt.title('Корреляция между отзыми критиков и продажами')\n",
    "plt.show()"
   ]
  },
  {
   "cell_type": "code",
   "execution_count": 23,
   "metadata": {},
   "outputs": [
    {
     "data": {
      "text/plain": [
       "'Корреляция слабо положительная: -0.03126053686666919'"
      ]
     },
     "metadata": {},
     "output_type": "display_data"
    }
   ],
   "source": [
    "# вычислю корреляцию между продажами и отзывам пользователей:\n",
    "dt_ps4 = dt[dt['platform']=='PS4']\n",
    "dt_ps4_cor = dt_ps4['user_score'].corr(dt_ps4['total_sales'])\n",
    "display('Корреляция слабо положительная: {}'.format(dt_ps4_cor))"
   ]
  },
  {
   "cell_type": "code",
   "execution_count": 24,
   "metadata": {},
   "outputs": [
    {
     "data": {
      "text/plain": [
       "'Корреляция слабо отрицательная: -0.03126053686666919'"
      ]
     },
     "metadata": {},
     "output_type": "display_data"
    }
   ],
   "source": [
    "# вычислю корреляционную матрицу, диапазон элементов которой равен [-1, 1], по умолчанию она использует коэффициент корреляции Пирсона. sns.heatmap -это просто способ показать с помощью цветов, насколько сильны корреляции, где зеленый цвет в данном случае предполагает положительную корреляцию, близкую к 1 .\n",
    "#dt_ps4_1 = dt[dt['platform']=='PS4']\n",
    "#создам выгрузку без заглушек\n",
    "dt_without_user = dt_ps4[dt_ps4['user_score'] != -1]\n",
    "dt_without_user_cor = dt_without_user['user_score'].corr(dt_without_user['total_sales'])\n",
    "display('Корреляция слабо отрицательная: {}'.format(dt_without_user_cor))"
   ]
  },
  {
   "cell_type": "markdown",
   "id": "5f7f29af",
   "metadata": {},
   "source": [
    "<div class=\"alert alert-block alert-warning\">\n",
    "Коэффициенты выше получились одинаковыми. В оценках пользователей нет значений -1</div>"
   ]
  },
  {
   "cell_type": "code",
   "execution_count": 25,
   "metadata": {},
   "outputs": [
    {
     "data": {
      "text/plain": [
       "'Корреляция слабо положительная: 0.4058867746520127'"
      ]
     },
     "metadata": {},
     "output_type": "display_data"
    }
   ],
   "source": [
    "# вычислю корреляцию между продажами и отзывам критиков:\n",
    "dt_ps4_cor = dt_ps4['critic_score'].corr(dt_ps4['total_sales'])\n",
    "display('Корреляция слабо положительная: {}'.format(dt_ps4_cor))"
   ]
  },
  {
   "cell_type": "markdown",
   "metadata": {},
   "source": [
    "Отзывы пользователей не влияют на продажи, отзывы критиков имеют слабое влияние на продажи.\n",
    "Сравним эти выводы с другими платформами."
   ]
  },
  {
   "cell_type": "code",
   "execution_count": 26,
   "metadata": {},
   "outputs": [
    {
     "name": "stdout",
     "output_type": "stream",
     "text": [
      "\n",
      "PS3:\n",
      "Коэффициент корреляции user_score и total_sales: 0.0\n",
      "Коэффициент корреляции critic_score и total_sales: 0.34\n",
      "\n",
      "X360:\n",
      "Коэффициент корреляции user_score и total_sales: -0.01\n",
      "Коэффициент корреляции critic_score и total_sales: 0.35\n",
      "\n",
      "Wii:\n",
      "Коэффициент корреляции user_score и total_sales: 0.68\n",
      "Коэффициент корреляции critic_score и total_sales: nan\n",
      "\n",
      "PSP:\n",
      "Коэффициент корреляции user_score и total_sales: nan\n"
     ]
    },
    {
     "name": "stderr",
     "output_type": "stream",
     "text": [
      "/opt/conda/lib/python3.9/site-packages/numpy/lib/function_base.py:2683: RuntimeWarning: Degrees of freedom <= 0 for slice\n",
      "  c = cov(x, y, rowvar, dtype=dtype)\n",
      "/opt/conda/lib/python3.9/site-packages/numpy/lib/function_base.py:2542: RuntimeWarning: divide by zero encountered in true_divide\n",
      "  c *= np.true_divide(1, fact)\n"
     ]
    },
    {
     "name": "stdout",
     "output_type": "stream",
     "text": [
      "Коэффициент корреляции critic_score и total_sales: nan\n"
     ]
    },
    {
     "data": {
      "image/png": "[encoded data removed]",
      "text/plain": [
       "<Figure size 360x360 with 1 Axes>"
      ]
     },
     "metadata": {},
     "output_type": "display_data"
    },
    {
     "data": {
      "image/png": "[encoded data removed]",
      "text/plain": [
       "<Figure size 360x360 with 1 Axes>"
      ]
     },
     "metadata": {},
     "output_type": "display_data"
    },
    {
     "data": {
      "image/png": "[encoded data removed]",
      "text/plain": [
       "<Figure size 360x360 with 1 Axes>"
      ]
     },
     "metadata": {},
     "output_type": "display_data"
    },
    {
     "data": {
      "image/png": "[encoded data removed]",
      "text/plain": [
       "<Figure size 360x360 with 1 Axes>"
      ]
     },
     "metadata": {},
     "output_type": "display_data"
    },
    {
     "data": {
      "image/png": "[encoded data removed]",
      "text/plain": [
       "<Figure size 360x360 with 1 Axes>"
      ]
     },
     "metadata": {},
     "output_type": "display_data"
    },
    {
     "data": {
      "image/png": "[encoded data removed]",
      "text/plain": [
       "<Figure size 360x360 with 1 Axes>"
      ]
     },
     "metadata": {},
     "output_type": "display_data"
    },
    {
     "data": {
      "image/png": "[encoded data removed]",
      "text/plain": [
       "<Figure size 360x360 with 1 Axes>"
      ]
     },
     "metadata": {},
     "output_type": "display_data"
    },
    {
     "data": {
      "image/png": "[encoded data removed]",
      "text/plain": [
       "<Figure size 360x360 with 1 Axes>"
      ]
     },
     "metadata": {},
     "output_type": "display_data"
    }
   ],
   "source": [
    "# посчитаю коэффициент корреляции для отзывов пользователей и критиков относительно объема продаж\n",
    "# и построю корреляционную диаграмму\n",
    "for platform in ['PS3', 'X360', 'Wii', 'PSP']:\n",
    "    print('\\n{0}:'.format(platform))\n",
    "    for column in ['user_score', 'critic_score']:\n",
    "        temp = actual_period.query('platform == @platform and (user_score != -1) and (critic_score != -1)')\n",
    "        print('Коэффициент корреляции {0} и total_sales: {1}'.\\\n",
    "              format(column, round(temp[column].corr(temp['total_sales']), 2)))\n",
    "        sns.relplot(x=column, y=\"total_sales\", data=temp)\n",
    "        _ = plt.title(platform)"
   ]
  },
  {
   "cell_type": "markdown",
   "metadata": {},
   "source": [
    "Выводы похожи, наблюдается слабое влияение отызвов критиков на продажи и отсутсвует влияние отзывов пользователей."
   ]
  },
  {
   "cell_type": "markdown",
   "id": "ec9ed47f",
   "metadata": {},
   "source": [
    "<div class=\"alert alert-block alert-success\">\n",
    "Вывод по влиянию оценок на продажи верный  </div>"
   ]
  },
  {
   "cell_type": "code",
   "execution_count": 27,
   "metadata": {},
   "outputs": [
    {
     "data": {
      "text/html": [
       "<div>\n",
       "<style scoped>\n",
       "    .dataframe tbody tr th:only-of-type {\n",
       "        vertical-align: middle;\n",
       "    }\n",
       "\n",
       "    .dataframe tbody tr th {\n",
       "        vertical-align: top;\n",
       "    }\n",
       "\n",
       "    .dataframe thead th {\n",
       "        text-align: right;\n",
       "    }\n",
       "</style>\n",
       "<table border=\"1\" class=\"dataframe\">\n",
       "  <thead>\n",
       "    <tr style=\"text-align: right;\">\n",
       "      <th></th>\n",
       "      <th>total_sales</th>\n",
       "    </tr>\n",
       "    <tr>\n",
       "      <th>genre</th>\n",
       "      <th></th>\n",
       "    </tr>\n",
       "  </thead>\n",
       "  <tbody>\n",
       "    <tr>\n",
       "      <th>Action</th>\n",
       "      <td>284.67</td>\n",
       "    </tr>\n",
       "    <tr>\n",
       "      <th>Shooter</th>\n",
       "      <td>204.21</td>\n",
       "    </tr>\n",
       "    <tr>\n",
       "      <th>Role-Playing</th>\n",
       "      <td>134.41</td>\n",
       "    </tr>\n",
       "    <tr>\n",
       "      <th>Sports</th>\n",
       "      <td>131.20</td>\n",
       "    </tr>\n",
       "    <tr>\n",
       "      <th>Misc</th>\n",
       "      <td>56.73</td>\n",
       "    </tr>\n",
       "    <tr>\n",
       "      <th>Platform</th>\n",
       "      <td>38.51</td>\n",
       "    </tr>\n",
       "    <tr>\n",
       "      <th>Racing</th>\n",
       "      <td>35.45</td>\n",
       "    </tr>\n",
       "    <tr>\n",
       "      <th>Fighting</th>\n",
       "      <td>31.75</td>\n",
       "    </tr>\n",
       "    <tr>\n",
       "      <th>Adventure</th>\n",
       "      <td>21.21</td>\n",
       "    </tr>\n",
       "    <tr>\n",
       "      <th>Simulation</th>\n",
       "      <td>20.30</td>\n",
       "    </tr>\n",
       "    <tr>\n",
       "      <th>Strategy</th>\n",
       "      <td>9.27</td>\n",
       "    </tr>\n",
       "    <tr>\n",
       "      <th>Puzzle</th>\n",
       "      <td>3.01</td>\n",
       "    </tr>\n",
       "  </tbody>\n",
       "</table>\n",
       "</div>"
      ],
      "text/plain": [
       "              total_sales\n",
       "genre                    \n",
       "Action             284.67\n",
       "Shooter            204.21\n",
       "Role-Playing       134.41\n",
       "Sports             131.20\n",
       "Misc                56.73\n",
       "Platform            38.51\n",
       "Racing              35.45\n",
       "Fighting            31.75\n",
       "Adventure           21.21\n",
       "Simulation          20.30\n",
       "Strategy             9.27\n",
       "Puzzle               3.01"
      ]
     },
     "execution_count": 27,
     "metadata": {},
     "output_type": "execute_result"
    }
   ],
   "source": [
    "#Посмотрим на общее распределение игр по жанрам. \n",
    "#Что можно сказать о самых прибыльных жанрах? Выделяются ли жанры с высокими и низкими продажами?\n",
    "genre_sales = actual_period.pivot_table(index='genre', values='total_sales', aggfunc='sum')\n",
    "genre_sales.sort_values('total_sales', ascending=False)"
   ]
  },
  {
   "cell_type": "code",
   "execution_count": 28,
   "metadata": {},
   "outputs": [
    {
     "data": {
      "image/png": "[encoded data removed]",
      "text/plain": [
       "<Figure size 1166.4x432 with 1 Axes>"
      ]
     },
     "metadata": {},
     "output_type": "display_data"
    }
   ],
   "source": [
    "sns.catplot(x='genre', y=\"total_sales\", kind=\"box\", data=actual_period, height=6, aspect=2.7)\n",
    "_ = plt.ylim(0, 3)"
   ]
  },
  {
   "cell_type": "markdown",
   "metadata": {},
   "source": [
    "Самые высокие средние продажи у жанра Shooter, самые низкие продажи у Приключения и Пазл"
   ]
  },
  {
   "cell_type": "code",
   "execution_count": 29,
   "metadata": {},
   "outputs": [
    {
     "data": {
      "text/html": [
       "<div>\n",
       "<style scoped>\n",
       "    .dataframe tbody tr th:only-of-type {\n",
       "        vertical-align: middle;\n",
       "    }\n",
       "\n",
       "    .dataframe tbody tr th {\n",
       "        vertical-align: top;\n",
       "    }\n",
       "\n",
       "    .dataframe thead th {\n",
       "        text-align: right;\n",
       "    }\n",
       "</style>\n",
       "<table border=\"1\" class=\"dataframe\">\n",
       "  <thead>\n",
       "    <tr style=\"text-align: right;\">\n",
       "      <th></th>\n",
       "      <th></th>\n",
       "      <th>total_sales</th>\n",
       "    </tr>\n",
       "    <tr>\n",
       "      <th>name</th>\n",
       "      <th>genre</th>\n",
       "      <th></th>\n",
       "    </tr>\n",
       "  </thead>\n",
       "  <tbody>\n",
       "    <tr>\n",
       "      <th>Wii Sports</th>\n",
       "      <th>Sports</th>\n",
       "      <td>74.09</td>\n",
       "    </tr>\n",
       "    <tr>\n",
       "      <th>Grand Theft Auto V</th>\n",
       "      <th>Action</th>\n",
       "      <td>48.68</td>\n",
       "    </tr>\n",
       "    <tr>\n",
       "      <th>Super Mario Bros.</th>\n",
       "      <th>Platform</th>\n",
       "      <td>44.32</td>\n",
       "    </tr>\n",
       "    <tr>\n",
       "      <th>Tetris</th>\n",
       "      <th>Puzzle</th>\n",
       "      <td>35.15</td>\n",
       "    </tr>\n",
       "    <tr>\n",
       "      <th>Mario Kart Wii</th>\n",
       "      <th>Racing</th>\n",
       "      <td>32.23</td>\n",
       "    </tr>\n",
       "    <tr>\n",
       "      <th>Pokemon Red/Pokemon Blue</th>\n",
       "      <th>Role-Playing</th>\n",
       "      <td>30.38</td>\n",
       "    </tr>\n",
       "    <tr>\n",
       "      <th>Wii Sports Resort</th>\n",
       "      <th>Sports</th>\n",
       "      <td>29.82</td>\n",
       "    </tr>\n",
       "    <tr>\n",
       "      <th>Duck Hunt</th>\n",
       "      <th>Shooter</th>\n",
       "      <td>27.84</td>\n",
       "    </tr>\n",
       "    <tr>\n",
       "      <th>Call of Duty: Modern Warfare 3</th>\n",
       "      <th>Shooter</th>\n",
       "      <td>27.31</td>\n",
       "    </tr>\n",
       "    <tr>\n",
       "      <th>New Super Mario Bros.</th>\n",
       "      <th>Platform</th>\n",
       "      <td>26.92</td>\n",
       "    </tr>\n",
       "  </tbody>\n",
       "</table>\n",
       "</div>"
      ],
      "text/plain": [
       "                                             total_sales\n",
       "name                           genre                    \n",
       "Wii Sports                     Sports              74.09\n",
       "Grand Theft Auto V             Action              48.68\n",
       "Super Mario Bros.              Platform            44.32\n",
       "Tetris                         Puzzle              35.15\n",
       "Mario Kart Wii                 Racing              32.23\n",
       "Pokemon Red/Pokemon Blue       Role-Playing        30.38\n",
       "Wii Sports Resort              Sports              29.82\n",
       "Duck Hunt                      Shooter             27.84\n",
       "Call of Duty: Modern Warfare 3 Shooter             27.31\n",
       "New Super Mario Bros.          Platform            26.92"
      ]
     },
     "execution_count": 29,
     "metadata": {},
     "output_type": "execute_result"
    }
   ],
   "source": [
    "#Выделяются ли жанры с высокими и низкими продажами?\n",
    "dt.pivot_table(index=['name', 'genre'], values='total_sales', aggfunc='sum').nlargest(10, 'total_sales')"
   ]
  },
  {
   "cell_type": "markdown",
   "metadata": {},
   "source": [
    "Cамая продаваемая игра из жанра sports. А игра Duck Hunt в жанре Shooter на 10-ом месте"
   ]
  },
  {
   "cell_type": "markdown",
   "metadata": {},
   "source": [
    "<div class=\"alert alert-block alert-info\">\n",
    "Самыми прибыльными жанрами являются Sports, Shooter и Platform"
   ]
  },
  {
   "cell_type": "markdown",
   "metadata": {},
   "source": [
    "Шаг 4. \n",
    "Составьте портрет пользователя каждого региона\n",
    "Определите для пользователя каждого региона (NA, EU, JP):\n",
    "Самые популярные платформы (топ-5). Опишите различия в долях продаж.\n",
    "Самые популярные жанры (топ-5). Поясните разницу.\n",
    "Влияет ли рейтинг ESRB на продажи в отдельном регионе?"
   ]
  },
  {
   "cell_type": "markdown",
   "metadata": {},
   "source": [
    "1. Самые популярные платформы топ-5"
   ]
  },
  {
   "cell_type": "code",
   "execution_count": 30,
   "metadata": {},
   "outputs": [
    {
     "data": {
      "text/plain": [
       "platform\n",
       "X360    0.439032\n",
       "XOne    0.377004\n",
       "Wii     0.285217\n",
       "PS4     0.277398\n",
       "WiiU    0.254000\n",
       "Name: na_sales, dtype: float64"
      ]
     },
     "execution_count": 30,
     "metadata": {},
     "output_type": "execute_result"
    }
   ],
   "source": [
    "#самые популярные платформы в Америке\n",
    "na_popular_platforms = actual_period.groupby('platform').na_sales.mean().sort_values(ascending=False)[:5]\n",
    "na_popular_platforms"
   ]
  },
  {
   "cell_type": "code",
   "execution_count": 31,
   "metadata": {},
   "outputs": [
    {
     "data": {
      "text/plain": [
       "platform\n",
       "PS4     0.359923\n",
       "Wii     0.257826\n",
       "X360    0.228602\n",
       "XOne    0.208866\n",
       "PS3     0.196551\n",
       "Name: eu_sales, dtype: float64"
      ]
     },
     "execution_count": 31,
     "metadata": {},
     "output_type": "execute_result"
    }
   ],
   "source": [
    "#Самые популярные платформы в Европе:\n",
    "eu_popular_platforms = actual_period.groupby('platform').eu_sales.mean().sort_values(ascending=False)[:5]\n",
    "eu_popular_platforms "
   ]
  },
  {
   "cell_type": "code",
   "execution_count": 32,
   "metadata": {},
   "outputs": [
    {
     "data": {
      "text/plain": [
       "platform\n",
       "3DS     0.223795\n",
       "WiiU    0.094609\n",
       "PS3     0.067681\n",
       "PSV     0.051927\n",
       "PSP     0.049104\n",
       "Name: jp_sales, dtype: float64"
      ]
     },
     "execution_count": 32,
     "metadata": {},
     "output_type": "execute_result"
    }
   ],
   "source": [
    "#Самые популярные платформы в Японии:\n",
    "jp_popular_platforms = actual_period.groupby('platform').jp_sales.mean().sort_values(ascending=False)[:5]\n",
    "jp_popular_platforms"
   ]
  },
  {
   "cell_type": "code",
   "execution_count": 33,
   "metadata": {},
   "outputs": [
    {
     "data": {
      "text/html": [
       "<div>\n",
       "<style scoped>\n",
       "    .dataframe tbody tr th:only-of-type {\n",
       "        vertical-align: middle;\n",
       "    }\n",
       "\n",
       "    .dataframe tbody tr th {\n",
       "        vertical-align: top;\n",
       "    }\n",
       "\n",
       "    .dataframe thead th {\n",
       "        text-align: right;\n",
       "    }\n",
       "</style>\n",
       "<table border=\"1\" class=\"dataframe\">\n",
       "  <thead>\n",
       "    <tr style=\"text-align: right;\">\n",
       "      <th></th>\n",
       "      <th>na_sales</th>\n",
       "      <th>eu_sales</th>\n",
       "      <th>jp_sales</th>\n",
       "    </tr>\n",
       "    <tr>\n",
       "      <th>platform</th>\n",
       "      <th></th>\n",
       "      <th></th>\n",
       "      <th></th>\n",
       "    </tr>\n",
       "  </thead>\n",
       "  <tbody>\n",
       "    <tr>\n",
       "      <th>X360</th>\n",
       "      <td>0.439032</td>\n",
       "      <td>0.228602</td>\n",
       "      <td>NaN</td>\n",
       "    </tr>\n",
       "    <tr>\n",
       "      <th>XOne</th>\n",
       "      <td>0.377004</td>\n",
       "      <td>0.208866</td>\n",
       "      <td>NaN</td>\n",
       "    </tr>\n",
       "    <tr>\n",
       "      <th>Wii</th>\n",
       "      <td>0.285217</td>\n",
       "      <td>0.257826</td>\n",
       "      <td>NaN</td>\n",
       "    </tr>\n",
       "    <tr>\n",
       "      <th>PS4</th>\n",
       "      <td>0.277398</td>\n",
       "      <td>0.359923</td>\n",
       "      <td>NaN</td>\n",
       "    </tr>\n",
       "    <tr>\n",
       "      <th>WiiU</th>\n",
       "      <td>0.254000</td>\n",
       "      <td>NaN</td>\n",
       "      <td>0.094609</td>\n",
       "    </tr>\n",
       "    <tr>\n",
       "      <th>PS3</th>\n",
       "      <td>NaN</td>\n",
       "      <td>0.196551</td>\n",
       "      <td>0.067681</td>\n",
       "    </tr>\n",
       "    <tr>\n",
       "      <th>3DS</th>\n",
       "      <td>NaN</td>\n",
       "      <td>NaN</td>\n",
       "      <td>0.223795</td>\n",
       "    </tr>\n",
       "    <tr>\n",
       "      <th>PSV</th>\n",
       "      <td>NaN</td>\n",
       "      <td>NaN</td>\n",
       "      <td>0.051927</td>\n",
       "    </tr>\n",
       "    <tr>\n",
       "      <th>PSP</th>\n",
       "      <td>NaN</td>\n",
       "      <td>NaN</td>\n",
       "      <td>0.049104</td>\n",
       "    </tr>\n",
       "  </tbody>\n",
       "</table>\n",
       "</div>"
      ],
      "text/plain": [
       "          na_sales  eu_sales  jp_sales\n",
       "platform                              \n",
       "X360      0.439032  0.228602       NaN\n",
       "XOne      0.377004  0.208866       NaN\n",
       "Wii       0.285217  0.257826       NaN\n",
       "PS4       0.277398  0.359923       NaN\n",
       "WiiU      0.254000       NaN  0.094609\n",
       "PS3            NaN  0.196551  0.067681\n",
       "3DS            NaN       NaN  0.223795\n",
       "PSV            NaN       NaN  0.051927\n",
       "PSP            NaN       NaN  0.049104"
      ]
     },
     "execution_count": 33,
     "metadata": {},
     "output_type": "execute_result"
    }
   ],
   "source": [
    "#Создам общую сводную таблицу популярных платформ по всех регионов:\n",
    "data_to_plot = pd.DataFrame(data=[na_popular_platforms,eu_popular_platforms, jp_popular_platforms]).T\n",
    "data_to_plot"
   ]
  },
  {
   "cell_type": "code",
   "execution_count": 34,
   "metadata": {},
   "outputs": [
    {
     "data": {
      "text/plain": [
       "<AxesSubplot:xlabel='platform'>"
      ]
     },
     "execution_count": 34,
     "metadata": {},
     "output_type": "execute_result"
    },
    {
     "data": {
      "image/png": "[encoded data removed]",
      "text/plain": [
       "<Figure size 720x576 with 1 Axes>"
      ]
     },
     "metadata": {},
     "output_type": "display_data"
    }
   ],
   "source": [
    "#построю график поплярных платформ по регионам:\n",
    "data_to_plot.plot(kind='bar',figsize=(10,8))"
   ]
  },
  {
   "cell_type": "markdown",
   "metadata": {},
   "source": [
    "В Японии X360, Wii, Xone и Ps4 не пользуются спросом, в то время как, ка в Америке и Европе данные платформы явно в фаворитах у пользователей. PS3-единственная платформа предствленная во всех 3-х регионах."
   ]
  },
  {
   "cell_type": "markdown",
   "metadata": {},
   "source": [
    "2.Самые популярные жанры (топ-5)"
   ]
  },
  {
   "cell_type": "code",
   "execution_count": 35,
   "metadata": {},
   "outputs": [
    {
     "data": {
      "text/plain": [
       "genre\n",
       "Shooter     0.586845\n",
       "Sports      0.305000\n",
       "Platform    0.245135\n",
       "Fighting    0.194375\n",
       "Misc        0.177355\n",
       "Name: na_sales, dtype: float64"
      ]
     },
     "execution_count": 35,
     "metadata": {},
     "output_type": "execute_result"
    }
   ],
   "source": [
    "#Самые популярные жанры в Америке:\n",
    "na_popular_genres = actual_period.groupby('genre').na_sales.mean().sort_values(ascending=False)[:5]\n",
    "na_popular_genres"
   ]
  },
  {
   "cell_type": "code",
   "execution_count": 36,
   "metadata": {},
   "outputs": [
    {
     "data": {
      "text/plain": [
       "genre\n",
       "Shooter       0.469840\n",
       "Sports        0.282804\n",
       "Racing        0.237529\n",
       "Platform      0.210541\n",
       "Simulation    0.176129\n",
       "Name: eu_sales, dtype: float64"
      ]
     },
     "execution_count": 36,
     "metadata": {},
     "output_type": "execute_result"
    }
   ],
   "source": [
    "#Самые популярные жанры в Европе:\n",
    "eu_popular_genres = actual_period.groupby('genre').eu_sales.mean().sort_values(ascending=False)[:5]\n",
    "eu_popular_genres "
   ]
  },
  {
   "cell_type": "code",
   "execution_count": 37,
   "metadata": {},
   "outputs": [
    {
     "data": {
      "text/plain": [
       "genre\n",
       "Role-Playing    0.174795\n",
       "Fighting        0.095625\n",
       "Simulation      0.072903\n",
       "Puzzle          0.069412\n",
       "Platform        0.064730\n",
       "Name: jp_sales, dtype: float64"
      ]
     },
     "execution_count": 37,
     "metadata": {},
     "output_type": "execute_result"
    }
   ],
   "source": [
    "#Самые популярные жанры в Японии:\n",
    "jp_popular_genres = actual_period.groupby('genre').jp_sales.mean().sort_values(ascending=False)[:5]\n",
    "jp_popular_genres"
   ]
  },
  {
   "cell_type": "code",
   "execution_count": 38,
   "metadata": {},
   "outputs": [
    {
     "data": {
      "text/plain": [
       "<AxesSubplot:xlabel='genre'>"
      ]
     },
     "execution_count": 38,
     "metadata": {},
     "output_type": "execute_result"
    },
    {
     "data": {
      "image/png": "[encoded data removed]",
      "text/plain": [
       "<Figure size 432x288 with 1 Axes>"
      ]
     },
     "metadata": {},
     "output_type": "display_data"
    }
   ],
   "source": [
    "#Построю график популярных жанров в трех регоинах:\n",
    "data_to_plot = pd.DataFrame(data=[na_popular_genres,eu_popular_genres, jp_popular_genres]).T\n",
    "data_to_plot.plot(kind='bar')"
   ]
  },
  {
   "cell_type": "markdown",
   "metadata": {},
   "source": [
    " в Японии игры в жанре Shooter, Sports и Racing совсем не пользуются популярностью. В Америке и Европе лидерирует Shooter. "
   ]
  },
  {
   "cell_type": "markdown",
   "metadata": {},
   "source": [
    "3.Влияет ли рейтинг ESRB на продажи в отдельном регионе?"
   ]
  },
  {
   "cell_type": "code",
   "execution_count": 39,
   "metadata": {},
   "outputs": [
    {
     "data": {
      "text/plain": [
       "rating\n",
       "unknown    0.091525\n",
       "T          0.149520\n",
       "E10+       0.215238\n",
       "E          0.261755\n",
       "M          0.447724\n",
       "Name: na_sales, dtype: float64"
      ]
     },
     "execution_count": 39,
     "metadata": {},
     "output_type": "execute_result"
    }
   ],
   "source": [
    "#Влияние рейтинга ESRB на продажи в Америке:\n",
    "na_popular_ratings = actual_period.groupby('rating').mean().na_sales.sort_values()\n",
    "na_popular_ratings "
   ]
  },
  {
   "cell_type": "code",
   "execution_count": 40,
   "metadata": {},
   "outputs": [
    {
     "data": {
      "text/plain": [
       "rating\n",
       "EC         0.013750\n",
       "RP         0.030000\n",
       "K-A        0.090000\n",
       "unknown    0.091320\n",
       "E10+       0.131622\n",
       "T          0.145194\n",
       "E          0.179513\n",
       "M          0.312500\n",
       "AO         0.610000\n",
       "Name: eu_sales, dtype: float64"
      ]
     },
     "execution_count": 40,
     "metadata": {},
     "output_type": "execute_result"
    }
   ],
   "source": [
    "#Влияние рейтинга ESRB на продажи в Европе:\n",
    "eu_popular_ratings =  dt.groupby('rating').mean().eu_sales.sort_values()\n",
    "eu_popular_ratings"
   ]
  },
  {
   "cell_type": "code",
   "execution_count": 41,
   "metadata": {},
   "outputs": [
    {
     "data": {
      "text/plain": [
       "rating\n",
       "AO         0.000000\n",
       "EC         0.000000\n",
       "RP         0.000000\n",
       "E10+       0.028859\n",
       "M          0.041393\n",
       "E          0.050487\n",
       "T          0.051876\n",
       "unknown    0.125336\n",
       "K-A        0.486667\n",
       "Name: jp_sales, dtype: float64"
      ]
     },
     "execution_count": 41,
     "metadata": {},
     "output_type": "execute_result"
    }
   ],
   "source": [
    "#Влияние рейтинга ESRB на продажи в Японии:\n",
    "jp_popular_ratings = dt.groupby('rating').mean().jp_sales.sort_values()\n",
    "jp_popular_ratings"
   ]
  },
  {
   "cell_type": "code",
   "execution_count": 42,
   "metadata": {},
   "outputs": [
    {
     "data": {
      "text/plain": [
       "<AxesSubplot:>"
      ]
     },
     "execution_count": 42,
     "metadata": {},
     "output_type": "execute_result"
    },
    {
     "data": {
      "image/png": "[encoded data removed]",
      "text/plain": [
       "<Figure size 720x576 with 1 Axes>"
      ]
     },
     "metadata": {},
     "output_type": "display_data"
    }
   ],
   "source": [
    "#построю график вляния рейтинга ESRB на продажи в регоинах:\n",
    "data_to_plot = pd.DataFrame([na_popular_ratings, eu_popular_ratings, jp_popular_ratings])\n",
    "data_to_plot.plot(kind='bar', figsize=(10,8))"
   ]
  },
  {
   "cell_type": "markdown",
   "metadata": {},
   "source": [
    "Больше всего игр продаются со следующими рейтингами: в Америками - M (от 17 лет), в Европе - АО (от 18 лет), в Японии - К-А (детский)"
   ]
  },
  {
   "cell_type": "markdown",
   "id": "f5d407a5",
   "metadata": {},
   "source": [
    "В Японии у большинства игр нет рейтинга ESRB, потому что в Японии своя рейтинговая модель CERO"
   ]
  },
  {
   "cell_type": "markdown",
   "metadata": {},
   "source": [
    "Шаг 5. Проверьте гипотезы\n",
    "\n",
    "Средние пользовательские рейтинги платформ Xbox One и PC одинаковые;\n",
    "Средние пользовательские рейтинги жанров Action (англ. «действие», экшен-игры) и Sports (англ. «спортивные соревнования») разные.\n",
    "Задайте самостоятельно пороговое значение alpha.\n",
    "Поясните:\n",
    "Как вы сформулировали нулевую и альтернативную гипотезы;\n",
    "Какой критерий применили для проверки гипотез и почему."
   ]
  },
  {
   "cell_type": "markdown",
   "metadata": {},
   "source": [
    "Нулевая гипотеза: средний пользовательский рейтинг платформы Xbox One == средний пользовательский рейтинг платформы PC\n",
    "\n",
    "Альтернативная гипотеза: средний пользовательский рейтинг платформы Xbox One != средний пользовательский рейтинг платформы PC"
   ]
  },
  {
   "cell_type": "code",
   "execution_count": 43,
   "metadata": {},
   "outputs": [
    {
     "name": "stdout",
     "output_type": "stream",
     "text": [
      "p-значение: nan\n",
      "Не получилось отвергнуть нулевую гипотезу\n"
     ]
    }
   ],
   "source": [
    "xone = actual_period.query('platform == \"XOne\"')['user_score']\n",
    "pc = actual_period.query('platform == \"PC\"')['user_score']\n",
    "\n",
    "alpha = .01\n",
    "\n",
    "results = st.ttest_ind(\n",
    "    xone, \n",
    "    pc, \n",
    "    equal_var=False)\n",
    "\n",
    "print('p-значение:', results.pvalue)\n",
    "\n",
    "if (results.pvalue < alpha):\n",
    "    print(\"Отвергаем нулевую гипотезу\")\n",
    "else:\n",
    "    print(\"Не получилось отвергнуть нулевую гипотезу\")"
   ]
  },
  {
   "cell_type": "markdown",
   "metadata": {},
   "source": [
    "Статистический тест показал, что гипотезу о равенстве среднего пользовательского рейтинга для XOne и PC не получилось отвергнуть. Т.к. в тесте сравниваются две выборки, необходимо применять t-test для проверки гипотезы."
   ]
  },
  {
   "cell_type": "markdown",
   "metadata": {},
   "source": [
    "Гипотеза №2.\n",
    "\n",
    "Нулевая гиптеза  — средние пользовательские рейтинги жанров Action (англ. «действие») и Sports (англ. «виды спорта») одинаковые.\n",
    "\n",
    "Альтернативная гипотеза  — средние пользовательские рейтинги жанров Action (англ. «действие») и Sports (англ. «виды спорта») разные.\n",
    "\n",
    "α=1%"
   ]
  },
  {
   "cell_type": "code",
   "execution_count": 44,
   "metadata": {},
   "outputs": [
    {
     "name": "stdout",
     "output_type": "stream",
     "text": [
      "p-значение: nan\n",
      "Не получилось отвергнуть нулевую гипотезу\n"
     ]
    }
   ],
   "source": [
    "action = actual_period.query('genre == \"Action\"')['user_score']\n",
    "sports = actual_period.query('genre == \"Sports\"')['user_score']\n",
    "\n",
    "alpha = .01\n",
    "\n",
    "results = st.ttest_ind(\n",
    "    action, \n",
    "    sports, \n",
    "    equal_var=False)\n",
    "\n",
    "print('p-значение:', results.pvalue)\n",
    "\n",
    "if (results.pvalue < alpha):\n",
    "    print(\"Отвергаем нулевую гипотезу\")\n",
    "else:\n",
    "    print(\"Не получилось отвергнуть нулевую гипотезу\")"
   ]
  },
  {
   "cell_type": "markdown",
   "metadata": {},
   "source": [
    "<div class=\"alert alert-block alert-info\">\n",
    "Исходная гипотеза не подтвердилась: можно утверждать, что средние пользовательские рейтинги для жанров Action и Sports различаются. "
   ]
  },
  {
   "cell_type": "markdown",
   "metadata": {},
   "source": [
    "Шаг 6. Общий вывод\n",
    "\n",
    "Была проведена подготовка и приведение к нужному типу данных. \n",
    "В столбце user_score (оценка пользователей) пропуски со значением tbd -to be discussed были заменены на NaN\n",
    "\n",
    "При анализе данных, можно увидеть, что попоулярность на игры стала расти с 1994 года.\n",
    "Наиболее прибыльные и популярные платформы - PS4, PS3, XOne, 3DS, X360, WiiU.\n",
    "Средняя продолжительность жизненного цикла приставок 10 лет.\n",
    "На продажи платформ не влиюят отзывы пользователей, а отзывы критиков влияют не значительно.\n",
    "Cамая продаваемая игра из жанра sport, при этом, если смотреть на все платформы, то самые высокие средние продажи у жанра Shooter, самые низкие продажи у Приключения и Пазл.\n",
    "\n",
    "При составлении портрета каждого регоина, выяснилось, что в Японии X360, Wii, Xone и Ps4 не пользуются спросом, в то время как, как в Америке и Европе данные платформы явно в фаворитах у пользователей. PS3-единственная платформа предствленная во всех 3-х регионах. В Японии игры в жанре Shooter, Sports и Racing совсем не пользуются популярностью. В Америке и Европе лидерирует Shooter. \n",
    "\n",
    "Из приведенного анализа, можно сделать общий вывод, что успехом будут пользоваться игры для приставок SP4. Жанр стоит выбрать shooter.\n",
    "\n",
    "<b>Рекомендаци по рекламной компании на 2017 год:</b>\n",
    "На основе проведенного анализа, игра должна быть разработана для платформ PS4 или XOne, если речь идет о западном рынке, и — для платформы 3DS, если игру планируется продавать в Японии.\n",
    "Жанр: Action или Shooter для Запада, Role-Playing — для Японии.\n",
    "Рейтинг ESRB: от 17 лет (для Америки и Европы) или от 10 лет (для Японии). \n",
    "Можно не брать внимание оценки пользоталей, а вот на оценки критиков стоит учитвать.Ориентироваться на оценки пользователей нет смысла, на продажи это не оказывает существенного влияния. "
   ]
  }
 ],
 "metadata": {
  "ExecuteTimeLog": [
   {
    "duration": 419,
    "start_time": "2022-11-09T09:03:58.213Z"
   },
   {
    "duration": 93,
    "start_time": "2022-11-09T09:04:25.991Z"
   },
   {
    "duration": 3,
    "start_time": "2022-11-09T09:10:08.854Z"
   },
   {
    "duration": 52,
    "start_time": "2022-11-09T09:10:14.023Z"
   },
   {
    "duration": 175,
    "start_time": "2022-11-09T10:22:27.222Z"
   },
   {
    "duration": 23,
    "start_time": "2022-11-09T10:23:07.066Z"
   },
   {
    "duration": 14,
    "start_time": "2022-11-09T12:52:14.973Z"
   },
   {
    "duration": 62,
    "start_time": "2022-11-09T13:04:28.813Z"
   },
   {
    "duration": 49,
    "start_time": "2022-11-09T13:05:22.540Z"
   },
   {
    "duration": 54,
    "start_time": "2022-11-09T14:17:29.751Z"
   },
   {
    "duration": 54,
    "start_time": "2022-11-09T14:17:36.186Z"
   },
   {
    "duration": 57,
    "start_time": "2022-11-09T14:18:55.278Z"
   },
   {
    "duration": 183,
    "start_time": "2022-11-09T14:20:10.384Z"
   },
   {
    "duration": 4,
    "start_time": "2022-11-09T14:22:30.778Z"
   },
   {
    "duration": 4,
    "start_time": "2022-11-09T14:23:44.765Z"
   },
   {
    "duration": 6,
    "start_time": "2022-11-09T14:24:35.403Z"
   },
   {
    "duration": 1143,
    "start_time": "2022-11-09T14:33:50.989Z"
   },
   {
    "duration": 13,
    "start_time": "2022-11-09T14:34:31.770Z"
   },
   {
    "duration": 2,
    "start_time": "2022-11-09T14:35:27.330Z"
   },
   {
    "duration": 857,
    "start_time": "2022-11-09T14:37:06.899Z"
   },
   {
    "duration": 816,
    "start_time": "2022-11-09T14:38:50.383Z"
   },
   {
    "duration": 1549,
    "start_time": "2022-11-09T14:38:57.948Z"
   },
   {
    "duration": 11,
    "start_time": "2022-11-09T14:39:22.873Z"
   },
   {
    "duration": 12,
    "start_time": "2022-11-09T14:39:45.472Z"
   },
   {
    "duration": 14,
    "start_time": "2022-11-09T14:50:20.282Z"
   },
   {
    "duration": 13,
    "start_time": "2022-11-09T14:50:42.644Z"
   },
   {
    "duration": 9,
    "start_time": "2022-11-09T14:50:59.212Z"
   },
   {
    "duration": 8,
    "start_time": "2022-11-09T14:59:51.415Z"
   },
   {
    "duration": 17,
    "start_time": "2022-11-09T15:00:26.101Z"
   },
   {
    "duration": 14,
    "start_time": "2022-11-09T15:01:15.957Z"
   },
   {
    "duration": 15,
    "start_time": "2022-11-09T15:01:51.879Z"
   },
   {
    "duration": 4,
    "start_time": "2022-11-09T15:02:04.963Z"
   },
   {
    "duration": 8,
    "start_time": "2022-11-09T15:17:57.231Z"
   },
   {
    "duration": 3,
    "start_time": "2022-11-09T15:17:58.563Z"
   },
   {
    "duration": 11,
    "start_time": "2022-11-09T15:29:54.986Z"
   },
   {
    "duration": 13,
    "start_time": "2022-11-09T15:35:49.892Z"
   },
   {
    "duration": 12,
    "start_time": "2022-11-09T15:44:37.466Z"
   },
   {
    "duration": 3,
    "start_time": "2022-11-09T15:44:51.885Z"
   },
   {
    "duration": 7,
    "start_time": "2022-11-09T15:45:50.942Z"
   },
   {
    "duration": 9,
    "start_time": "2022-11-09T15:46:39.631Z"
   },
   {
    "duration": 11,
    "start_time": "2022-11-09T15:48:32.325Z"
   },
   {
    "duration": 5,
    "start_time": "2022-11-09T16:25:36.209Z"
   },
   {
    "duration": 10,
    "start_time": "2022-11-09T16:26:02.281Z"
   },
   {
    "duration": 22,
    "start_time": "2022-11-09T16:26:45.232Z"
   },
   {
    "duration": 3,
    "start_time": "2022-11-09T16:27:14.961Z"
   },
   {
    "duration": 77,
    "start_time": "2022-11-09T16:27:14.967Z"
   },
   {
    "duration": 23,
    "start_time": "2022-11-09T16:27:15.046Z"
   },
   {
    "duration": 26,
    "start_time": "2022-11-09T16:27:15.074Z"
   },
   {
    "duration": 30,
    "start_time": "2022-11-09T16:27:15.103Z"
   },
   {
    "duration": 19,
    "start_time": "2022-11-09T16:27:15.135Z"
   },
   {
    "duration": 40,
    "start_time": "2022-11-09T16:27:15.156Z"
   },
   {
    "duration": 21,
    "start_time": "2022-11-09T16:27:15.200Z"
   },
   {
    "duration": 30,
    "start_time": "2022-11-09T16:27:15.224Z"
   },
   {
    "duration": 19,
    "start_time": "2022-11-09T16:27:15.256Z"
   },
   {
    "duration": 27,
    "start_time": "2022-11-09T16:27:15.277Z"
   },
   {
    "duration": 12,
    "start_time": "2022-11-09T16:32:45.282Z"
   },
   {
    "duration": 7,
    "start_time": "2022-11-09T16:34:18.901Z"
   },
   {
    "duration": 8,
    "start_time": "2022-11-09T16:34:31.478Z"
   },
   {
    "duration": 7,
    "start_time": "2022-11-09T16:34:40.599Z"
   },
   {
    "duration": 5,
    "start_time": "2022-11-09T16:59:35.924Z"
   },
   {
    "duration": 6,
    "start_time": "2022-11-09T17:00:07.011Z"
   },
   {
    "duration": 16,
    "start_time": "2022-11-09T17:02:36.689Z"
   },
   {
    "duration": 396,
    "start_time": "2022-11-10T07:09:47.261Z"
   },
   {
    "duration": 205,
    "start_time": "2022-11-10T07:09:47.659Z"
   },
   {
    "duration": 21,
    "start_time": "2022-11-10T07:09:47.866Z"
   },
   {
    "duration": 13,
    "start_time": "2022-11-10T07:09:47.888Z"
   },
   {
    "duration": 5,
    "start_time": "2022-11-10T07:09:47.903Z"
   },
   {
    "duration": 16,
    "start_time": "2022-11-10T07:09:47.910Z"
   },
   {
    "duration": 16,
    "start_time": "2022-11-10T07:09:47.927Z"
   },
   {
    "duration": 5,
    "start_time": "2022-11-10T07:09:47.944Z"
   },
   {
    "duration": 12,
    "start_time": "2022-11-10T07:09:47.951Z"
   },
   {
    "duration": 7,
    "start_time": "2022-11-10T07:09:47.964Z"
   },
   {
    "duration": 7,
    "start_time": "2022-11-10T07:09:47.973Z"
   },
   {
    "duration": 17,
    "start_time": "2022-11-10T07:09:47.981Z"
   },
   {
    "duration": 64,
    "start_time": "2022-11-10T07:09:47.999Z"
   },
   {
    "duration": 18,
    "start_time": "2022-11-10T07:10:35.406Z"
   },
   {
    "duration": 2,
    "start_time": "2022-11-10T08:28:31.620Z"
   },
   {
    "duration": 47,
    "start_time": "2022-11-10T08:28:31.624Z"
   },
   {
    "duration": 16,
    "start_time": "2022-11-10T08:28:31.673Z"
   },
   {
    "duration": 34,
    "start_time": "2022-11-10T08:28:31.691Z"
   },
   {
    "duration": 17,
    "start_time": "2022-11-10T08:28:31.727Z"
   },
   {
    "duration": 39,
    "start_time": "2022-11-10T08:28:31.746Z"
   },
   {
    "duration": 21,
    "start_time": "2022-11-10T08:28:31.786Z"
   },
   {
    "duration": 19,
    "start_time": "2022-11-10T08:28:31.809Z"
   },
   {
    "duration": 32,
    "start_time": "2022-11-10T08:28:31.830Z"
   },
   {
    "duration": 10,
    "start_time": "2022-11-10T08:28:31.864Z"
   },
   {
    "duration": 28,
    "start_time": "2022-11-10T08:28:31.876Z"
   },
   {
    "duration": 20,
    "start_time": "2022-11-10T08:28:31.905Z"
   },
   {
    "duration": 21,
    "start_time": "2022-11-10T08:28:31.926Z"
   },
   {
    "duration": 2,
    "start_time": "2022-11-10T08:28:31.949Z"
   },
   {
    "duration": 104,
    "start_time": "2022-11-10T08:30:05.903Z"
   },
   {
    "duration": 21,
    "start_time": "2022-11-10T08:30:17.446Z"
   },
   {
    "duration": 11,
    "start_time": "2022-11-10T08:35:16.990Z"
   },
   {
    "duration": 9,
    "start_time": "2022-11-10T08:35:45.370Z"
   },
   {
    "duration": 8,
    "start_time": "2022-11-10T08:35:54.300Z"
   },
   {
    "duration": 12,
    "start_time": "2022-11-10T08:36:01.090Z"
   },
   {
    "duration": 168,
    "start_time": "2022-11-10T08:41:19.950Z"
   },
   {
    "duration": 177,
    "start_time": "2022-11-10T08:42:47.242Z"
   },
   {
    "duration": 165,
    "start_time": "2022-11-10T08:44:18.418Z"
   },
   {
    "duration": 13,
    "start_time": "2022-11-10T08:51:40.590Z"
   },
   {
    "duration": 12696,
    "start_time": "2022-11-10T08:58:20.079Z"
   },
   {
    "duration": 170,
    "start_time": "2022-11-10T08:58:49.860Z"
   },
   {
    "duration": 131,
    "start_time": "2022-11-10T08:59:12.481Z"
   },
   {
    "duration": 156,
    "start_time": "2022-11-10T09:00:50.899Z"
   },
   {
    "duration": 167,
    "start_time": "2022-11-10T09:03:53.510Z"
   },
   {
    "duration": 161,
    "start_time": "2022-11-10T09:04:23.659Z"
   },
   {
    "duration": 258,
    "start_time": "2022-11-10T09:04:38.038Z"
   },
   {
    "duration": 165,
    "start_time": "2022-11-10T09:05:16.709Z"
   },
   {
    "duration": 319,
    "start_time": "2022-11-10T09:14:50.851Z"
   },
   {
    "duration": 327,
    "start_time": "2022-11-10T09:16:12.961Z"
   },
   {
    "duration": 314,
    "start_time": "2022-11-10T09:22:03.775Z"
   },
   {
    "duration": 21,
    "start_time": "2022-11-10T09:27:52.744Z"
   },
   {
    "duration": 22,
    "start_time": "2022-11-10T09:28:18.306Z"
   },
   {
    "duration": 2946,
    "start_time": "2022-11-10T09:29:35.267Z"
   },
   {
    "duration": 22,
    "start_time": "2022-11-10T09:30:08.456Z"
   },
   {
    "duration": 2734,
    "start_time": "2022-11-10T09:30:33.382Z"
   },
   {
    "duration": 18,
    "start_time": "2022-11-10T09:32:07.950Z"
   },
   {
    "duration": 22,
    "start_time": "2022-11-10T09:32:42.364Z"
   },
   {
    "duration": 30,
    "start_time": "2022-11-10T09:36:52.077Z"
   },
   {
    "duration": 21,
    "start_time": "2022-11-10T09:38:15.584Z"
   },
   {
    "duration": 20,
    "start_time": "2022-11-10T09:38:40.550Z"
   },
   {
    "duration": 18,
    "start_time": "2022-11-10T09:39:10.177Z"
   },
   {
    "duration": 415,
    "start_time": "2022-11-10T09:39:35.757Z"
   },
   {
    "duration": 25,
    "start_time": "2022-11-10T09:40:39.966Z"
   },
   {
    "duration": 435,
    "start_time": "2022-11-10T09:40:55.386Z"
   },
   {
    "duration": 20,
    "start_time": "2022-11-10T09:41:35.905Z"
   },
   {
    "duration": 19,
    "start_time": "2022-11-10T09:41:59.966Z"
   },
   {
    "duration": 20,
    "start_time": "2022-11-10T09:42:30.398Z"
   },
   {
    "duration": 2912,
    "start_time": "2022-11-10T09:42:48.576Z"
   },
   {
    "duration": 2892,
    "start_time": "2022-11-10T09:44:18.317Z"
   },
   {
    "duration": 204,
    "start_time": "2022-11-10T09:59:14.448Z"
   },
   {
    "duration": 676,
    "start_time": "2022-11-10T10:01:21.467Z"
   },
   {
    "duration": 9,
    "start_time": "2022-11-10T10:52:46.704Z"
   },
   {
    "duration": 14,
    "start_time": "2022-11-10T10:52:59.592Z"
   },
   {
    "duration": 9,
    "start_time": "2022-11-10T10:55:13.722Z"
   },
   {
    "duration": 7,
    "start_time": "2022-11-10T10:55:20.561Z"
   },
   {
    "duration": 44,
    "start_time": "2022-11-10T10:57:21.061Z"
   },
   {
    "duration": 19,
    "start_time": "2022-11-10T10:57:30.963Z"
   },
   {
    "duration": 300,
    "start_time": "2022-11-10T10:57:47.012Z"
   },
   {
    "duration": 133,
    "start_time": "2022-11-10T12:23:25.695Z"
   },
   {
    "duration": 3,
    "start_time": "2022-11-10T12:23:53.534Z"
   },
   {
    "duration": 2,
    "start_time": "2022-11-10T12:24:18.248Z"
   },
   {
    "duration": 61,
    "start_time": "2022-11-10T12:24:18.253Z"
   },
   {
    "duration": 17,
    "start_time": "2022-11-10T12:24:18.316Z"
   },
   {
    "duration": 22,
    "start_time": "2022-11-10T12:24:18.334Z"
   },
   {
    "duration": 9,
    "start_time": "2022-11-10T12:24:18.359Z"
   },
   {
    "duration": 32,
    "start_time": "2022-11-10T12:24:18.370Z"
   },
   {
    "duration": 9,
    "start_time": "2022-11-10T12:24:18.403Z"
   },
   {
    "duration": 8,
    "start_time": "2022-11-10T12:24:18.415Z"
   },
   {
    "duration": 16,
    "start_time": "2022-11-10T12:24:18.425Z"
   },
   {
    "duration": 6,
    "start_time": "2022-11-10T12:24:18.443Z"
   },
   {
    "duration": 8,
    "start_time": "2022-11-10T12:24:18.451Z"
   },
   {
    "duration": 22,
    "start_time": "2022-11-10T12:24:18.461Z"
   },
   {
    "duration": 25,
    "start_time": "2022-11-10T12:24:18.484Z"
   },
   {
    "duration": 342,
    "start_time": "2022-11-10T12:24:18.511Z"
   },
   {
    "duration": 3,
    "start_time": "2022-11-10T12:24:18.855Z"
   },
   {
    "duration": 19,
    "start_time": "2022-11-10T12:24:18.859Z"
   },
   {
    "duration": 11,
    "start_time": "2022-11-10T12:24:18.879Z"
   },
   {
    "duration": 3,
    "start_time": "2022-11-10T12:24:18.892Z"
   },
   {
    "duration": 19,
    "start_time": "2022-11-10T12:24:18.896Z"
   },
   {
    "duration": 201,
    "start_time": "2022-11-10T12:26:49.172Z"
   },
   {
    "duration": 1224,
    "start_time": "2022-11-10T12:27:16.505Z"
   },
   {
    "duration": 58,
    "start_time": "2022-11-10T12:27:17.731Z"
   },
   {
    "duration": 22,
    "start_time": "2022-11-10T12:27:17.791Z"
   },
   {
    "duration": 20,
    "start_time": "2022-11-10T12:27:17.815Z"
   },
   {
    "duration": 10,
    "start_time": "2022-11-10T12:27:17.837Z"
   },
   {
    "duration": 18,
    "start_time": "2022-11-10T12:27:17.849Z"
   },
   {
    "duration": 18,
    "start_time": "2022-11-10T12:27:17.869Z"
   },
   {
    "duration": 4,
    "start_time": "2022-11-10T12:27:17.888Z"
   },
   {
    "duration": 21,
    "start_time": "2022-11-10T12:27:17.894Z"
   },
   {
    "duration": 13,
    "start_time": "2022-11-10T12:27:17.917Z"
   },
   {
    "duration": 11,
    "start_time": "2022-11-10T12:27:17.932Z"
   },
   {
    "duration": 15,
    "start_time": "2022-11-10T12:27:17.945Z"
   },
   {
    "duration": 22,
    "start_time": "2022-11-10T12:27:17.962Z"
   },
   {
    "duration": 390,
    "start_time": "2022-11-10T12:27:17.988Z"
   },
   {
    "duration": 359,
    "start_time": "2022-11-10T12:27:18.380Z"
   },
   {
    "duration": 11,
    "start_time": "2022-11-10T12:27:18.746Z"
   },
   {
    "duration": 12,
    "start_time": "2022-11-10T12:27:18.759Z"
   },
   {
    "duration": 32,
    "start_time": "2022-11-10T12:27:18.774Z"
   },
   {
    "duration": 130,
    "start_time": "2022-11-10T12:27:18.808Z"
   },
   {
    "duration": 8,
    "start_time": "2022-11-10T12:38:39.566Z"
   },
   {
    "duration": 10,
    "start_time": "2022-11-10T12:47:41.143Z"
   },
   {
    "duration": 4,
    "start_time": "2022-11-10T12:47:50.834Z"
   },
   {
    "duration": 6,
    "start_time": "2022-11-10T12:48:09.231Z"
   },
   {
    "duration": 20,
    "start_time": "2022-11-10T12:49:58.853Z"
   },
   {
    "duration": 18,
    "start_time": "2022-11-10T12:50:41.583Z"
   },
   {
    "duration": 3,
    "start_time": "2022-11-10T12:51:04.990Z"
   },
   {
    "duration": 61,
    "start_time": "2022-11-10T12:51:04.995Z"
   },
   {
    "duration": 16,
    "start_time": "2022-11-10T12:51:05.058Z"
   },
   {
    "duration": 24,
    "start_time": "2022-11-10T12:51:05.076Z"
   },
   {
    "duration": 7,
    "start_time": "2022-11-10T12:51:05.104Z"
   },
   {
    "duration": 21,
    "start_time": "2022-11-10T12:51:05.113Z"
   },
   {
    "duration": 12,
    "start_time": "2022-11-10T12:51:05.146Z"
   },
   {
    "duration": 7,
    "start_time": "2022-11-10T12:51:05.160Z"
   },
   {
    "duration": 28,
    "start_time": "2022-11-10T12:51:05.169Z"
   },
   {
    "duration": 5,
    "start_time": "2022-11-10T12:51:05.198Z"
   },
   {
    "duration": 10,
    "start_time": "2022-11-10T12:51:05.205Z"
   },
   {
    "duration": 19,
    "start_time": "2022-11-10T12:51:05.216Z"
   },
   {
    "duration": 24,
    "start_time": "2022-11-10T12:51:05.247Z"
   },
   {
    "duration": 340,
    "start_time": "2022-11-10T12:51:05.273Z"
   },
   {
    "duration": 342,
    "start_time": "2022-11-10T12:51:05.615Z"
   },
   {
    "duration": 7,
    "start_time": "2022-11-10T12:51:05.958Z"
   },
   {
    "duration": 1966,
    "start_time": "2022-11-10T12:51:05.966Z"
   },
   {
    "duration": 16,
    "start_time": "2022-11-10T12:51:07.933Z"
   },
   {
    "duration": 7,
    "start_time": "2022-11-10T12:51:07.950Z"
   },
   {
    "duration": 5,
    "start_time": "2022-11-10T12:51:07.958Z"
   },
   {
    "duration": 29,
    "start_time": "2022-11-10T12:51:07.964Z"
   },
   {
    "duration": 9,
    "start_time": "2022-11-10T14:14:07.229Z"
   },
   {
    "duration": 1135,
    "start_time": "2022-11-10T14:14:17.439Z"
   },
   {
    "duration": 16,
    "start_time": "2022-11-10T14:28:20.354Z"
   },
   {
    "duration": 3,
    "start_time": "2022-11-10T14:28:37.851Z"
   },
   {
    "duration": 92,
    "start_time": "2022-11-10T14:28:37.856Z"
   },
   {
    "duration": 16,
    "start_time": "2022-11-10T14:28:37.950Z"
   },
   {
    "duration": 19,
    "start_time": "2022-11-10T14:28:37.967Z"
   },
   {
    "duration": 7,
    "start_time": "2022-11-10T14:28:37.988Z"
   },
   {
    "duration": 19,
    "start_time": "2022-11-10T14:28:37.996Z"
   },
   {
    "duration": 10,
    "start_time": "2022-11-10T14:28:38.017Z"
   },
   {
    "duration": 19,
    "start_time": "2022-11-10T14:28:38.028Z"
   },
   {
    "duration": 10,
    "start_time": "2022-11-10T14:28:38.049Z"
   },
   {
    "duration": 6,
    "start_time": "2022-11-10T14:28:38.060Z"
   },
   {
    "duration": 18,
    "start_time": "2022-11-10T14:28:38.069Z"
   },
   {
    "duration": 18,
    "start_time": "2022-11-10T14:28:38.088Z"
   },
   {
    "duration": 18,
    "start_time": "2022-11-10T14:28:38.107Z"
   },
   {
    "duration": 340,
    "start_time": "2022-11-10T14:28:38.127Z"
   },
   {
    "duration": 350,
    "start_time": "2022-11-10T14:28:38.469Z"
   },
   {
    "duration": 7,
    "start_time": "2022-11-10T14:28:38.821Z"
   },
   {
    "duration": 1982,
    "start_time": "2022-11-10T14:28:38.829Z"
   },
   {
    "duration": 16,
    "start_time": "2022-11-10T14:28:40.813Z"
   },
   {
    "duration": 20,
    "start_time": "2022-11-10T14:29:05.239Z"
   },
   {
    "duration": 571,
    "start_time": "2022-11-10T14:29:17.805Z"
   },
   {
    "duration": 618,
    "start_time": "2022-11-10T14:29:57.651Z"
   },
   {
    "duration": 10,
    "start_time": "2022-11-10T14:30:33.110Z"
   },
   {
    "duration": 537,
    "start_time": "2022-11-10T14:31:12.411Z"
   },
   {
    "duration": 14,
    "start_time": "2022-11-10T14:38:29.577Z"
   },
   {
    "duration": 3,
    "start_time": "2022-11-10T14:43:40.219Z"
   },
   {
    "duration": 57,
    "start_time": "2022-11-10T14:43:40.223Z"
   },
   {
    "duration": 17,
    "start_time": "2022-11-10T14:43:40.282Z"
   },
   {
    "duration": 16,
    "start_time": "2022-11-10T14:43:40.300Z"
   },
   {
    "duration": 5,
    "start_time": "2022-11-10T14:43:40.319Z"
   },
   {
    "duration": 26,
    "start_time": "2022-11-10T14:43:40.326Z"
   },
   {
    "duration": 8,
    "start_time": "2022-11-10T14:43:40.353Z"
   },
   {
    "duration": 5,
    "start_time": "2022-11-10T14:43:40.363Z"
   },
   {
    "duration": 11,
    "start_time": "2022-11-10T14:43:40.370Z"
   },
   {
    "duration": 4,
    "start_time": "2022-11-10T14:43:40.382Z"
   },
   {
    "duration": 7,
    "start_time": "2022-11-10T14:43:40.388Z"
   },
   {
    "duration": 16,
    "start_time": "2022-11-10T14:43:40.396Z"
   },
   {
    "duration": 45,
    "start_time": "2022-11-10T14:43:40.413Z"
   },
   {
    "duration": 526,
    "start_time": "2022-11-10T14:43:40.461Z"
   },
   {
    "duration": 417,
    "start_time": "2022-11-10T14:43:40.988Z"
   },
   {
    "duration": 6,
    "start_time": "2022-11-10T14:43:41.407Z"
   },
   {
    "duration": 2215,
    "start_time": "2022-11-10T14:43:41.415Z"
   },
   {
    "duration": 567,
    "start_time": "2022-11-10T14:43:43.632Z"
   },
   {
    "duration": 16,
    "start_time": "2022-11-10T14:43:44.201Z"
   },
   {
    "duration": 1169,
    "start_time": "2022-11-10T14:44:28.636Z"
   },
   {
    "duration": 52,
    "start_time": "2022-11-10T14:44:29.807Z"
   },
   {
    "duration": 19,
    "start_time": "2022-11-10T14:44:29.861Z"
   },
   {
    "duration": 20,
    "start_time": "2022-11-10T14:44:29.883Z"
   },
   {
    "duration": 15,
    "start_time": "2022-11-10T14:44:29.904Z"
   },
   {
    "duration": 21,
    "start_time": "2022-11-10T14:44:29.920Z"
   },
   {
    "duration": 34,
    "start_time": "2022-11-10T14:44:29.945Z"
   },
   {
    "duration": 5,
    "start_time": "2022-11-10T14:44:29.981Z"
   },
   {
    "duration": 12,
    "start_time": "2022-11-10T14:44:29.988Z"
   },
   {
    "duration": 26,
    "start_time": "2022-11-10T14:44:30.002Z"
   },
   {
    "duration": 39,
    "start_time": "2022-11-10T14:44:30.029Z"
   },
   {
    "duration": 42,
    "start_time": "2022-11-10T14:44:30.069Z"
   },
   {
    "duration": 80,
    "start_time": "2022-11-10T14:44:30.112Z"
   },
   {
    "duration": 354,
    "start_time": "2022-11-10T14:44:30.194Z"
   },
   {
    "duration": 347,
    "start_time": "2022-11-10T14:44:30.550Z"
   },
   {
    "duration": 7,
    "start_time": "2022-11-10T14:44:30.899Z"
   },
   {
    "duration": 2049,
    "start_time": "2022-11-10T14:44:30.907Z"
   },
   {
    "duration": 585,
    "start_time": "2022-11-10T14:44:32.958Z"
   },
   {
    "duration": 110,
    "start_time": "2022-11-10T14:44:33.546Z"
   },
   {
    "duration": 483,
    "start_time": "2022-11-10T14:47:26.726Z"
   },
   {
    "duration": 303,
    "start_time": "2022-11-10T14:49:55.139Z"
   },
   {
    "duration": 23,
    "start_time": "2022-11-10T14:53:02.920Z"
   },
   {
    "duration": 469,
    "start_time": "2022-11-10T15:04:54.058Z"
   },
   {
    "duration": 176,
    "start_time": "2022-11-10T15:23:26.055Z"
   },
   {
    "duration": 376,
    "start_time": "2022-11-10T15:24:22.069Z"
   },
   {
    "duration": 376,
    "start_time": "2022-11-10T15:26:18.572Z"
   },
   {
    "duration": 539,
    "start_time": "2022-11-10T15:29:39.902Z"
   },
   {
    "duration": 332,
    "start_time": "2022-11-10T15:31:10.677Z"
   },
   {
    "duration": 3,
    "start_time": "2022-11-10T15:31:14.232Z"
   },
   {
    "duration": 59,
    "start_time": "2022-11-10T15:31:14.238Z"
   },
   {
    "duration": 15,
    "start_time": "2022-11-10T15:31:14.298Z"
   },
   {
    "duration": 17,
    "start_time": "2022-11-10T15:31:14.315Z"
   },
   {
    "duration": 6,
    "start_time": "2022-11-10T15:31:14.334Z"
   },
   {
    "duration": 13,
    "start_time": "2022-11-10T15:31:14.342Z"
   },
   {
    "duration": 10,
    "start_time": "2022-11-10T15:31:14.357Z"
   },
   {
    "duration": 4,
    "start_time": "2022-11-10T15:31:14.369Z"
   },
   {
    "duration": 30,
    "start_time": "2022-11-10T15:31:14.375Z"
   },
   {
    "duration": 7,
    "start_time": "2022-11-10T15:31:14.406Z"
   },
   {
    "duration": 10,
    "start_time": "2022-11-10T15:31:14.414Z"
   },
   {
    "duration": 25,
    "start_time": "2022-11-10T15:31:14.426Z"
   },
   {
    "duration": 27,
    "start_time": "2022-11-10T15:31:14.453Z"
   },
   {
    "duration": 537,
    "start_time": "2022-11-10T15:31:14.482Z"
   },
   {
    "duration": 400,
    "start_time": "2022-11-10T15:31:15.020Z"
   },
   {
    "duration": 6,
    "start_time": "2022-11-10T15:31:15.422Z"
   },
   {
    "duration": 2311,
    "start_time": "2022-11-10T15:31:15.429Z"
   },
   {
    "duration": 580,
    "start_time": "2022-11-10T15:31:17.745Z"
   },
   {
    "duration": 453,
    "start_time": "2022-11-10T15:31:18.327Z"
   },
   {
    "duration": 428,
    "start_time": "2022-11-10T15:31:18.783Z"
   },
   {
    "duration": 9,
    "start_time": "2022-11-10T15:36:10.356Z"
   },
   {
    "duration": 9,
    "start_time": "2022-11-10T15:50:40.343Z"
   },
   {
    "duration": 9,
    "start_time": "2022-11-10T15:54:17.412Z"
   },
   {
    "duration": 13,
    "start_time": "2022-11-10T15:57:13.294Z"
   },
   {
    "duration": 6,
    "start_time": "2022-11-10T15:57:24.427Z"
   },
   {
    "duration": 4001,
    "start_time": "2022-11-10T16:03:12.047Z"
   },
   {
    "duration": 19,
    "start_time": "2022-11-10T16:07:24.681Z"
   },
   {
    "duration": 10,
    "start_time": "2022-11-10T16:07:47.948Z"
   },
   {
    "duration": 565,
    "start_time": "2022-11-10T16:08:03.212Z"
   },
   {
    "duration": 49,
    "start_time": "2022-11-10T16:11:50.543Z"
   },
   {
    "duration": 25,
    "start_time": "2022-11-10T16:16:29.986Z"
   },
   {
    "duration": 10,
    "start_time": "2022-11-10T16:16:53.576Z"
   },
   {
    "duration": 8,
    "start_time": "2022-11-10T16:31:01.046Z"
   },
   {
    "duration": 7,
    "start_time": "2022-11-10T16:32:41.470Z"
   },
   {
    "duration": 8,
    "start_time": "2022-11-10T16:34:11.751Z"
   },
   {
    "duration": 7,
    "start_time": "2022-11-10T16:35:43.659Z"
   },
   {
    "duration": 12,
    "start_time": "2022-11-10T16:37:12.479Z"
   },
   {
    "duration": 216,
    "start_time": "2022-11-10T16:38:43.376Z"
   },
   {
    "duration": 7,
    "start_time": "2022-11-10T16:49:14.819Z"
   },
   {
    "duration": 7,
    "start_time": "2022-11-10T16:49:19.282Z"
   },
   {
    "duration": 8,
    "start_time": "2022-11-10T16:49:28.340Z"
   },
   {
    "duration": 326,
    "start_time": "2022-11-10T16:50:44.852Z"
   },
   {
    "duration": 8,
    "start_time": "2022-11-10T16:56:10.762Z"
   },
   {
    "duration": 15,
    "start_time": "2022-11-10T16:56:44.718Z"
   },
   {
    "duration": 10,
    "start_time": "2022-11-10T16:57:34.171Z"
   },
   {
    "duration": 11,
    "start_time": "2022-11-10T16:58:11.621Z"
   },
   {
    "duration": 11,
    "start_time": "2022-11-10T16:58:23.623Z"
   },
   {
    "duration": 11,
    "start_time": "2022-11-10T16:58:30.598Z"
   },
   {
    "duration": 227,
    "start_time": "2022-11-10T16:59:42.694Z"
   },
   {
    "duration": 14,
    "start_time": "2022-11-10T17:05:11.779Z"
   },
   {
    "duration": 3,
    "start_time": "2022-11-10T17:06:11.255Z"
   },
   {
    "duration": 61,
    "start_time": "2022-11-10T17:06:14.765Z"
   },
   {
    "duration": 20,
    "start_time": "2022-11-10T17:06:16.050Z"
   },
   {
    "duration": 3,
    "start_time": "2022-11-10T17:06:18.859Z"
   },
   {
    "duration": 57,
    "start_time": "2022-11-10T17:06:18.865Z"
   },
   {
    "duration": 20,
    "start_time": "2022-11-10T17:06:18.924Z"
   },
   {
    "duration": 20,
    "start_time": "2022-11-10T17:06:18.946Z"
   },
   {
    "duration": 16,
    "start_time": "2022-11-10T17:06:18.968Z"
   },
   {
    "duration": 30,
    "start_time": "2022-11-10T17:06:18.986Z"
   },
   {
    "duration": 17,
    "start_time": "2022-11-10T17:06:19.018Z"
   },
   {
    "duration": 15,
    "start_time": "2022-11-10T17:06:19.037Z"
   },
   {
    "duration": 49,
    "start_time": "2022-11-10T17:06:19.055Z"
   },
   {
    "duration": 14,
    "start_time": "2022-11-10T17:06:19.106Z"
   },
   {
    "duration": 18,
    "start_time": "2022-11-10T17:06:19.122Z"
   },
   {
    "duration": 26,
    "start_time": "2022-11-10T17:06:19.142Z"
   },
   {
    "duration": 29,
    "start_time": "2022-11-10T17:06:19.170Z"
   },
   {
    "duration": 390,
    "start_time": "2022-11-10T17:06:19.201Z"
   },
   {
    "duration": 391,
    "start_time": "2022-11-10T17:06:19.593Z"
   },
   {
    "duration": 7,
    "start_time": "2022-11-10T17:06:19.985Z"
   },
   {
    "duration": 2414,
    "start_time": "2022-11-10T17:06:19.994Z"
   },
   {
    "duration": 616,
    "start_time": "2022-11-10T17:06:22.410Z"
   },
   {
    "duration": 416,
    "start_time": "2022-11-10T17:06:23.028Z"
   },
   {
    "duration": 455,
    "start_time": "2022-11-10T17:06:23.447Z"
   },
   {
    "duration": 8,
    "start_time": "2022-11-10T17:06:23.905Z"
   },
   {
    "duration": 19,
    "start_time": "2022-11-10T17:06:23.915Z"
   },
   {
    "duration": 37,
    "start_time": "2022-11-10T17:06:23.936Z"
   },
   {
    "duration": 3148,
    "start_time": "2022-11-10T17:06:23.977Z"
   },
   {
    "duration": 20,
    "start_time": "2022-11-10T17:06:27.127Z"
   },
   {
    "duration": 526,
    "start_time": "2022-11-10T17:06:27.149Z"
   },
   {
    "duration": 31,
    "start_time": "2022-11-10T17:06:27.676Z"
   },
   {
    "duration": 8,
    "start_time": "2022-11-10T17:06:27.709Z"
   },
   {
    "duration": 10,
    "start_time": "2022-11-10T17:06:27.718Z"
   },
   {
    "duration": 8,
    "start_time": "2022-11-10T17:06:27.746Z"
   },
   {
    "duration": 12,
    "start_time": "2022-11-10T17:06:27.756Z"
   },
   {
    "duration": 259,
    "start_time": "2022-11-10T17:06:27.770Z"
   },
   {
    "duration": 17,
    "start_time": "2022-11-10T17:06:28.031Z"
   },
   {
    "duration": 10,
    "start_time": "2022-11-10T17:06:28.050Z"
   },
   {
    "duration": 10,
    "start_time": "2022-11-10T17:06:28.062Z"
   },
   {
    "duration": 415,
    "start_time": "2022-11-10T17:06:28.074Z"
   },
   {
    "duration": 11,
    "start_time": "2022-11-10T17:06:28.491Z"
   },
   {
    "duration": 13,
    "start_time": "2022-11-10T17:06:28.504Z"
   },
   {
    "duration": 32,
    "start_time": "2022-11-10T17:06:28.519Z"
   },
   {
    "duration": 266,
    "start_time": "2022-11-10T17:06:28.553Z"
   },
   {
    "duration": 17,
    "start_time": "2022-11-10T17:06:28.820Z"
   },
   {
    "duration": 18,
    "start_time": "2022-11-10T17:08:25.222Z"
   },
   {
    "duration": 3,
    "start_time": "2022-11-10T17:09:16.709Z"
   },
   {
    "duration": 3,
    "start_time": "2022-11-10T17:09:20.527Z"
   },
   {
    "duration": 56,
    "start_time": "2022-11-10T17:09:20.533Z"
   },
   {
    "duration": 16,
    "start_time": "2022-11-10T17:09:20.591Z"
   },
   {
    "duration": 18,
    "start_time": "2022-11-10T17:09:20.609Z"
   },
   {
    "duration": 5,
    "start_time": "2022-11-10T17:09:20.629Z"
   },
   {
    "duration": 18,
    "start_time": "2022-11-10T17:09:20.646Z"
   },
   {
    "duration": 19,
    "start_time": "2022-11-10T17:09:20.666Z"
   },
   {
    "duration": 8,
    "start_time": "2022-11-10T17:09:20.687Z"
   },
   {
    "duration": 16,
    "start_time": "2022-11-10T17:09:20.697Z"
   },
   {
    "duration": 10,
    "start_time": "2022-11-10T17:09:20.715Z"
   },
   {
    "duration": 11,
    "start_time": "2022-11-10T17:09:20.728Z"
   },
   {
    "duration": 17,
    "start_time": "2022-11-10T17:09:20.746Z"
   },
   {
    "duration": 22,
    "start_time": "2022-11-10T17:09:20.765Z"
   },
   {
    "duration": 398,
    "start_time": "2022-11-10T17:09:20.789Z"
   },
   {
    "duration": 370,
    "start_time": "2022-11-10T17:09:21.189Z"
   },
   {
    "duration": 6,
    "start_time": "2022-11-10T17:09:21.561Z"
   },
   {
    "duration": 2282,
    "start_time": "2022-11-10T17:09:21.569Z"
   },
   {
    "duration": 776,
    "start_time": "2022-11-10T17:09:23.853Z"
   },
   {
    "duration": 398,
    "start_time": "2022-11-10T17:09:24.631Z"
   },
   {
    "duration": 384,
    "start_time": "2022-11-10T17:09:25.031Z"
   },
   {
    "duration": 8,
    "start_time": "2022-11-10T17:09:25.417Z"
   },
   {
    "duration": 20,
    "start_time": "2022-11-10T17:09:25.426Z"
   },
   {
    "duration": 19,
    "start_time": "2022-11-10T17:09:25.448Z"
   },
   {
    "duration": 2936,
    "start_time": "2022-11-10T17:09:25.469Z"
   },
   {
    "duration": 16,
    "start_time": "2022-11-10T17:09:28.407Z"
   },
   {
    "duration": 539,
    "start_time": "2022-11-10T17:09:28.424Z"
   },
   {
    "duration": 33,
    "start_time": "2022-11-10T17:09:28.965Z"
   },
   {
    "duration": 8,
    "start_time": "2022-11-10T17:09:28.999Z"
   },
   {
    "duration": 18,
    "start_time": "2022-11-10T17:09:29.010Z"
   },
   {
    "duration": 29,
    "start_time": "2022-11-10T17:09:29.030Z"
   },
   {
    "duration": 12,
    "start_time": "2022-11-10T17:09:29.061Z"
   },
   {
    "duration": 254,
    "start_time": "2022-11-10T17:09:29.075Z"
   },
   {
    "duration": 16,
    "start_time": "2022-11-10T17:09:29.330Z"
   },
   {
    "duration": 12,
    "start_time": "2022-11-10T17:09:29.348Z"
   },
   {
    "duration": 11,
    "start_time": "2022-11-10T17:09:29.362Z"
   },
   {
    "duration": 252,
    "start_time": "2022-11-10T17:09:29.375Z"
   },
   {
    "duration": 17,
    "start_time": "2022-11-10T17:09:29.629Z"
   },
   {
    "duration": 11,
    "start_time": "2022-11-10T17:09:29.648Z"
   },
   {
    "duration": 12,
    "start_time": "2022-11-10T17:09:29.661Z"
   },
   {
    "duration": 265,
    "start_time": "2022-11-10T17:09:29.675Z"
   },
   {
    "duration": 11,
    "start_time": "2022-11-10T17:09:29.946Z"
   },
   {
    "duration": 22,
    "start_time": "2022-11-10T17:10:31.854Z"
   },
   {
    "duration": 4,
    "start_time": "2022-11-10T17:57:18.473Z"
   },
   {
    "duration": 69,
    "start_time": "2022-11-10T17:57:18.480Z"
   },
   {
    "duration": 17,
    "start_time": "2022-11-10T17:57:18.551Z"
   },
   {
    "duration": 32,
    "start_time": "2022-11-10T17:57:18.570Z"
   },
   {
    "duration": 7,
    "start_time": "2022-11-10T17:57:18.605Z"
   },
   {
    "duration": 38,
    "start_time": "2022-11-10T17:57:18.614Z"
   },
   {
    "duration": 15,
    "start_time": "2022-11-10T17:57:18.655Z"
   },
   {
    "duration": 13,
    "start_time": "2022-11-10T17:57:18.672Z"
   },
   {
    "duration": 18,
    "start_time": "2022-11-10T17:57:18.687Z"
   },
   {
    "duration": 6,
    "start_time": "2022-11-10T17:57:18.707Z"
   },
   {
    "duration": 29,
    "start_time": "2022-11-10T17:57:18.717Z"
   },
   {
    "duration": 18,
    "start_time": "2022-11-10T17:57:18.748Z"
   },
   {
    "duration": 44,
    "start_time": "2022-11-10T17:57:18.768Z"
   },
   {
    "duration": 618,
    "start_time": "2022-11-10T17:57:18.814Z"
   },
   {
    "duration": 363,
    "start_time": "2022-11-10T17:57:19.434Z"
   },
   {
    "duration": 8,
    "start_time": "2022-11-10T17:57:19.799Z"
   },
   {
    "duration": 2338,
    "start_time": "2022-11-10T17:57:19.809Z"
   },
   {
    "duration": 592,
    "start_time": "2022-11-10T17:57:22.149Z"
   },
   {
    "duration": 372,
    "start_time": "2022-11-10T17:57:22.745Z"
   },
   {
    "duration": 454,
    "start_time": "2022-11-10T17:57:23.119Z"
   },
   {
    "duration": 10,
    "start_time": "2022-11-10T17:57:23.575Z"
   },
   {
    "duration": 19,
    "start_time": "2022-11-10T17:57:23.587Z"
   },
   {
    "duration": 44,
    "start_time": "2022-11-10T17:57:23.608Z"
   },
   {
    "duration": 3577,
    "start_time": "2022-11-10T17:57:23.654Z"
   },
   {
    "duration": 19,
    "start_time": "2022-11-10T17:57:27.233Z"
   },
   {
    "duration": 528,
    "start_time": "2022-11-10T17:57:27.254Z"
   },
   {
    "duration": 31,
    "start_time": "2022-11-10T17:57:27.784Z"
   },
   {
    "duration": 8,
    "start_time": "2022-11-10T17:57:27.817Z"
   },
   {
    "duration": 9,
    "start_time": "2022-11-10T17:57:27.848Z"
   },
   {
    "duration": 7,
    "start_time": "2022-11-10T17:57:27.859Z"
   },
   {
    "duration": 16,
    "start_time": "2022-11-10T17:57:27.867Z"
   },
   {
    "duration": 247,
    "start_time": "2022-11-10T17:57:27.884Z"
   },
   {
    "duration": 14,
    "start_time": "2022-11-10T17:57:28.132Z"
   },
   {
    "duration": 14,
    "start_time": "2022-11-10T17:57:28.148Z"
   },
   {
    "duration": 18,
    "start_time": "2022-11-10T17:57:28.164Z"
   },
   {
    "duration": 236,
    "start_time": "2022-11-10T17:57:28.184Z"
   },
   {
    "duration": 12,
    "start_time": "2022-11-10T17:57:28.422Z"
   },
   {
    "duration": 16,
    "start_time": "2022-11-10T17:57:28.446Z"
   },
   {
    "duration": 17,
    "start_time": "2022-11-10T17:57:28.464Z"
   },
   {
    "duration": 306,
    "start_time": "2022-11-10T17:57:28.483Z"
   },
   {
    "duration": 13,
    "start_time": "2022-11-10T17:57:28.791Z"
   },
   {
    "duration": 1453,
    "start_time": "2022-11-11T04:56:30.197Z"
   },
   {
    "duration": 98,
    "start_time": "2022-11-11T04:56:31.653Z"
   },
   {
    "duration": 31,
    "start_time": "2022-11-11T04:56:31.754Z"
   },
   {
    "duration": 937,
    "start_time": "2022-11-11T04:56:31.787Z"
   },
   {
    "duration": 22,
    "start_time": "2022-11-11T04:56:32.727Z"
   },
   {
    "duration": 23,
    "start_time": "2022-11-11T04:56:32.751Z"
   },
   {
    "duration": 28,
    "start_time": "2022-11-11T04:56:32.776Z"
   },
   {
    "duration": 20,
    "start_time": "2022-11-11T04:56:32.806Z"
   },
   {
    "duration": 36,
    "start_time": "2022-11-11T04:56:32.828Z"
   },
   {
    "duration": 20,
    "start_time": "2022-11-11T04:56:32.866Z"
   },
   {
    "duration": 21,
    "start_time": "2022-11-11T04:56:32.888Z"
   },
   {
    "duration": 32,
    "start_time": "2022-11-11T04:56:32.911Z"
   },
   {
    "duration": 33,
    "start_time": "2022-11-11T04:56:32.944Z"
   },
   {
    "duration": 393,
    "start_time": "2022-11-11T04:56:32.980Z"
   },
   {
    "duration": 374,
    "start_time": "2022-11-11T04:56:33.374Z"
   },
   {
    "duration": 6,
    "start_time": "2022-11-11T04:56:33.751Z"
   },
   {
    "duration": 2236,
    "start_time": "2022-11-11T04:56:33.759Z"
   },
   {
    "duration": 704,
    "start_time": "2022-11-11T04:56:35.997Z"
   },
   {
    "duration": 389,
    "start_time": "2022-11-11T04:56:36.703Z"
   },
   {
    "duration": 448,
    "start_time": "2022-11-11T04:56:37.095Z"
   },
   {
    "duration": 11,
    "start_time": "2022-11-11T04:56:37.545Z"
   },
   {
    "duration": 19,
    "start_time": "2022-11-11T04:56:37.558Z"
   },
   {
    "duration": 9,
    "start_time": "2022-11-11T04:56:37.579Z"
   },
   {
    "duration": 3365,
    "start_time": "2022-11-11T04:56:37.590Z"
   },
   {
    "duration": 16,
    "start_time": "2022-11-11T04:56:40.957Z"
   },
   {
    "duration": 750,
    "start_time": "2022-11-11T04:56:40.975Z"
   },
   {
    "duration": 46,
    "start_time": "2022-11-11T04:56:41.727Z"
   },
   {
    "duration": 7,
    "start_time": "2022-11-11T04:56:41.775Z"
   },
   {
    "duration": 8,
    "start_time": "2022-11-11T04:56:41.784Z"
   },
   {
    "duration": 7,
    "start_time": "2022-11-11T04:56:41.795Z"
   },
   {
    "duration": 11,
    "start_time": "2022-11-11T04:56:41.804Z"
   },
   {
    "duration": 290,
    "start_time": "2022-11-11T04:56:41.816Z"
   },
   {
    "duration": 9,
    "start_time": "2022-11-11T04:56:42.108Z"
   },
   {
    "duration": 10,
    "start_time": "2022-11-11T04:56:42.119Z"
   },
   {
    "duration": 26,
    "start_time": "2022-11-11T04:56:42.130Z"
   },
   {
    "duration": 259,
    "start_time": "2022-11-11T04:56:42.158Z"
   },
   {
    "duration": 15,
    "start_time": "2022-11-11T04:56:42.419Z"
   },
   {
    "duration": 24,
    "start_time": "2022-11-11T04:56:42.436Z"
   },
   {
    "duration": 11,
    "start_time": "2022-11-11T04:56:42.461Z"
   },
   {
    "duration": 279,
    "start_time": "2022-11-11T04:56:42.474Z"
   },
   {
    "duration": 11,
    "start_time": "2022-11-11T04:56:42.758Z"
   },
   {
    "duration": 465,
    "start_time": "2022-11-11T05:16:21.123Z"
   },
   {
    "duration": 1437,
    "start_time": "2022-11-11T05:31:48.735Z"
   },
   {
    "duration": 71,
    "start_time": "2022-11-11T05:31:50.174Z"
   },
   {
    "duration": 24,
    "start_time": "2022-11-11T05:31:50.247Z"
   },
   {
    "duration": 20,
    "start_time": "2022-11-11T05:31:50.274Z"
   },
   {
    "duration": 26,
    "start_time": "2022-11-11T05:31:50.296Z"
   },
   {
    "duration": 16,
    "start_time": "2022-11-11T05:31:50.324Z"
   },
   {
    "duration": 18,
    "start_time": "2022-11-11T05:31:50.343Z"
   },
   {
    "duration": 12,
    "start_time": "2022-11-11T05:31:50.364Z"
   },
   {
    "duration": 12,
    "start_time": "2022-11-11T05:31:50.378Z"
   },
   {
    "duration": 9,
    "start_time": "2022-11-11T05:31:50.393Z"
   },
   {
    "duration": 13,
    "start_time": "2022-11-11T05:31:50.404Z"
   },
   {
    "duration": 38,
    "start_time": "2022-11-11T05:31:50.418Z"
   },
   {
    "duration": 21,
    "start_time": "2022-11-11T05:31:50.458Z"
   },
   {
    "duration": 426,
    "start_time": "2022-11-11T05:31:50.481Z"
   },
   {
    "duration": 400,
    "start_time": "2022-11-11T05:31:50.910Z"
   },
   {
    "duration": 6,
    "start_time": "2022-11-11T05:31:51.312Z"
   },
   {
    "duration": 2353,
    "start_time": "2022-11-11T05:31:51.320Z"
   },
   {
    "duration": 687,
    "start_time": "2022-11-11T05:31:53.675Z"
   },
   {
    "duration": 396,
    "start_time": "2022-11-11T05:31:54.364Z"
   },
   {
    "duration": 473,
    "start_time": "2022-11-11T05:31:54.763Z"
   },
   {
    "duration": 500,
    "start_time": "2022-11-11T05:31:55.238Z"
   },
   {
    "duration": 15,
    "start_time": "2022-11-11T05:31:55.740Z"
   },
   {
    "duration": 8,
    "start_time": "2022-11-11T05:31:55.757Z"
   },
   {
    "duration": 9,
    "start_time": "2022-11-11T05:31:55.767Z"
   },
   {
    "duration": 3591,
    "start_time": "2022-11-11T05:31:55.778Z"
   },
   {
    "duration": 18,
    "start_time": "2022-11-11T05:31:59.371Z"
   },
   {
    "duration": 1651,
    "start_time": "2022-11-11T05:31:59.391Z"
   },
   {
    "duration": 39,
    "start_time": "2022-11-11T05:32:01.046Z"
   },
   {
    "duration": 17,
    "start_time": "2022-11-11T05:32:01.086Z"
   },
   {
    "duration": 56,
    "start_time": "2022-11-11T05:32:01.105Z"
   },
   {
    "duration": 79,
    "start_time": "2022-11-11T05:32:01.163Z"
   },
   {
    "duration": 92,
    "start_time": "2022-11-11T05:32:01.245Z"
   },
   {
    "duration": 360,
    "start_time": "2022-11-11T05:32:01.340Z"
   },
   {
    "duration": 10,
    "start_time": "2022-11-11T05:32:01.703Z"
   },
   {
    "duration": 50,
    "start_time": "2022-11-11T05:32:01.715Z"
   },
   {
    "duration": 51,
    "start_time": "2022-11-11T05:32:01.767Z"
   },
   {
    "duration": 268,
    "start_time": "2022-11-11T05:32:01.820Z"
   },
   {
    "duration": 14,
    "start_time": "2022-11-11T05:32:02.090Z"
   },
   {
    "duration": 40,
    "start_time": "2022-11-11T05:32:02.106Z"
   },
   {
    "duration": 39,
    "start_time": "2022-11-11T05:32:02.148Z"
   },
   {
    "duration": 330,
    "start_time": "2022-11-11T05:32:02.189Z"
   },
   {
    "duration": 13,
    "start_time": "2022-11-11T05:32:02.522Z"
   },
   {
    "duration": 76,
    "start_time": "2022-11-11T10:48:23.781Z"
   },
   {
    "duration": 41,
    "start_time": "2022-11-11T10:54:15.273Z"
   },
   {
    "duration": 1316,
    "start_time": "2022-11-11T10:54:19.626Z"
   },
   {
    "duration": 94,
    "start_time": "2022-11-11T10:54:20.945Z"
   },
   {
    "duration": 21,
    "start_time": "2022-11-11T10:54:21.041Z"
   },
   {
    "duration": 15,
    "start_time": "2022-11-11T10:54:21.064Z"
   },
   {
    "duration": 6,
    "start_time": "2022-11-11T10:54:21.081Z"
   },
   {
    "duration": 14,
    "start_time": "2022-11-11T10:54:21.088Z"
   },
   {
    "duration": 13,
    "start_time": "2022-11-11T10:54:21.104Z"
   },
   {
    "duration": 9,
    "start_time": "2022-11-11T10:54:21.119Z"
   },
   {
    "duration": 28,
    "start_time": "2022-11-11T10:54:21.129Z"
   },
   {
    "duration": 5,
    "start_time": "2022-11-11T10:54:21.159Z"
   },
   {
    "duration": 11,
    "start_time": "2022-11-11T10:54:21.165Z"
   },
   {
    "duration": 15,
    "start_time": "2022-11-11T10:54:21.178Z"
   },
   {
    "duration": 17,
    "start_time": "2022-11-11T10:54:21.196Z"
   },
   {
    "duration": 336,
    "start_time": "2022-11-11T10:54:21.216Z"
   },
   {
    "duration": 317,
    "start_time": "2022-11-11T10:54:21.553Z"
   },
   {
    "duration": 6,
    "start_time": "2022-11-11T10:54:21.871Z"
   },
   {
    "duration": 1961,
    "start_time": "2022-11-11T10:54:21.879Z"
   },
   {
    "duration": 593,
    "start_time": "2022-11-11T10:54:23.842Z"
   },
   {
    "duration": 347,
    "start_time": "2022-11-11T10:54:24.436Z"
   },
   {
    "duration": 406,
    "start_time": "2022-11-11T10:54:24.785Z"
   },
   {
    "duration": 370,
    "start_time": "2022-11-11T10:54:25.192Z"
   },
   {
    "duration": 7,
    "start_time": "2022-11-11T10:54:25.563Z"
   },
   {
    "duration": 8,
    "start_time": "2022-11-11T10:54:25.571Z"
   },
   {
    "duration": 10,
    "start_time": "2022-11-11T10:54:25.580Z"
   },
   {
    "duration": 3070,
    "start_time": "2022-11-11T10:54:25.591Z"
   },
   {
    "duration": 14,
    "start_time": "2022-11-11T10:54:28.663Z"
   },
   {
    "duration": 504,
    "start_time": "2022-11-11T10:54:28.679Z"
   },
   {
    "duration": 29,
    "start_time": "2022-11-11T10:54:29.185Z"
   },
   {
    "duration": 7,
    "start_time": "2022-11-11T10:54:29.216Z"
   },
   {
    "duration": 10,
    "start_time": "2022-11-11T10:54:29.224Z"
   },
   {
    "duration": 7,
    "start_time": "2022-11-11T10:54:29.251Z"
   },
   {
    "duration": 9,
    "start_time": "2022-11-11T10:54:29.260Z"
   },
   {
    "duration": 241,
    "start_time": "2022-11-11T10:54:29.271Z"
   },
   {
    "duration": 7,
    "start_time": "2022-11-11T10:54:29.514Z"
   },
   {
    "duration": 11,
    "start_time": "2022-11-11T10:54:29.523Z"
   },
   {
    "duration": 21,
    "start_time": "2022-11-11T10:54:29.535Z"
   },
   {
    "duration": 215,
    "start_time": "2022-11-11T10:54:29.558Z"
   },
   {
    "duration": 9,
    "start_time": "2022-11-11T10:54:29.775Z"
   },
   {
    "duration": 9,
    "start_time": "2022-11-11T10:54:29.785Z"
   },
   {
    "duration": 9,
    "start_time": "2022-11-11T10:54:29.796Z"
   },
   {
    "duration": 264,
    "start_time": "2022-11-11T10:54:29.808Z"
   },
   {
    "duration": 10,
    "start_time": "2022-11-11T10:54:30.074Z"
   },
   {
    "duration": 4,
    "start_time": "2022-11-11T10:56:57.583Z"
   },
   {
    "duration": 19,
    "start_time": "2022-11-11T10:57:13.612Z"
   },
   {
    "duration": 3,
    "start_time": "2022-11-11T10:57:26.023Z"
   },
   {
    "duration": 53,
    "start_time": "2022-11-11T10:57:26.028Z"
   },
   {
    "duration": 15,
    "start_time": "2022-11-11T10:57:26.082Z"
   },
   {
    "duration": 22,
    "start_time": "2022-11-11T10:57:26.099Z"
   },
   {
    "duration": 11,
    "start_time": "2022-11-11T10:57:26.123Z"
   },
   {
    "duration": 18,
    "start_time": "2022-11-11T10:57:26.135Z"
   },
   {
    "duration": 9,
    "start_time": "2022-11-11T10:57:26.155Z"
   },
   {
    "duration": 4,
    "start_time": "2022-11-11T10:57:26.166Z"
   },
   {
    "duration": 11,
    "start_time": "2022-11-11T10:57:26.173Z"
   },
   {
    "duration": 4,
    "start_time": "2022-11-11T10:57:26.186Z"
   },
   {
    "duration": 13,
    "start_time": "2022-11-11T10:57:26.191Z"
   },
   {
    "duration": 52,
    "start_time": "2022-11-11T10:57:26.205Z"
   },
   {
    "duration": 16,
    "start_time": "2022-11-11T10:57:26.259Z"
   },
   {
    "duration": 381,
    "start_time": "2022-11-11T10:57:26.277Z"
   },
   {
    "duration": 364,
    "start_time": "2022-11-11T10:57:26.660Z"
   },
   {
    "duration": 5,
    "start_time": "2022-11-11T10:57:27.026Z"
   },
   {
    "duration": 2245,
    "start_time": "2022-11-11T10:57:27.033Z"
   },
   {
    "duration": 547,
    "start_time": "2022-11-11T10:57:29.279Z"
   },
   {
    "duration": 334,
    "start_time": "2022-11-11T10:57:29.828Z"
   },
   {
    "duration": 500,
    "start_time": "2022-11-11T10:57:30.163Z"
   },
   {
    "duration": 375,
    "start_time": "2022-11-11T10:57:30.664Z"
   },
   {
    "duration": 8,
    "start_time": "2022-11-11T10:57:31.040Z"
   },
   {
    "duration": 27,
    "start_time": "2022-11-11T10:57:31.052Z"
   },
   {
    "duration": 11,
    "start_time": "2022-11-11T10:57:31.082Z"
   },
   {
    "duration": 2911,
    "start_time": "2022-11-11T10:57:31.094Z"
   },
   {
    "duration": 14,
    "start_time": "2022-11-11T10:57:34.007Z"
   },
   {
    "duration": 536,
    "start_time": "2022-11-11T10:57:34.023Z"
   },
   {
    "duration": 31,
    "start_time": "2022-11-11T10:57:34.561Z"
   },
   {
    "duration": 8,
    "start_time": "2022-11-11T10:57:34.593Z"
   },
   {
    "duration": 11,
    "start_time": "2022-11-11T10:57:34.603Z"
   },
   {
    "duration": 8,
    "start_time": "2022-11-11T10:57:34.616Z"
   },
   {
    "duration": 10,
    "start_time": "2022-11-11T10:57:34.653Z"
   },
   {
    "duration": 237,
    "start_time": "2022-11-11T10:57:34.664Z"
   },
   {
    "duration": 9,
    "start_time": "2022-11-11T10:57:34.903Z"
   },
   {
    "duration": 15,
    "start_time": "2022-11-11T10:57:34.913Z"
   },
   {
    "duration": 22,
    "start_time": "2022-11-11T10:57:34.930Z"
   },
   {
    "duration": 218,
    "start_time": "2022-11-11T10:57:34.954Z"
   },
   {
    "duration": 10,
    "start_time": "2022-11-11T10:57:35.174Z"
   },
   {
    "duration": 16,
    "start_time": "2022-11-11T10:57:35.186Z"
   },
   {
    "duration": 9,
    "start_time": "2022-11-11T10:57:35.203Z"
   },
   {
    "duration": 247,
    "start_time": "2022-11-11T10:57:35.214Z"
   },
   {
    "duration": 10,
    "start_time": "2022-11-11T10:57:35.463Z"
   },
   {
    "duration": 530,
    "start_time": "2022-11-11T11:01:30.447Z"
   },
   {
    "duration": 81,
    "start_time": "2022-11-11T11:04:45.165Z"
   },
   {
    "duration": 394,
    "start_time": "2022-11-11T11:05:47.299Z"
   },
   {
    "duration": 211,
    "start_time": "2022-11-11T11:06:54.053Z"
   },
   {
    "duration": 86,
    "start_time": "2022-11-11T11:07:39.432Z"
   },
   {
    "duration": 3,
    "start_time": "2022-11-11T11:15:13.183Z"
   },
   {
    "duration": 47,
    "start_time": "2022-11-11T11:15:13.187Z"
   },
   {
    "duration": 14,
    "start_time": "2022-11-11T11:15:13.236Z"
   },
   {
    "duration": 21,
    "start_time": "2022-11-11T11:15:13.251Z"
   },
   {
    "duration": 5,
    "start_time": "2022-11-11T11:15:13.273Z"
   },
   {
    "duration": 10,
    "start_time": "2022-11-11T11:15:13.279Z"
   },
   {
    "duration": 10,
    "start_time": "2022-11-11T11:15:13.290Z"
   },
   {
    "duration": 6,
    "start_time": "2022-11-11T11:15:13.301Z"
   },
   {
    "duration": 10,
    "start_time": "2022-11-11T11:15:13.309Z"
   },
   {
    "duration": 4,
    "start_time": "2022-11-11T11:15:13.320Z"
   },
   {
    "duration": 25,
    "start_time": "2022-11-11T11:15:13.326Z"
   },
   {
    "duration": 13,
    "start_time": "2022-11-11T11:15:13.352Z"
   },
   {
    "duration": 16,
    "start_time": "2022-11-11T11:15:13.367Z"
   },
   {
    "duration": 379,
    "start_time": "2022-11-11T11:15:13.384Z"
   },
   {
    "duration": 355,
    "start_time": "2022-11-11T11:15:13.764Z"
   },
   {
    "duration": 5,
    "start_time": "2022-11-11T11:15:14.120Z"
   },
   {
    "duration": 2219,
    "start_time": "2022-11-11T11:15:14.127Z"
   },
   {
    "duration": 201,
    "start_time": "2022-11-11T11:15:16.351Z"
   },
   {
    "duration": 267,
    "start_time": "2022-11-11T11:15:16.554Z"
   },
   {
    "duration": 311,
    "start_time": "2022-11-11T11:15:16.823Z"
   },
   {
    "duration": 384,
    "start_time": "2022-11-11T11:15:17.136Z"
   },
   {
    "duration": 8,
    "start_time": "2022-11-11T11:15:17.521Z"
   },
   {
    "duration": 11,
    "start_time": "2022-11-11T11:15:17.530Z"
   },
   {
    "duration": 21,
    "start_time": "2022-11-11T11:15:17.543Z"
   },
   {
    "duration": 3258,
    "start_time": "2022-11-11T11:15:17.566Z"
   },
   {
    "duration": 14,
    "start_time": "2022-11-11T11:15:20.826Z"
   },
   {
    "duration": 577,
    "start_time": "2022-11-11T11:15:20.852Z"
   },
   {
    "duration": 37,
    "start_time": "2022-11-11T11:15:21.431Z"
   },
   {
    "duration": 13,
    "start_time": "2022-11-11T11:15:21.470Z"
   },
   {
    "duration": 33,
    "start_time": "2022-11-11T11:15:21.485Z"
   },
   {
    "duration": 33,
    "start_time": "2022-11-11T11:15:21.520Z"
   },
   {
    "duration": 46,
    "start_time": "2022-11-11T11:15:21.555Z"
   },
   {
    "duration": 230,
    "start_time": "2022-11-11T11:15:21.603Z"
   },
   {
    "duration": 18,
    "start_time": "2022-11-11T11:15:21.836Z"
   },
   {
    "duration": 47,
    "start_time": "2022-11-11T11:15:21.855Z"
   },
   {
    "duration": 54,
    "start_time": "2022-11-11T11:15:21.904Z"
   },
   {
    "duration": 258,
    "start_time": "2022-11-11T11:15:21.959Z"
   },
   {
    "duration": 10,
    "start_time": "2022-11-11T11:15:22.220Z"
   },
   {
    "duration": 62,
    "start_time": "2022-11-11T11:15:22.232Z"
   },
   {
    "duration": 56,
    "start_time": "2022-11-11T11:15:22.296Z"
   },
   {
    "duration": 306,
    "start_time": "2022-11-11T11:15:22.353Z"
   },
   {
    "duration": 9,
    "start_time": "2022-11-11T11:15:22.660Z"
   },
   {
    "duration": 10,
    "start_time": "2022-11-11T11:16:20.633Z"
   },
   {
    "duration": 10,
    "start_time": "2022-11-11T11:23:10.308Z"
   },
   {
    "duration": 64,
    "start_time": "2022-11-11T11:23:57.885Z"
   },
   {
    "duration": 3,
    "start_time": "2022-11-11T11:24:28.406Z"
   },
   {
    "duration": 47,
    "start_time": "2022-11-11T11:24:28.411Z"
   },
   {
    "duration": 14,
    "start_time": "2022-11-11T11:24:28.461Z"
   },
   {
    "duration": 18,
    "start_time": "2022-11-11T11:24:28.477Z"
   },
   {
    "duration": 5,
    "start_time": "2022-11-11T11:24:28.497Z"
   },
   {
    "duration": 10,
    "start_time": "2022-11-11T11:24:28.504Z"
   },
   {
    "duration": 7,
    "start_time": "2022-11-11T11:24:28.516Z"
   },
   {
    "duration": 4,
    "start_time": "2022-11-11T11:24:28.553Z"
   },
   {
    "duration": 19,
    "start_time": "2022-11-11T11:24:28.558Z"
   },
   {
    "duration": 13,
    "start_time": "2022-11-11T11:24:28.578Z"
   },
   {
    "duration": 19,
    "start_time": "2022-11-11T11:24:28.593Z"
   },
   {
    "duration": 17,
    "start_time": "2022-11-11T11:24:28.614Z"
   },
   {
    "duration": 16,
    "start_time": "2022-11-11T11:24:28.633Z"
   },
   {
    "duration": 380,
    "start_time": "2022-11-11T11:24:28.651Z"
   },
   {
    "duration": 379,
    "start_time": "2022-11-11T11:24:29.033Z"
   },
   {
    "duration": 6,
    "start_time": "2022-11-11T11:24:29.413Z"
   },
   {
    "duration": 2393,
    "start_time": "2022-11-11T11:24:29.420Z"
   },
   {
    "duration": 208,
    "start_time": "2022-11-11T11:24:31.814Z"
   },
   {
    "duration": 274,
    "start_time": "2022-11-11T11:24:32.023Z"
   },
   {
    "duration": 372,
    "start_time": "2022-11-11T11:24:32.299Z"
   },
   {
    "duration": 389,
    "start_time": "2022-11-11T11:24:32.673Z"
   },
   {
    "duration": 7,
    "start_time": "2022-11-11T11:24:33.064Z"
   },
   {
    "duration": 12,
    "start_time": "2022-11-11T11:24:33.072Z"
   },
   {
    "duration": 13,
    "start_time": "2022-11-11T11:24:33.085Z"
   },
   {
    "duration": 2794,
    "start_time": "2022-11-11T11:24:33.100Z"
   },
   {
    "duration": 15,
    "start_time": "2022-11-11T11:24:35.895Z"
   },
   {
    "duration": 532,
    "start_time": "2022-11-11T11:24:35.911Z"
   },
   {
    "duration": 33,
    "start_time": "2022-11-11T11:24:36.445Z"
   },
   {
    "duration": 6,
    "start_time": "2022-11-11T11:24:36.481Z"
   },
   {
    "duration": 9,
    "start_time": "2022-11-11T11:24:36.488Z"
   },
   {
    "duration": 7,
    "start_time": "2022-11-11T11:24:36.498Z"
   },
   {
    "duration": 11,
    "start_time": "2022-11-11T11:24:36.506Z"
   },
   {
    "duration": 237,
    "start_time": "2022-11-11T11:24:36.518Z"
   },
   {
    "duration": 6,
    "start_time": "2022-11-11T11:24:36.757Z"
   },
   {
    "duration": 9,
    "start_time": "2022-11-11T11:24:36.765Z"
   },
   {
    "duration": 34,
    "start_time": "2022-11-11T11:24:36.776Z"
   },
   {
    "duration": 206,
    "start_time": "2022-11-11T11:24:36.812Z"
   },
   {
    "duration": 8,
    "start_time": "2022-11-11T11:24:37.020Z"
   },
   {
    "duration": 14,
    "start_time": "2022-11-11T11:24:37.029Z"
   },
   {
    "duration": 10,
    "start_time": "2022-11-11T11:24:37.052Z"
   },
   {
    "duration": 423,
    "start_time": "2022-11-11T11:24:37.064Z"
   },
   {
    "duration": 9,
    "start_time": "2022-11-11T11:24:37.489Z"
   },
   {
    "duration": 16,
    "start_time": "2022-11-11T11:24:37.500Z"
   },
   {
    "duration": 20,
    "start_time": "2022-11-11T11:24:37.517Z"
   },
   {
    "duration": 1322,
    "start_time": "2022-11-11T13:49:49.619Z"
   },
   {
    "duration": 62,
    "start_time": "2022-11-11T13:49:50.943Z"
   },
   {
    "duration": 21,
    "start_time": "2022-11-11T13:49:51.007Z"
   },
   {
    "duration": 34,
    "start_time": "2022-11-11T13:49:51.030Z"
   },
   {
    "duration": 41,
    "start_time": "2022-11-11T13:49:51.066Z"
   },
   {
    "duration": 37,
    "start_time": "2022-11-11T13:49:51.109Z"
   },
   {
    "duration": 43,
    "start_time": "2022-11-11T13:49:51.147Z"
   },
   {
    "duration": 55,
    "start_time": "2022-11-11T13:49:51.194Z"
   },
   {
    "duration": 33,
    "start_time": "2022-11-11T13:49:51.250Z"
   },
   {
    "duration": 40,
    "start_time": "2022-11-11T13:49:51.286Z"
   },
   {
    "duration": 41,
    "start_time": "2022-11-11T13:49:51.328Z"
   },
   {
    "duration": 62,
    "start_time": "2022-11-11T13:49:51.371Z"
   },
   {
    "duration": 60,
    "start_time": "2022-11-11T13:49:51.435Z"
   },
   {
    "duration": 431,
    "start_time": "2022-11-11T13:49:51.497Z"
   },
   {
    "duration": 363,
    "start_time": "2022-11-11T13:49:51.929Z"
   },
   {
    "duration": 11,
    "start_time": "2022-11-11T13:49:52.293Z"
   },
   {
    "duration": 2418,
    "start_time": "2022-11-11T13:49:52.306Z"
   },
   {
    "duration": 235,
    "start_time": "2022-11-11T13:49:54.727Z"
   },
   {
    "duration": 324,
    "start_time": "2022-11-11T13:49:54.964Z"
   },
   {
    "duration": 425,
    "start_time": "2022-11-11T13:49:55.291Z"
   },
   {
    "duration": 649,
    "start_time": "2022-11-11T13:49:55.718Z"
   },
   {
    "duration": 13,
    "start_time": "2022-11-11T13:49:56.368Z"
   },
   {
    "duration": 48,
    "start_time": "2022-11-11T13:49:56.383Z"
   },
   {
    "duration": 89,
    "start_time": "2022-11-11T13:49:56.433Z"
   },
   {
    "duration": 3404,
    "start_time": "2022-11-11T13:49:56.524Z"
   },
   {
    "duration": 14,
    "start_time": "2022-11-11T13:49:59.930Z"
   },
   {
    "duration": 612,
    "start_time": "2022-11-11T13:49:59.946Z"
   },
   {
    "duration": 45,
    "start_time": "2022-11-11T13:50:00.563Z"
   },
   {
    "duration": 41,
    "start_time": "2022-11-11T13:50:00.609Z"
   },
   {
    "duration": 46,
    "start_time": "2022-11-11T13:50:00.651Z"
   },
   {
    "duration": 42,
    "start_time": "2022-11-11T13:50:00.700Z"
   },
   {
    "duration": 53,
    "start_time": "2022-11-11T13:50:00.743Z"
   },
   {
    "duration": 315,
    "start_time": "2022-11-11T13:50:00.798Z"
   },
   {
    "duration": 8,
    "start_time": "2022-11-11T13:50:01.115Z"
   },
   {
    "duration": 58,
    "start_time": "2022-11-11T13:50:01.125Z"
   },
   {
    "duration": 87,
    "start_time": "2022-11-11T13:50:01.184Z"
   },
   {
    "duration": 290,
    "start_time": "2022-11-11T13:50:01.273Z"
   },
   {
    "duration": 30,
    "start_time": "2022-11-11T13:50:01.565Z"
   },
   {
    "duration": 63,
    "start_time": "2022-11-11T13:50:01.596Z"
   },
   {
    "duration": 70,
    "start_time": "2022-11-11T13:50:01.661Z"
   },
   {
    "duration": 304,
    "start_time": "2022-11-11T13:50:01.732Z"
   },
   {
    "duration": 9,
    "start_time": "2022-11-11T13:50:02.038Z"
   },
   {
    "duration": 73,
    "start_time": "2022-11-11T13:50:02.050Z"
   },
   {
    "duration": 9,
    "start_time": "2022-11-11T13:54:56.697Z"
   },
   {
    "duration": 46,
    "start_time": "2022-11-12T03:18:08.091Z"
   },
   {
    "duration": 1287,
    "start_time": "2022-11-12T03:18:12.140Z"
   },
   {
    "duration": 204,
    "start_time": "2022-11-12T03:18:13.429Z"
   },
   {
    "duration": 19,
    "start_time": "2022-11-12T03:18:13.635Z"
   },
   {
    "duration": 13,
    "start_time": "2022-11-12T03:18:13.656Z"
   },
   {
    "duration": 5,
    "start_time": "2022-11-12T03:18:13.670Z"
   },
   {
    "duration": 14,
    "start_time": "2022-11-12T03:18:13.677Z"
   },
   {
    "duration": 10,
    "start_time": "2022-11-12T03:18:13.692Z"
   },
   {
    "duration": 5,
    "start_time": "2022-11-12T03:18:13.704Z"
   },
   {
    "duration": 12,
    "start_time": "2022-11-12T03:18:13.710Z"
   },
   {
    "duration": 27,
    "start_time": "2022-11-12T03:18:13.724Z"
   },
   {
    "duration": 9,
    "start_time": "2022-11-12T03:18:13.752Z"
   },
   {
    "duration": 24,
    "start_time": "2022-11-12T03:18:13.763Z"
   },
   {
    "duration": 15,
    "start_time": "2022-11-12T03:18:13.788Z"
   },
   {
    "duration": 314,
    "start_time": "2022-11-12T03:18:13.805Z"
   },
   {
    "duration": 304,
    "start_time": "2022-11-12T03:18:14.121Z"
   },
   {
    "duration": 5,
    "start_time": "2022-11-12T03:18:14.426Z"
   },
   {
    "duration": 1872,
    "start_time": "2022-11-12T03:18:14.432Z"
   },
   {
    "duration": 197,
    "start_time": "2022-11-12T03:18:16.306Z"
   },
   {
    "duration": 255,
    "start_time": "2022-11-12T03:18:16.505Z"
   },
   {
    "duration": 317,
    "start_time": "2022-11-12T03:18:16.762Z"
   },
   {
    "duration": 211,
    "start_time": "2022-11-12T03:18:17.080Z"
   },
   {
    "duration": 0,
    "start_time": "2022-11-12T03:18:17.293Z"
   },
   {
    "duration": 0,
    "start_time": "2022-11-12T03:18:17.294Z"
   },
   {
    "duration": 0,
    "start_time": "2022-11-12T03:18:17.295Z"
   },
   {
    "duration": 0,
    "start_time": "2022-11-12T03:18:17.296Z"
   },
   {
    "duration": 0,
    "start_time": "2022-11-12T03:18:17.297Z"
   },
   {
    "duration": 0,
    "start_time": "2022-11-12T03:18:17.298Z"
   },
   {
    "duration": 0,
    "start_time": "2022-11-12T03:18:17.299Z"
   },
   {
    "duration": 0,
    "start_time": "2022-11-12T03:18:17.300Z"
   },
   {
    "duration": 0,
    "start_time": "2022-11-12T03:18:17.302Z"
   },
   {
    "duration": 0,
    "start_time": "2022-11-12T03:18:17.303Z"
   },
   {
    "duration": 0,
    "start_time": "2022-11-12T03:18:17.304Z"
   },
   {
    "duration": 0,
    "start_time": "2022-11-12T03:18:17.304Z"
   },
   {
    "duration": 0,
    "start_time": "2022-11-12T03:18:17.305Z"
   },
   {
    "duration": 0,
    "start_time": "2022-11-12T03:18:17.306Z"
   },
   {
    "duration": 0,
    "start_time": "2022-11-12T03:18:17.307Z"
   },
   {
    "duration": 0,
    "start_time": "2022-11-12T03:18:17.308Z"
   },
   {
    "duration": 0,
    "start_time": "2022-11-12T03:18:17.310Z"
   },
   {
    "duration": 0,
    "start_time": "2022-11-12T03:18:17.311Z"
   },
   {
    "duration": 0,
    "start_time": "2022-11-12T03:18:17.312Z"
   },
   {
    "duration": 0,
    "start_time": "2022-11-12T03:18:17.347Z"
   },
   {
    "duration": 0,
    "start_time": "2022-11-12T03:18:17.348Z"
   },
   {
    "duration": 0,
    "start_time": "2022-11-12T03:18:17.350Z"
   },
   {
    "duration": 9,
    "start_time": "2022-11-12T03:58:38.184Z"
   },
   {
    "duration": 1079,
    "start_time": "2022-11-12T03:58:48.367Z"
   },
   {
    "duration": 52,
    "start_time": "2022-11-12T03:58:49.448Z"
   },
   {
    "duration": 19,
    "start_time": "2022-11-12T03:58:49.501Z"
   },
   {
    "duration": 12,
    "start_time": "2022-11-12T03:58:49.522Z"
   },
   {
    "duration": 4,
    "start_time": "2022-11-12T03:58:49.536Z"
   },
   {
    "duration": 10,
    "start_time": "2022-11-12T03:58:49.542Z"
   },
   {
    "duration": 9,
    "start_time": "2022-11-12T03:58:49.554Z"
   },
   {
    "duration": 6,
    "start_time": "2022-11-12T03:58:49.565Z"
   },
   {
    "duration": 13,
    "start_time": "2022-11-12T03:58:49.572Z"
   },
   {
    "duration": 4,
    "start_time": "2022-11-12T03:58:49.588Z"
   },
   {
    "duration": 8,
    "start_time": "2022-11-12T03:58:49.594Z"
   },
   {
    "duration": 11,
    "start_time": "2022-11-12T03:58:49.603Z"
   },
   {
    "duration": 38,
    "start_time": "2022-11-12T03:58:49.616Z"
   },
   {
    "duration": 16,
    "start_time": "2022-11-12T03:58:49.656Z"
   },
   {
    "duration": 334,
    "start_time": "2022-11-12T03:58:49.674Z"
   },
   {
    "duration": 324,
    "start_time": "2022-11-12T03:58:50.009Z"
   },
   {
    "duration": 5,
    "start_time": "2022-11-12T03:58:50.335Z"
   },
   {
    "duration": 1805,
    "start_time": "2022-11-12T03:58:50.347Z"
   },
   {
    "duration": 199,
    "start_time": "2022-11-12T03:58:52.153Z"
   },
   {
    "duration": 262,
    "start_time": "2022-11-12T03:58:52.354Z"
   },
   {
    "duration": 293,
    "start_time": "2022-11-12T03:58:52.617Z"
   },
   {
    "duration": 247,
    "start_time": "2022-11-12T03:58:52.912Z"
   },
   {
    "duration": 0,
    "start_time": "2022-11-12T03:58:53.161Z"
   },
   {
    "duration": 0,
    "start_time": "2022-11-12T03:58:53.163Z"
   },
   {
    "duration": 0,
    "start_time": "2022-11-12T03:58:53.163Z"
   },
   {
    "duration": 0,
    "start_time": "2022-11-12T03:58:53.164Z"
   },
   {
    "duration": 0,
    "start_time": "2022-11-12T03:58:53.166Z"
   },
   {
    "duration": 0,
    "start_time": "2022-11-12T03:58:53.167Z"
   },
   {
    "duration": 0,
    "start_time": "2022-11-12T03:58:53.168Z"
   },
   {
    "duration": 0,
    "start_time": "2022-11-12T03:58:53.169Z"
   },
   {
    "duration": 0,
    "start_time": "2022-11-12T03:58:53.170Z"
   },
   {
    "duration": 0,
    "start_time": "2022-11-12T03:58:53.171Z"
   },
   {
    "duration": 0,
    "start_time": "2022-11-12T03:58:53.171Z"
   },
   {
    "duration": 0,
    "start_time": "2022-11-12T03:58:53.172Z"
   },
   {
    "duration": 0,
    "start_time": "2022-11-12T03:58:53.173Z"
   },
   {
    "duration": 0,
    "start_time": "2022-11-12T03:58:53.174Z"
   },
   {
    "duration": 0,
    "start_time": "2022-11-12T03:58:53.175Z"
   },
   {
    "duration": 0,
    "start_time": "2022-11-12T03:58:53.176Z"
   },
   {
    "duration": 0,
    "start_time": "2022-11-12T03:58:53.177Z"
   },
   {
    "duration": 0,
    "start_time": "2022-11-12T03:58:53.178Z"
   },
   {
    "duration": 0,
    "start_time": "2022-11-12T03:58:53.179Z"
   },
   {
    "duration": 0,
    "start_time": "2022-11-12T03:58:53.180Z"
   },
   {
    "duration": 0,
    "start_time": "2022-11-12T03:58:53.181Z"
   },
   {
    "duration": 0,
    "start_time": "2022-11-12T03:58:53.182Z"
   },
   {
    "duration": 15,
    "start_time": "2022-11-12T04:03:12.671Z"
   },
   {
    "duration": 4,
    "start_time": "2022-11-12T04:05:19.738Z"
   },
   {
    "duration": 55,
    "start_time": "2022-11-12T04:05:19.743Z"
   },
   {
    "duration": 15,
    "start_time": "2022-11-12T04:05:19.799Z"
   },
   {
    "duration": 14,
    "start_time": "2022-11-12T04:05:19.816Z"
   },
   {
    "duration": 5,
    "start_time": "2022-11-12T04:05:19.832Z"
   },
   {
    "duration": 16,
    "start_time": "2022-11-12T04:05:19.838Z"
   },
   {
    "duration": 10,
    "start_time": "2022-11-12T04:05:19.856Z"
   },
   {
    "duration": 7,
    "start_time": "2022-11-12T04:05:19.867Z"
   },
   {
    "duration": 11,
    "start_time": "2022-11-12T04:05:19.876Z"
   },
   {
    "duration": 4,
    "start_time": "2022-11-12T04:05:19.888Z"
   },
   {
    "duration": 7,
    "start_time": "2022-11-12T04:05:19.893Z"
   },
   {
    "duration": 13,
    "start_time": "2022-11-12T04:05:19.901Z"
   },
   {
    "duration": 11,
    "start_time": "2022-11-12T04:05:19.915Z"
   },
   {
    "duration": 18,
    "start_time": "2022-11-12T04:05:19.947Z"
   },
   {
    "duration": 385,
    "start_time": "2022-11-12T04:05:19.966Z"
   },
   {
    "duration": 463,
    "start_time": "2022-11-12T04:05:20.353Z"
   },
   {
    "duration": 5,
    "start_time": "2022-11-12T04:05:20.818Z"
   },
   {
    "duration": 2041,
    "start_time": "2022-11-12T04:05:20.825Z"
   },
   {
    "duration": 201,
    "start_time": "2022-11-12T04:05:22.868Z"
   },
   {
    "duration": 272,
    "start_time": "2022-11-12T04:05:23.071Z"
   },
   {
    "duration": 408,
    "start_time": "2022-11-12T04:05:23.345Z"
   },
   {
    "duration": 323,
    "start_time": "2022-11-12T04:05:23.754Z"
   },
   {
    "duration": 8,
    "start_time": "2022-11-12T04:05:24.079Z"
   },
   {
    "duration": 13,
    "start_time": "2022-11-12T04:05:24.090Z"
   },
   {
    "duration": 23,
    "start_time": "2022-11-12T04:05:24.105Z"
   },
   {
    "duration": 2809,
    "start_time": "2022-11-12T04:05:24.130Z"
   },
   {
    "duration": 13,
    "start_time": "2022-11-12T04:05:26.941Z"
   },
   {
    "duration": 483,
    "start_time": "2022-11-12T04:05:26.955Z"
   },
   {
    "duration": 34,
    "start_time": "2022-11-12T04:05:27.440Z"
   },
   {
    "duration": 5,
    "start_time": "2022-11-12T04:05:27.476Z"
   },
   {
    "duration": 8,
    "start_time": "2022-11-12T04:05:27.483Z"
   },
   {
    "duration": 5,
    "start_time": "2022-11-12T04:05:27.493Z"
   },
   {
    "duration": 9,
    "start_time": "2022-11-12T04:05:27.500Z"
   },
   {
    "duration": 232,
    "start_time": "2022-11-12T04:05:27.510Z"
   },
   {
    "duration": 9,
    "start_time": "2022-11-12T04:05:27.743Z"
   },
   {
    "duration": 14,
    "start_time": "2022-11-12T04:05:27.753Z"
   },
   {
    "duration": 9,
    "start_time": "2022-11-12T04:05:27.768Z"
   },
   {
    "duration": 312,
    "start_time": "2022-11-12T04:05:27.779Z"
   },
   {
    "duration": 8,
    "start_time": "2022-11-12T04:05:28.093Z"
   },
   {
    "duration": 10,
    "start_time": "2022-11-12T04:05:28.102Z"
   },
   {
    "duration": 9,
    "start_time": "2022-11-12T04:05:28.114Z"
   },
   {
    "duration": 253,
    "start_time": "2022-11-12T04:05:28.124Z"
   },
   {
    "duration": 9,
    "start_time": "2022-11-12T04:05:28.379Z"
   },
   {
    "duration": 10,
    "start_time": "2022-11-12T04:05:28.389Z"
   },
   {
    "duration": 11,
    "start_time": "2022-11-12T04:14:31.594Z"
   },
   {
    "duration": 3,
    "start_time": "2022-11-12T04:14:37.695Z"
   },
   {
    "duration": 53,
    "start_time": "2022-11-12T04:14:37.700Z"
   },
   {
    "duration": 15,
    "start_time": "2022-11-12T04:14:37.754Z"
   },
   {
    "duration": 14,
    "start_time": "2022-11-12T04:14:37.770Z"
   },
   {
    "duration": 5,
    "start_time": "2022-11-12T04:14:37.785Z"
   },
   {
    "duration": 11,
    "start_time": "2022-11-12T04:14:37.792Z"
   },
   {
    "duration": 7,
    "start_time": "2022-11-12T04:14:37.805Z"
   },
   {
    "duration": 35,
    "start_time": "2022-11-12T04:14:37.814Z"
   },
   {
    "duration": 10,
    "start_time": "2022-11-12T04:14:37.851Z"
   },
   {
    "duration": 4,
    "start_time": "2022-11-12T04:14:37.863Z"
   },
   {
    "duration": 9,
    "start_time": "2022-11-12T04:14:37.868Z"
   },
   {
    "duration": 10,
    "start_time": "2022-11-12T04:14:37.878Z"
   },
   {
    "duration": 9,
    "start_time": "2022-11-12T04:14:37.890Z"
   },
   {
    "duration": 15,
    "start_time": "2022-11-12T04:14:37.900Z"
   },
   {
    "duration": 370,
    "start_time": "2022-11-12T04:14:37.917Z"
   },
   {
    "duration": 348,
    "start_time": "2022-11-12T04:14:38.288Z"
   },
   {
    "duration": 10,
    "start_time": "2022-11-12T04:14:38.638Z"
   },
   {
    "duration": 2129,
    "start_time": "2022-11-12T04:14:38.650Z"
   },
   {
    "duration": 204,
    "start_time": "2022-11-12T04:14:40.781Z"
   },
   {
    "duration": 274,
    "start_time": "2022-11-12T04:14:40.986Z"
   },
   {
    "duration": 306,
    "start_time": "2022-11-12T04:14:41.262Z"
   },
   {
    "duration": 360,
    "start_time": "2022-11-12T04:14:41.570Z"
   },
   {
    "duration": 7,
    "start_time": "2022-11-12T04:14:41.931Z"
   },
   {
    "duration": 6,
    "start_time": "2022-11-12T04:14:41.947Z"
   },
   {
    "duration": 9,
    "start_time": "2022-11-12T04:14:41.954Z"
   },
   {
    "duration": 2763,
    "start_time": "2022-11-12T04:14:41.964Z"
   },
   {
    "duration": 20,
    "start_time": "2022-11-12T04:14:44.729Z"
   },
   {
    "duration": 683,
    "start_time": "2022-11-12T04:14:44.750Z"
   },
   {
    "duration": 34,
    "start_time": "2022-11-12T04:14:45.434Z"
   },
   {
    "duration": 6,
    "start_time": "2022-11-12T04:14:45.470Z"
   },
   {
    "duration": 10,
    "start_time": "2022-11-12T04:14:45.477Z"
   },
   {
    "duration": 6,
    "start_time": "2022-11-12T04:14:45.488Z"
   },
   {
    "duration": 10,
    "start_time": "2022-11-12T04:14:45.496Z"
   },
   {
    "duration": 257,
    "start_time": "2022-11-12T04:14:45.508Z"
   },
   {
    "duration": 8,
    "start_time": "2022-11-12T04:14:45.767Z"
   },
   {
    "duration": 11,
    "start_time": "2022-11-12T04:14:45.776Z"
   },
   {
    "duration": 16,
    "start_time": "2022-11-12T04:14:45.789Z"
   },
   {
    "duration": 218,
    "start_time": "2022-11-12T04:14:45.807Z"
   },
   {
    "duration": 8,
    "start_time": "2022-11-12T04:14:46.027Z"
   },
   {
    "duration": 20,
    "start_time": "2022-11-12T04:14:46.036Z"
   },
   {
    "duration": 34,
    "start_time": "2022-11-12T04:14:46.058Z"
   },
   {
    "duration": 241,
    "start_time": "2022-11-12T04:14:46.094Z"
   },
   {
    "duration": 12,
    "start_time": "2022-11-12T04:14:46.337Z"
   },
   {
    "duration": 10,
    "start_time": "2022-11-12T04:14:46.350Z"
   },
   {
    "duration": 349,
    "start_time": "2022-11-12T04:17:40.663Z"
   },
   {
    "duration": 10,
    "start_time": "2022-11-12T04:34:43.845Z"
   },
   {
    "duration": 9,
    "start_time": "2022-11-12T04:38:49.317Z"
   },
   {
    "duration": 11,
    "start_time": "2022-11-12T04:39:43.886Z"
   },
   {
    "duration": 8,
    "start_time": "2022-11-12T04:39:52.447Z"
   },
   {
    "duration": 9,
    "start_time": "2022-11-12T04:40:10.044Z"
   },
   {
    "duration": 10,
    "start_time": "2022-11-12T04:40:34.796Z"
   },
   {
    "duration": 8,
    "start_time": "2022-11-12T04:40:53.884Z"
   },
   {
    "duration": 11,
    "start_time": "2022-11-12T04:41:17.011Z"
   },
   {
    "duration": 42,
    "start_time": "2022-11-12T04:59:26.004Z"
   },
   {
    "duration": 3,
    "start_time": "2022-11-12T04:59:41.626Z"
   },
   {
    "duration": 51,
    "start_time": "2022-11-12T04:59:41.631Z"
   },
   {
    "duration": 15,
    "start_time": "2022-11-12T04:59:41.684Z"
   },
   {
    "duration": 17,
    "start_time": "2022-11-12T04:59:41.700Z"
   },
   {
    "duration": 5,
    "start_time": "2022-11-12T04:59:41.719Z"
   },
   {
    "duration": 24,
    "start_time": "2022-11-12T04:59:41.725Z"
   },
   {
    "duration": 7,
    "start_time": "2022-11-12T04:59:41.750Z"
   },
   {
    "duration": 4,
    "start_time": "2022-11-12T04:59:41.759Z"
   },
   {
    "duration": 9,
    "start_time": "2022-11-12T04:59:41.764Z"
   },
   {
    "duration": 12,
    "start_time": "2022-11-12T04:59:41.775Z"
   },
   {
    "duration": 6,
    "start_time": "2022-11-12T04:59:41.789Z"
   },
   {
    "duration": 15,
    "start_time": "2022-11-12T04:59:41.796Z"
   },
   {
    "duration": 11,
    "start_time": "2022-11-12T04:59:41.812Z"
   },
   {
    "duration": 16,
    "start_time": "2022-11-12T04:59:41.847Z"
   },
   {
    "duration": 362,
    "start_time": "2022-11-12T04:59:41.864Z"
   },
   {
    "duration": 343,
    "start_time": "2022-11-12T04:59:42.228Z"
   },
   {
    "duration": 5,
    "start_time": "2022-11-12T04:59:42.572Z"
   },
   {
    "duration": 2142,
    "start_time": "2022-11-12T04:59:42.579Z"
   },
   {
    "duration": 193,
    "start_time": "2022-11-12T04:59:44.722Z"
   },
   {
    "duration": 277,
    "start_time": "2022-11-12T04:59:44.916Z"
   },
   {
    "duration": 354,
    "start_time": "2022-11-12T04:59:45.196Z"
   },
   {
    "duration": 355,
    "start_time": "2022-11-12T04:59:45.552Z"
   },
   {
    "duration": 6,
    "start_time": "2022-11-12T04:59:45.908Z"
   },
   {
    "duration": 18,
    "start_time": "2022-11-12T04:59:45.915Z"
   },
   {
    "duration": 21,
    "start_time": "2022-11-12T04:59:45.934Z"
   },
   {
    "duration": 2656,
    "start_time": "2022-11-12T04:59:45.957Z"
   },
   {
    "duration": 13,
    "start_time": "2022-11-12T04:59:48.614Z"
   },
   {
    "duration": 669,
    "start_time": "2022-11-12T04:59:48.628Z"
   },
   {
    "duration": 32,
    "start_time": "2022-11-12T04:59:49.300Z"
   },
   {
    "duration": 16,
    "start_time": "2022-11-12T04:59:49.334Z"
   },
   {
    "duration": 34,
    "start_time": "2022-11-12T04:59:49.352Z"
   },
   {
    "duration": 11,
    "start_time": "2022-11-12T04:59:49.387Z"
   },
   {
    "duration": 13,
    "start_time": "2022-11-12T04:59:49.400Z"
   },
   {
    "duration": 201,
    "start_time": "2022-11-12T04:59:49.415Z"
   },
   {
    "duration": 6,
    "start_time": "2022-11-12T04:59:49.618Z"
   },
   {
    "duration": 14,
    "start_time": "2022-11-12T04:59:49.625Z"
   },
   {
    "duration": 13,
    "start_time": "2022-11-12T04:59:49.641Z"
   },
   {
    "duration": 213,
    "start_time": "2022-11-12T04:59:49.655Z"
   },
   {
    "duration": 8,
    "start_time": "2022-11-12T04:59:49.870Z"
   },
   {
    "duration": 12,
    "start_time": "2022-11-12T04:59:49.879Z"
   },
   {
    "duration": 10,
    "start_time": "2022-11-12T04:59:49.893Z"
   },
   {
    "duration": 247,
    "start_time": "2022-11-12T04:59:49.904Z"
   },
   {
    "duration": 10,
    "start_time": "2022-11-12T04:59:50.153Z"
   },
   {
    "duration": 10,
    "start_time": "2022-11-12T04:59:50.164Z"
   },
   {
    "duration": 1171,
    "start_time": "2022-11-12T09:27:14.378Z"
   },
   {
    "duration": 48,
    "start_time": "2022-11-12T09:27:15.551Z"
   },
   {
    "duration": 61,
    "start_time": "2022-11-12T09:27:15.601Z"
   },
   {
    "duration": 17,
    "start_time": "2022-11-12T09:27:15.664Z"
   },
   {
    "duration": 5,
    "start_time": "2022-11-12T09:27:15.683Z"
   },
   {
    "duration": 13,
    "start_time": "2022-11-12T09:27:15.690Z"
   },
   {
    "duration": 12,
    "start_time": "2022-11-12T09:27:15.705Z"
   },
   {
    "duration": 5,
    "start_time": "2022-11-12T09:27:15.719Z"
   },
   {
    "duration": 11,
    "start_time": "2022-11-12T09:27:15.726Z"
   },
   {
    "duration": 5,
    "start_time": "2022-11-12T09:27:15.739Z"
   },
   {
    "duration": 8,
    "start_time": "2022-11-12T09:27:15.745Z"
   },
   {
    "duration": 11,
    "start_time": "2022-11-12T09:27:15.755Z"
   },
   {
    "duration": 39,
    "start_time": "2022-11-12T09:27:15.768Z"
   },
   {
    "duration": 18,
    "start_time": "2022-11-12T09:27:15.809Z"
   },
   {
    "duration": 345,
    "start_time": "2022-11-12T09:27:15.829Z"
   },
   {
    "duration": 347,
    "start_time": "2022-11-12T09:27:16.176Z"
   },
   {
    "duration": 6,
    "start_time": "2022-11-12T09:27:16.524Z"
   },
   {
    "duration": 2137,
    "start_time": "2022-11-12T09:27:16.532Z"
   },
   {
    "duration": 211,
    "start_time": "2022-11-12T09:27:18.670Z"
   },
   {
    "duration": 293,
    "start_time": "2022-11-12T09:27:18.882Z"
   },
   {
    "duration": 321,
    "start_time": "2022-11-12T09:27:19.177Z"
   },
   {
    "duration": 379,
    "start_time": "2022-11-12T09:27:19.500Z"
   },
   {
    "duration": 7,
    "start_time": "2022-11-12T09:27:19.880Z"
   },
   {
    "duration": 17,
    "start_time": "2022-11-12T09:27:19.889Z"
   },
   {
    "duration": 7,
    "start_time": "2022-11-12T09:27:19.907Z"
   },
   {
    "duration": 3232,
    "start_time": "2022-11-12T09:27:19.915Z"
   },
   {
    "duration": 14,
    "start_time": "2022-11-12T09:27:23.148Z"
   },
   {
    "duration": 539,
    "start_time": "2022-11-12T09:27:23.167Z"
   },
   {
    "duration": 34,
    "start_time": "2022-11-12T09:27:23.708Z"
   },
   {
    "duration": 6,
    "start_time": "2022-11-12T09:27:23.744Z"
   },
   {
    "duration": 11,
    "start_time": "2022-11-12T09:27:23.751Z"
   },
   {
    "duration": 16,
    "start_time": "2022-11-12T09:27:23.764Z"
   },
   {
    "duration": 24,
    "start_time": "2022-11-12T09:27:23.782Z"
   },
   {
    "duration": 225,
    "start_time": "2022-11-12T09:27:23.808Z"
   },
   {
    "duration": 6,
    "start_time": "2022-11-12T09:27:24.035Z"
   },
   {
    "duration": 42,
    "start_time": "2022-11-12T09:27:24.042Z"
   },
   {
    "duration": 12,
    "start_time": "2022-11-12T09:27:24.086Z"
   },
   {
    "duration": 198,
    "start_time": "2022-11-12T09:27:24.099Z"
   },
   {
    "duration": 7,
    "start_time": "2022-11-12T09:27:24.304Z"
   },
   {
    "duration": 31,
    "start_time": "2022-11-12T09:27:24.313Z"
   },
   {
    "duration": 9,
    "start_time": "2022-11-12T09:27:24.345Z"
   },
   {
    "duration": 224,
    "start_time": "2022-11-12T09:27:24.355Z"
   },
   {
    "duration": 9,
    "start_time": "2022-11-12T09:27:24.581Z"
   },
   {
    "duration": 10,
    "start_time": "2022-11-12T09:27:24.604Z"
   }
  ],
  "kernelspec": {
   "display_name": "Python 3 (ipykernel)",
   "language": "python",
   "name": "python3"
  },
  "language_info": {
   "codemirror_mode": {
    "name": "ipython",
    "version": 3
   },
   "file_extension": ".py",
   "mimetype": "text/x-python",
   "name": "python",
   "nbconvert_exporter": "python",
   "pygments_lexer": "ipython3",
   "version": "3.9.5"
  },
  "toc": {
   "base_numbering": 1,
   "nav_menu": {},
   "number_sections": true,
   "sideBar": true,
   "skip_h1_title": true,
   "title_cell": "Table of Contents",
   "title_sidebar": "Contents",
   "toc_cell": false,
   "toc_position": {},
   "toc_section_display": true,
   "toc_window_display": false
  }
 },
 "nbformat": 4,
 "nbformat_minor": 2
}
