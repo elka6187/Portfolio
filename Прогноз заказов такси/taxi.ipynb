{
 "cells": [
  {
   "cell_type": "markdown",
   "metadata": {
    "toc": true
   },
   "source": [
    "<h1>Содержание<span class=\"tocSkip\"></span></h1>\n",
    "<div class=\"toc\"><ul class=\"toc-item\"><li><span><a href=\"#Подготовка\" data-toc-modified-id=\"Подготовка-1\"><span class=\"toc-item-num\">1&nbsp;&nbsp;</span>Подготовка</a></span><ul class=\"toc-item\"><li><span><a href=\"#Вывод\" data-toc-modified-id=\"Вывод-1.1\"><span class=\"toc-item-num\">1.1&nbsp;&nbsp;</span>Вывод</a></span></li></ul></li><li><span><a href=\"#Анализ\" data-toc-modified-id=\"Анализ-2\"><span class=\"toc-item-num\">2&nbsp;&nbsp;</span>Анализ</a></span><ul class=\"toc-item\"><li><span><a href=\"#Вывод\" data-toc-modified-id=\"Вывод-2.1\"><span class=\"toc-item-num\">2.1&nbsp;&nbsp;</span>Вывод</a></span></li></ul></li><li><span><a href=\"#Обучение\" data-toc-modified-id=\"Обучение-3\"><span class=\"toc-item-num\">3&nbsp;&nbsp;</span>Обучение</a></span><ul class=\"toc-item\"><li><span><a href=\"#Вывод\" data-toc-modified-id=\"Вывод-3.1\"><span class=\"toc-item-num\">3.1&nbsp;&nbsp;</span>Вывод</a></span></li></ul></li><li><span><a href=\"#Тестирование\" data-toc-modified-id=\"Тестирование-4\"><span class=\"toc-item-num\">4&nbsp;&nbsp;</span>Тестирование</a></span></li><li><span><a href=\"#Общий-вывод\" data-toc-modified-id=\"Общий-вывод-5\"><span class=\"toc-item-num\">5&nbsp;&nbsp;</span>Общий вывод</a></span></li><li><span><a href=\"#Чек-лист-проверки\" data-toc-modified-id=\"Чек-лист-проверки-6\"><span class=\"toc-item-num\">6&nbsp;&nbsp;</span>Чек-лист проверки</a></span></li></ul></div>"
   ]
  },
  {
   "cell_type": "markdown",
   "metadata": {},
   "source": [
    "#  Прогнозирование заказов такси"
   ]
  },
  {
   "cell_type": "markdown",
   "metadata": {},
   "source": [
    "Компания «Чётенькое такси» собрала исторические данные о заказах такси в аэропортах. Чтобы привлекать больше водителей в период пиковой нагрузки, нужно спрогнозировать количество заказов такси на следующий час. Постройте модель для такого предсказания.\n",
    "\n",
    "Значение метрики *RMSE* на тестовой выборке должно быть не больше 48.\n",
    "\n",
    "Вам нужно:\n",
    "\n",
    "1. Загрузить данные и выполнить их ресемплирование по одному часу.\n",
    "2. Проанализировать данные.\n",
    "3. Обучить разные модели с различными гиперпараметрами. Сделать тестовую выборку размером 10% от исходных данных.\n",
    "4. Проверить данные на тестовой выборке и сделать выводы.\n",
    "\n",
    "\n",
    "Данные лежат в файле `taxi.csv`. Количество заказов находится в столбце `num_orders` (от англ. *number of orders*, «число заказов»)."
   ]
  },
  {
   "cell_type": "markdown",
   "metadata": {},
   "source": [
    "## Подготовка"
   ]
  },
  {
   "cell_type": "code",
   "execution_count": 1,
   "metadata": {},
   "outputs": [],
   "source": [
    "import pandas as pd\n",
    "import numpy as np\n",
    "\n",
    "from statsmodels.tsa.seasonal import seasonal_decompose\n",
    "import matplotlib.pyplot as plt\n",
    "\n",
    "from sklearn.model_selection import train_test_split, GridSearchCV, RandomizedSearchCV, TimeSeriesSplit\n",
    "from sklearn.metrics import mean_squared_error\n",
    "\n",
    "from sklearn.linear_model import LinearRegression\n",
    "from catboost import CatBoostRegressor\n",
    "from sklearn.tree import DecisionTreeRegressor\n",
    "from sklearn.ensemble import RandomForestRegressor\n",
    "\n",
    "from sklearn.dummy import DummyRegressor\n"
   ]
  },
  {
   "cell_type": "code",
   "execution_count": 2,
   "metadata": {},
   "outputs": [
    {
     "data": {
      "text/html": [
       "<div>\n",
       "<style scoped>\n",
       "    .dataframe tbody tr th:only-of-type {\n",
       "        vertical-align: middle;\n",
       "    }\n",
       "\n",
       "    .dataframe tbody tr th {\n",
       "        vertical-align: top;\n",
       "    }\n",
       "\n",
       "    .dataframe thead th {\n",
       "        text-align: right;\n",
       "    }\n",
       "</style>\n",
       "<table border=\"1\" class=\"dataframe\">\n",
       "  <thead>\n",
       "    <tr style=\"text-align: right;\">\n",
       "      <th></th>\n",
       "      <th>datetime</th>\n",
       "      <th>num_orders</th>\n",
       "    </tr>\n",
       "  </thead>\n",
       "  <tbody>\n",
       "    <tr>\n",
       "      <th>0</th>\n",
       "      <td>2018-03-01 00:00:00</td>\n",
       "      <td>9</td>\n",
       "    </tr>\n",
       "    <tr>\n",
       "      <th>1</th>\n",
       "      <td>2018-03-01 00:10:00</td>\n",
       "      <td>14</td>\n",
       "    </tr>\n",
       "    <tr>\n",
       "      <th>2</th>\n",
       "      <td>2018-03-01 00:20:00</td>\n",
       "      <td>28</td>\n",
       "    </tr>\n",
       "    <tr>\n",
       "      <th>3</th>\n",
       "      <td>2018-03-01 00:30:00</td>\n",
       "      <td>20</td>\n",
       "    </tr>\n",
       "    <tr>\n",
       "      <th>4</th>\n",
       "      <td>2018-03-01 00:40:00</td>\n",
       "      <td>32</td>\n",
       "    </tr>\n",
       "  </tbody>\n",
       "</table>\n",
       "</div>"
      ],
      "text/plain": [
       "              datetime  num_orders\n",
       "0  2018-03-01 00:00:00           9\n",
       "1  2018-03-01 00:10:00          14\n",
       "2  2018-03-01 00:20:00          28\n",
       "3  2018-03-01 00:30:00          20\n",
       "4  2018-03-01 00:40:00          32"
      ]
     },
     "execution_count": 2,
     "metadata": {},
     "output_type": "execute_result"
    }
   ],
   "source": [
    "#считаю датасет \n",
    "data = pd.read_csv('/datasets/taxi.csv')\n",
    "data.head()"
   ]
  },
  {
   "cell_type": "code",
   "execution_count": 3,
   "metadata": {},
   "outputs": [
    {
     "name": "stdout",
     "output_type": "stream",
     "text": [
      "<class 'pandas.core.frame.DataFrame'>\n",
      "RangeIndex: 26496 entries, 0 to 26495\n",
      "Data columns (total 2 columns):\n",
      " #   Column      Non-Null Count  Dtype \n",
      "---  ------      --------------  ----- \n",
      " 0   datetime    26496 non-null  object\n",
      " 1   num_orders  26496 non-null  int64 \n",
      "dtypes: int64(1), object(1)\n",
      "memory usage: 414.1+ KB\n"
     ]
    },
    {
     "data": {
      "text/plain": [
       "(26496, 2)"
      ]
     },
     "execution_count": 3,
     "metadata": {},
     "output_type": "execute_result"
    }
   ],
   "source": [
    "data.info()\n",
    "data.shape"
   ]
  },
  {
   "cell_type": "markdown",
   "metadata": {},
   "source": [
    "колонка datetime имеет неверный формат"
   ]
  },
  {
   "cell_type": "code",
   "execution_count": 4,
   "metadata": {},
   "outputs": [
    {
     "name": "stdout",
     "output_type": "stream",
     "text": [
      "<class 'pandas.core.frame.DataFrame'>\n",
      "RangeIndex: 26496 entries, 0 to 26495\n",
      "Data columns (total 2 columns):\n",
      " #   Column      Non-Null Count  Dtype         \n",
      "---  ------      --------------  -----         \n",
      " 0   datetime    26496 non-null  datetime64[ns]\n",
      " 1   num_orders  26496 non-null  int64         \n",
      "dtypes: datetime64[ns](1), int64(1)\n",
      "memory usage: 414.1 KB\n"
     ]
    }
   ],
   "source": [
    "#заменую тип данных в datetime    \n",
    "data['datetime'] = pd.to_datetime(data['datetime'])\n",
    "data.info()"
   ]
  },
  {
   "cell_type": "code",
   "execution_count": 5,
   "metadata": {},
   "outputs": [
    {
     "data": {
      "text/html": [
       "<div>\n",
       "<style scoped>\n",
       "    .dataframe tbody tr th:only-of-type {\n",
       "        vertical-align: middle;\n",
       "    }\n",
       "\n",
       "    .dataframe tbody tr th {\n",
       "        vertical-align: top;\n",
       "    }\n",
       "\n",
       "    .dataframe thead th {\n",
       "        text-align: right;\n",
       "    }\n",
       "</style>\n",
       "<table border=\"1\" class=\"dataframe\">\n",
       "  <thead>\n",
       "    <tr style=\"text-align: right;\">\n",
       "      <th></th>\n",
       "      <th>num_orders</th>\n",
       "    </tr>\n",
       "    <tr>\n",
       "      <th>datetime</th>\n",
       "      <th></th>\n",
       "    </tr>\n",
       "  </thead>\n",
       "  <tbody>\n",
       "    <tr>\n",
       "      <th>2018-03-01 00:00:00</th>\n",
       "      <td>9</td>\n",
       "    </tr>\n",
       "    <tr>\n",
       "      <th>2018-03-01 00:10:00</th>\n",
       "      <td>14</td>\n",
       "    </tr>\n",
       "    <tr>\n",
       "      <th>2018-03-01 00:20:00</th>\n",
       "      <td>28</td>\n",
       "    </tr>\n",
       "    <tr>\n",
       "      <th>2018-03-01 00:30:00</th>\n",
       "      <td>20</td>\n",
       "    </tr>\n",
       "    <tr>\n",
       "      <th>2018-03-01 00:40:00</th>\n",
       "      <td>32</td>\n",
       "    </tr>\n",
       "  </tbody>\n",
       "</table>\n",
       "</div>"
      ],
      "text/plain": [
       "                     num_orders\n",
       "datetime                       \n",
       "2018-03-01 00:00:00           9\n",
       "2018-03-01 00:10:00          14\n",
       "2018-03-01 00:20:00          28\n",
       "2018-03-01 00:30:00          20\n",
       "2018-03-01 00:40:00          32"
      ]
     },
     "execution_count": 5,
     "metadata": {},
     "output_type": "execute_result"
    }
   ],
   "source": [
    "#установлю индекс таблицы равным столбцу datetime\n",
    "data = pd.read_csv('/datasets/taxi.csv', parse_dates=[0], index_col=[0])\n",
    "data.head()"
   ]
  },
  {
   "cell_type": "code",
   "execution_count": 6,
   "metadata": {},
   "outputs": [
    {
     "data": {
      "text/html": [
       "<div>\n",
       "<style scoped>\n",
       "    .dataframe tbody tr th:only-of-type {\n",
       "        vertical-align: middle;\n",
       "    }\n",
       "\n",
       "    .dataframe tbody tr th {\n",
       "        vertical-align: top;\n",
       "    }\n",
       "\n",
       "    .dataframe thead th {\n",
       "        text-align: right;\n",
       "    }\n",
       "</style>\n",
       "<table border=\"1\" class=\"dataframe\">\n",
       "  <thead>\n",
       "    <tr style=\"text-align: right;\">\n",
       "      <th></th>\n",
       "      <th>num_orders</th>\n",
       "    </tr>\n",
       "    <tr>\n",
       "      <th>datetime</th>\n",
       "      <th></th>\n",
       "    </tr>\n",
       "  </thead>\n",
       "  <tbody>\n",
       "    <tr>\n",
       "      <th>2018-08-31 23:10:00</th>\n",
       "      <td>32</td>\n",
       "    </tr>\n",
       "    <tr>\n",
       "      <th>2018-08-31 23:20:00</th>\n",
       "      <td>24</td>\n",
       "    </tr>\n",
       "    <tr>\n",
       "      <th>2018-08-31 23:30:00</th>\n",
       "      <td>27</td>\n",
       "    </tr>\n",
       "    <tr>\n",
       "      <th>2018-08-31 23:40:00</th>\n",
       "      <td>39</td>\n",
       "    </tr>\n",
       "    <tr>\n",
       "      <th>2018-08-31 23:50:00</th>\n",
       "      <td>53</td>\n",
       "    </tr>\n",
       "  </tbody>\n",
       "</table>\n",
       "</div>"
      ],
      "text/plain": [
       "                     num_orders\n",
       "datetime                       \n",
       "2018-08-31 23:10:00          32\n",
       "2018-08-31 23:20:00          24\n",
       "2018-08-31 23:30:00          27\n",
       "2018-08-31 23:40:00          39\n",
       "2018-08-31 23:50:00          53"
      ]
     },
     "execution_count": 6,
     "metadata": {},
     "output_type": "execute_result"
    }
   ],
   "source": [
    "data.tail()"
   ]
  },
  {
   "cell_type": "markdown",
   "metadata": {},
   "source": [
    "Данные предоставленыс 1 марта 2018 года по 31 августа 2018 года с разницей в 10 минут"
   ]
  },
  {
   "cell_type": "code",
   "execution_count": 7,
   "metadata": {},
   "outputs": [
    {
     "name": "stdout",
     "output_type": "stream",
     "text": [
      "True\n"
     ]
    }
   ],
   "source": [
    "#проверю хронологию расположения даты и время\n",
    "data = data.sort_index() \n",
    "print(data.index.is_monotonic)"
   ]
  },
  {
   "cell_type": "markdown",
   "metadata": {},
   "source": [
    "Порядок соблюден"
   ]
  },
  {
   "cell_type": "code",
   "execution_count": 8,
   "metadata": {},
   "outputs": [
    {
     "data": {
      "text/html": [
       "<div>\n",
       "<style scoped>\n",
       "    .dataframe tbody tr th:only-of-type {\n",
       "        vertical-align: middle;\n",
       "    }\n",
       "\n",
       "    .dataframe tbody tr th {\n",
       "        vertical-align: top;\n",
       "    }\n",
       "\n",
       "    .dataframe thead th {\n",
       "        text-align: right;\n",
       "    }\n",
       "</style>\n",
       "<table border=\"1\" class=\"dataframe\">\n",
       "  <thead>\n",
       "    <tr style=\"text-align: right;\">\n",
       "      <th></th>\n",
       "      <th>num_orders</th>\n",
       "    </tr>\n",
       "  </thead>\n",
       "  <tbody>\n",
       "    <tr>\n",
       "      <th>count</th>\n",
       "      <td>26496.000000</td>\n",
       "    </tr>\n",
       "    <tr>\n",
       "      <th>mean</th>\n",
       "      <td>14.070463</td>\n",
       "    </tr>\n",
       "    <tr>\n",
       "      <th>std</th>\n",
       "      <td>9.211330</td>\n",
       "    </tr>\n",
       "    <tr>\n",
       "      <th>min</th>\n",
       "      <td>0.000000</td>\n",
       "    </tr>\n",
       "    <tr>\n",
       "      <th>25%</th>\n",
       "      <td>8.000000</td>\n",
       "    </tr>\n",
       "    <tr>\n",
       "      <th>50%</th>\n",
       "      <td>13.000000</td>\n",
       "    </tr>\n",
       "    <tr>\n",
       "      <th>75%</th>\n",
       "      <td>19.000000</td>\n",
       "    </tr>\n",
       "    <tr>\n",
       "      <th>max</th>\n",
       "      <td>119.000000</td>\n",
       "    </tr>\n",
       "  </tbody>\n",
       "</table>\n",
       "</div>"
      ],
      "text/plain": [
       "         num_orders\n",
       "count  26496.000000\n",
       "mean      14.070463\n",
       "std        9.211330\n",
       "min        0.000000\n",
       "25%        8.000000\n",
       "50%       13.000000\n",
       "75%       19.000000\n",
       "max      119.000000"
      ]
     },
     "execution_count": 8,
     "metadata": {},
     "output_type": "execute_result"
    }
   ],
   "source": [
    "data.describe()"
   ]
  },
  {
   "cell_type": "markdown",
   "metadata": {},
   "source": [
    "В каждые 10 минут заказов:\n",
    "- максимальное кол-во 119\n",
    "- среднее кол-во 14\n",
    "\n",
    "Не вижу аномальных значений"
   ]
  },
  {
   "cell_type": "code",
   "execution_count": 9,
   "metadata": {},
   "outputs": [
    {
     "data": {
      "text/plain": [
       "num_orders    0\n",
       "dtype: int64"
      ]
     },
     "execution_count": 9,
     "metadata": {},
     "output_type": "execute_result"
    }
   ],
   "source": [
    "#проверю на пропуски\n",
    "data.isna().sum()"
   ]
  },
  {
   "cell_type": "code",
   "execution_count": 10,
   "metadata": {},
   "outputs": [
    {
     "data": {
      "text/plain": [
       "(26496, 1)"
      ]
     },
     "execution_count": 10,
     "metadata": {},
     "output_type": "execute_result"
    }
   ],
   "source": [
    "data.shape"
   ]
  },
  {
   "cell_type": "markdown",
   "metadata": {},
   "source": [
    "пропусков нет"
   ]
  },
  {
   "cell_type": "markdown",
   "metadata": {},
   "source": [
    "### Вывод\n",
    "\n",
    "- данные загружены и проведена предварительная подготовка\n",
    "- установлю индекс таблицы равным столбцу datetime\n",
    "- заменила тип данных в дате и времени на datetime\n",
    "- пропусков в данных нет\n",
    "- выбросов и аномальных значений не выявлено\n",
    "- данные предоставленыс 1 марта 2018 года по 31 августа 2018 года с разницей в 10 минут\n",
    "- в дате и времени соблюден хронологический порядок"
   ]
  },
  {
   "cell_type": "markdown",
   "metadata": {},
   "source": [
    "## Анализ"
   ]
  },
  {
   "cell_type": "code",
   "execution_count": 11,
   "metadata": {},
   "outputs": [
    {
     "data": {
      "text/plain": [
       "<AxesSubplot:xlabel='datetime'>"
      ]
     },
     "execution_count": 11,
     "metadata": {},
     "output_type": "execute_result"
    },
    {
     "data": {
      "image/png": "[encoded data removed]",
      "text/plain": [
       "<Figure size 432x288 with 1 Axes>"
      ]
     },
     "metadata": {
      "needs_background": "light"
     },
     "output_type": "display_data"
    }
   ],
   "source": [
    "#построю график временного ряда\n",
    "data.plot()"
   ]
  },
  {
   "cell_type": "markdown",
   "metadata": {},
   "source": [
    "Кол-во заказаов увеличивается с начала августа с интервалом наблюдений в 10 минут. Чтобы сократить кол-во наблюдений, сокращу шаг до 1 часа при помощи рессеплирования. К тому же, для модели нужен почасовой прогноз."
   ]
  },
  {
   "cell_type": "code",
   "execution_count": 12,
   "metadata": {},
   "outputs": [
    {
     "data": {
      "text/plain": [
       "<AxesSubplot:xlabel='datetime'>"
      ]
     },
     "execution_count": 12,
     "metadata": {},
     "output_type": "execute_result"
    },
    {
     "data": {
      "image/png": "[encoded data removed]",
      "text/plain": [
       "<Figure size 432x288 with 1 Axes>"
      ]
     },
     "metadata": {
      "needs_background": "light"
     },
     "output_type": "display_data"
    }
   ],
   "source": [
    "#изменю шаг наблюдений до 1 часа и построю график средних заказов таки по часам\n",
    "data.sort_index(inplace=True)\n",
    "data = data.resample('1H').sum()# < напишите код здесь >\n",
    "data.plot()"
   ]
  },
  {
   "cell_type": "code",
   "execution_count": 13,
   "metadata": {},
   "outputs": [
    {
     "data": {
      "text/html": [
       "<div>\n",
       "<style scoped>\n",
       "    .dataframe tbody tr th:only-of-type {\n",
       "        vertical-align: middle;\n",
       "    }\n",
       "\n",
       "    .dataframe tbody tr th {\n",
       "        vertical-align: top;\n",
       "    }\n",
       "\n",
       "    .dataframe thead th {\n",
       "        text-align: right;\n",
       "    }\n",
       "</style>\n",
       "<table border=\"1\" class=\"dataframe\">\n",
       "  <thead>\n",
       "    <tr style=\"text-align: right;\">\n",
       "      <th></th>\n",
       "      <th>num_orders</th>\n",
       "    </tr>\n",
       "    <tr>\n",
       "      <th>datetime</th>\n",
       "      <th></th>\n",
       "    </tr>\n",
       "  </thead>\n",
       "  <tbody>\n",
       "    <tr>\n",
       "      <th>2018-03-01 00:00:00</th>\n",
       "      <td>124</td>\n",
       "    </tr>\n",
       "    <tr>\n",
       "      <th>2018-03-01 01:00:00</th>\n",
       "      <td>85</td>\n",
       "    </tr>\n",
       "    <tr>\n",
       "      <th>2018-03-01 02:00:00</th>\n",
       "      <td>71</td>\n",
       "    </tr>\n",
       "    <tr>\n",
       "      <th>2018-03-01 03:00:00</th>\n",
       "      <td>66</td>\n",
       "    </tr>\n",
       "    <tr>\n",
       "      <th>2018-03-01 04:00:00</th>\n",
       "      <td>43</td>\n",
       "    </tr>\n",
       "  </tbody>\n",
       "</table>\n",
       "</div>"
      ],
      "text/plain": [
       "                     num_orders\n",
       "datetime                       \n",
       "2018-03-01 00:00:00         124\n",
       "2018-03-01 01:00:00          85\n",
       "2018-03-01 02:00:00          71\n",
       "2018-03-01 03:00:00          66\n",
       "2018-03-01 04:00:00          43"
      ]
     },
     "execution_count": 13,
     "metadata": {},
     "output_type": "execute_result"
    }
   ],
   "source": [
    "data.head()"
   ]
  },
  {
   "cell_type": "markdown",
   "metadata": {},
   "source": [
    "Чтобы во временном ряду снизить колебания, применю скользящее среднее."
   ]
  },
  {
   "cell_type": "code",
   "execution_count": 14,
   "metadata": {},
   "outputs": [
    {
     "data": {
      "image/png": "[encoded data removed]",
      "text/plain": [
       "<Figure size 432x288 with 1 Axes>"
      ]
     },
     "metadata": {
      "needs_background": "light"
     },
     "output_type": "display_data"
    }
   ],
   "source": [
    "#Построю 'rolling_mean' скользящее среднее с размером окна, равным 24 часа и стандартное отклонение\n",
    "\n",
    "data.plot(color='y')\n",
    "data['num_orders'].rolling(24).mean().plot(grid=True)\n",
    "data['num_orders'].rolling(24).std().plot(grid=True, color='r')\n",
    "\n",
    "plt.title('График заказов по месяцам')\n",
    "plt.legend(['Заказы','Скользящее среднее','Стандартное отклонение'])\n",
    "plt.show()"
   ]
  },
  {
   "cell_type": "markdown",
   "metadata": {},
   "source": [
    "По средним значениями можно также убедиться в росте заказов по часам"
   ]
  },
  {
   "cell_type": "markdown",
   "metadata": {},
   "source": [
    "Чтобы лучше понимать временной ряд, построю тренды и сезонность"
   ]
  },
  {
   "cell_type": "code",
   "execution_count": 15,
   "metadata": {},
   "outputs": [
    {
     "data": {
      "image/png": "[encoded data removed]",
      "text/plain": [
       "<Figure size 1152x576 with 3 Axes>"
      ]
     },
     "metadata": {
      "needs_background": "light"
     },
     "output_type": "display_data"
    }
   ],
   "source": [
    "#Разложу временной ряд на тренд и сезонную компоненту и построю график\n",
    "decomposed = seasonal_decompose(data['num_orders'])\n",
    "plt.figure(figsize=(16, 8))\n",
    "\n",
    "plt.subplot(311)\n",
    "decomposed.trend.plot(ax=plt.gca())\n",
    "plt.title('Trend')\n",
    "\n",
    "plt.subplot(312)\n",
    "decomposed.seasonal.plot(ax=plt.gca())\n",
    "plt.title('Seasonality')\n",
    "\n",
    "plt.subplot(313)\n",
    "decomposed.resid.plot(ax=plt.gca()) \n",
    "plt.title('Residuals')\n",
    "plt.tight_layout()"
   ]
  },
  {
   "cell_type": "markdown",
   "metadata": {},
   "source": [
    "Тренд растет ежемесячно"
   ]
  },
  {
   "cell_type": "code",
   "execution_count": 16,
   "metadata": {},
   "outputs": [
    {
     "data": {
      "text/plain": [
       "Text(0.5, 1.0, 'Сезонность заказов в течение первых 7 дней августа')"
      ]
     },
     "execution_count": 16,
     "metadata": {},
     "output_type": "execute_result"
    },
    {
     "data": {
      "image/png": "[encoded data removed]",
      "text/plain": [
       "<Figure size 1152x576 with 1 Axes>"
      ]
     },
     "metadata": {
      "needs_background": "light"
     },
     "output_type": "display_data"
    }
   ],
   "source": [
    "#Рассмотрю сезонность заказов в первые две недели августа.\n",
    "\n",
    "decomposed_day = seasonal_decompose(data['num_orders'])\n",
    "\n",
    "plt.figure(figsize=(16, 8))\n",
    "plt.subplot(311)\n",
    "decomposed_day.seasonal['2018-08-01':'2018-08-14'].plot(ax=plt.gca())\n",
    "plt.title(\"Сезонность заказов в течение первых 7 дней августа\")"
   ]
  },
  {
   "cell_type": "markdown",
   "metadata": {},
   "source": [
    "Каждый день есть пики по кол-ву заказаов, посмторю сезонность внутри пары дней"
   ]
  },
  {
   "cell_type": "code",
   "execution_count": 17,
   "metadata": {},
   "outputs": [
    {
     "data": {
      "text/plain": [
       "<AxesSubplot:title={'center':'Сезонность заказов за два дня'}, xlabel='datetime'>"
      ]
     },
     "execution_count": 17,
     "metadata": {},
     "output_type": "execute_result"
    },
    {
     "data": {
      "image/png": "[encoded data removed]",
      "text/plain": [
       "<Figure size 1152x576 with 1 Axes>"
      ]
     },
     "metadata": {
      "needs_background": "light"
     },
     "output_type": "display_data"
    }
   ],
   "source": [
    "plt.figure(figsize=(16,8))\n",
    "plt.title(\"Сезонность заказов за два дня\")\n",
    "decomposed.seasonal['2018-08-01':'2018-08-02'].plot(ax=plt.gca())"
   ]
  },
  {
   "cell_type": "markdown",
   "metadata": {},
   "source": [
    "Пик приходится на 00 часов и 16:00, спад в 6:00 часов утра"
   ]
  },
  {
   "cell_type": "markdown",
   "metadata": {},
   "source": [
    "### Вывод\n",
    "\n",
    "Проведя аналаизы, были отмечены следующие наблюдения:\n",
    "1. кол-во заказов растет ежемесячно\n",
    "2. сезонность меняется в зависимости от времени: пик приходтся на ночное время и в районе 16:00-17:00, самый низкий спрос на такси в 6:00 утра. "
   ]
  },
  {
   "cell_type": "markdown",
   "metadata": {},
   "source": [
    "## Обучение\n",
    "\n",
    "Обучите разные модели с различными гиперпараметрами. Сделайте тестовую выборку размером 10% от исходных данных."
   ]
  },
  {
   "cell_type": "markdown",
   "metadata": {},
   "source": [
    "Для обучения создам признаки: напишу функцию make_features, чтобы прибавить к таблице четыре новых календарных признака: год, месяц, день и день недели и два расчетных: отстающие значения и скользящее среднее."
   ]
  },
  {
   "cell_type": "code",
   "execution_count": 18,
   "metadata": {},
   "outputs": [],
   "source": [
    "def make_features(data, max_lag, rolling_mean_size):\n",
    "    \n",
    "    data['dayofweek'] = data.index.dayofweek\n",
    "    data['hour'] = data.index.hour\n",
    "    #Вычислю отстающие значения. \n",
    "    for lag in range(1, max_lag + 1):\n",
    "        data['lag_{}'.format(lag)] = data['num_orders'].shift(lag)\n",
    "    #Вычислю скользящее среднее\n",
    "    data['rolling_mean'] = data['num_orders'].shift().rolling(rolling_mean_size).mean()"
   ]
  },
  {
   "cell_type": "code",
   "execution_count": 19,
   "metadata": {},
   "outputs": [
    {
     "data": {
      "text/html": [
       "<div>\n",
       "<style scoped>\n",
       "    .dataframe tbody tr th:only-of-type {\n",
       "        vertical-align: middle;\n",
       "    }\n",
       "\n",
       "    .dataframe tbody tr th {\n",
       "        vertical-align: top;\n",
       "    }\n",
       "\n",
       "    .dataframe thead th {\n",
       "        text-align: right;\n",
       "    }\n",
       "</style>\n",
       "<table border=\"1\" class=\"dataframe\">\n",
       "  <thead>\n",
       "    <tr style=\"text-align: right;\">\n",
       "      <th></th>\n",
       "      <th>num_orders</th>\n",
       "      <th>dayofweek</th>\n",
       "      <th>hour</th>\n",
       "      <th>lag_1</th>\n",
       "      <th>lag_2</th>\n",
       "      <th>lag_3</th>\n",
       "      <th>lag_4</th>\n",
       "      <th>lag_5</th>\n",
       "      <th>lag_6</th>\n",
       "      <th>rolling_mean</th>\n",
       "    </tr>\n",
       "    <tr>\n",
       "      <th>datetime</th>\n",
       "      <th></th>\n",
       "      <th></th>\n",
       "      <th></th>\n",
       "      <th></th>\n",
       "      <th></th>\n",
       "      <th></th>\n",
       "      <th></th>\n",
       "      <th></th>\n",
       "      <th></th>\n",
       "      <th></th>\n",
       "    </tr>\n",
       "  </thead>\n",
       "  <tbody>\n",
       "    <tr>\n",
       "      <th>2018-03-01 00:00:00</th>\n",
       "      <td>124</td>\n",
       "      <td>3</td>\n",
       "      <td>0</td>\n",
       "      <td>NaN</td>\n",
       "      <td>NaN</td>\n",
       "      <td>NaN</td>\n",
       "      <td>NaN</td>\n",
       "      <td>NaN</td>\n",
       "      <td>NaN</td>\n",
       "      <td>NaN</td>\n",
       "    </tr>\n",
       "    <tr>\n",
       "      <th>2018-03-01 01:00:00</th>\n",
       "      <td>85</td>\n",
       "      <td>3</td>\n",
       "      <td>1</td>\n",
       "      <td>124.0</td>\n",
       "      <td>NaN</td>\n",
       "      <td>NaN</td>\n",
       "      <td>NaN</td>\n",
       "      <td>NaN</td>\n",
       "      <td>NaN</td>\n",
       "      <td>NaN</td>\n",
       "    </tr>\n",
       "    <tr>\n",
       "      <th>2018-03-01 02:00:00</th>\n",
       "      <td>71</td>\n",
       "      <td>3</td>\n",
       "      <td>2</td>\n",
       "      <td>85.0</td>\n",
       "      <td>124.0</td>\n",
       "      <td>NaN</td>\n",
       "      <td>NaN</td>\n",
       "      <td>NaN</td>\n",
       "      <td>NaN</td>\n",
       "      <td>NaN</td>\n",
       "    </tr>\n",
       "    <tr>\n",
       "      <th>2018-03-01 03:00:00</th>\n",
       "      <td>66</td>\n",
       "      <td>3</td>\n",
       "      <td>3</td>\n",
       "      <td>71.0</td>\n",
       "      <td>85.0</td>\n",
       "      <td>124.0</td>\n",
       "      <td>NaN</td>\n",
       "      <td>NaN</td>\n",
       "      <td>NaN</td>\n",
       "      <td>NaN</td>\n",
       "    </tr>\n",
       "    <tr>\n",
       "      <th>2018-03-01 04:00:00</th>\n",
       "      <td>43</td>\n",
       "      <td>3</td>\n",
       "      <td>4</td>\n",
       "      <td>66.0</td>\n",
       "      <td>71.0</td>\n",
       "      <td>85.0</td>\n",
       "      <td>124.0</td>\n",
       "      <td>NaN</td>\n",
       "      <td>NaN</td>\n",
       "      <td>NaN</td>\n",
       "    </tr>\n",
       "  </tbody>\n",
       "</table>\n",
       "</div>"
      ],
      "text/plain": [
       "                     num_orders  dayofweek  hour  lag_1  lag_2  lag_3  lag_4  \\\n",
       "datetime                                                                       \n",
       "2018-03-01 00:00:00         124          3     0    NaN    NaN    NaN    NaN   \n",
       "2018-03-01 01:00:00          85          3     1  124.0    NaN    NaN    NaN   \n",
       "2018-03-01 02:00:00          71          3     2   85.0  124.0    NaN    NaN   \n",
       "2018-03-01 03:00:00          66          3     3   71.0   85.0  124.0    NaN   \n",
       "2018-03-01 04:00:00          43          3     4   66.0   71.0   85.0  124.0   \n",
       "\n",
       "                     lag_5  lag_6  rolling_mean  \n",
       "datetime                                         \n",
       "2018-03-01 00:00:00    NaN    NaN           NaN  \n",
       "2018-03-01 01:00:00    NaN    NaN           NaN  \n",
       "2018-03-01 02:00:00    NaN    NaN           NaN  \n",
       "2018-03-01 03:00:00    NaN    NaN           NaN  \n",
       "2018-03-01 04:00:00    NaN    NaN           NaN  "
      ]
     },
     "execution_count": 19,
     "metadata": {},
     "output_type": "execute_result"
    }
   ],
   "source": [
    "#Применю функцию к датасету\n",
    "make_features(data, 6, 6)\n",
    "data.head()"
   ]
  },
  {
   "cell_type": "code",
   "execution_count": 20,
   "metadata": {},
   "outputs": [
    {
     "name": "stdout",
     "output_type": "stream",
     "text": [
      "(3968, 10)\n",
      "(442, 10)\n"
     ]
    }
   ],
   "source": [
    "#Разобью датасет на обучающую и тестовую выборки. \n",
    "train, test  = train_test_split(data, test_size = 0.1, shuffle=False)\n",
    "#Из обучающей выборки удалю строки с пропусками.\n",
    "train = train.dropna()\n",
    "\n",
    "#проверю пропорции\n",
    "print(train.shape)\n",
    "print(test.shape)"
   ]
  },
  {
   "cell_type": "code",
   "execution_count": 21,
   "metadata": {},
   "outputs": [],
   "source": [
    "# выделю признаки и целевой признак\n",
    "features_train = train.drop(['num_orders'], axis =1) \n",
    "target_train = train['num_orders'] \n",
    " \n",
    "features_test = test.drop(['num_orders'], axis=1) \n",
    "target_test = test['num_orders'] "
   ]
  },
  {
   "cell_type": "code",
   "execution_count": 22,
   "metadata": {},
   "outputs": [],
   "source": [
    "#для подбора гиперпараметров и сохранения хронологии временного рядf буду испольлзовать TimeSeriesSplit\n",
    "tscv = TimeSeriesSplit(n_splits=3)"
   ]
  },
  {
   "cell_type": "markdown",
   "metadata": {},
   "source": [
    "# LinearRegression"
   ]
  },
  {
   "cell_type": "code",
   "execution_count": 23,
   "metadata": {},
   "outputs": [
    {
     "name": "stdout",
     "output_type": "stream",
     "text": [
      "Лучшие параметры для Линейной регрессии: {'normalize': True, 'fit_intercept': False}\n",
      "RMSE для Линейной регрессии 34.381312147800486\n",
      "\n",
      "CPU times: user 122 ms, sys: 44.5 ms, total: 166 ms\n",
      "Wall time: 148 ms\n"
     ]
    },
    {
     "name": "stderr",
     "output_type": "stream",
     "text": [
      "/opt/conda/lib/python3.9/site-packages/sklearn/model_selection/_search.py:285: UserWarning: The total space of parameters 4 is smaller than n_iter=10. Running 4 iterations. For exhaustive searches, use GridSearchCV.\n",
      "  warnings.warn(\n"
     ]
    }
   ],
   "source": [
    "%%time\n",
    "\n",
    "model_lr = LinearRegression()\n",
    "\n",
    "param_lr = {'normalize':[True, False],\n",
    "              'fit_intercept':[True, False]}\n",
    "\n",
    "grid_lr = RandomizedSearchCV(model_lr, param_lr, cv=tscv, scoring='neg_mean_squared_error', n_jobs=-1, random_state=12345)\n",
    "grid_lr.fit(features_train, target_train)\n",
    "\n",
    "rsme_lr = (- grid_lr.best_score_)**0.5\n",
    "\n",
    "print('Лучшие параметры для Линейной регрессии:', grid_lr.best_params_)\n",
    "print('RMSE для Линейной регрессии', rsme_lr)\n",
    "print()"
   ]
  },
  {
   "cell_type": "markdown",
   "metadata": {},
   "source": [
    "# Дерево решений"
   ]
  },
  {
   "cell_type": "code",
   "execution_count": 24,
   "metadata": {},
   "outputs": [
    {
     "name": "stdout",
     "output_type": "stream",
     "text": [
      "Fitting 3 folds for each of 8 candidates, totalling 24 fits\n",
      "Лучшие параметры для Дерева решений: {'max_depth': 8}\n",
      "RMSE для Дерева решений 32.63847531429795\n",
      "\n",
      "CPU times: user 326 ms, sys: 34.2 ms, total: 360 ms\n",
      "Wall time: 404 ms\n"
     ]
    }
   ],
   "source": [
    "%%time\n",
    "model_dt = DecisionTreeRegressor(random_state=42)\n",
    "\n",
    "param_dt = {'max_depth': range(2, 10)}\n",
    "\n",
    "grid_dt = GridSearchCV(model_dt, \n",
    "                    param_grid=param_dt,\n",
    "                    cv=tscv,  \n",
    "                    scoring='neg_mean_squared_error',  \n",
    "                    n_jobs=-1, \n",
    "                    verbose=1)\n",
    "\n",
    "grid_dt.fit(features_train, target_train)\n",
    "\n",
    "rsme_dt = (- grid_dt.best_score_)**0.5\n",
    "\n",
    "print('Лучшие параметры для Дерева решений:', grid_dt.best_params_)\n",
    "print('RMSE для Дерева решений', rsme_dt)\n",
    "print()"
   ]
  },
  {
   "cell_type": "markdown",
   "metadata": {},
   "source": [
    "# CatBoost"
   ]
  },
  {
   "cell_type": "code",
   "execution_count": 25,
   "metadata": {
    "scrolled": true
   },
   "outputs": [
    {
     "name": "stdout",
     "output_type": "stream",
     "text": [
      "Learning rate set to 0.265845\n",
      "0:\tlearn: 26.0290563\ttotal: 51ms\tremaining: 5.04s\n",
      "99:\tlearn: 10.6901936\ttotal: 146ms\tremaining: 0us\n",
      "Learning rate set to 0.296614\n",
      "0:\tlearn: 28.2563618\ttotal: 2.03ms\tremaining: 201ms\n",
      "99:\tlearn: 14.3312156\ttotal: 131ms\tremaining: 0us\n",
      "Learning rate set to 0.316238\n",
      "0:\tlearn: 30.0216989\ttotal: 1.63ms\tremaining: 162ms\n",
      "99:\tlearn: 15.9557462\ttotal: 143ms\tremaining: 0us\n",
      "Learning rate set to 0.108825\n",
      "0:\tlearn: 27.8851994\ttotal: 1.04ms\tremaining: 310ms\n",
      "200:\tlearn: 11.5634886\ttotal: 192ms\tremaining: 94.7ms\n",
      "299:\tlearn: 9.3888026\ttotal: 285ms\tremaining: 0us\n",
      "Learning rate set to 0.12142\n",
      "0:\tlearn: 30.3037932\ttotal: 1.86ms\tremaining: 556ms\n",
      "200:\tlearn: 15.0555360\ttotal: 277ms\tremaining: 137ms\n",
      "299:\tlearn: 13.3749347\ttotal: 436ms\tremaining: 0us\n",
      "Learning rate set to 0.129454\n",
      "0:\tlearn: 32.2180164\ttotal: 1.64ms\tremaining: 490ms\n",
      "200:\tlearn: 16.7808287\ttotal: 322ms\tremaining: 158ms\n",
      "299:\tlearn: 15.3128299\ttotal: 483ms\tremaining: 0us\n",
      "Learning rate set to 0.265845\n",
      "0:\tlearn: 25.7056600\ttotal: 15.3ms\tremaining: 1.51s\n",
      "99:\tlearn: 3.9067484\ttotal: 1.41s\tremaining: 0us\n",
      "Learning rate set to 0.296614\n",
      "0:\tlearn: 27.8760535\ttotal: 15.6ms\tremaining: 1.54s\n",
      "99:\tlearn: 6.6358093\ttotal: 1.65s\tremaining: 0us\n",
      "Learning rate set to 0.316238\n",
      "0:\tlearn: 29.3309149\ttotal: 17.5ms\tremaining: 1.73s\n",
      "99:\tlearn: 8.2361778\ttotal: 1.79s\tremaining: 0us\n",
      "Learning rate set to 0.108825\n",
      "0:\tlearn: 27.7665081\ttotal: 13.1ms\tremaining: 3.91s\n",
      "200:\tlearn: 4.8980503\ttotal: 3s\tremaining: 1.48s\n",
      "299:\tlearn: 2.9262571\ttotal: 4.54s\tremaining: 0us\n",
      "Learning rate set to 0.12142\n",
      "0:\tlearn: 30.1601713\ttotal: 27.6ms\tremaining: 8.24s\n",
      "200:\tlearn: 8.0181540\ttotal: 3.46s\tremaining: 1.71s\n",
      "299:\tlearn: 4.9867232\ttotal: 5.05s\tremaining: 0us\n",
      "Learning rate set to 0.129454\n",
      "0:\tlearn: 31.9430769\ttotal: 22.9ms\tremaining: 6.84s\n",
      "200:\tlearn: 9.8486932\ttotal: 3.58s\tremaining: 1.76s\n",
      "299:\tlearn: 6.9817779\ttotal: 5.4s\tremaining: 0us\n",
      "Learning rate set to 0.135473\n",
      "0:\tlearn: 36.4145249\ttotal: 4.68ms\tremaining: 1.4s\n",
      "200:\tlearn: 19.3032488\ttotal: 324ms\tremaining: 159ms\n",
      "299:\tlearn: 17.6020893\ttotal: 482ms\tremaining: 0us\n",
      "Лучшие параметры для CatBoots: {'depth': 5, 'iterations': 300}\n",
      "RMSE для CatBoots 28.787940082069486\n",
      "\n",
      "CPU times: user 22.1 s, sys: 380 ms, total: 22.5 s\n",
      "Wall time: 34.5 s\n"
     ]
    }
   ],
   "source": [
    "%%time\n",
    "param_cb = {\n",
    "    'iterations': [100, 300],\n",
    "    'depth': [5, 10]}\n",
    "\n",
    "model_cb = CatBoostRegressor(verbose=200, early_stopping_rounds=50, random_state=12345, loss_function='RMSE')\n",
    "grid_cb = GridSearchCV(estimator = model_cb, param_grid=param_cb, cv=tscv, scoring='neg_mean_squared_error')\n",
    "\n",
    "#обучу CatBoots\n",
    "grid_cb.fit(features_train, target_train)\n",
    "\n",
    "rsme_cb = (- grid_cb.best_score_)**0.5\n",
    "\n",
    "print('Лучшие параметры для CatBoots:', grid_cb.best_params_)\n",
    "print('RMSE для CatBoots', rsme_cb)\n",
    "print()"
   ]
  },
  {
   "cell_type": "code",
   "execution_count": 33,
   "metadata": {},
   "outputs": [
    {
     "data": {
      "text/html": [
       "<div>\n",
       "<style scoped>\n",
       "    .dataframe tbody tr th:only-of-type {\n",
       "        vertical-align: middle;\n",
       "    }\n",
       "\n",
       "    .dataframe tbody tr th {\n",
       "        vertical-align: top;\n",
       "    }\n",
       "\n",
       "    .dataframe thead th {\n",
       "        text-align: right;\n",
       "    }\n",
       "</style>\n",
       "<table border=\"1\" class=\"dataframe\">\n",
       "  <thead>\n",
       "    <tr style=\"text-align: right;\">\n",
       "      <th></th>\n",
       "      <th>Model</th>\n",
       "      <th>RMSE</th>\n",
       "      <th>Время обучения: sec</th>\n",
       "    </tr>\n",
       "  </thead>\n",
       "  <tbody>\n",
       "    <tr>\n",
       "      <th>0</th>\n",
       "      <td>Линейна регрессия</td>\n",
       "      <td>34.381312</td>\n",
       "      <td>0.148</td>\n",
       "    </tr>\n",
       "    <tr>\n",
       "      <th>1</th>\n",
       "      <td>RandomForestRegressor</td>\n",
       "      <td>32.638475</td>\n",
       "      <td>0.404</td>\n",
       "    </tr>\n",
       "    <tr>\n",
       "      <th>2</th>\n",
       "      <td>CatBoost</td>\n",
       "      <td>28.787940</td>\n",
       "      <td>34.000</td>\n",
       "    </tr>\n",
       "  </tbody>\n",
       "</table>\n",
       "</div>"
      ],
      "text/plain": [
       "                   Model       RMSE  Время обучения: sec\n",
       "0      Линейна регрессия  34.381312                0.148\n",
       "1  RandomForestRegressor  32.638475                0.404\n",
       "2               CatBoost  28.787940               34.000"
      ]
     },
     "metadata": {},
     "output_type": "display_data"
    }
   ],
   "source": [
    "#создам сводную таблицу, чтобы сравнить метрики\n",
    "results = {\n",
    "    'Model' : ['Линейна регрессия', 'RandomForestRegressor', 'CatBoost'],\n",
    "    'RMSE' :[rsme_lr,  rsme_dt, rsme_cb],\n",
    "    'Время обучения: sec': pd.Series([0.148, 0.404, 34])\n",
    "}\n",
    "display(pd.DataFrame(results))"
   ]
  },
  {
   "cell_type": "markdown",
   "metadata": {},
   "source": [
    "Лучшая модель по rsme CatBoost "
   ]
  },
  {
   "cell_type": "markdown",
   "metadata": {},
   "source": [
    "### Вывод\n",
    "\n",
    "- Для обучения создала новые признаки при помощи функцию make_features\n",
    "- Для подбора гиперпараметров и сохранения хронологии временного ряда испольльзовала TimeSeriesSplit\n",
    "- Построила и подобрала гиперпараметры для 3-х моделей\n",
    "- После сравнения метрик, лучшая модель оказалась CatBoost"
   ]
  },
  {
   "cell_type": "markdown",
   "metadata": {},
   "source": [
    "## Тестирование"
   ]
  },
  {
   "cell_type": "code",
   "execution_count": 34,
   "metadata": {},
   "outputs": [
    {
     "name": "stdout",
     "output_type": "stream",
     "text": [
      "0:\tlearn: 36.9860674\ttotal: 1.67ms\tremaining: 501ms\n",
      "1:\tlearn: 35.5715977\ttotal: 3.37ms\tremaining: 502ms\n",
      "2:\tlearn: 34.5234125\ttotal: 4.98ms\tremaining: 493ms\n",
      "3:\tlearn: 33.3239311\ttotal: 6.57ms\tremaining: 486ms\n",
      "4:\tlearn: 32.3059291\ttotal: 8.01ms\tremaining: 473ms\n",
      "5:\tlearn: 31.4845447\ttotal: 9.49ms\tremaining: 465ms\n",
      "6:\tlearn: 30.6915495\ttotal: 10.9ms\tremaining: 455ms\n",
      "7:\tlearn: 30.0960076\ttotal: 12.3ms\tremaining: 449ms\n",
      "8:\tlearn: 29.5368483\ttotal: 13.8ms\tremaining: 445ms\n",
      "9:\tlearn: 29.0983411\ttotal: 15.2ms\tremaining: 442ms\n",
      "10:\tlearn: 28.6020495\ttotal: 16.9ms\tremaining: 444ms\n",
      "11:\tlearn: 28.3340387\ttotal: 18.4ms\tremaining: 442ms\n",
      "12:\tlearn: 27.9118172\ttotal: 19.9ms\tremaining: 440ms\n",
      "13:\tlearn: 27.5626584\ttotal: 21.3ms\tremaining: 436ms\n",
      "14:\tlearn: 27.2477045\ttotal: 22.8ms\tremaining: 433ms\n",
      "15:\tlearn: 27.0467469\ttotal: 24.2ms\tremaining: 430ms\n",
      "16:\tlearn: 26.8153165\ttotal: 25.6ms\tremaining: 426ms\n",
      "17:\tlearn: 26.6738036\ttotal: 27ms\tremaining: 423ms\n",
      "18:\tlearn: 26.5114069\ttotal: 28.5ms\tremaining: 421ms\n",
      "19:\tlearn: 26.3798899\ttotal: 29.8ms\tremaining: 418ms\n",
      "20:\tlearn: 26.2276001\ttotal: 31.1ms\tremaining: 413ms\n",
      "21:\tlearn: 26.0799441\ttotal: 32.5ms\tremaining: 411ms\n",
      "22:\tlearn: 25.9454902\ttotal: 33.9ms\tremaining: 409ms\n",
      "23:\tlearn: 25.9106584\ttotal: 35.3ms\tremaining: 406ms\n",
      "24:\tlearn: 25.8038762\ttotal: 36.6ms\tremaining: 403ms\n",
      "25:\tlearn: 25.7187701\ttotal: 38.4ms\tremaining: 405ms\n",
      "26:\tlearn: 25.6731365\ttotal: 40.3ms\tremaining: 408ms\n",
      "27:\tlearn: 25.6285355\ttotal: 42.2ms\tremaining: 410ms\n",
      "28:\tlearn: 25.4640828\ttotal: 44.2ms\tremaining: 413ms\n",
      "29:\tlearn: 25.4265203\ttotal: 46.1ms\tremaining: 415ms\n",
      "30:\tlearn: 25.3165899\ttotal: 48.1ms\tremaining: 417ms\n",
      "31:\tlearn: 25.2290906\ttotal: 50ms\tremaining: 419ms\n",
      "32:\tlearn: 25.2062333\ttotal: 51.9ms\tremaining: 420ms\n",
      "33:\tlearn: 25.1509718\ttotal: 53.9ms\tremaining: 421ms\n",
      "34:\tlearn: 25.0036037\ttotal: 55.9ms\tremaining: 424ms\n",
      "35:\tlearn: 24.9903555\ttotal: 57.4ms\tremaining: 421ms\n",
      "36:\tlearn: 24.9544527\ttotal: 60.2ms\tremaining: 428ms\n",
      "37:\tlearn: 24.9364214\ttotal: 62.1ms\tremaining: 428ms\n",
      "38:\tlearn: 24.8974838\ttotal: 63.9ms\tremaining: 428ms\n",
      "39:\tlearn: 24.8143077\ttotal: 66ms\tremaining: 429ms\n",
      "40:\tlearn: 24.7762681\ttotal: 67.8ms\tremaining: 428ms\n",
      "41:\tlearn: 24.7618344\ttotal: 69.6ms\tremaining: 428ms\n",
      "42:\tlearn: 24.6241012\ttotal: 73.8ms\tremaining: 441ms\n",
      "43:\tlearn: 24.5780734\ttotal: 75.7ms\tremaining: 440ms\n",
      "44:\tlearn: 24.4344845\ttotal: 77.7ms\tremaining: 441ms\n",
      "45:\tlearn: 24.3756128\ttotal: 80ms\tremaining: 442ms\n",
      "46:\tlearn: 24.2707028\ttotal: 82.2ms\tremaining: 443ms\n",
      "47:\tlearn: 24.2222439\ttotal: 83.9ms\tremaining: 441ms\n",
      "48:\tlearn: 24.1722110\ttotal: 85.4ms\tremaining: 438ms\n",
      "49:\tlearn: 24.1565752\ttotal: 87ms\tremaining: 435ms\n",
      "50:\tlearn: 24.0800534\ttotal: 88.6ms\tremaining: 433ms\n",
      "51:\tlearn: 24.0478355\ttotal: 90.2ms\tremaining: 430ms\n",
      "52:\tlearn: 24.0074779\ttotal: 91.6ms\tremaining: 427ms\n",
      "53:\tlearn: 24.0014160\ttotal: 93ms\tremaining: 424ms\n",
      "54:\tlearn: 23.9734946\ttotal: 94.4ms\tremaining: 421ms\n",
      "55:\tlearn: 23.9092018\ttotal: 96ms\tremaining: 418ms\n",
      "56:\tlearn: 23.8423250\ttotal: 97.9ms\tremaining: 418ms\n",
      "57:\tlearn: 23.8151247\ttotal: 99.5ms\tremaining: 415ms\n",
      "58:\tlearn: 23.7586151\ttotal: 101ms\tremaining: 413ms\n",
      "59:\tlearn: 23.6905895\ttotal: 103ms\tremaining: 410ms\n",
      "60:\tlearn: 23.5981307\ttotal: 104ms\tremaining: 408ms\n",
      "61:\tlearn: 23.5644805\ttotal: 106ms\tremaining: 405ms\n",
      "62:\tlearn: 23.5431453\ttotal: 107ms\tremaining: 402ms\n",
      "63:\tlearn: 23.5054222\ttotal: 108ms\tremaining: 400ms\n",
      "64:\tlearn: 23.4458526\ttotal: 110ms\tremaining: 398ms\n",
      "65:\tlearn: 23.4311971\ttotal: 112ms\tremaining: 397ms\n",
      "66:\tlearn: 23.3757135\ttotal: 114ms\tremaining: 397ms\n",
      "67:\tlearn: 23.3574889\ttotal: 116ms\tremaining: 397ms\n",
      "68:\tlearn: 23.3429710\ttotal: 118ms\tremaining: 396ms\n",
      "69:\tlearn: 23.3166149\ttotal: 120ms\tremaining: 396ms\n",
      "70:\tlearn: 23.2798900\ttotal: 122ms\tremaining: 395ms\n",
      "71:\tlearn: 23.2444402\ttotal: 124ms\tremaining: 394ms\n",
      "72:\tlearn: 23.2371048\ttotal: 126ms\tremaining: 393ms\n",
      "73:\tlearn: 23.2267711\ttotal: 128ms\tremaining: 392ms\n",
      "74:\tlearn: 23.1785934\ttotal: 131ms\tremaining: 394ms\n",
      "75:\tlearn: 23.1561558\ttotal: 133ms\tremaining: 393ms\n",
      "76:\tlearn: 23.1447544\ttotal: 135ms\tremaining: 392ms\n",
      "77:\tlearn: 23.1348103\ttotal: 138ms\tremaining: 392ms\n",
      "78:\tlearn: 23.1013915\ttotal: 140ms\tremaining: 391ms\n",
      "79:\tlearn: 23.0591564\ttotal: 142ms\tremaining: 390ms\n",
      "80:\tlearn: 23.0396399\ttotal: 144ms\tremaining: 388ms\n",
      "81:\tlearn: 23.0044283\ttotal: 146ms\tremaining: 388ms\n",
      "82:\tlearn: 22.9929816\ttotal: 148ms\tremaining: 387ms\n",
      "83:\tlearn: 22.9275212\ttotal: 150ms\tremaining: 385ms\n",
      "84:\tlearn: 22.9165383\ttotal: 152ms\tremaining: 383ms\n",
      "85:\tlearn: 22.9073897\ttotal: 153ms\tremaining: 381ms\n",
      "86:\tlearn: 22.9024551\ttotal: 154ms\tremaining: 378ms\n",
      "87:\tlearn: 22.8673314\ttotal: 156ms\tremaining: 376ms\n",
      "88:\tlearn: 22.8300492\ttotal: 158ms\tremaining: 373ms\n",
      "89:\tlearn: 22.8247937\ttotal: 159ms\tremaining: 371ms\n",
      "90:\tlearn: 22.7832399\ttotal: 160ms\tremaining: 369ms\n",
      "91:\tlearn: 22.7526710\ttotal: 162ms\tremaining: 366ms\n",
      "92:\tlearn: 22.7257006\ttotal: 163ms\tremaining: 364ms\n",
      "93:\tlearn: 22.6878089\ttotal: 165ms\tremaining: 361ms\n",
      "94:\tlearn: 22.6848730\ttotal: 166ms\tremaining: 359ms\n",
      "95:\tlearn: 22.6787059\ttotal: 168ms\tremaining: 356ms\n",
      "96:\tlearn: 22.6722983\ttotal: 169ms\tremaining: 354ms\n",
      "97:\tlearn: 22.6505241\ttotal: 171ms\tremaining: 352ms\n",
      "98:\tlearn: 22.6190454\ttotal: 172ms\tremaining: 349ms\n",
      "99:\tlearn: 22.6135656\ttotal: 174ms\tremaining: 347ms\n",
      "100:\tlearn: 22.6064092\ttotal: 175ms\tremaining: 345ms\n",
      "101:\tlearn: 22.5820284\ttotal: 177ms\tremaining: 343ms\n",
      "102:\tlearn: 22.5758153\ttotal: 178ms\tremaining: 341ms\n",
      "103:\tlearn: 22.5483172\ttotal: 180ms\tremaining: 339ms\n",
      "104:\tlearn: 22.4851950\ttotal: 182ms\tremaining: 338ms\n",
      "105:\tlearn: 22.4563648\ttotal: 184ms\tremaining: 337ms\n",
      "106:\tlearn: 22.4193757\ttotal: 186ms\tremaining: 335ms\n",
      "107:\tlearn: 22.3882756\ttotal: 188ms\tremaining: 334ms\n",
      "108:\tlearn: 22.3586574\ttotal: 190ms\tremaining: 333ms\n",
      "109:\tlearn: 22.3022121\ttotal: 192ms\tremaining: 332ms\n",
      "110:\tlearn: 22.3000253\ttotal: 195ms\tremaining: 331ms\n",
      "111:\tlearn: 22.2871947\ttotal: 197ms\tremaining: 331ms\n",
      "112:\tlearn: 22.2571335\ttotal: 199ms\tremaining: 329ms\n",
      "113:\tlearn: 22.2265069\ttotal: 200ms\tremaining: 327ms\n",
      "114:\tlearn: 22.1858642\ttotal: 202ms\tremaining: 325ms\n",
      "115:\tlearn: 22.1644203\ttotal: 204ms\tremaining: 323ms\n",
      "116:\tlearn: 22.1163817\ttotal: 205ms\tremaining: 321ms\n",
      "117:\tlearn: 22.1143691\ttotal: 206ms\tremaining: 318ms\n",
      "118:\tlearn: 22.0999567\ttotal: 208ms\tremaining: 316ms\n",
      "119:\tlearn: 22.0972167\ttotal: 209ms\tremaining: 314ms\n",
      "120:\tlearn: 22.0523031\ttotal: 211ms\tremaining: 312ms\n",
      "121:\tlearn: 22.0257704\ttotal: 212ms\tremaining: 310ms\n",
      "122:\tlearn: 21.9803994\ttotal: 214ms\tremaining: 308ms\n",
      "123:\tlearn: 21.9544593\ttotal: 215ms\tremaining: 306ms\n",
      "124:\tlearn: 21.9237126\ttotal: 217ms\tremaining: 304ms\n",
      "125:\tlearn: 21.8936211\ttotal: 218ms\tremaining: 302ms\n",
      "126:\tlearn: 21.8643959\ttotal: 220ms\tremaining: 300ms\n",
      "127:\tlearn: 21.8296101\ttotal: 222ms\tremaining: 298ms\n",
      "128:\tlearn: 21.8141823\ttotal: 223ms\tremaining: 296ms\n",
      "129:\tlearn: 21.7885579\ttotal: 225ms\tremaining: 294ms\n",
      "130:\tlearn: 21.7512504\ttotal: 226ms\tremaining: 292ms\n",
      "131:\tlearn: 21.7188053\ttotal: 228ms\tremaining: 290ms\n",
      "132:\tlearn: 21.6658580\ttotal: 229ms\tremaining: 288ms\n",
      "133:\tlearn: 21.6218465\ttotal: 231ms\tremaining: 286ms\n",
      "134:\tlearn: 21.5874467\ttotal: 232ms\tremaining: 284ms\n",
      "135:\tlearn: 21.5656346\ttotal: 234ms\tremaining: 282ms\n",
      "136:\tlearn: 21.5461880\ttotal: 235ms\tremaining: 280ms\n",
      "137:\tlearn: 21.5439504\ttotal: 237ms\tremaining: 278ms\n",
      "138:\tlearn: 21.5080948\ttotal: 239ms\tremaining: 277ms\n",
      "139:\tlearn: 21.4651021\ttotal: 241ms\tremaining: 276ms\n",
      "140:\tlearn: 21.4449506\ttotal: 243ms\tremaining: 274ms\n",
      "141:\tlearn: 21.4190518\ttotal: 245ms\tremaining: 273ms\n",
      "142:\tlearn: 21.4166455\ttotal: 247ms\tremaining: 271ms\n",
      "143:\tlearn: 21.3940505\ttotal: 249ms\tremaining: 270ms\n",
      "144:\tlearn: 21.3644064\ttotal: 251ms\tremaining: 268ms\n",
      "145:\tlearn: 21.3431723\ttotal: 253ms\tremaining: 267ms\n",
      "146:\tlearn: 21.3207112\ttotal: 255ms\tremaining: 265ms\n",
      "147:\tlearn: 21.2850717\ttotal: 257ms\tremaining: 264ms\n",
      "148:\tlearn: 21.2685822\ttotal: 259ms\tremaining: 262ms\n",
      "149:\tlearn: 21.2448428\ttotal: 261ms\tremaining: 261ms\n",
      "150:\tlearn: 21.2235250\ttotal: 263ms\tremaining: 259ms\n",
      "151:\tlearn: 21.2163973\ttotal: 264ms\tremaining: 257ms\n",
      "152:\tlearn: 21.1775313\ttotal: 266ms\tremaining: 255ms\n",
      "153:\tlearn: 21.1419949\ttotal: 267ms\tremaining: 253ms\n",
      "154:\tlearn: 21.1081819\ttotal: 269ms\tremaining: 252ms\n",
      "155:\tlearn: 21.0805579\ttotal: 271ms\tremaining: 250ms\n",
      "156:\tlearn: 21.0660904\ttotal: 272ms\tremaining: 248ms\n",
      "157:\tlearn: 21.0404784\ttotal: 274ms\tremaining: 246ms\n",
      "158:\tlearn: 21.0135973\ttotal: 275ms\tremaining: 244ms\n",
      "159:\tlearn: 20.9885999\ttotal: 277ms\tremaining: 242ms\n",
      "160:\tlearn: 20.9609219\ttotal: 278ms\tremaining: 240ms\n",
      "161:\tlearn: 20.9214324\ttotal: 279ms\tremaining: 238ms\n",
      "162:\tlearn: 20.8934397\ttotal: 281ms\tremaining: 236ms\n",
      "163:\tlearn: 20.8726892\ttotal: 282ms\tremaining: 234ms\n",
      "164:\tlearn: 20.8555008\ttotal: 284ms\tremaining: 232ms\n",
      "165:\tlearn: 20.8299842\ttotal: 285ms\tremaining: 230ms\n",
      "166:\tlearn: 20.8122086\ttotal: 287ms\tremaining: 228ms\n",
      "167:\tlearn: 20.7753284\ttotal: 288ms\tremaining: 226ms\n",
      "168:\tlearn: 20.7504109\ttotal: 290ms\tremaining: 224ms\n",
      "169:\tlearn: 20.7297448\ttotal: 291ms\tremaining: 223ms\n",
      "170:\tlearn: 20.7102211\ttotal: 292ms\tremaining: 221ms\n",
      "171:\tlearn: 20.6956307\ttotal: 294ms\tremaining: 219ms\n",
      "172:\tlearn: 20.6834444\ttotal: 295ms\tremaining: 217ms\n",
      "173:\tlearn: 20.6816288\ttotal: 296ms\tremaining: 215ms\n",
      "174:\tlearn: 20.6603367\ttotal: 298ms\tremaining: 213ms\n",
      "175:\tlearn: 20.6334236\ttotal: 299ms\tremaining: 211ms\n",
      "176:\tlearn: 20.6132405\ttotal: 300ms\tremaining: 209ms\n",
      "177:\tlearn: 20.5717492\ttotal: 302ms\tremaining: 207ms\n",
      "178:\tlearn: 20.5549443\ttotal: 303ms\tremaining: 205ms\n",
      "179:\tlearn: 20.5360782\ttotal: 305ms\tremaining: 203ms\n",
      "180:\tlearn: 20.5085603\ttotal: 307ms\tremaining: 202ms\n",
      "181:\tlearn: 20.4839119\ttotal: 309ms\tremaining: 200ms\n",
      "182:\tlearn: 20.4701092\ttotal: 312ms\tremaining: 199ms\n",
      "183:\tlearn: 20.4646975\ttotal: 314ms\tremaining: 198ms\n",
      "184:\tlearn: 20.4359474\ttotal: 318ms\tremaining: 197ms\n",
      "185:\tlearn: 20.4248015\ttotal: 319ms\tremaining: 196ms\n",
      "186:\tlearn: 20.3993386\ttotal: 320ms\tremaining: 194ms\n",
      "187:\tlearn: 20.3817889\ttotal: 322ms\tremaining: 192ms\n",
      "188:\tlearn: 20.3783893\ttotal: 324ms\tremaining: 190ms\n",
      "189:\tlearn: 20.3564747\ttotal: 326ms\tremaining: 189ms\n",
      "190:\tlearn: 20.3347539\ttotal: 328ms\tremaining: 187ms\n",
      "191:\tlearn: 20.3186258\ttotal: 330ms\tremaining: 186ms\n",
      "192:\tlearn: 20.2977157\ttotal: 331ms\tremaining: 184ms\n",
      "193:\tlearn: 20.2711612\ttotal: 333ms\tremaining: 182ms\n",
      "194:\tlearn: 20.2308175\ttotal: 334ms\tremaining: 180ms\n",
      "195:\tlearn: 20.2155904\ttotal: 336ms\tremaining: 178ms\n",
      "196:\tlearn: 20.2069733\ttotal: 337ms\tremaining: 176ms\n",
      "197:\tlearn: 20.2051037\ttotal: 338ms\tremaining: 174ms\n",
      "198:\tlearn: 20.2018373\ttotal: 340ms\tremaining: 172ms\n",
      "199:\tlearn: 20.1875196\ttotal: 341ms\tremaining: 170ms\n",
      "200:\tlearn: 20.1815718\ttotal: 342ms\tremaining: 169ms\n",
      "201:\tlearn: 20.1533748\ttotal: 344ms\tremaining: 167ms\n",
      "202:\tlearn: 20.1517146\ttotal: 345ms\tremaining: 165ms\n",
      "203:\tlearn: 20.1349305\ttotal: 347ms\tremaining: 163ms\n",
      "204:\tlearn: 20.1333533\ttotal: 348ms\tremaining: 161ms\n",
      "205:\tlearn: 20.0948851\ttotal: 349ms\tremaining: 159ms\n",
      "206:\tlearn: 20.0755203\ttotal: 351ms\tremaining: 158ms\n",
      "207:\tlearn: 20.0542152\ttotal: 352ms\tremaining: 156ms\n",
      "208:\tlearn: 20.0522702\ttotal: 353ms\tremaining: 154ms\n",
      "209:\tlearn: 20.0500562\ttotal: 355ms\tremaining: 152ms\n",
      "210:\tlearn: 20.0241192\ttotal: 356ms\tremaining: 150ms\n",
      "211:\tlearn: 20.0009760\ttotal: 357ms\tremaining: 148ms\n",
      "212:\tlearn: 19.9854410\ttotal: 359ms\tremaining: 147ms\n",
      "213:\tlearn: 19.9745174\ttotal: 361ms\tremaining: 145ms\n",
      "214:\tlearn: 19.9538481\ttotal: 363ms\tremaining: 143ms\n",
      "215:\tlearn: 19.9451503\ttotal: 365ms\tremaining: 142ms\n",
      "216:\tlearn: 19.9343833\ttotal: 367ms\tremaining: 140ms\n",
      "217:\tlearn: 19.9325008\ttotal: 369ms\tremaining: 139ms\n",
      "218:\tlearn: 19.9147921\ttotal: 371ms\tremaining: 137ms\n",
      "219:\tlearn: 19.9133092\ttotal: 372ms\tremaining: 135ms\n",
      "220:\tlearn: 19.9081988\ttotal: 374ms\tremaining: 134ms\n",
      "221:\tlearn: 19.8999422\ttotal: 376ms\tremaining: 132ms\n",
      "222:\tlearn: 19.8908462\ttotal: 378ms\tremaining: 130ms\n",
      "223:\tlearn: 19.8714758\ttotal: 380ms\tremaining: 129ms\n",
      "224:\tlearn: 19.8382002\ttotal: 382ms\tremaining: 127ms\n",
      "225:\tlearn: 19.8287221\ttotal: 383ms\tremaining: 126ms\n",
      "226:\tlearn: 19.8115331\ttotal: 385ms\tremaining: 124ms\n",
      "227:\tlearn: 19.8103440\ttotal: 387ms\tremaining: 122ms\n",
      "228:\tlearn: 19.8046233\ttotal: 389ms\tremaining: 121ms\n",
      "229:\tlearn: 19.8033754\ttotal: 391ms\tremaining: 119ms\n",
      "230:\tlearn: 19.7803700\ttotal: 393ms\tremaining: 117ms\n",
      "231:\tlearn: 19.7787894\ttotal: 395ms\tremaining: 116ms\n",
      "232:\tlearn: 19.7735463\ttotal: 397ms\tremaining: 114ms\n",
      "233:\tlearn: 19.7727634\ttotal: 399ms\tremaining: 113ms\n",
      "234:\tlearn: 19.7550223\ttotal: 403ms\tremaining: 111ms\n",
      "235:\tlearn: 19.7257528\ttotal: 404ms\tremaining: 110ms\n",
      "236:\tlearn: 19.6942103\ttotal: 406ms\tremaining: 108ms\n",
      "237:\tlearn: 19.6762977\ttotal: 408ms\tremaining: 106ms\n",
      "238:\tlearn: 19.6531773\ttotal: 409ms\tremaining: 104ms\n",
      "239:\tlearn: 19.6320891\ttotal: 411ms\tremaining: 103ms\n",
      "240:\tlearn: 19.6125291\ttotal: 412ms\tremaining: 101ms\n",
      "241:\tlearn: 19.6016957\ttotal: 413ms\tremaining: 99ms\n",
      "242:\tlearn: 19.6009128\ttotal: 415ms\tremaining: 97.2ms\n",
      "243:\tlearn: 19.5894151\ttotal: 416ms\tremaining: 95.5ms\n",
      "244:\tlearn: 19.5874814\ttotal: 417ms\tremaining: 93.7ms\n",
      "245:\tlearn: 19.5711449\ttotal: 419ms\tremaining: 91.9ms\n",
      "246:\tlearn: 19.5703654\ttotal: 420ms\tremaining: 90.1ms\n",
      "247:\tlearn: 19.5644232\ttotal: 421ms\tremaining: 88.4ms\n",
      "248:\tlearn: 19.5466842\ttotal: 423ms\tremaining: 86.7ms\n",
      "249:\tlearn: 19.5382829\ttotal: 425ms\tremaining: 84.9ms\n",
      "250:\tlearn: 19.5214487\ttotal: 426ms\tremaining: 83.2ms\n",
      "251:\tlearn: 19.5208939\ttotal: 427ms\tremaining: 81.4ms\n",
      "252:\tlearn: 19.5202942\ttotal: 429ms\tremaining: 79.6ms\n",
      "253:\tlearn: 19.5073197\ttotal: 430ms\tremaining: 77.9ms\n",
      "254:\tlearn: 19.4950813\ttotal: 432ms\tremaining: 76.2ms\n",
      "255:\tlearn: 19.4799671\ttotal: 433ms\tremaining: 74.4ms\n",
      "256:\tlearn: 19.4618102\ttotal: 435ms\tremaining: 72.7ms\n",
      "257:\tlearn: 19.4481653\ttotal: 436ms\tremaining: 71ms\n",
      "258:\tlearn: 19.4254826\ttotal: 438ms\tremaining: 69.3ms\n",
      "259:\tlearn: 19.4164040\ttotal: 439ms\tremaining: 67.6ms\n",
      "260:\tlearn: 19.3937774\ttotal: 441ms\tremaining: 65.9ms\n",
      "261:\tlearn: 19.3711517\ttotal: 443ms\tremaining: 64.2ms\n",
      "262:\tlearn: 19.3452372\ttotal: 445ms\tremaining: 62.7ms\n",
      "263:\tlearn: 19.3430493\ttotal: 447ms\tremaining: 61ms\n",
      "264:\tlearn: 19.3373042\ttotal: 449ms\tremaining: 59.4ms\n",
      "265:\tlearn: 19.3133232\ttotal: 451ms\tremaining: 57.7ms\n",
      "266:\tlearn: 19.2975026\ttotal: 453ms\tremaining: 56ms\n",
      "267:\tlearn: 19.2963673\ttotal: 455ms\tremaining: 54.3ms\n",
      "268:\tlearn: 19.2957741\ttotal: 457ms\tremaining: 52.7ms\n",
      "269:\tlearn: 19.2840671\ttotal: 459ms\tremaining: 51ms\n",
      "270:\tlearn: 19.2788994\ttotal: 460ms\tremaining: 49.3ms\n",
      "271:\tlearn: 19.2772140\ttotal: 462ms\tremaining: 47.6ms\n",
      "272:\tlearn: 19.2766825\ttotal: 464ms\tremaining: 45.9ms\n",
      "273:\tlearn: 19.2676940\ttotal: 466ms\tremaining: 44.2ms\n",
      "274:\tlearn: 19.2500971\ttotal: 468ms\tremaining: 42.5ms\n",
      "275:\tlearn: 19.2494544\ttotal: 470ms\tremaining: 40.9ms\n",
      "276:\tlearn: 19.2244140\ttotal: 472ms\tremaining: 39.2ms\n",
      "277:\tlearn: 19.2143635\ttotal: 474ms\tremaining: 37.5ms\n",
      "278:\tlearn: 19.1996593\ttotal: 476ms\tremaining: 35.8ms\n",
      "279:\tlearn: 19.1932536\ttotal: 478ms\tremaining: 34.1ms\n",
      "280:\tlearn: 19.1744653\ttotal: 480ms\tremaining: 32.4ms\n",
      "281:\tlearn: 19.1701731\ttotal: 481ms\tremaining: 30.7ms\n",
      "282:\tlearn: 19.1603410\ttotal: 482ms\tremaining: 29ms\n",
      "283:\tlearn: 19.1471007\ttotal: 483ms\tremaining: 27.2ms\n",
      "284:\tlearn: 19.1273111\ttotal: 485ms\tremaining: 25.5ms\n",
      "285:\tlearn: 19.1097545\ttotal: 486ms\tremaining: 23.8ms\n",
      "286:\tlearn: 19.0956354\ttotal: 488ms\tremaining: 22.1ms\n",
      "287:\tlearn: 19.0718510\ttotal: 489ms\tremaining: 20.4ms\n",
      "288:\tlearn: 19.0652632\ttotal: 490ms\tremaining: 18.7ms\n",
      "289:\tlearn: 19.0647155\ttotal: 492ms\tremaining: 17ms\n",
      "290:\tlearn: 19.0642495\ttotal: 494ms\tremaining: 15.3ms\n",
      "291:\tlearn: 19.0464110\ttotal: 495ms\tremaining: 13.6ms\n",
      "292:\tlearn: 19.0411992\ttotal: 497ms\tremaining: 11.9ms\n",
      "293:\tlearn: 19.0407457\ttotal: 498ms\tremaining: 10.2ms\n",
      "294:\tlearn: 19.0208320\ttotal: 499ms\tremaining: 8.46ms\n",
      "295:\tlearn: 19.0089236\ttotal: 501ms\tremaining: 6.77ms\n",
      "296:\tlearn: 18.9941441\ttotal: 502ms\tremaining: 5.07ms\n",
      "297:\tlearn: 18.9936804\ttotal: 504ms\tremaining: 3.38ms\n",
      "298:\tlearn: 18.9781715\ttotal: 505ms\tremaining: 1.69ms\n",
      "299:\tlearn: 18.9574006\ttotal: 507ms\tremaining: 0us\n",
      "RMSE для CatBoostRegressor составляет 48.008570816602685\n"
     ]
    }
   ],
   "source": [
    "#Проведу тестирование на лучшей модели CatBoostRegressor\n",
    "\n",
    "model = CatBoostRegressor(learning_rate=0.1, iterations=300, depth=5, random_state=12345)\n",
    "model.fit(features_train, target_train)\n",
    "\n",
    "pred = model.predict(features_test)\n",
    "\n",
    "rmse = mean_squared_error(target_test, pred, squared=False)\n",
    "\n",
    "print('RMSE для CatBoostRegressor составляет', rmse)"
   ]
  },
  {
   "cell_type": "code",
   "execution_count": 35,
   "metadata": {},
   "outputs": [
    {
     "data": {
      "image/png": "[encoded data removed]",
      "text/plain": [
       "<Figure size 1080x360 with 1 Axes>"
      ]
     },
     "metadata": {
      "needs_background": "light"
     },
     "output_type": "display_data"
    }
   ],
   "source": [
    "#Сравним предсказанные значения с фактическими\n",
    "plt.figure(figsize=(15, 5))\n",
    "plt.plot(target_test.index, target_test, target_test.index, pred)\n",
    "plt.show()"
   ]
  },
  {
   "cell_type": "code",
   "execution_count": 36,
   "metadata": {},
   "outputs": [
    {
     "data": {
      "image/png": "[encoded data removed]",
      "text/plain": [
       "<Figure size 1080x360 with 1 Axes>"
      ]
     },
     "metadata": {
      "needs_background": "light"
     },
     "output_type": "display_data"
    }
   ],
   "source": [
    "#Сравним предсказанные значения с фактическими на более коротком промежутке\n",
    "data_control = pd.DataFrame(index=target_test.index, columns=['target'])\n",
    "data_control['target'] = target_test\n",
    "data_control['predicted'] = pred\n",
    "data_control['2018-08-20':'2018-08-23'].plot(figsize=(15, 5))\n",
    "plt.show()"
   ]
  },
  {
   "cell_type": "markdown",
   "metadata": {},
   "source": [
    "Предсказания не значительно отличаются от фактических значений, все сезонные пики и тренды сохраняются."
   ]
  },
  {
   "cell_type": "code",
   "execution_count": 37,
   "metadata": {},
   "outputs": [
    {
     "data": {
      "image/png": "[encoded data removed]",
      "text/plain": [
       "<Figure size 1080x360 with 1 Axes>"
      ]
     },
     "metadata": {
      "needs_background": "light"
     },
     "output_type": "display_data"
    },
    {
     "name": "stdout",
     "output_type": "stream",
     "text": [
      "RMSE для DummyRegressor 84.73052703029548\n"
     ]
    }
   ],
   "source": [
    "model_dr = DummyRegressor()\n",
    "model_dr.fit(features_train, target_train)\n",
    "pred = model_dr.predict(features_test)\n",
    "plt.figure(figsize=(15, 5))\n",
    "plt.plot(target_test.index, target_test, target_test.index, pred)\n",
    "plt.show()\n",
    "rmse = mean_squared_error(target_test, pred, squared=False)\n",
    "\n",
    "print('RMSE для DummyRegressor', rmse)"
   ]
  },
  {
   "cell_type": "markdown",
   "metadata": {},
   "source": [
    "Модель адекватна"
   ]
  },
  {
   "cell_type": "markdown",
   "metadata": {},
   "source": [
    "## Общий вывод\n",
    "\n",
    "1. Данные загружены и проведена предварительная подготовка\n",
    "2. При проведении аналаиза, был отмечен рост тренда кол-ва закзаов и установлены сезонные пики нагрузки такси в течении дня\n",
    "3. Для составления прогноза по кол-ву заказов в следующем часе, построено 3 модели\n",
    "4. Лучшая модель CatBoots была протестирована и оценена на адекватность\n",
    "\n"
   ]
  }
 ],
 "metadata": {
  "ExecuteTimeLog": [
   {
    "duration": 61,
    "start_time": "2023-03-19T07:07:15.526Z"
   },
   {
    "duration": 420,
    "start_time": "2023-03-19T07:07:24.912Z"
   },
   {
    "duration": 120,
    "start_time": "2023-03-19T07:08:13.826Z"
   },
   {
    "duration": 15,
    "start_time": "2023-03-19T07:08:27.648Z"
   },
   {
    "duration": 82,
    "start_time": "2023-03-19T07:08:58.343Z"
   },
   {
    "duration": 9,
    "start_time": "2023-03-19T07:09:02.739Z"
   },
   {
    "duration": 7,
    "start_time": "2023-03-19T07:09:38.941Z"
   },
   {
    "duration": 16,
    "start_time": "2023-03-19T07:21:01.592Z"
   },
   {
    "duration": 8,
    "start_time": "2023-03-19T07:27:30.645Z"
   },
   {
    "duration": 3,
    "start_time": "2023-03-19T07:28:02.603Z"
   },
   {
    "duration": 14,
    "start_time": "2023-03-19T07:34:29.805Z"
   },
   {
    "duration": 82,
    "start_time": "2023-03-19T07:34:45.530Z"
   },
   {
    "duration": 36,
    "start_time": "2023-03-19T07:34:45.615Z"
   },
   {
    "duration": 15,
    "start_time": "2023-03-19T07:34:50.335Z"
   },
   {
    "duration": 53,
    "start_time": "2023-03-19T07:40:54.396Z"
   },
   {
    "duration": 12,
    "start_time": "2023-03-19T07:43:19.518Z"
   },
   {
    "duration": 3,
    "start_time": "2023-03-19T07:44:45.695Z"
   },
   {
    "duration": 1154,
    "start_time": "2023-03-19T07:46:36.407Z"
   },
   {
    "duration": 723,
    "start_time": "2023-03-19T07:46:59.286Z"
   },
   {
    "duration": 240,
    "start_time": "2023-03-19T07:57:21.842Z"
   },
   {
    "duration": 251,
    "start_time": "2023-03-19T08:02:53.245Z"
   },
   {
    "duration": 328,
    "start_time": "2023-03-19T08:07:26.612Z"
   },
   {
    "duration": 18,
    "start_time": "2023-03-19T08:11:38.516Z"
   },
   {
    "duration": 435,
    "start_time": "2023-03-19T08:12:02.400Z"
   },
   {
    "duration": 123,
    "start_time": "2023-03-19T08:12:13.051Z"
   },
   {
    "duration": 1104,
    "start_time": "2023-03-19T08:12:33.069Z"
   },
   {
    "duration": 124,
    "start_time": "2023-03-19T08:12:34.175Z"
   },
   {
    "duration": 10,
    "start_time": "2023-03-19T08:12:34.301Z"
   },
   {
    "duration": 1104,
    "start_time": "2023-03-19T08:12:34.313Z"
   },
   {
    "duration": 0,
    "start_time": "2023-03-19T08:12:35.419Z"
   },
   {
    "duration": 0,
    "start_time": "2023-03-19T08:12:35.421Z"
   },
   {
    "duration": 0,
    "start_time": "2023-03-19T08:12:35.422Z"
   },
   {
    "duration": 0,
    "start_time": "2023-03-19T08:12:35.423Z"
   },
   {
    "duration": 0,
    "start_time": "2023-03-19T08:12:35.425Z"
   },
   {
    "duration": 1,
    "start_time": "2023-03-19T08:12:35.426Z"
   },
   {
    "duration": 0,
    "start_time": "2023-03-19T08:12:35.428Z"
   },
   {
    "duration": 0,
    "start_time": "2023-03-19T08:12:35.430Z"
   },
   {
    "duration": 3,
    "start_time": "2023-03-19T08:12:44.417Z"
   },
   {
    "duration": 52,
    "start_time": "2023-03-19T08:12:44.875Z"
   },
   {
    "duration": 16,
    "start_time": "2023-03-19T08:12:46.268Z"
   },
   {
    "duration": 965,
    "start_time": "2023-03-19T08:12:47.783Z"
   },
   {
    "duration": 832,
    "start_time": "2023-03-19T08:13:36.658Z"
   },
   {
    "duration": 48,
    "start_time": "2023-03-19T08:17:11.272Z"
   },
   {
    "duration": 13,
    "start_time": "2023-03-19T08:17:15.669Z"
   },
   {
    "duration": 16,
    "start_time": "2023-03-19T08:17:17.409Z"
   },
   {
    "duration": 50,
    "start_time": "2023-03-19T08:17:26.718Z"
   },
   {
    "duration": 7,
    "start_time": "2023-03-19T08:17:30.921Z"
   },
   {
    "duration": 4,
    "start_time": "2023-03-19T08:17:38.699Z"
   },
   {
    "duration": 14,
    "start_time": "2023-03-19T08:17:41.387Z"
   },
   {
    "duration": 7,
    "start_time": "2023-03-19T08:17:41.817Z"
   },
   {
    "duration": 656,
    "start_time": "2023-03-19T08:17:53.472Z"
   },
   {
    "duration": 244,
    "start_time": "2023-03-19T08:17:54.786Z"
   },
   {
    "duration": 272,
    "start_time": "2023-03-19T08:17:56.093Z"
   },
   {
    "duration": 98,
    "start_time": "2023-03-19T08:17:57.474Z"
   },
   {
    "duration": 14,
    "start_time": "2023-03-19T08:18:52.572Z"
   },
   {
    "duration": 50,
    "start_time": "2023-03-19T08:19:43.501Z"
   },
   {
    "duration": 17,
    "start_time": "2023-03-19T08:19:58.661Z"
   },
   {
    "duration": 27,
    "start_time": "2023-03-19T08:22:15.803Z"
   },
   {
    "duration": 48,
    "start_time": "2023-03-19T08:26:56.418Z"
   },
   {
    "duration": 65,
    "start_time": "2023-03-19T08:35:26.414Z"
   },
   {
    "duration": 11,
    "start_time": "2023-03-19T08:35:29.729Z"
   },
   {
    "duration": 5,
    "start_time": "2023-03-19T08:35:31.304Z"
   },
   {
    "duration": 21,
    "start_time": "2023-03-19T08:35:35.318Z"
   },
   {
    "duration": 8,
    "start_time": "2023-03-19T08:35:36.698Z"
   },
   {
    "duration": 799,
    "start_time": "2023-03-19T08:35:40.900Z"
   },
   {
    "duration": 287,
    "start_time": "2023-03-19T08:35:41.806Z"
   },
   {
    "duration": 280,
    "start_time": "2023-03-19T08:35:44.533Z"
   },
   {
    "duration": 15,
    "start_time": "2023-03-19T08:35:46.862Z"
   },
   {
    "duration": 765,
    "start_time": "2023-03-19T08:40:03.599Z"
   },
   {
    "duration": 902,
    "start_time": "2023-03-19T08:42:30.796Z"
   },
   {
    "duration": 8,
    "start_time": "2023-03-19T09:06:25.606Z"
   },
   {
    "duration": 314,
    "start_time": "2023-03-19T10:05:51.005Z"
   },
   {
    "duration": 323,
    "start_time": "2023-03-19T10:06:02.455Z"
   },
   {
    "duration": 1008,
    "start_time": "2023-03-19T10:17:43.121Z"
   },
   {
    "duration": 1035,
    "start_time": "2023-03-19T10:17:54.802Z"
   },
   {
    "duration": 734,
    "start_time": "2023-03-19T10:19:30.703Z"
   },
   {
    "duration": 373,
    "start_time": "2023-03-19T10:21:55.775Z"
   },
   {
    "duration": 10,
    "start_time": "2023-03-19T10:22:12.002Z"
   },
   {
    "duration": 319,
    "start_time": "2023-03-19T10:22:22.016Z"
   },
   {
    "duration": 812,
    "start_time": "2023-03-19T10:22:28.634Z"
   },
   {
    "duration": 101,
    "start_time": "2023-03-19T10:40:59.998Z"
   },
   {
    "duration": 18,
    "start_time": "2023-03-19T10:41:19.119Z"
   },
   {
    "duration": 1010,
    "start_time": "2023-03-19T10:41:44.527Z"
   },
   {
    "duration": 32,
    "start_time": "2023-03-19T10:43:28.697Z"
   },
   {
    "duration": 26,
    "start_time": "2023-03-19T10:46:43.234Z"
   },
   {
    "duration": 321,
    "start_time": "2023-03-19T10:54:15.446Z"
   },
   {
    "duration": 12,
    "start_time": "2023-03-19T11:03:42.996Z"
   },
   {
    "duration": 183,
    "start_time": "2023-03-19T11:07:06.388Z"
   },
   {
    "duration": 927,
    "start_time": "2023-03-19T11:08:01.899Z"
   },
   {
    "duration": 186,
    "start_time": "2023-03-19T11:08:14.955Z"
   },
   {
    "duration": 248,
    "start_time": "2023-03-19T11:10:52.500Z"
   },
   {
    "duration": 495,
    "start_time": "2023-03-19T11:11:32.736Z"
   },
   {
    "duration": 5,
    "start_time": "2023-03-19T12:17:33.097Z"
   },
   {
    "duration": 5,
    "start_time": "2023-03-19T12:27:48.424Z"
   },
   {
    "duration": 6,
    "start_time": "2023-03-19T12:37:19.108Z"
   },
   {
    "duration": 12,
    "start_time": "2023-03-19T12:37:51.985Z"
   },
   {
    "duration": 14,
    "start_time": "2023-03-19T12:38:34.176Z"
   },
   {
    "duration": 28,
    "start_time": "2023-03-19T12:42:34.377Z"
   },
   {
    "duration": 24,
    "start_time": "2023-03-19T12:43:01.511Z"
   },
   {
    "duration": 7,
    "start_time": "2023-03-19T12:49:08.280Z"
   },
   {
    "duration": 11,
    "start_time": "2023-03-19T13:06:21.628Z"
   },
   {
    "duration": 278,
    "start_time": "2023-03-19T13:07:07.621Z"
   },
   {
    "duration": 10,
    "start_time": "2023-03-19T13:07:17.610Z"
   },
   {
    "duration": 10,
    "start_time": "2023-03-19T13:09:27.119Z"
   },
   {
    "duration": 18,
    "start_time": "2023-03-19T13:10:55.118Z"
   },
   {
    "duration": 5,
    "start_time": "2023-03-19T13:12:12.398Z"
   },
   {
    "duration": 33,
    "start_time": "2023-03-19T13:17:54.208Z"
   },
   {
    "duration": 24,
    "start_time": "2023-03-19T13:18:28.955Z"
   },
   {
    "duration": 89,
    "start_time": "2023-03-19T13:18:39.096Z"
   },
   {
    "duration": 4,
    "start_time": "2023-03-19T13:19:05.741Z"
   },
   {
    "duration": 78,
    "start_time": "2023-03-19T13:19:12.703Z"
   },
   {
    "duration": 121,
    "start_time": "2023-03-19T13:19:46.863Z"
   },
   {
    "duration": 5,
    "start_time": "2023-03-19T13:21:28.443Z"
   },
   {
    "duration": 15,
    "start_time": "2023-03-19T13:22:30.335Z"
   },
   {
    "duration": 76,
    "start_time": "2023-03-19T14:56:51.019Z"
   },
   {
    "duration": 2362,
    "start_time": "2023-03-19T14:59:57.195Z"
   },
   {
    "duration": 17,
    "start_time": "2023-03-19T15:03:50.642Z"
   },
   {
    "duration": 9,
    "start_time": "2023-03-19T15:03:51.482Z"
   },
   {
    "duration": 7,
    "start_time": "2023-03-19T15:03:52.696Z"
   },
   {
    "duration": 21,
    "start_time": "2023-03-19T15:03:53.299Z"
   },
   {
    "duration": 2760,
    "start_time": "2023-03-19T15:03:54.102Z"
   },
   {
    "duration": 16,
    "start_time": "2023-03-19T15:08:37.274Z"
   },
   {
    "duration": 4,
    "start_time": "2023-03-19T15:08:44.498Z"
   },
   {
    "duration": 15,
    "start_time": "2023-03-19T15:09:21.675Z"
   },
   {
    "duration": 1537,
    "start_time": "2023-03-19T15:09:44.595Z"
   },
   {
    "duration": 53,
    "start_time": "2023-03-19T15:09:46.134Z"
   },
   {
    "duration": 16,
    "start_time": "2023-03-19T15:09:46.189Z"
   },
   {
    "duration": 24,
    "start_time": "2023-03-19T15:09:46.208Z"
   },
   {
    "duration": 84,
    "start_time": "2023-03-19T15:09:46.235Z"
   },
   {
    "duration": 10,
    "start_time": "2023-03-19T15:09:46.321Z"
   },
   {
    "duration": 25,
    "start_time": "2023-03-19T15:09:46.334Z"
   },
   {
    "duration": 26,
    "start_time": "2023-03-19T15:09:46.362Z"
   },
   {
    "duration": 37,
    "start_time": "2023-03-19T15:09:46.391Z"
   },
   {
    "duration": 26,
    "start_time": "2023-03-19T15:09:46.432Z"
   },
   {
    "duration": 799,
    "start_time": "2023-03-19T15:09:46.460Z"
   },
   {
    "duration": 358,
    "start_time": "2023-03-19T15:09:47.261Z"
   },
   {
    "duration": 7,
    "start_time": "2023-03-19T15:09:47.622Z"
   },
   {
    "duration": 277,
    "start_time": "2023-03-19T15:09:47.630Z"
   },
   {
    "duration": 879,
    "start_time": "2023-03-19T15:09:47.908Z"
   },
   {
    "duration": 201,
    "start_time": "2023-03-19T15:09:48.789Z"
   },
   {
    "duration": 222,
    "start_time": "2023-03-19T15:09:48.991Z"
   },
   {
    "duration": 6,
    "start_time": "2023-03-19T15:09:49.216Z"
   },
   {
    "duration": 29,
    "start_time": "2023-03-19T15:09:49.224Z"
   },
   {
    "duration": 10,
    "start_time": "2023-03-19T15:09:49.255Z"
   },
   {
    "duration": 7,
    "start_time": "2023-03-19T15:09:49.282Z"
   },
   {
    "duration": 33,
    "start_time": "2023-03-19T15:09:49.291Z"
   },
   {
    "duration": 1796,
    "start_time": "2023-03-19T15:09:49.383Z"
   },
   {
    "duration": 4,
    "start_time": "2023-03-19T15:10:59.776Z"
   },
   {
    "duration": 463,
    "start_time": "2023-03-19T15:11:16.535Z"
   },
   {
    "duration": 1643,
    "start_time": "2023-03-19T15:13:03.816Z"
   },
   {
    "duration": 58,
    "start_time": "2023-03-19T15:13:05.462Z"
   },
   {
    "duration": 24,
    "start_time": "2023-03-19T15:13:05.523Z"
   },
   {
    "duration": 48,
    "start_time": "2023-03-19T15:13:05.550Z"
   },
   {
    "duration": 41,
    "start_time": "2023-03-19T15:13:05.601Z"
   },
   {
    "duration": 10,
    "start_time": "2023-03-19T15:13:05.644Z"
   },
   {
    "duration": 14,
    "start_time": "2023-03-19T15:13:05.657Z"
   },
   {
    "duration": 15,
    "start_time": "2023-03-19T15:13:05.681Z"
   },
   {
    "duration": 8,
    "start_time": "2023-03-19T15:13:05.698Z"
   },
   {
    "duration": 9,
    "start_time": "2023-03-19T15:13:05.708Z"
   },
   {
    "duration": 802,
    "start_time": "2023-03-19T15:13:05.719Z"
   },
   {
    "duration": 359,
    "start_time": "2023-03-19T15:13:06.523Z"
   },
   {
    "duration": 8,
    "start_time": "2023-03-19T15:13:06.884Z"
   },
   {
    "duration": 288,
    "start_time": "2023-03-19T15:13:06.896Z"
   },
   {
    "duration": 856,
    "start_time": "2023-03-19T15:13:07.187Z"
   },
   {
    "duration": 206,
    "start_time": "2023-03-19T15:13:08.045Z"
   },
   {
    "duration": 216,
    "start_time": "2023-03-19T15:13:08.253Z"
   },
   {
    "duration": 10,
    "start_time": "2023-03-19T15:13:08.471Z"
   },
   {
    "duration": 15,
    "start_time": "2023-03-19T15:13:08.483Z"
   },
   {
    "duration": 11,
    "start_time": "2023-03-19T15:13:08.500Z"
   },
   {
    "duration": 8,
    "start_time": "2023-03-19T15:13:08.513Z"
   },
   {
    "duration": 61,
    "start_time": "2023-03-19T15:13:08.523Z"
   },
   {
    "duration": 1919,
    "start_time": "2023-03-19T15:13:08.588Z"
   },
   {
    "duration": 9,
    "start_time": "2023-03-19T15:18:56.370Z"
   },
   {
    "duration": 5,
    "start_time": "2023-03-19T15:18:58.879Z"
   },
   {
    "duration": 17,
    "start_time": "2023-03-19T15:19:00.158Z"
   },
   {
    "duration": 2013,
    "start_time": "2023-03-19T15:19:01.611Z"
   },
   {
    "duration": 112,
    "start_time": "2023-03-19T15:30:30.449Z"
   },
   {
    "duration": 4,
    "start_time": "2023-03-19T15:30:40.428Z"
   },
   {
    "duration": 3,
    "start_time": "2023-03-19T15:30:46.388Z"
   },
   {
    "duration": 4,
    "start_time": "2023-03-19T15:32:43.277Z"
   },
   {
    "duration": 15,
    "start_time": "2023-03-19T15:34:35.573Z"
   },
   {
    "duration": 4,
    "start_time": "2023-03-19T15:43:52.671Z"
   },
   {
    "duration": 3,
    "start_time": "2023-03-19T15:56:02.572Z"
   },
   {
    "duration": 56,
    "start_time": "2023-03-19T15:56:02.655Z"
   },
   {
    "duration": 74,
    "start_time": "2023-03-19T15:56:06.910Z"
   },
   {
    "duration": 12,
    "start_time": "2023-03-19T15:57:02.505Z"
   },
   {
    "duration": 4,
    "start_time": "2023-03-19T15:57:12.113Z"
   },
   {
    "duration": 3,
    "start_time": "2023-03-19T15:57:22.876Z"
   },
   {
    "duration": 3,
    "start_time": "2023-03-19T15:57:26.345Z"
   },
   {
    "duration": 1477,
    "start_time": "2023-03-19T15:58:18.526Z"
   },
   {
    "duration": 60,
    "start_time": "2023-03-19T15:58:20.006Z"
   },
   {
    "duration": 17,
    "start_time": "2023-03-19T15:58:20.069Z"
   },
   {
    "duration": 55,
    "start_time": "2023-03-19T15:58:20.088Z"
   },
   {
    "duration": 34,
    "start_time": "2023-03-19T15:58:20.145Z"
   },
   {
    "duration": 8,
    "start_time": "2023-03-19T15:58:20.180Z"
   },
   {
    "duration": 20,
    "start_time": "2023-03-19T15:58:20.190Z"
   },
   {
    "duration": 23,
    "start_time": "2023-03-19T15:58:20.212Z"
   },
   {
    "duration": 5,
    "start_time": "2023-03-19T15:58:20.237Z"
   },
   {
    "duration": 12,
    "start_time": "2023-03-19T15:58:20.244Z"
   },
   {
    "duration": 727,
    "start_time": "2023-03-19T15:58:20.258Z"
   },
   {
    "duration": 371,
    "start_time": "2023-03-19T15:58:20.987Z"
   },
   {
    "duration": 9,
    "start_time": "2023-03-19T15:58:21.360Z"
   },
   {
    "duration": 285,
    "start_time": "2023-03-19T15:58:21.381Z"
   },
   {
    "duration": 891,
    "start_time": "2023-03-19T15:58:21.668Z"
   },
   {
    "duration": 229,
    "start_time": "2023-03-19T15:58:22.561Z"
   },
   {
    "duration": 229,
    "start_time": "2023-03-19T15:58:22.796Z"
   },
   {
    "duration": 5,
    "start_time": "2023-03-19T15:58:23.027Z"
   },
   {
    "duration": 20,
    "start_time": "2023-03-19T15:58:23.034Z"
   },
   {
    "duration": 8,
    "start_time": "2023-03-19T15:58:23.056Z"
   },
   {
    "duration": 8,
    "start_time": "2023-03-19T15:58:23.081Z"
   },
   {
    "duration": 16,
    "start_time": "2023-03-19T15:58:23.090Z"
   },
   {
    "duration": 6,
    "start_time": "2023-03-19T15:58:23.108Z"
   },
   {
    "duration": 6,
    "start_time": "2023-03-19T15:58:23.116Z"
   },
   {
    "duration": 63,
    "start_time": "2023-03-19T15:58:23.124Z"
   },
   {
    "duration": 318,
    "start_time": "2023-03-19T15:58:23.189Z"
   },
   {
    "duration": 76,
    "start_time": "2023-03-19T16:00:42.402Z"
   },
   {
    "duration": 1492,
    "start_time": "2023-03-19T16:10:11.494Z"
   },
   {
    "duration": 50,
    "start_time": "2023-03-19T16:10:12.989Z"
   },
   {
    "duration": 14,
    "start_time": "2023-03-19T16:10:13.041Z"
   },
   {
    "duration": 15,
    "start_time": "2023-03-19T16:10:13.057Z"
   },
   {
    "duration": 34,
    "start_time": "2023-03-19T16:10:13.074Z"
   },
   {
    "duration": 6,
    "start_time": "2023-03-19T16:10:13.110Z"
   },
   {
    "duration": 10,
    "start_time": "2023-03-19T16:10:13.118Z"
   },
   {
    "duration": 16,
    "start_time": "2023-03-19T16:10:13.129Z"
   },
   {
    "duration": 4,
    "start_time": "2023-03-19T16:10:13.147Z"
   },
   {
    "duration": 5,
    "start_time": "2023-03-19T16:10:13.181Z"
   },
   {
    "duration": 761,
    "start_time": "2023-03-19T16:10:13.187Z"
   },
   {
    "duration": 334,
    "start_time": "2023-03-19T16:10:13.949Z"
   },
   {
    "duration": 9,
    "start_time": "2023-03-19T16:10:14.285Z"
   },
   {
    "duration": 299,
    "start_time": "2023-03-19T16:10:14.296Z"
   },
   {
    "duration": 842,
    "start_time": "2023-03-19T16:10:14.597Z"
   },
   {
    "duration": 221,
    "start_time": "2023-03-19T16:10:15.441Z"
   },
   {
    "duration": 233,
    "start_time": "2023-03-19T16:10:15.664Z"
   },
   {
    "duration": 4,
    "start_time": "2023-03-19T16:10:15.899Z"
   },
   {
    "duration": 24,
    "start_time": "2023-03-19T16:10:15.905Z"
   },
   {
    "duration": 9,
    "start_time": "2023-03-19T16:10:15.931Z"
   },
   {
    "duration": 6,
    "start_time": "2023-03-19T16:10:15.942Z"
   },
   {
    "duration": 20,
    "start_time": "2023-03-19T16:10:15.950Z"
   },
   {
    "duration": 26,
    "start_time": "2023-03-19T16:10:15.973Z"
   },
   {
    "duration": 26,
    "start_time": "2023-03-19T16:10:16.001Z"
   },
   {
    "duration": 223,
    "start_time": "2023-03-19T16:10:16.030Z"
   },
   {
    "duration": 1534,
    "start_time": "2023-03-19T16:10:58.209Z"
   },
   {
    "duration": 61,
    "start_time": "2023-03-19T16:10:59.745Z"
   },
   {
    "duration": 15,
    "start_time": "2023-03-19T16:10:59.808Z"
   },
   {
    "duration": 21,
    "start_time": "2023-03-19T16:10:59.825Z"
   },
   {
    "duration": 62,
    "start_time": "2023-03-19T16:10:59.849Z"
   },
   {
    "duration": 7,
    "start_time": "2023-03-19T16:10:59.913Z"
   },
   {
    "duration": 10,
    "start_time": "2023-03-19T16:10:59.922Z"
   },
   {
    "duration": 16,
    "start_time": "2023-03-19T16:10:59.934Z"
   },
   {
    "duration": 7,
    "start_time": "2023-03-19T16:10:59.952Z"
   },
   {
    "duration": 12,
    "start_time": "2023-03-19T16:10:59.982Z"
   },
   {
    "duration": 726,
    "start_time": "2023-03-19T16:10:59.995Z"
   },
   {
    "duration": 360,
    "start_time": "2023-03-19T16:11:00.723Z"
   },
   {
    "duration": 8,
    "start_time": "2023-03-19T16:11:01.085Z"
   },
   {
    "duration": 294,
    "start_time": "2023-03-19T16:11:01.096Z"
   },
   {
    "duration": 831,
    "start_time": "2023-03-19T16:11:01.392Z"
   },
   {
    "duration": 196,
    "start_time": "2023-03-19T16:11:02.224Z"
   },
   {
    "duration": 219,
    "start_time": "2023-03-19T16:11:02.422Z"
   },
   {
    "duration": 4,
    "start_time": "2023-03-19T16:11:02.643Z"
   },
   {
    "duration": 54,
    "start_time": "2023-03-19T16:11:02.648Z"
   },
   {
    "duration": 9,
    "start_time": "2023-03-19T16:11:02.704Z"
   },
   {
    "duration": 9,
    "start_time": "2023-03-19T16:11:02.715Z"
   },
   {
    "duration": 21,
    "start_time": "2023-03-19T16:11:02.726Z"
   },
   {
    "duration": 26,
    "start_time": "2023-03-19T16:11:02.749Z"
   },
   {
    "duration": 19,
    "start_time": "2023-03-19T16:11:02.776Z"
   },
   {
    "duration": 208,
    "start_time": "2023-03-19T16:11:02.796Z"
   },
   {
    "duration": 59,
    "start_time": "2023-03-19T16:11:17.682Z"
   },
   {
    "duration": 338,
    "start_time": "2023-03-19T16:11:27.584Z"
   },
   {
    "duration": 4,
    "start_time": "2023-03-19T16:16:59.125Z"
   },
   {
    "duration": 1538,
    "start_time": "2023-03-19T16:19:55.407Z"
   },
   {
    "duration": 55,
    "start_time": "2023-03-19T16:19:56.947Z"
   },
   {
    "duration": 15,
    "start_time": "2023-03-19T16:19:57.004Z"
   },
   {
    "duration": 22,
    "start_time": "2023-03-19T16:19:57.021Z"
   },
   {
    "duration": 50,
    "start_time": "2023-03-19T16:19:57.045Z"
   },
   {
    "duration": 7,
    "start_time": "2023-03-19T16:19:57.097Z"
   },
   {
    "duration": 14,
    "start_time": "2023-03-19T16:19:57.105Z"
   },
   {
    "duration": 28,
    "start_time": "2023-03-19T16:19:57.121Z"
   },
   {
    "duration": 7,
    "start_time": "2023-03-19T16:19:57.150Z"
   },
   {
    "duration": 7,
    "start_time": "2023-03-19T16:19:57.160Z"
   },
   {
    "duration": 765,
    "start_time": "2023-03-19T16:19:57.168Z"
   },
   {
    "duration": 371,
    "start_time": "2023-03-19T16:19:57.935Z"
   },
   {
    "duration": 8,
    "start_time": "2023-03-19T16:19:58.309Z"
   },
   {
    "duration": 295,
    "start_time": "2023-03-19T16:19:58.319Z"
   },
   {
    "duration": 847,
    "start_time": "2023-03-19T16:19:58.616Z"
   },
   {
    "duration": 200,
    "start_time": "2023-03-19T16:19:59.465Z"
   },
   {
    "duration": 241,
    "start_time": "2023-03-19T16:19:59.667Z"
   },
   {
    "duration": 4,
    "start_time": "2023-03-19T16:19:59.910Z"
   },
   {
    "duration": 28,
    "start_time": "2023-03-19T16:19:59.915Z"
   },
   {
    "duration": 9,
    "start_time": "2023-03-19T16:19:59.946Z"
   },
   {
    "duration": 10,
    "start_time": "2023-03-19T16:19:59.957Z"
   },
   {
    "duration": 3,
    "start_time": "2023-03-19T16:19:59.980Z"
   },
   {
    "duration": 5,
    "start_time": "2023-03-19T16:19:59.985Z"
   },
   {
    "duration": 5,
    "start_time": "2023-03-19T16:19:59.992Z"
   },
   {
    "duration": 99,
    "start_time": "2023-03-19T16:19:59.999Z"
   },
   {
    "duration": 388,
    "start_time": "2023-03-19T16:20:00.099Z"
   },
   {
    "duration": 4,
    "start_time": "2023-03-19T16:20:00.489Z"
   },
   {
    "duration": 113,
    "start_time": "2023-03-19T16:20:00.497Z"
   },
   {
    "duration": 1488,
    "start_time": "2023-03-19T16:22:28.693Z"
   },
   {
    "duration": 54,
    "start_time": "2023-03-19T16:22:30.183Z"
   },
   {
    "duration": 17,
    "start_time": "2023-03-19T16:22:30.239Z"
   },
   {
    "duration": 42,
    "start_time": "2023-03-19T16:22:30.259Z"
   },
   {
    "duration": 58,
    "start_time": "2023-03-19T16:22:30.304Z"
   },
   {
    "duration": 9,
    "start_time": "2023-03-19T16:22:30.364Z"
   },
   {
    "duration": 45,
    "start_time": "2023-03-19T16:22:30.374Z"
   },
   {
    "duration": 38,
    "start_time": "2023-03-19T16:22:30.421Z"
   },
   {
    "duration": 33,
    "start_time": "2023-03-19T16:22:30.461Z"
   },
   {
    "duration": 29,
    "start_time": "2023-03-19T16:22:30.496Z"
   },
   {
    "duration": 704,
    "start_time": "2023-03-19T16:22:30.527Z"
   },
   {
    "duration": 347,
    "start_time": "2023-03-19T16:22:31.232Z"
   },
   {
    "duration": 8,
    "start_time": "2023-03-19T16:22:31.581Z"
   },
   {
    "duration": 312,
    "start_time": "2023-03-19T16:22:31.592Z"
   },
   {
    "duration": 869,
    "start_time": "2023-03-19T16:22:31.906Z"
   },
   {
    "duration": 196,
    "start_time": "2023-03-19T16:22:32.777Z"
   },
   {
    "duration": 209,
    "start_time": "2023-03-19T16:22:32.981Z"
   },
   {
    "duration": 4,
    "start_time": "2023-03-19T16:22:33.192Z"
   },
   {
    "duration": 18,
    "start_time": "2023-03-19T16:22:33.198Z"
   },
   {
    "duration": 8,
    "start_time": "2023-03-19T16:22:33.218Z"
   },
   {
    "duration": 8,
    "start_time": "2023-03-19T16:22:33.228Z"
   },
   {
    "duration": 6,
    "start_time": "2023-03-19T16:22:33.238Z"
   },
   {
    "duration": 10,
    "start_time": "2023-03-19T16:22:33.246Z"
   },
   {
    "duration": 23,
    "start_time": "2023-03-19T16:22:33.258Z"
   },
   {
    "duration": 89,
    "start_time": "2023-03-19T16:22:33.283Z"
   },
   {
    "duration": 332,
    "start_time": "2023-03-19T16:22:33.374Z"
   },
   {
    "duration": 13684,
    "start_time": "2023-03-19T16:22:33.708Z"
   },
   {
    "duration": 11,
    "start_time": "2023-03-19T16:32:27.836Z"
   },
   {
    "duration": 17,
    "start_time": "2023-03-19T16:42:15.434Z"
   },
   {
    "duration": 15,
    "start_time": "2023-03-19T16:43:08.804Z"
   },
   {
    "duration": 8,
    "start_time": "2023-03-19T16:43:10.553Z"
   },
   {
    "duration": 6,
    "start_time": "2023-03-19T16:43:12.459Z"
   },
   {
    "duration": 3,
    "start_time": "2023-03-19T16:43:13.620Z"
   },
   {
    "duration": 3,
    "start_time": "2023-03-19T16:43:14.251Z"
   },
   {
    "duration": 3,
    "start_time": "2023-03-19T16:43:14.770Z"
   },
   {
    "duration": 11,
    "start_time": "2023-03-19T16:43:15.413Z"
   },
   {
    "duration": 74,
    "start_time": "2023-03-19T16:43:17.648Z"
   },
   {
    "duration": 1474,
    "start_time": "2023-03-19T16:43:27.476Z"
   },
   {
    "duration": 59,
    "start_time": "2023-03-19T16:43:28.952Z"
   },
   {
    "duration": 15,
    "start_time": "2023-03-19T16:43:29.012Z"
   },
   {
    "duration": 30,
    "start_time": "2023-03-19T16:43:29.029Z"
   },
   {
    "duration": 50,
    "start_time": "2023-03-19T16:43:29.061Z"
   },
   {
    "duration": 7,
    "start_time": "2023-03-19T16:43:29.112Z"
   },
   {
    "duration": 7,
    "start_time": "2023-03-19T16:43:29.121Z"
   },
   {
    "duration": 20,
    "start_time": "2023-03-19T16:43:29.130Z"
   },
   {
    "duration": 7,
    "start_time": "2023-03-19T16:43:29.152Z"
   },
   {
    "duration": 6,
    "start_time": "2023-03-19T16:43:29.182Z"
   },
   {
    "duration": 676,
    "start_time": "2023-03-19T16:43:29.190Z"
   },
   {
    "duration": 330,
    "start_time": "2023-03-19T16:43:29.868Z"
   },
   {
    "duration": 8,
    "start_time": "2023-03-19T16:43:30.200Z"
   },
   {
    "duration": 272,
    "start_time": "2023-03-19T16:43:30.209Z"
   },
   {
    "duration": 805,
    "start_time": "2023-03-19T16:43:30.482Z"
   },
   {
    "duration": 213,
    "start_time": "2023-03-19T16:43:31.290Z"
   },
   {
    "duration": 224,
    "start_time": "2023-03-19T16:43:31.505Z"
   },
   {
    "duration": 5,
    "start_time": "2023-03-19T16:43:31.731Z"
   },
   {
    "duration": 124,
    "start_time": "2023-03-19T16:43:31.738Z"
   },
   {
    "duration": 42,
    "start_time": "2023-03-19T16:43:31.865Z"
   },
   {
    "duration": 90,
    "start_time": "2023-03-19T16:43:31.909Z"
   },
   {
    "duration": 66,
    "start_time": "2023-03-19T16:43:32.001Z"
   },
   {
    "duration": 72,
    "start_time": "2023-03-19T16:43:32.069Z"
   },
   {
    "duration": 7,
    "start_time": "2023-03-19T16:43:32.143Z"
   },
   {
    "duration": 17,
    "start_time": "2023-03-19T16:43:32.152Z"
   },
   {
    "duration": 129,
    "start_time": "2023-03-19T16:43:32.171Z"
   },
   {
    "duration": 505,
    "start_time": "2023-03-19T16:43:32.301Z"
   },
   {
    "duration": 17412,
    "start_time": "2023-03-19T16:43:32.809Z"
   },
   {
    "duration": 556,
    "start_time": "2023-03-19T16:46:06.903Z"
   },
   {
    "duration": 494,
    "start_time": "2023-03-19T16:48:40.303Z"
   },
   {
    "duration": 205,
    "start_time": "2023-03-19T16:49:34.392Z"
   },
   {
    "duration": 1006,
    "start_time": "2023-03-19T16:51:41.655Z"
   },
   {
    "duration": 822,
    "start_time": "2023-03-19T16:51:48.796Z"
   },
   {
    "duration": 451,
    "start_time": "2023-03-19T16:52:00.941Z"
   },
   {
    "duration": 658,
    "start_time": "2023-03-19T16:52:40.935Z"
   },
   {
    "duration": 432,
    "start_time": "2023-03-19T16:52:48.490Z"
   },
   {
    "duration": 608,
    "start_time": "2023-03-19T16:53:16.789Z"
   },
   {
    "duration": 472,
    "start_time": "2023-03-19T16:53:47.718Z"
   },
   {
    "duration": 1442,
    "start_time": "2023-03-19T16:54:16.287Z"
   },
   {
    "duration": 51,
    "start_time": "2023-03-19T16:54:17.732Z"
   },
   {
    "duration": 13,
    "start_time": "2023-03-19T16:54:17.784Z"
   },
   {
    "duration": 20,
    "start_time": "2023-03-19T16:54:17.799Z"
   },
   {
    "duration": 54,
    "start_time": "2023-03-19T16:54:17.822Z"
   },
   {
    "duration": 7,
    "start_time": "2023-03-19T16:54:17.878Z"
   },
   {
    "duration": 16,
    "start_time": "2023-03-19T16:54:17.886Z"
   },
   {
    "duration": 30,
    "start_time": "2023-03-19T16:54:17.904Z"
   },
   {
    "duration": 18,
    "start_time": "2023-03-19T16:54:17.936Z"
   },
   {
    "duration": 11,
    "start_time": "2023-03-19T16:54:17.956Z"
   },
   {
    "duration": 673,
    "start_time": "2023-03-19T16:54:17.969Z"
   },
   {
    "duration": 321,
    "start_time": "2023-03-19T16:54:18.644Z"
   },
   {
    "duration": 15,
    "start_time": "2023-03-19T16:54:18.967Z"
   },
   {
    "duration": 330,
    "start_time": "2023-03-19T16:54:18.984Z"
   },
   {
    "duration": 824,
    "start_time": "2023-03-19T16:54:19.315Z"
   },
   {
    "duration": 185,
    "start_time": "2023-03-19T16:54:20.140Z"
   },
   {
    "duration": 223,
    "start_time": "2023-03-19T16:54:20.327Z"
   },
   {
    "duration": 5,
    "start_time": "2023-03-19T16:54:20.552Z"
   },
   {
    "duration": 30,
    "start_time": "2023-03-19T16:54:20.558Z"
   },
   {
    "duration": 8,
    "start_time": "2023-03-19T16:54:20.589Z"
   },
   {
    "duration": 5,
    "start_time": "2023-03-19T16:54:20.599Z"
   },
   {
    "duration": 16,
    "start_time": "2023-03-19T16:54:20.606Z"
   },
   {
    "duration": 9,
    "start_time": "2023-03-19T16:54:20.624Z"
   },
   {
    "duration": 14,
    "start_time": "2023-03-19T16:54:20.635Z"
   },
   {
    "duration": 166,
    "start_time": "2023-03-19T16:54:20.651Z"
   },
   {
    "duration": 102,
    "start_time": "2023-03-19T16:54:20.819Z"
   },
   {
    "duration": 551,
    "start_time": "2023-03-19T16:54:20.922Z"
   },
   {
    "duration": 17639,
    "start_time": "2023-03-19T16:54:21.482Z"
   },
   {
    "duration": 19,
    "start_time": "2023-03-19T16:57:41.803Z"
   },
   {
    "duration": 10,
    "start_time": "2023-03-19T16:57:42.535Z"
   },
   {
    "duration": 7,
    "start_time": "2023-03-19T16:57:44.551Z"
   },
   {
    "duration": 3,
    "start_time": "2023-03-19T16:57:44.691Z"
   },
   {
    "duration": 3,
    "start_time": "2023-03-19T16:57:45.246Z"
   },
   {
    "duration": 3,
    "start_time": "2023-03-19T16:57:45.728Z"
   },
   {
    "duration": 17,
    "start_time": "2023-03-19T16:57:45.962Z"
   },
   {
    "duration": 123,
    "start_time": "2023-03-19T16:57:50.291Z"
   },
   {
    "duration": 12,
    "start_time": "2023-03-19T17:01:53.490Z"
   },
   {
    "duration": 118,
    "start_time": "2023-03-19T17:02:17.887Z"
   },
   {
    "duration": 13,
    "start_time": "2023-03-19T17:03:22.726Z"
   },
   {
    "duration": 10,
    "start_time": "2023-03-19T17:03:33.291Z"
   },
   {
    "duration": 7,
    "start_time": "2023-03-19T17:03:50.902Z"
   },
   {
    "duration": 12,
    "start_time": "2023-03-19T17:05:32.621Z"
   },
   {
    "duration": 12,
    "start_time": "2023-03-19T17:05:50.299Z"
   },
   {
    "duration": 7,
    "start_time": "2023-03-19T17:05:52.220Z"
   },
   {
    "duration": 4,
    "start_time": "2023-03-19T17:05:53.195Z"
   },
   {
    "duration": 3,
    "start_time": "2023-03-19T17:05:53.827Z"
   },
   {
    "duration": 3,
    "start_time": "2023-03-19T17:05:54.338Z"
   },
   {
    "duration": 15,
    "start_time": "2023-03-19T17:05:55.103Z"
   },
   {
    "duration": 124,
    "start_time": "2023-03-19T17:05:56.798Z"
   },
   {
    "duration": 545,
    "start_time": "2023-03-19T17:06:00.407Z"
   },
   {
    "duration": 1674,
    "start_time": "2023-03-19T17:06:21.192Z"
   },
   {
    "duration": 70,
    "start_time": "2023-03-19T17:06:22.868Z"
   },
   {
    "duration": 15,
    "start_time": "2023-03-19T17:06:22.940Z"
   },
   {
    "duration": 18,
    "start_time": "2023-03-19T17:06:22.956Z"
   },
   {
    "duration": 39,
    "start_time": "2023-03-19T17:06:22.977Z"
   },
   {
    "duration": 7,
    "start_time": "2023-03-19T17:06:23.018Z"
   },
   {
    "duration": 23,
    "start_time": "2023-03-19T17:06:23.027Z"
   },
   {
    "duration": 28,
    "start_time": "2023-03-19T17:06:23.052Z"
   },
   {
    "duration": 17,
    "start_time": "2023-03-19T17:06:23.090Z"
   },
   {
    "duration": 15,
    "start_time": "2023-03-19T17:06:23.108Z"
   },
   {
    "duration": 729,
    "start_time": "2023-03-19T17:06:23.124Z"
   },
   {
    "duration": 374,
    "start_time": "2023-03-19T17:06:23.855Z"
   },
   {
    "duration": 7,
    "start_time": "2023-03-19T17:06:24.231Z"
   },
   {
    "duration": 373,
    "start_time": "2023-03-19T17:06:24.241Z"
   },
   {
    "duration": 895,
    "start_time": "2023-03-19T17:06:24.616Z"
   },
   {
    "duration": 236,
    "start_time": "2023-03-19T17:06:25.513Z"
   },
   {
    "duration": 251,
    "start_time": "2023-03-19T17:06:25.751Z"
   },
   {
    "duration": 4,
    "start_time": "2023-03-19T17:06:26.004Z"
   },
   {
    "duration": 27,
    "start_time": "2023-03-19T17:06:26.010Z"
   },
   {
    "duration": 13,
    "start_time": "2023-03-19T17:06:26.039Z"
   },
   {
    "duration": 30,
    "start_time": "2023-03-19T17:06:26.055Z"
   },
   {
    "duration": 37,
    "start_time": "2023-03-19T17:06:26.087Z"
   },
   {
    "duration": 11,
    "start_time": "2023-03-19T17:06:26.126Z"
   },
   {
    "duration": 10,
    "start_time": "2023-03-19T17:06:26.139Z"
   },
   {
    "duration": 176,
    "start_time": "2023-03-19T17:06:26.152Z"
   },
   {
    "duration": 177,
    "start_time": "2023-03-19T17:06:26.333Z"
   },
   {
    "duration": 691,
    "start_time": "2023-03-19T17:06:26.512Z"
   },
   {
    "duration": 27618,
    "start_time": "2023-03-19T17:06:27.205Z"
   },
   {
    "duration": 180,
    "start_time": "2023-03-19T17:16:19.864Z"
   },
   {
    "duration": 25,
    "start_time": "2023-03-19T17:17:20.869Z"
   },
   {
    "duration": 11,
    "start_time": "2023-03-19T17:18:01.499Z"
   },
   {
    "duration": 17,
    "start_time": "2023-03-19T17:18:10.852Z"
   },
   {
    "duration": 16,
    "start_time": "2023-03-19T17:18:42.130Z"
   },
   {
    "duration": 33,
    "start_time": "2023-03-19T17:19:25.876Z"
   },
   {
    "duration": 104541,
    "start_time": "2023-03-19T17:20:04.608Z"
   },
   {
    "duration": 101966,
    "start_time": "2023-03-19T17:23:13.146Z"
   },
   {
    "duration": 105409,
    "start_time": "2023-03-19T17:25:43.797Z"
   },
   {
    "duration": 150,
    "start_time": "2023-03-20T05:47:01.559Z"
   },
   {
    "duration": 1660,
    "start_time": "2023-03-20T05:47:10.855Z"
   },
   {
    "duration": 167,
    "start_time": "2023-03-20T05:47:12.519Z"
   },
   {
    "duration": 17,
    "start_time": "2023-03-20T05:47:12.688Z"
   },
   {
    "duration": 19,
    "start_time": "2023-03-20T05:47:12.708Z"
   },
   {
    "duration": 38,
    "start_time": "2023-03-20T05:47:12.729Z"
   },
   {
    "duration": 6,
    "start_time": "2023-03-20T05:47:12.769Z"
   },
   {
    "duration": 4,
    "start_time": "2023-03-20T05:47:12.777Z"
   },
   {
    "duration": 13,
    "start_time": "2023-03-20T05:47:12.782Z"
   },
   {
    "duration": 5,
    "start_time": "2023-03-20T05:47:12.797Z"
   },
   {
    "duration": 4,
    "start_time": "2023-03-20T05:47:12.804Z"
   },
   {
    "duration": 769,
    "start_time": "2023-03-20T05:47:12.841Z"
   },
   {
    "duration": 255,
    "start_time": "2023-03-20T05:47:13.612Z"
   },
   {
    "duration": 8,
    "start_time": "2023-03-20T05:47:13.870Z"
   },
   {
    "duration": 326,
    "start_time": "2023-03-20T05:47:13.880Z"
   },
   {
    "duration": 1037,
    "start_time": "2023-03-20T05:47:14.209Z"
   },
   {
    "duration": 308,
    "start_time": "2023-03-20T05:47:15.248Z"
   },
   {
    "duration": 242,
    "start_time": "2023-03-20T05:47:15.558Z"
   },
   {
    "duration": 4,
    "start_time": "2023-03-20T05:47:15.801Z"
   },
   {
    "duration": 36,
    "start_time": "2023-03-20T05:47:15.807Z"
   },
   {
    "duration": 9,
    "start_time": "2023-03-20T05:47:15.845Z"
   },
   {
    "duration": 5,
    "start_time": "2023-03-20T05:47:15.856Z"
   },
   {
    "duration": 6,
    "start_time": "2023-03-20T05:47:15.863Z"
   },
   {
    "duration": 29,
    "start_time": "2023-03-20T05:47:15.871Z"
   },
   {
    "duration": 7,
    "start_time": "2023-03-20T05:47:15.902Z"
   },
   {
    "duration": 30,
    "start_time": "2023-03-20T05:47:15.910Z"
   },
   {
    "duration": 458,
    "start_time": "2023-03-20T05:47:15.943Z"
   },
   {
    "duration": 226,
    "start_time": "2023-03-20T05:47:19.515Z"
   },
   {
    "duration": 70,
    "start_time": "2023-03-20T05:47:31.792Z"
   },
   {
    "duration": 4,
    "start_time": "2023-03-20T05:48:01.568Z"
   },
   {
    "duration": 144,
    "start_time": "2023-03-20T05:48:01.574Z"
   },
   {
    "duration": 32,
    "start_time": "2023-03-20T05:48:01.720Z"
   },
   {
    "duration": 24,
    "start_time": "2023-03-20T05:48:01.753Z"
   },
   {
    "duration": 38,
    "start_time": "2023-03-20T05:48:01.779Z"
   },
   {
    "duration": 7,
    "start_time": "2023-03-20T05:48:01.819Z"
   },
   {
    "duration": 23,
    "start_time": "2023-03-20T05:48:01.828Z"
   },
   {
    "duration": 19,
    "start_time": "2023-03-20T05:48:01.852Z"
   },
   {
    "duration": 20,
    "start_time": "2023-03-20T05:48:01.873Z"
   },
   {
    "duration": 49,
    "start_time": "2023-03-20T05:48:01.894Z"
   },
   {
    "duration": 647,
    "start_time": "2023-03-20T05:48:01.945Z"
   },
   {
    "duration": 249,
    "start_time": "2023-03-20T05:48:02.593Z"
   },
   {
    "duration": 8,
    "start_time": "2023-03-20T05:48:02.845Z"
   },
   {
    "duration": 424,
    "start_time": "2023-03-20T05:48:02.855Z"
   },
   {
    "duration": 776,
    "start_time": "2023-03-20T05:48:03.281Z"
   },
   {
    "duration": 203,
    "start_time": "2023-03-20T05:48:04.059Z"
   },
   {
    "duration": 236,
    "start_time": "2023-03-20T05:48:04.263Z"
   },
   {
    "duration": 4,
    "start_time": "2023-03-20T05:48:04.502Z"
   },
   {
    "duration": 42,
    "start_time": "2023-03-20T05:48:04.508Z"
   },
   {
    "duration": 9,
    "start_time": "2023-03-20T05:48:04.553Z"
   },
   {
    "duration": 6,
    "start_time": "2023-03-20T05:48:04.564Z"
   },
   {
    "duration": 5,
    "start_time": "2023-03-20T05:48:04.573Z"
   },
   {
    "duration": 77,
    "start_time": "2023-03-20T05:48:12.706Z"
   },
   {
    "duration": 116,
    "start_time": "2023-03-20T05:50:01.067Z"
   },
   {
    "duration": 80,
    "start_time": "2023-03-20T05:50:42.208Z"
   },
   {
    "duration": 79,
    "start_time": "2023-03-20T05:50:53.447Z"
   },
   {
    "duration": 99652,
    "start_time": "2023-03-20T05:51:31.114Z"
   },
   {
    "duration": 453,
    "start_time": "2023-03-20T05:53:47.879Z"
   },
   {
    "duration": 24075,
    "start_time": "2023-03-20T05:54:04.931Z"
   },
   {
    "duration": 135,
    "start_time": "2023-03-20T06:18:30.614Z"
   },
   {
    "duration": 107747,
    "start_time": "2023-03-20T06:19:22.796Z"
   },
   {
    "duration": 481,
    "start_time": "2023-03-20T06:21:10.545Z"
   },
   {
    "duration": 28020,
    "start_time": "2023-03-20T06:21:48.967Z"
   },
   {
    "duration": 20,
    "start_time": "2023-03-20T06:22:23.806Z"
   },
   {
    "duration": 16,
    "start_time": "2023-03-20T06:23:07.984Z"
   },
   {
    "duration": 10,
    "start_time": "2023-03-20T06:23:24.160Z"
   },
   {
    "duration": 13,
    "start_time": "2023-03-20T06:25:29.085Z"
   },
   {
    "duration": 14,
    "start_time": "2023-03-20T06:26:01.330Z"
   },
   {
    "duration": 39,
    "start_time": "2023-03-20T06:54:03.076Z"
   },
   {
    "duration": 6,
    "start_time": "2023-03-20T07:42:47.830Z"
   },
   {
    "duration": 1906,
    "start_time": "2023-03-20T07:42:59.173Z"
   },
   {
    "duration": 56,
    "start_time": "2023-03-20T07:43:01.082Z"
   },
   {
    "duration": 27,
    "start_time": "2023-03-20T07:43:01.142Z"
   },
   {
    "duration": 37,
    "start_time": "2023-03-20T07:43:01.173Z"
   },
   {
    "duration": 64,
    "start_time": "2023-03-20T07:43:01.213Z"
   },
   {
    "duration": 16,
    "start_time": "2023-03-20T07:43:01.280Z"
   },
   {
    "duration": 57,
    "start_time": "2023-03-20T07:43:01.299Z"
   },
   {
    "duration": 40,
    "start_time": "2023-03-20T07:43:01.359Z"
   },
   {
    "duration": 13,
    "start_time": "2023-03-20T07:43:01.403Z"
   },
   {
    "duration": 9,
    "start_time": "2023-03-20T07:43:01.423Z"
   },
   {
    "duration": 978,
    "start_time": "2023-03-20T07:43:01.434Z"
   },
   {
    "duration": 432,
    "start_time": "2023-03-20T07:43:02.414Z"
   },
   {
    "duration": 16,
    "start_time": "2023-03-20T07:43:02.853Z"
   },
   {
    "duration": 451,
    "start_time": "2023-03-20T07:43:02.872Z"
   },
   {
    "duration": 1095,
    "start_time": "2023-03-20T07:43:03.326Z"
   },
   {
    "duration": 276,
    "start_time": "2023-03-20T07:43:04.424Z"
   },
   {
    "duration": 279,
    "start_time": "2023-03-20T07:43:04.702Z"
   },
   {
    "duration": 8,
    "start_time": "2023-03-20T07:43:04.983Z"
   },
   {
    "duration": 48,
    "start_time": "2023-03-20T07:43:04.994Z"
   },
   {
    "duration": 13,
    "start_time": "2023-03-20T07:43:05.045Z"
   },
   {
    "duration": 11,
    "start_time": "2023-03-20T07:43:05.060Z"
   },
   {
    "duration": 30,
    "start_time": "2023-03-20T07:43:05.072Z"
   },
   {
    "duration": 341,
    "start_time": "2023-03-20T07:43:05.104Z"
   },
   {
    "duration": 128661,
    "start_time": "2023-03-20T07:43:05.450Z"
   },
   {
    "duration": 548,
    "start_time": "2023-03-20T07:45:14.113Z"
   },
   {
    "duration": 28214,
    "start_time": "2023-03-20T07:45:14.663Z"
   },
   {
    "duration": 10,
    "start_time": "2023-03-20T07:45:42.879Z"
   },
   {
    "duration": 126,
    "start_time": "2023-03-20T07:45:42.892Z"
   },
   {
    "duration": 14,
    "start_time": "2023-03-20T07:52:02.785Z"
   },
   {
    "duration": 14,
    "start_time": "2023-03-20T07:52:11.855Z"
   },
   {
    "duration": 18,
    "start_time": "2023-03-20T07:52:28.899Z"
   },
   {
    "duration": 14,
    "start_time": "2023-03-20T07:53:01.367Z"
   },
   {
    "duration": 1490,
    "start_time": "2023-03-20T08:06:55.101Z"
   },
   {
    "duration": 16,
    "start_time": "2023-03-20T08:07:34.668Z"
   },
   {
    "duration": 306,
    "start_time": "2023-03-20T08:07:50.971Z"
   },
   {
    "duration": 264,
    "start_time": "2023-03-20T08:08:35.482Z"
   },
   {
    "duration": 218,
    "start_time": "2023-03-20T08:08:44.036Z"
   },
   {
    "duration": 1637,
    "start_time": "2023-03-20T08:11:17.661Z"
   },
   {
    "duration": 7,
    "start_time": "2023-03-20T08:14:31.484Z"
   },
   {
    "duration": 4,
    "start_time": "2023-03-20T08:14:34.399Z"
   },
   {
    "duration": 1642,
    "start_time": "2023-03-20T08:14:47.409Z"
   },
   {
    "duration": 1777,
    "start_time": "2023-03-20T08:16:20.334Z"
   },
   {
    "duration": 235,
    "start_time": "2023-03-20T08:20:22.768Z"
   },
   {
    "duration": 184,
    "start_time": "2023-03-20T08:22:11.687Z"
   },
   {
    "duration": 236,
    "start_time": "2023-03-20T08:22:35.788Z"
   },
   {
    "duration": 175,
    "start_time": "2023-03-20T08:22:59.901Z"
   },
   {
    "duration": 217,
    "start_time": "2023-03-20T08:23:21.680Z"
   },
   {
    "duration": 224,
    "start_time": "2023-03-20T08:23:40.839Z"
   },
   {
    "duration": 5,
    "start_time": "2023-03-20T08:29:43.516Z"
   },
   {
    "duration": 272,
    "start_time": "2023-03-20T08:29:51.408Z"
   },
   {
    "duration": 74,
    "start_time": "2023-03-20T08:30:26.675Z"
   },
   {
    "duration": 185,
    "start_time": "2023-03-20T08:31:17.722Z"
   },
   {
    "duration": 219,
    "start_time": "2023-03-20T08:31:23.999Z"
   },
   {
    "duration": 3,
    "start_time": "2023-03-20T08:32:02.215Z"
   },
   {
    "duration": 220,
    "start_time": "2023-03-20T08:32:32.022Z"
   },
   {
    "duration": 1765,
    "start_time": "2023-03-20T08:39:56.107Z"
   },
   {
    "duration": 52,
    "start_time": "2023-03-20T08:39:57.878Z"
   },
   {
    "duration": 35,
    "start_time": "2023-03-20T08:39:57.933Z"
   },
   {
    "duration": 26,
    "start_time": "2023-03-20T08:39:57.973Z"
   },
   {
    "duration": 31,
    "start_time": "2023-03-20T08:39:58.001Z"
   },
   {
    "duration": 9,
    "start_time": "2023-03-20T08:39:58.034Z"
   },
   {
    "duration": 13,
    "start_time": "2023-03-20T08:39:58.044Z"
   },
   {
    "duration": 30,
    "start_time": "2023-03-20T08:39:58.069Z"
   },
   {
    "duration": 12,
    "start_time": "2023-03-20T08:39:58.101Z"
   },
   {
    "duration": 7,
    "start_time": "2023-03-20T08:39:58.118Z"
   },
   {
    "duration": 808,
    "start_time": "2023-03-20T08:39:58.127Z"
   },
   {
    "duration": 501,
    "start_time": "2023-03-20T08:39:58.938Z"
   },
   {
    "duration": 26,
    "start_time": "2023-03-20T08:39:59.442Z"
   },
   {
    "duration": 503,
    "start_time": "2023-03-20T08:39:59.473Z"
   },
   {
    "duration": 1083,
    "start_time": "2023-03-20T08:39:59.981Z"
   },
   {
    "duration": 306,
    "start_time": "2023-03-20T08:40:01.066Z"
   },
   {
    "duration": 333,
    "start_time": "2023-03-20T08:40:01.374Z"
   },
   {
    "duration": 6,
    "start_time": "2023-03-20T08:40:01.710Z"
   },
   {
    "duration": 104,
    "start_time": "2023-03-20T08:40:01.718Z"
   },
   {
    "duration": 12,
    "start_time": "2023-03-20T08:40:01.825Z"
   },
   {
    "duration": 67,
    "start_time": "2023-03-20T08:40:01.839Z"
   },
   {
    "duration": 62,
    "start_time": "2023-03-20T08:40:01.909Z"
   },
   {
    "duration": 294,
    "start_time": "2023-03-20T08:40:01.980Z"
   },
   {
    "duration": 2002,
    "start_time": "2023-03-20T08:51:35.939Z"
   },
   {
    "duration": 86,
    "start_time": "2023-03-20T08:51:37.944Z"
   },
   {
    "duration": 19,
    "start_time": "2023-03-20T08:51:38.031Z"
   },
   {
    "duration": 30,
    "start_time": "2023-03-20T08:51:38.055Z"
   },
   {
    "duration": 42,
    "start_time": "2023-03-20T08:51:38.087Z"
   },
   {
    "duration": 19,
    "start_time": "2023-03-20T08:51:38.131Z"
   },
   {
    "duration": 5,
    "start_time": "2023-03-20T08:51:38.159Z"
   },
   {
    "duration": 20,
    "start_time": "2023-03-20T08:51:38.166Z"
   },
   {
    "duration": 6,
    "start_time": "2023-03-20T08:51:38.188Z"
   },
   {
    "duration": 5,
    "start_time": "2023-03-20T08:51:38.198Z"
   },
   {
    "duration": 892,
    "start_time": "2023-03-20T08:51:38.205Z"
   },
   {
    "duration": 401,
    "start_time": "2023-03-20T08:51:39.101Z"
   },
   {
    "duration": 13,
    "start_time": "2023-03-20T08:51:39.504Z"
   },
   {
    "duration": 471,
    "start_time": "2023-03-20T08:51:39.521Z"
   },
   {
    "duration": 977,
    "start_time": "2023-03-20T08:51:39.998Z"
   },
   {
    "duration": 243,
    "start_time": "2023-03-20T08:51:40.980Z"
   },
   {
    "duration": 293,
    "start_time": "2023-03-20T08:51:41.226Z"
   },
   {
    "duration": 6,
    "start_time": "2023-03-20T08:51:41.522Z"
   },
   {
    "duration": 44,
    "start_time": "2023-03-20T08:51:41.530Z"
   },
   {
    "duration": 27,
    "start_time": "2023-03-20T08:51:41.580Z"
   },
   {
    "duration": 9,
    "start_time": "2023-03-20T08:51:41.611Z"
   },
   {
    "duration": 17,
    "start_time": "2023-03-20T08:51:41.622Z"
   },
   {
    "duration": 258,
    "start_time": "2023-03-20T08:51:41.645Z"
   },
   {
    "duration": 131,
    "start_time": "2023-03-20T08:51:41.906Z"
   },
   {
    "duration": 0,
    "start_time": "2023-03-20T08:51:42.041Z"
   },
   {
    "duration": 0,
    "start_time": "2023-03-20T08:51:42.042Z"
   },
   {
    "duration": 0,
    "start_time": "2023-03-20T08:51:42.043Z"
   },
   {
    "duration": 0,
    "start_time": "2023-03-20T08:51:42.044Z"
   },
   {
    "duration": 0,
    "start_time": "2023-03-20T08:51:42.045Z"
   },
   {
    "duration": 0,
    "start_time": "2023-03-20T08:51:42.046Z"
   },
   {
    "duration": 0,
    "start_time": "2023-03-20T08:51:42.047Z"
   },
   {
    "duration": 2924,
    "start_time": "2023-03-20T09:08:52.568Z"
   },
   {
    "duration": 58,
    "start_time": "2023-03-20T09:08:55.494Z"
   },
   {
    "duration": 20,
    "start_time": "2023-03-20T09:08:55.560Z"
   },
   {
    "duration": 22,
    "start_time": "2023-03-20T09:08:55.584Z"
   },
   {
    "duration": 56,
    "start_time": "2023-03-20T09:08:55.608Z"
   },
   {
    "duration": 10,
    "start_time": "2023-03-20T09:08:55.666Z"
   },
   {
    "duration": 14,
    "start_time": "2023-03-20T09:08:55.685Z"
   },
   {
    "duration": 14,
    "start_time": "2023-03-20T09:08:55.701Z"
   },
   {
    "duration": 8,
    "start_time": "2023-03-20T09:08:55.717Z"
   },
   {
    "duration": 7,
    "start_time": "2023-03-20T09:08:55.728Z"
   },
   {
    "duration": 880,
    "start_time": "2023-03-20T09:08:55.737Z"
   },
   {
    "duration": 392,
    "start_time": "2023-03-20T09:08:56.620Z"
   },
   {
    "duration": 8,
    "start_time": "2023-03-20T09:08:57.014Z"
   },
   {
    "duration": 470,
    "start_time": "2023-03-20T09:08:57.024Z"
   },
   {
    "duration": 926,
    "start_time": "2023-03-20T09:08:57.496Z"
   },
   {
    "duration": 268,
    "start_time": "2023-03-20T09:08:58.423Z"
   },
   {
    "duration": 287,
    "start_time": "2023-03-20T09:08:58.694Z"
   },
   {
    "duration": 6,
    "start_time": "2023-03-20T09:08:58.983Z"
   },
   {
    "duration": 30,
    "start_time": "2023-03-20T09:08:58.991Z"
   },
   {
    "duration": 10,
    "start_time": "2023-03-20T09:08:59.024Z"
   },
   {
    "duration": 27,
    "start_time": "2023-03-20T09:08:59.037Z"
   },
   {
    "duration": 6,
    "start_time": "2023-03-20T09:08:59.069Z"
   },
   {
    "duration": 288,
    "start_time": "2023-03-20T09:08:59.078Z"
   },
   {
    "duration": 411,
    "start_time": "2023-03-20T09:08:59.372Z"
   },
   {
    "duration": 34533,
    "start_time": "2023-03-20T09:08:59.785Z"
   },
   {
    "duration": 158,
    "start_time": "2023-03-20T09:09:34.320Z"
   },
   {
    "duration": 0,
    "start_time": "2023-03-20T09:09:34.481Z"
   },
   {
    "duration": 0,
    "start_time": "2023-03-20T09:09:34.482Z"
   },
   {
    "duration": 0,
    "start_time": "2023-03-20T09:09:34.483Z"
   },
   {
    "duration": 0,
    "start_time": "2023-03-20T09:09:34.483Z"
   },
   {
    "duration": 116,
    "start_time": "2023-03-20T09:10:22.608Z"
   },
   {
    "duration": 98,
    "start_time": "2023-03-20T09:10:37.069Z"
   },
   {
    "duration": 107,
    "start_time": "2023-03-20T09:10:55.683Z"
   },
   {
    "duration": 11,
    "start_time": "2023-03-20T09:11:28.035Z"
   },
   {
    "duration": 14,
    "start_time": "2023-03-20T09:11:45.180Z"
   },
   {
    "duration": 10,
    "start_time": "2023-03-20T09:11:55.918Z"
   },
   {
    "duration": 10,
    "start_time": "2023-03-20T09:14:10.217Z"
   },
   {
    "duration": 1593,
    "start_time": "2023-03-20T09:14:14.739Z"
   },
   {
    "duration": 332,
    "start_time": "2023-03-20T09:14:16.334Z"
   },
   {
    "duration": 216,
    "start_time": "2023-03-20T09:14:39.108Z"
   },
   {
    "duration": 234,
    "start_time": "2023-03-20T09:14:40.871Z"
   },
   {
    "duration": 76,
    "start_time": "2023-03-21T13:33:58.341Z"
   }
  ],
  "kernelspec": {
   "display_name": "Python 3 (ipykernel)",
   "language": "python",
   "name": "python3"
  },
  "language_info": {
   "codemirror_mode": {
    "name": "ipython",
    "version": 3
   },
   "file_extension": ".py",
   "mimetype": "text/x-python",
   "name": "python",
   "nbconvert_exporter": "python",
   "pygments_lexer": "ipython3",
   "version": "3.9.5"
  },
  "toc": {
   "base_numbering": 1,
   "nav_menu": {},
   "number_sections": true,
   "sideBar": true,
   "skip_h1_title": true,
   "title_cell": "Содержание",
   "title_sidebar": "Contents",
   "toc_cell": true,
   "toc_position": {
    "height": "calc(100% - 180px)",
    "left": "10px",
    "top": "150px",
    "width": "165px"
   },
   "toc_section_display": true,
   "toc_window_display": true
  }
 },
 "nbformat": 4,
 "nbformat_minor": 2
}
