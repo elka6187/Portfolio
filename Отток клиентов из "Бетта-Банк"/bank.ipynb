{
 "cells": [
  {
   "cell_type": "markdown",
   "metadata": {
    "toc": true
   },
   "source": [
    "<h1>Содержание<span class=\"tocSkip\"></span></h1>\n",
    "<div class=\"toc\"><ul class=\"toc-item\"><li><span><a href=\"#Подготовка-данных\" data-toc-modified-id=\"Подготовка-данных-1\"><span class=\"toc-item-num\">1&nbsp;&nbsp;</span>Подготовка данных</a></span><ul class=\"toc-item\"><li><span><a href=\"#Вывод:\" data-toc-modified-id=\"Вывод:-1.1\"><span class=\"toc-item-num\">1.1&nbsp;&nbsp;</span>Вывод:</a></span></li></ul></li><li><span><a href=\"#Исследование-задачи\" data-toc-modified-id=\"Исследование-задачи-2\"><span class=\"toc-item-num\">2&nbsp;&nbsp;</span>Исследование задачи</a></span><ul class=\"toc-item\"><li><span><a href=\"#Вывод\" data-toc-modified-id=\"Вывод-2.1\"><span class=\"toc-item-num\">2.1&nbsp;&nbsp;</span>Вывод</a></span></li></ul></li><li><span><a href=\"#Борьба-с-дисбалансом\" data-toc-modified-id=\"Борьба-с-дисбалансом-3\"><span class=\"toc-item-num\">3&nbsp;&nbsp;</span>Борьба с дисбалансом</a></span><ul class=\"toc-item\"><li><span><a href=\"#Вывод\" data-toc-modified-id=\"Вывод-3.1\"><span class=\"toc-item-num\">3.1&nbsp;&nbsp;</span>Вывод</a></span></li></ul></li><li><span><a href=\"#Тестирование-модели\" data-toc-modified-id=\"Тестирование-модели-4\"><span class=\"toc-item-num\">4&nbsp;&nbsp;</span>Тестирование модели</a></span><ul class=\"toc-item\"><li><span><a href=\"#Вывод\" data-toc-modified-id=\"Вывод-4.1\"><span class=\"toc-item-num\">4.1&nbsp;&nbsp;</span>Вывод</a></span></li></ul></li><li><span><a href=\"#Выводы\" data-toc-modified-id=\"Выводы-5\"><span class=\"toc-item-num\">5&nbsp;&nbsp;</span>Выводы</a></span></li></ul></div>"
   ]
  },
  {
   "cell_type": "markdown",
   "metadata": {},
   "source": [
    "# Отток клиентов"
   ]
  },
  {
   "cell_type": "markdown",
   "metadata": {},
   "source": [
    "Из «Бета-Банка» стали уходить клиенты. Каждый месяц. Немного, но заметно. Банковские маркетологи посчитали: сохранять текущих клиентов дешевле, чем привлекать новых.\n",
    "\n",
    "Нужно спрогнозировать, уйдёт клиент из банка в ближайшее время или нет. Вам предоставлены исторические данные о поведении клиентов и расторжении договоров с банком. \n",
    "\n",
    "Постройте модель с предельно большим значением *F1*-меры. Чтобы сдать проект успешно, нужно довести метрику до 0.59. Проверьте *F1*-меру на тестовой выборке самостоятельно.\n",
    "\n",
    "Дополнительно измеряйте *AUC-ROC*, сравнивайте её значение с *F1*-мерой.\n",
    "\n",
    "Источник данных: [https://www.kaggle.com/barelydedicated/bank-customer-churn-modeling](https://www.kaggle.com/barelydedicated/bank-customer-churn-modeling)"
   ]
  },
  {
   "cell_type": "markdown",
   "metadata": {},
   "source": [
    "## Подготовка данных"
   ]
  },
  {
   "cell_type": "code",
   "execution_count": 1,
   "metadata": {},
   "outputs": [],
   "source": [
    "import pandas as pd\n",
    "import matplotlib.pyplot as plt\n",
    "\n",
    "from sklearn.preprocessing import MinMaxScaler\n",
    "from sklearn.utils import shuffle\n",
    "from sklearn.model_selection import train_test_split, GridSearchCV\n",
    "from sklearn.metrics import accuracy_score, f1_score, recall_score, precision_score, roc_auc_score, roc_curve, confusion_matrix\n",
    "\n",
    "\n",
    "from sklearn.linear_model import LogisticRegression\n",
    "from sklearn.ensemble import RandomForestClassifier\n",
    "from sklearn.preprocessing import StandardScaler\n",
    "from sklearn.tree import DecisionTreeClassifier\n",
    "from sklearn.dummy import DummyClassifier"
   ]
  },
  {
   "cell_type": "code",
   "execution_count": 2,
   "metadata": {},
   "outputs": [
    {
     "data": {
      "text/html": [
       "<div>\n",
       "<style scoped>\n",
       "    .dataframe tbody tr th:only-of-type {\n",
       "        vertical-align: middle;\n",
       "    }\n",
       "\n",
       "    .dataframe tbody tr th {\n",
       "        vertical-align: top;\n",
       "    }\n",
       "\n",
       "    .dataframe thead th {\n",
       "        text-align: right;\n",
       "    }\n",
       "</style>\n",
       "<table border=\"1\" class=\"dataframe\">\n",
       "  <thead>\n",
       "    <tr style=\"text-align: right;\">\n",
       "      <th></th>\n",
       "      <th>RowNumber</th>\n",
       "      <th>CustomerId</th>\n",
       "      <th>Surname</th>\n",
       "      <th>CreditScore</th>\n",
       "      <th>Geography</th>\n",
       "      <th>Gender</th>\n",
       "      <th>Age</th>\n",
       "      <th>Tenure</th>\n",
       "      <th>Balance</th>\n",
       "      <th>NumOfProducts</th>\n",
       "      <th>HasCrCard</th>\n",
       "      <th>IsActiveMember</th>\n",
       "      <th>EstimatedSalary</th>\n",
       "      <th>Exited</th>\n",
       "    </tr>\n",
       "  </thead>\n",
       "  <tbody>\n",
       "    <tr>\n",
       "      <th>0</th>\n",
       "      <td>1</td>\n",
       "      <td>15634602</td>\n",
       "      <td>Hargrave</td>\n",
       "      <td>619</td>\n",
       "      <td>France</td>\n",
       "      <td>Female</td>\n",
       "      <td>42</td>\n",
       "      <td>2.0</td>\n",
       "      <td>0.00</td>\n",
       "      <td>1</td>\n",
       "      <td>1</td>\n",
       "      <td>1</td>\n",
       "      <td>101348.88</td>\n",
       "      <td>1</td>\n",
       "    </tr>\n",
       "    <tr>\n",
       "      <th>1</th>\n",
       "      <td>2</td>\n",
       "      <td>15647311</td>\n",
       "      <td>Hill</td>\n",
       "      <td>608</td>\n",
       "      <td>Spain</td>\n",
       "      <td>Female</td>\n",
       "      <td>41</td>\n",
       "      <td>1.0</td>\n",
       "      <td>83807.86</td>\n",
       "      <td>1</td>\n",
       "      <td>0</td>\n",
       "      <td>1</td>\n",
       "      <td>112542.58</td>\n",
       "      <td>0</td>\n",
       "    </tr>\n",
       "    <tr>\n",
       "      <th>2</th>\n",
       "      <td>3</td>\n",
       "      <td>15619304</td>\n",
       "      <td>Onio</td>\n",
       "      <td>502</td>\n",
       "      <td>France</td>\n",
       "      <td>Female</td>\n",
       "      <td>42</td>\n",
       "      <td>8.0</td>\n",
       "      <td>159660.80</td>\n",
       "      <td>3</td>\n",
       "      <td>1</td>\n",
       "      <td>0</td>\n",
       "      <td>113931.57</td>\n",
       "      <td>1</td>\n",
       "    </tr>\n",
       "    <tr>\n",
       "      <th>3</th>\n",
       "      <td>4</td>\n",
       "      <td>15701354</td>\n",
       "      <td>Boni</td>\n",
       "      <td>699</td>\n",
       "      <td>France</td>\n",
       "      <td>Female</td>\n",
       "      <td>39</td>\n",
       "      <td>1.0</td>\n",
       "      <td>0.00</td>\n",
       "      <td>2</td>\n",
       "      <td>0</td>\n",
       "      <td>0</td>\n",
       "      <td>93826.63</td>\n",
       "      <td>0</td>\n",
       "    </tr>\n",
       "    <tr>\n",
       "      <th>4</th>\n",
       "      <td>5</td>\n",
       "      <td>15737888</td>\n",
       "      <td>Mitchell</td>\n",
       "      <td>850</td>\n",
       "      <td>Spain</td>\n",
       "      <td>Female</td>\n",
       "      <td>43</td>\n",
       "      <td>2.0</td>\n",
       "      <td>125510.82</td>\n",
       "      <td>1</td>\n",
       "      <td>1</td>\n",
       "      <td>1</td>\n",
       "      <td>79084.10</td>\n",
       "      <td>0</td>\n",
       "    </tr>\n",
       "  </tbody>\n",
       "</table>\n",
       "</div>"
      ],
      "text/plain": [
       "   RowNumber  CustomerId   Surname  CreditScore Geography  Gender  Age  \\\n",
       "0          1    15634602  Hargrave          619    France  Female   42   \n",
       "1          2    15647311      Hill          608     Spain  Female   41   \n",
       "2          3    15619304      Onio          502    France  Female   42   \n",
       "3          4    15701354      Boni          699    France  Female   39   \n",
       "4          5    15737888  Mitchell          850     Spain  Female   43   \n",
       "\n",
       "   Tenure    Balance  NumOfProducts  HasCrCard  IsActiveMember  \\\n",
       "0     2.0       0.00              1          1               1   \n",
       "1     1.0   83807.86              1          0               1   \n",
       "2     8.0  159660.80              3          1               0   \n",
       "3     1.0       0.00              2          0               0   \n",
       "4     2.0  125510.82              1          1               1   \n",
       "\n",
       "   EstimatedSalary  Exited  \n",
       "0        101348.88       1  \n",
       "1        112542.58       0  \n",
       "2        113931.57       1  \n",
       "3         93826.63       0  \n",
       "4         79084.10       0  "
      ]
     },
     "execution_count": 2,
     "metadata": {},
     "output_type": "execute_result"
    }
   ],
   "source": [
    "data = pd.read_csv('/datasets/Churn.csv')\n",
    "data.head()"
   ]
  },
  {
   "cell_type": "code",
   "execution_count": 3,
   "metadata": {},
   "outputs": [
    {
     "name": "stdout",
     "output_type": "stream",
     "text": [
      "<class 'pandas.core.frame.DataFrame'>\n",
      "RangeIndex: 10000 entries, 0 to 9999\n",
      "Data columns (total 14 columns):\n",
      " #   Column           Non-Null Count  Dtype  \n",
      "---  ------           --------------  -----  \n",
      " 0   RowNumber        10000 non-null  int64  \n",
      " 1   CustomerId       10000 non-null  int64  \n",
      " 2   Surname          10000 non-null  object \n",
      " 3   CreditScore      10000 non-null  int64  \n",
      " 4   Geography        10000 non-null  object \n",
      " 5   Gender           10000 non-null  object \n",
      " 6   Age              10000 non-null  int64  \n",
      " 7   Tenure           9091 non-null   float64\n",
      " 8   Balance          10000 non-null  float64\n",
      " 9   NumOfProducts    10000 non-null  int64  \n",
      " 10  HasCrCard        10000 non-null  int64  \n",
      " 11  IsActiveMember   10000 non-null  int64  \n",
      " 12  EstimatedSalary  10000 non-null  float64\n",
      " 13  Exited           10000 non-null  int64  \n",
      "dtypes: float64(3), int64(8), object(3)\n",
      "memory usage: 1.1+ MB\n"
     ]
    }
   ],
   "source": [
    "data.info()"
   ]
  },
  {
   "cell_type": "markdown",
   "metadata": {},
   "source": [
    "в столбце Tenure(сколько лет человек является клиентом банка) есть пропуски"
   ]
  },
  {
   "cell_type": "code",
   "execution_count": 4,
   "metadata": {},
   "outputs": [
    {
     "data": {
      "text/html": [
       "<div>\n",
       "<style scoped>\n",
       "    .dataframe tbody tr th:only-of-type {\n",
       "        vertical-align: middle;\n",
       "    }\n",
       "\n",
       "    .dataframe tbody tr th {\n",
       "        vertical-align: top;\n",
       "    }\n",
       "\n",
       "    .dataframe thead th {\n",
       "        text-align: right;\n",
       "    }\n",
       "</style>\n",
       "<table border=\"1\" class=\"dataframe\">\n",
       "  <thead>\n",
       "    <tr style=\"text-align: right;\">\n",
       "      <th></th>\n",
       "      <th>RowNumber</th>\n",
       "      <th>CustomerId</th>\n",
       "      <th>CreditScore</th>\n",
       "      <th>Age</th>\n",
       "      <th>Tenure</th>\n",
       "      <th>Balance</th>\n",
       "      <th>NumOfProducts</th>\n",
       "      <th>HasCrCard</th>\n",
       "      <th>IsActiveMember</th>\n",
       "      <th>EstimatedSalary</th>\n",
       "      <th>Exited</th>\n",
       "    </tr>\n",
       "  </thead>\n",
       "  <tbody>\n",
       "    <tr>\n",
       "      <th>count</th>\n",
       "      <td>10000.00000</td>\n",
       "      <td>1.000000e+04</td>\n",
       "      <td>10000.000000</td>\n",
       "      <td>10000.000000</td>\n",
       "      <td>9091.000000</td>\n",
       "      <td>10000.000000</td>\n",
       "      <td>10000.000000</td>\n",
       "      <td>10000.00000</td>\n",
       "      <td>10000.000000</td>\n",
       "      <td>10000.000000</td>\n",
       "      <td>10000.000000</td>\n",
       "    </tr>\n",
       "    <tr>\n",
       "      <th>mean</th>\n",
       "      <td>5000.50000</td>\n",
       "      <td>1.569094e+07</td>\n",
       "      <td>650.528800</td>\n",
       "      <td>38.921800</td>\n",
       "      <td>4.997690</td>\n",
       "      <td>76485.889288</td>\n",
       "      <td>1.530200</td>\n",
       "      <td>0.70550</td>\n",
       "      <td>0.515100</td>\n",
       "      <td>100090.239881</td>\n",
       "      <td>0.203700</td>\n",
       "    </tr>\n",
       "    <tr>\n",
       "      <th>std</th>\n",
       "      <td>2886.89568</td>\n",
       "      <td>7.193619e+04</td>\n",
       "      <td>96.653299</td>\n",
       "      <td>10.487806</td>\n",
       "      <td>2.894723</td>\n",
       "      <td>62397.405202</td>\n",
       "      <td>0.581654</td>\n",
       "      <td>0.45584</td>\n",
       "      <td>0.499797</td>\n",
       "      <td>57510.492818</td>\n",
       "      <td>0.402769</td>\n",
       "    </tr>\n",
       "    <tr>\n",
       "      <th>min</th>\n",
       "      <td>1.00000</td>\n",
       "      <td>1.556570e+07</td>\n",
       "      <td>350.000000</td>\n",
       "      <td>18.000000</td>\n",
       "      <td>0.000000</td>\n",
       "      <td>0.000000</td>\n",
       "      <td>1.000000</td>\n",
       "      <td>0.00000</td>\n",
       "      <td>0.000000</td>\n",
       "      <td>11.580000</td>\n",
       "      <td>0.000000</td>\n",
       "    </tr>\n",
       "    <tr>\n",
       "      <th>25%</th>\n",
       "      <td>2500.75000</td>\n",
       "      <td>1.562853e+07</td>\n",
       "      <td>584.000000</td>\n",
       "      <td>32.000000</td>\n",
       "      <td>2.000000</td>\n",
       "      <td>0.000000</td>\n",
       "      <td>1.000000</td>\n",
       "      <td>0.00000</td>\n",
       "      <td>0.000000</td>\n",
       "      <td>51002.110000</td>\n",
       "      <td>0.000000</td>\n",
       "    </tr>\n",
       "    <tr>\n",
       "      <th>50%</th>\n",
       "      <td>5000.50000</td>\n",
       "      <td>1.569074e+07</td>\n",
       "      <td>652.000000</td>\n",
       "      <td>37.000000</td>\n",
       "      <td>5.000000</td>\n",
       "      <td>97198.540000</td>\n",
       "      <td>1.000000</td>\n",
       "      <td>1.00000</td>\n",
       "      <td>1.000000</td>\n",
       "      <td>100193.915000</td>\n",
       "      <td>0.000000</td>\n",
       "    </tr>\n",
       "    <tr>\n",
       "      <th>75%</th>\n",
       "      <td>7500.25000</td>\n",
       "      <td>1.575323e+07</td>\n",
       "      <td>718.000000</td>\n",
       "      <td>44.000000</td>\n",
       "      <td>7.000000</td>\n",
       "      <td>127644.240000</td>\n",
       "      <td>2.000000</td>\n",
       "      <td>1.00000</td>\n",
       "      <td>1.000000</td>\n",
       "      <td>149388.247500</td>\n",
       "      <td>0.000000</td>\n",
       "    </tr>\n",
       "    <tr>\n",
       "      <th>max</th>\n",
       "      <td>10000.00000</td>\n",
       "      <td>1.581569e+07</td>\n",
       "      <td>850.000000</td>\n",
       "      <td>92.000000</td>\n",
       "      <td>10.000000</td>\n",
       "      <td>250898.090000</td>\n",
       "      <td>4.000000</td>\n",
       "      <td>1.00000</td>\n",
       "      <td>1.000000</td>\n",
       "      <td>199992.480000</td>\n",
       "      <td>1.000000</td>\n",
       "    </tr>\n",
       "  </tbody>\n",
       "</table>\n",
       "</div>"
      ],
      "text/plain": [
       "         RowNumber    CustomerId   CreditScore           Age       Tenure  \\\n",
       "count  10000.00000  1.000000e+04  10000.000000  10000.000000  9091.000000   \n",
       "mean    5000.50000  1.569094e+07    650.528800     38.921800     4.997690   \n",
       "std     2886.89568  7.193619e+04     96.653299     10.487806     2.894723   \n",
       "min        1.00000  1.556570e+07    350.000000     18.000000     0.000000   \n",
       "25%     2500.75000  1.562853e+07    584.000000     32.000000     2.000000   \n",
       "50%     5000.50000  1.569074e+07    652.000000     37.000000     5.000000   \n",
       "75%     7500.25000  1.575323e+07    718.000000     44.000000     7.000000   \n",
       "max    10000.00000  1.581569e+07    850.000000     92.000000    10.000000   \n",
       "\n",
       "             Balance  NumOfProducts    HasCrCard  IsActiveMember  \\\n",
       "count   10000.000000   10000.000000  10000.00000    10000.000000   \n",
       "mean    76485.889288       1.530200      0.70550        0.515100   \n",
       "std     62397.405202       0.581654      0.45584        0.499797   \n",
       "min         0.000000       1.000000      0.00000        0.000000   \n",
       "25%         0.000000       1.000000      0.00000        0.000000   \n",
       "50%     97198.540000       1.000000      1.00000        1.000000   \n",
       "75%    127644.240000       2.000000      1.00000        1.000000   \n",
       "max    250898.090000       4.000000      1.00000        1.000000   \n",
       "\n",
       "       EstimatedSalary        Exited  \n",
       "count     10000.000000  10000.000000  \n",
       "mean     100090.239881      0.203700  \n",
       "std       57510.492818      0.402769  \n",
       "min          11.580000      0.000000  \n",
       "25%       51002.110000      0.000000  \n",
       "50%      100193.915000      0.000000  \n",
       "75%      149388.247500      0.000000  \n",
       "max      199992.480000      1.000000  "
      ]
     },
     "execution_count": 4,
     "metadata": {},
     "output_type": "execute_result"
    }
   ],
   "source": [
    "data.describe()"
   ]
  },
  {
   "cell_type": "markdown",
   "metadata": {},
   "source": [
    "В столбце Age нет аномальных значений (18-92), в других столбцах тоже не наблюдаютс аномалии"
   ]
  },
  {
   "cell_type": "code",
   "execution_count": 5,
   "metadata": {},
   "outputs": [
    {
     "data": {
      "text/plain": [
       "0"
      ]
     },
     "execution_count": 5,
     "metadata": {},
     "output_type": "execute_result"
    }
   ],
   "source": [
    "#проверим на дубликаты\n",
    "data.duplicated().sum()"
   ]
  },
  {
   "cell_type": "code",
   "execution_count": 6,
   "metadata": {},
   "outputs": [],
   "source": [
    "#зполним пропуски в Tenure нелевыми значениями, чтобы сильно не влияли данные на исследования\n",
    "data['Tenure'] = data['Tenure'].fillna(0)"
   ]
  },
  {
   "cell_type": "code",
   "execution_count": 7,
   "metadata": {},
   "outputs": [
    {
     "data": {
      "text/plain": [
       "0"
      ]
     },
     "execution_count": 7,
     "metadata": {},
     "output_type": "execute_result"
    }
   ],
   "source": [
    "#проверим кол-во пропупсков\n",
    "data['Tenure'].isna().sum()"
   ]
  },
  {
   "cell_type": "code",
   "execution_count": 8,
   "metadata": {},
   "outputs": [
    {
     "data": {
      "text/plain": [
       "array(['France', 'Spain', 'Germany'], dtype=object)"
      ]
     },
     "execution_count": 8,
     "metadata": {},
     "output_type": "execute_result"
    }
   ],
   "source": [
    "# в столбце Geography могут быть дупликаты, проверим\n",
    "data['Geography'].unique()"
   ]
  },
  {
   "cell_type": "code",
   "execution_count": 9,
   "metadata": {},
   "outputs": [
    {
     "data": {
      "text/plain": [
       "15695872    1\n",
       "15801062    1\n",
       "15682268    1\n",
       "15647453    1\n",
       "15684319    1\n",
       "           ..\n",
       "15629677    1\n",
       "15773039    1\n",
       "15766896    1\n",
       "15719793    1\n",
       "15812607    1\n",
       "Name: CustomerId, Length: 10000, dtype: int64"
      ]
     },
     "execution_count": 9,
     "metadata": {},
     "output_type": "execute_result"
    }
   ],
   "source": [
    "#проверим уникальные значения CustomerId - уникальный идентификатор клиента\n",
    "data['CustomerId'].value_counts()"
   ]
  },
  {
   "cell_type": "markdown",
   "metadata": {},
   "source": [
    "### Вывод: \n",
    "- RowNumber — индекс строки в данных, не несет никакой смысловой нагрузки, можно удалить\n",
    "- CustomerId — уникальный идентификатор клиента, нет дубликатов, оставим его\n",
    "- Surname — фамилия, удалим, т.к есть данные CustomerId\n",
    "- CreditScore — кредитный рейтинг, нет пропусков, важный столбец\n",
    "- Geography — страна проживания, всего 3 страны проживания, нет дупликатов, но сделаю преобразование OHE\n",
    "- Gender — пол, также подойдет преобразование OHE\n",
    "- Age — возраст, верный тип данных без аномальных значений\n",
    "- Tenure — сколько лет человек является клиентом банка, нет аномальных значений\n",
    "- Balance — баланс на счёте, нет аномальных значений\n",
    "- NumOfProducts — количество продуктов банка, используемых клиентом, нет аномальных значений\n",
    "- HasCrCard — наличие кредитной карты, нет аномальных значений\n",
    "- IsActiveMember — активность клиента, нет аномальных значений\n",
    "- EstimatedSalary — предполагаемая зарплата, нет аномальных значений\n"
   ]
  },
  {
   "cell_type": "markdown",
   "metadata": {},
   "source": [
    "## Исследование задачи"
   ]
  },
  {
   "cell_type": "code",
   "execution_count": 10,
   "metadata": {},
   "outputs": [
    {
     "data": {
      "text/html": [
       "<div>\n",
       "<style scoped>\n",
       "    .dataframe tbody tr th:only-of-type {\n",
       "        vertical-align: middle;\n",
       "    }\n",
       "\n",
       "    .dataframe tbody tr th {\n",
       "        vertical-align: top;\n",
       "    }\n",
       "\n",
       "    .dataframe thead th {\n",
       "        text-align: right;\n",
       "    }\n",
       "</style>\n",
       "<table border=\"1\" class=\"dataframe\">\n",
       "  <thead>\n",
       "    <tr style=\"text-align: right;\">\n",
       "      <th></th>\n",
       "      <th>CreditScore</th>\n",
       "      <th>Geography</th>\n",
       "      <th>Gender</th>\n",
       "      <th>Age</th>\n",
       "      <th>Tenure</th>\n",
       "      <th>Balance</th>\n",
       "      <th>NumOfProducts</th>\n",
       "      <th>HasCrCard</th>\n",
       "      <th>IsActiveMember</th>\n",
       "      <th>EstimatedSalary</th>\n",
       "      <th>Exited</th>\n",
       "    </tr>\n",
       "  </thead>\n",
       "  <tbody>\n",
       "    <tr>\n",
       "      <th>0</th>\n",
       "      <td>619</td>\n",
       "      <td>France</td>\n",
       "      <td>Female</td>\n",
       "      <td>42</td>\n",
       "      <td>2.0</td>\n",
       "      <td>0.00</td>\n",
       "      <td>1</td>\n",
       "      <td>1</td>\n",
       "      <td>1</td>\n",
       "      <td>101348.88</td>\n",
       "      <td>1</td>\n",
       "    </tr>\n",
       "    <tr>\n",
       "      <th>1</th>\n",
       "      <td>608</td>\n",
       "      <td>Spain</td>\n",
       "      <td>Female</td>\n",
       "      <td>41</td>\n",
       "      <td>1.0</td>\n",
       "      <td>83807.86</td>\n",
       "      <td>1</td>\n",
       "      <td>0</td>\n",
       "      <td>1</td>\n",
       "      <td>112542.58</td>\n",
       "      <td>0</td>\n",
       "    </tr>\n",
       "    <tr>\n",
       "      <th>2</th>\n",
       "      <td>502</td>\n",
       "      <td>France</td>\n",
       "      <td>Female</td>\n",
       "      <td>42</td>\n",
       "      <td>8.0</td>\n",
       "      <td>159660.80</td>\n",
       "      <td>3</td>\n",
       "      <td>1</td>\n",
       "      <td>0</td>\n",
       "      <td>113931.57</td>\n",
       "      <td>1</td>\n",
       "    </tr>\n",
       "    <tr>\n",
       "      <th>3</th>\n",
       "      <td>699</td>\n",
       "      <td>France</td>\n",
       "      <td>Female</td>\n",
       "      <td>39</td>\n",
       "      <td>1.0</td>\n",
       "      <td>0.00</td>\n",
       "      <td>2</td>\n",
       "      <td>0</td>\n",
       "      <td>0</td>\n",
       "      <td>93826.63</td>\n",
       "      <td>0</td>\n",
       "    </tr>\n",
       "    <tr>\n",
       "      <th>4</th>\n",
       "      <td>850</td>\n",
       "      <td>Spain</td>\n",
       "      <td>Female</td>\n",
       "      <td>43</td>\n",
       "      <td>2.0</td>\n",
       "      <td>125510.82</td>\n",
       "      <td>1</td>\n",
       "      <td>1</td>\n",
       "      <td>1</td>\n",
       "      <td>79084.10</td>\n",
       "      <td>0</td>\n",
       "    </tr>\n",
       "  </tbody>\n",
       "</table>\n",
       "</div>"
      ],
      "text/plain": [
       "   CreditScore Geography  Gender  Age  Tenure    Balance  NumOfProducts  \\\n",
       "0          619    France  Female   42     2.0       0.00              1   \n",
       "1          608     Spain  Female   41     1.0   83807.86              1   \n",
       "2          502    France  Female   42     8.0  159660.80              3   \n",
       "3          699    France  Female   39     1.0       0.00              2   \n",
       "4          850     Spain  Female   43     2.0  125510.82              1   \n",
       "\n",
       "   HasCrCard  IsActiveMember  EstimatedSalary  Exited  \n",
       "0          1               1        101348.88       1  \n",
       "1          0               1        112542.58       0  \n",
       "2          1               0        113931.57       1  \n",
       "3          0               0         93826.63       0  \n",
       "4          1               1         79084.10       0  "
      ]
     },
     "execution_count": 10,
     "metadata": {},
     "output_type": "execute_result"
    }
   ],
   "source": [
    "#создадим новый датафрейм для машинного обучения без лишних данных\n",
    "data_ml = data.drop(['RowNumber','CustomerId', 'Surname'], axis=1)\n",
    "data_ml.head()"
   ]
  },
  {
   "cell_type": "code",
   "execution_count": 11,
   "metadata": {},
   "outputs": [
    {
     "data": {
      "text/plain": [
       "(10000, 11)"
      ]
     },
     "execution_count": 11,
     "metadata": {},
     "output_type": "execute_result"
    }
   ],
   "source": [
    "#проверим размер таблицы\n",
    "data_ml.shape"
   ]
  },
  {
   "cell_type": "code",
   "execution_count": null,
   "metadata": {},
   "outputs": [],
   "source": [
    "# Избавимся от категориальных данных методом OHE и не попадем в дамми ловушку\n",
    "#data_ml = pd.get_dummies(data_ml, drop_first=True)\n",
    "#data_ml.head()"
   ]
  },
  {
   "cell_type": "code",
   "execution_count": null,
   "metadata": {},
   "outputs": [],
   "source": [
    "#data_ml.shape"
   ]
  },
  {
   "cell_type": "markdown",
   "metadata": {},
   "source": [
    "В новом дата фрейме количество столбцов увеличилось на 1 столбец, т.к. мы избежали дамми ловушку вместо трех столбцов в Geography получилось два стобца, а в столбце Gender 1 столбец."
   ]
  },
  {
   "cell_type": "markdown",
   "metadata": {},
   "source": [
    "Разделим на выборки: 60% - обучающая, 20% - тестовая и 20% - валидационная"
   ]
  },
  {
   "cell_type": "code",
   "execution_count": null,
   "metadata": {},
   "outputs": [],
   "source": [
    "#выделим целевые и признаки\n",
    "features = data_ml.drop('Exited', axis=1)\n",
    "target = data_ml['Exited']"
   ]
  },
  {
   "cell_type": "code",
   "execution_count": null,
   "metadata": {},
   "outputs": [],
   "source": [
    "#выделим обучающую выборку\n",
    "features_train, features_validtest, target_train, target_validtest = train_test_split(features,\n",
    "                                                    target,\n",
    "                                                    train_size=0.6,\n",
    "                                                    random_state=12345)"
   ]
  },
  {
   "cell_type": "code",
   "execution_count": null,
   "metadata": {},
   "outputs": [],
   "source": [
    "# выделим валидационную выборку как 50% от тестовойй\n",
    "features_valid, features_test, target_valid, target_test = train_test_split(features_validtest,\n",
    "                                                    target_validtest,\n",
    "                                                    train_size=0.5,\n",
    "                                                    random_state=12345)"
   ]
  },
  {
   "cell_type": "code",
   "execution_count": null,
   "metadata": {},
   "outputs": [],
   "source": [
    "features_train.head()"
   ]
  },
  {
   "cell_type": "markdown",
   "metadata": {},
   "source": [
    "<div class=\"alert alert-block alert-info\">\n",
    "Закодировала данные после разбиения"
   ]
  },
  {
   "cell_type": "code",
   "execution_count": null,
   "metadata": {},
   "outputs": [],
   "source": [
    "# Избавимся от категориальных данных методом OHE и не попадем в дамми ловушку\n",
    "features_train = pd.get_dummies(features_train, drop_first=True)\n",
    "features_valid = pd.get_dummies(features_valid, drop_first=True)\n",
    "features_test = pd.get_dummies(features_test, drop_first=True)"
   ]
  },
  {
   "cell_type": "code",
   "execution_count": null,
   "metadata": {},
   "outputs": [],
   "source": [
    "#Для масштабирования методом scaler зафиксируем численные признаки\n",
    "numeric = ['CreditScore', 'Age', 'Tenure', 'Balance', 'NumOfProducts', 'EstimatedSalary']\n",
    "scaler = StandardScaler()\n",
    "scaler.fit(features_train[numeric])"
   ]
  },
  {
   "cell_type": "code",
   "execution_count": null,
   "metadata": {},
   "outputs": [],
   "source": [
    "#Масштабируем числ признаки обучающей выборки\n",
    "features_train[numeric] = scaler.transform(features_train[numeric])\n",
    "features_train.head()"
   ]
  },
  {
   "cell_type": "code",
   "execution_count": null,
   "metadata": {},
   "outputs": [],
   "source": [
    "#Масштабируем численные признаки валидационной выборки \n",
    "features_valid[numeric] = scaler.transform(features_valid[numeric])\n",
    "features_valid.head()"
   ]
  },
  {
   "cell_type": "code",
   "execution_count": null,
   "metadata": {},
   "outputs": [],
   "source": [
    "#Масштабируем численные признаки тестовой выборки \n",
    "features_test[numeric] = scaler.transform(features_test[numeric])\n",
    "features_test.head()"
   ]
  },
  {
   "cell_type": "markdown",
   "metadata": {},
   "source": [
    "Обучение модели"
   ]
  },
  {
   "cell_type": "code",
   "execution_count": null,
   "metadata": {},
   "outputs": [],
   "source": [
    "def all_models_accuracy(features_train, target_train, features_valid, target_valid):\n",
    "    model_DTC = DecisionTreeClassifier(random_state=1515)\n",
    "    DTC_score = model_DTC.fit(features_train, target_train).score(features_valid, target_valid)\n",
    "    \n",
    "    model_RFC = RandomForestClassifier(max_depth=7, n_estimators=43, min_samples_leaf=3, random_state=1515)\n",
    "    RFC_score = model_RFC.fit(features_train, target_train).score(features_valid, target_valid)\n",
    "    \n",
    "    model_LgR = LogisticRegression(solver = 'liblinear')\n",
    "    LgR_score = model_LgR.fit(features_train, target_train).score(features_valid, target_valid)\n",
    "    \n",
    "    print(\"Точность:\" \"дерево решений\", DTC_score, \",\", \"случайный лес \", RFC_score, \",\", \"логистческая регрессия\", LgR_score)"
   ]
  },
  {
   "cell_type": "code",
   "execution_count": null,
   "metadata": {},
   "outputs": [],
   "source": [
    "all_models_accuracy(features_train, target_train, features_valid, target_valid)"
   ]
  },
  {
   "cell_type": "markdown",
   "metadata": {},
   "source": [
    "Самая высокая точность у модели случайный лест 0.856"
   ]
  },
  {
   "cell_type": "markdown",
   "metadata": {},
   "source": [
    "Проверим на адекватность"
   ]
  },
  {
   "cell_type": "code",
   "execution_count": null,
   "metadata": {},
   "outputs": [],
   "source": [
    "#Заранее напишем функцию для изучия полноты, точности и F1-меры\n",
    "def rec_prec_f1(target_valid, prediction):\n",
    "    print(\"Полнота\" , recall_score(target_valid, prediction))\n",
    "    print(\"Точность\", precision_score(target_valid, prediction))\n",
    "    print(\"F1-мера\", f1_score(target_valid, prediction))"
   ]
  },
  {
   "cell_type": "markdown",
   "metadata": {},
   "source": [
    "Случайный лес"
   ]
  },
  {
   "cell_type": "code",
   "execution_count": null,
   "metadata": {},
   "outputs": [],
   "source": [
    "model_RFC = RandomForestClassifier(random_state=1515, n_estimators = 100)\n",
    "model_RFC.fit(features_train, target_train)\n",
    "RFC_prediction = model_RFC.predict(features_valid)\n",
    "confusion_matrix(target_valid, RFC_prediction)"
   ]
  },
  {
   "cell_type": "code",
   "execution_count": null,
   "metadata": {},
   "outputs": [],
   "source": [
    "rec_prec_f1(target_valid, RFC_prediction)"
   ]
  },
  {
   "cell_type": "code",
   "execution_count": null,
   "metadata": {},
   "outputs": [],
   "source": [
    "#Расчет roc_auc_RFC\n",
    "RFC_probabilities_one_valid = model_RFC.predict_proba(features_valid)[:, 1]\n",
    "\n",
    "auc_roc_RFC = roc_auc_score(target_valid, RFC_probabilities_one_valid)\n",
    "\n",
    "auc_roc_RFC"
   ]
  },
  {
   "cell_type": "markdown",
   "metadata": {},
   "source": [
    "Вывод Случайный лес примерно равную пропорцию позитивных и негативных предсказаний, выдает заметно больше качественных предсказаний, но также сильно склоняется к ложно позитивным предсказаниям (FP). Точность и качество также низкое."
   ]
  },
  {
   "cell_type": "markdown",
   "metadata": {},
   "source": [
    "Дерево решений"
   ]
  },
  {
   "cell_type": "code",
   "execution_count": null,
   "metadata": {},
   "outputs": [],
   "source": [
    "#Матрица ошибок для дерево решений\n",
    "model_DTC = DecisionTreeClassifier(random_state=1515)\n",
    "model_DTC.fit(features_train, target_train)\n",
    "DTC_prediction = model_DTC.predict(features_valid)\n",
    "confusion_matrix(target_valid, DTC_prediction)"
   ]
  },
  {
   "cell_type": "markdown",
   "metadata": {},
   "source": [
    "Вывод Матрица показала, что дерево решений склонно выдавать позитивные предсказания, очень высокое количество ложных позитивных предсказания (FP)."
   ]
  },
  {
   "cell_type": "code",
   "execution_count": null,
   "metadata": {},
   "outputs": [],
   "source": [
    "rec_prec_f1(target_valid, DTC_prediction)"
   ]
  },
  {
   "cell_type": "code",
   "execution_count": null,
   "metadata": {},
   "outputs": [],
   "source": [
    "#Расчет roc_auc_DTC\n",
    "DTC_probabilities_one_valid = model_DTC.predict_proba(features_valid)[:, 1]\n",
    "\n",
    "auc_roc_DTC = roc_auc_score(target_valid, DTC_probabilities_one_valid)\n",
    "\n",
    "auc_roc_DTC"
   ]
  },
  {
   "cell_type": "markdown",
   "metadata": {},
   "source": [
    "Вывод Видим низкое значение F1, следовательно низкое качество модели, проблема в точности."
   ]
  },
  {
   "cell_type": "markdown",
   "metadata": {},
   "source": [
    "Логистическая регрессия"
   ]
  },
  {
   "cell_type": "code",
   "execution_count": null,
   "metadata": {},
   "outputs": [],
   "source": [
    "#Матрица ошибок для логистической регрессии\n",
    "model_LgR = LogisticRegression(solver = 'liblinear')\n",
    "model_LgR.fit(features_train, target_train)\n",
    "LgR_prediction = model_LgR.predict(features_valid)\n",
    "confusion_matrix(target_valid, LgR_prediction)"
   ]
  },
  {
   "cell_type": "code",
   "execution_count": null,
   "metadata": {},
   "outputs": [],
   "source": [
    "rec_prec_f1(target_valid, LgR_prediction)"
   ]
  },
  {
   "cell_type": "code",
   "execution_count": null,
   "metadata": {},
   "outputs": [],
   "source": [
    "#Для логистической регрессии расчитаем метрику AUC-ROC\n",
    "LgR_probabilities_one_valid = model_LgR.predict_proba(features_valid)[:, 1]\n",
    "\n",
    "auc_roc_LgR = roc_auc_score(target_valid, LgR_probabilities_one_valid)\n",
    "\n",
    "auc_roc_LgR"
   ]
  },
  {
   "cell_type": "code",
   "execution_count": null,
   "metadata": {},
   "outputs": [],
   "source": [
    "#исследуем баланс классов выборки\n",
    "target_train.value_counts(normalize = 1)"
   ]
  },
  {
   "cell_type": "code",
   "execution_count": null,
   "metadata": {},
   "outputs": [],
   "source": [
    "# Нарисуем гистограмму значений оттока и оставшихся клиентов\n",
    "data_ml['Exited'].value_counts().plot(kind='bar',grid=True,figsize=(10,6),title='Соотношение тех, кто остался и тех кто ушел')"
   ]
  },
  {
   "cell_type": "markdown",
   "metadata": {},
   "source": [
    "### Вывод\n",
    "Видно, что в выборке отрицательны ответов около 80% , положитительных примерно 20%, наблюдаем дисбаланс."
   ]
  },
  {
   "cell_type": "markdown",
   "metadata": {},
   "source": [
    "## Борьба с дисбалансом"
   ]
  },
  {
   "cell_type": "markdown",
   "metadata": {},
   "source": [
    "Необходмо увеличить количество положительных ответов в 4 раза для достижения баланса, или уменьшить кол-во отрицтаельных ответов, для этого:\n",
    "1. Рразделим обучающую выборку на отрицательные и положительные объекты;\n",
    "2. Скопируем несколько раз положительные объекты;\n",
    "3. С учётом полученных данных создадим новую обучающую выборку;\n",
    "4. Перемешаем данные: идущие друг за другом одинаковые вопросы не помогут обучению.\n",
    "5. Обучим новые модели"
   ]
  },
  {
   "cell_type": "code",
   "execution_count": null,
   "metadata": {},
   "outputs": [],
   "source": [
    "#Создадим функцию для увеличения представленной класса в выборке \n",
    "def upsample(features, target, repeat, upsampled_сlass):\n",
    "    \"\"\"Функция принимаем значение признаков (features[]), целевого признака (target[]), repeat(int / float),\n",
    "    класс который будет увеличен (upsampled_сlass (0 or 1))\"\"\"\n",
    "    features_zeros = features[target == 0]\n",
    "    features_ones = features[target == 1]\n",
    "    target_zeros = target[target == 0]\n",
    "    target_ones = target[target == 1]\n",
    "    \n",
    "    if upsampled_сlass == 0:\n",
    "        features_upsampled = pd.concat([features_zeros]* repeat + [features_ones] )\n",
    "        target_upsampled = pd.concat([target_zeros]* repeat + [target_ones] )\n",
    "        features_upsampled, target_upsampled = shuffle(\n",
    "        features_upsampled, target_upsampled, random_state=12345)\n",
    "        \n",
    "    elif upsampled_сlass == 1:\n",
    "        features_upsampled = pd.concat([features_zeros] + [features_ones] * repeat)\n",
    "        target_upsampled = pd.concat([target_zeros] + [target_ones] * repeat)\n",
    "        features_upsampled, target_upsampled = shuffle(\n",
    "        features_upsampled, target_upsampled, random_state=12345)\n",
    "    else:\n",
    "        features_upsampled = 0\n",
    "        target_upsampled = 0  \n",
    "        \n",
    "        \n",
    "       \n",
    "    return features_upsampled, target_upsampled"
   ]
  },
  {
   "cell_type": "code",
   "execution_count": null,
   "metadata": {},
   "outputs": [],
   "source": [
    "#Создадим функцию для уменьшения представленной класса в выборке \n",
    "def downsample(features, target, fraction):\n",
    "    features_zeros = features[target == 0]\n",
    "    features_ones = features[target == 1]\n",
    "    target_zeros = target[target == 0]\n",
    "    target_ones = target[target == 1]\n",
    "\n",
    "    features_downsampled = pd.concat(\n",
    "        [features_zeros.sample(frac=fraction, random_state=12345)] + [features_ones])\n",
    "    target_downsampled = pd.concat(\n",
    "        [target_zeros.sample(frac=fraction, random_state=12345)] + [target_ones])\n",
    "    \n",
    "    features_downsampled, target_downsampled = shuffle(\n",
    "        features_downsampled, target_downsampled, random_state=12345)\n",
    "    \n",
    "    return features_downsampled, target_downsampled"
   ]
  },
  {
   "cell_type": "code",
   "execution_count": null,
   "metadata": {},
   "outputs": [],
   "source": [
    "features_downsampled_train, target_downsampled_train = downsample(features_train, target_train, fraction=0.25)"
   ]
  },
  {
   "cell_type": "code",
   "execution_count": null,
   "metadata": {},
   "outputs": [],
   "source": [
    "#Протестируем функцию (верное значение)\n",
    "features_train_upsampled, target_train_upsampled = upsample(features_train, target_train, 4, 0)\n",
    "print(target_train_upsampled.value_counts(normalize = 1))\n",
    "print(target_train_upsampled.shape)"
   ]
  },
  {
   "cell_type": "code",
   "execution_count": null,
   "metadata": {},
   "outputs": [],
   "source": [
    "#Протестируем функцию (верное значение)\n",
    "features_train_upsampled, target_train_upsampled = upsample(features_train, target_train, 4, 3)\n",
    "features_train_upsampled"
   ]
  },
  {
   "cell_type": "code",
   "execution_count": null,
   "metadata": {},
   "outputs": [],
   "source": [
    "#Применим функцию upsample \n",
    "#увеличим количество положительных ответов в 4 раза\n",
    "features_train_upsampled, target_train_upsampled = upsample(features_train, target_train, 4, 1)\n",
    "print(target_train_upsampled.value_counts(normalize = 1))\n",
    "print(target_train_upsampled.shape)"
   ]
  },
  {
   "cell_type": "code",
   "execution_count": null,
   "metadata": {},
   "outputs": [],
   "source": [
    "#Применим функцию downsample\n",
    "#Уменьшим кол-в пооложительных ответов в 4 раза\n",
    "#Протестируем функцию (верное значение)\n",
    "features_downsampled_train, target_downsampled_train = downsample(features_train, target_train, 0.2)\n",
    "print(target_downsampled_train.value_counts(normalize = 0))\n",
    "print(target_downsampled_train.shape)"
   ]
  },
  {
   "cell_type": "code",
   "execution_count": null,
   "metadata": {},
   "outputs": [],
   "source": [
    "#лучше всего выглядит upsample с ним и будем работать\n",
    "target_train_upsampled.plot(kind ='hist', bins=3, figsize=(2,2))"
   ]
  },
  {
   "cell_type": "markdown",
   "metadata": {},
   "source": [
    "Обучение моделей на сбалансированной выборке"
   ]
  },
  {
   "cell_type": "code",
   "execution_count": null,
   "metadata": {},
   "outputs": [],
   "source": [
    "#Точность моделей на выборке с дисбалансом\n",
    "all_models_accuracy(features_train, target_train, features_valid, target_valid)"
   ]
  },
  {
   "cell_type": "code",
   "execution_count": null,
   "metadata": {},
   "outputs": [],
   "source": [
    "#Точность моделей на сбалансированной выборке\n",
    "all_models_accuracy(features_train_upsampled, target_train_upsampled, features_valid, target_valid)"
   ]
  },
  {
   "cell_type": "markdown",
   "metadata": {},
   "source": [
    "Точность на сбалансированной выборке упала."
   ]
  },
  {
   "cell_type": "markdown",
   "metadata": {},
   "source": [
    "Проверим качество ответов."
   ]
  },
  {
   "cell_type": "code",
   "execution_count": null,
   "metadata": {},
   "outputs": [],
   "source": [
    "#Решающее дерево\n",
    "model_DTC_upsampled = DecisionTreeClassifier(random_state=1515)\n",
    "model_DTC_upsampled.fit(features_train_upsampled, target_train_upsampled)\n",
    "DTC_prediction_upsampled = model_DTC_upsampled.predict(features_valid)\n",
    "rec_prec_f1(target_valid, DTC_prediction_upsampled)"
   ]
  },
  {
   "cell_type": "code",
   "execution_count": null,
   "metadata": {},
   "outputs": [],
   "source": [
    "#Расчитаем auc_roc для DTC на сбалансированной выборке\n",
    "DTC_upsampled_valid = model_DTC_upsampled.predict_proba(features_valid)[:, 1]\n",
    "\n",
    "auc_roc_DTC = roc_auc_score(target_valid, DTC_upsampled_valid)\n",
    "\n",
    "auc_roc_DTC"
   ]
  },
  {
   "cell_type": "code",
   "execution_count": null,
   "metadata": {},
   "outputs": [],
   "source": [
    "#Случайный лес\n",
    "model_RFC_upsampled = RandomForestClassifier(max_depth=7, n_estimators=43, min_samples_leaf=3, random_state=1515)\n",
    "model_RFC_upsampled.fit(features_train_upsampled, target_train_upsampled)\n",
    "RFC_prediction_upsampled = model_RFC_upsampled.predict(features_valid)\n",
    "rec_prec_f1(target_valid, RFC_prediction_upsampled)"
   ]
  },
  {
   "cell_type": "code",
   "execution_count": null,
   "metadata": {},
   "outputs": [],
   "source": [
    "#Расчитаем auc_roc для RFC на сбалансированной выборке\n",
    "RFC_upsampled_valid = model_RFC_upsampled.predict_proba(features_valid)[:, 1]\n",
    "\n",
    "auc_roc_RFC = roc_auc_score(target_valid, RFC_upsampled_valid)\n",
    "\n",
    "auc_roc_RFC"
   ]
  },
  {
   "cell_type": "code",
   "execution_count": null,
   "metadata": {},
   "outputs": [],
   "source": [
    "#Логистическая регрессия\n",
    "model_LgR_upsampled = LogisticRegression(solver = 'liblinear', class_weight='balanced')\n",
    "model_LgR_upsampled.fit(features_train_upsampled, target_train_upsampled)\n",
    "LgR_prediction_upsampled = model_LgR_upsampled.predict(features_valid)\n",
    "rec_prec_f1(target_valid, LgR_prediction_upsampled)"
   ]
  },
  {
   "cell_type": "code",
   "execution_count": null,
   "metadata": {},
   "outputs": [],
   "source": [
    "#Расчитаем auc_roc для LgR на сбалансированной выборке\n",
    "LgR_upsampled_valid = model_LgR_upsampled.predict_proba(features_valid)[:, 1]\n",
    "\n",
    "auc_roc_LgR = roc_auc_score(target_valid, LgR_upsampled_valid)\n",
    "\n",
    "auc_roc_LgR"
   ]
  },
  {
   "cell_type": "markdown",
   "metadata": {},
   "source": [
    "### Вывод\n",
    "\n",
    "Показаели всех моделей улучшились.\n",
    "\n",
    "Лучшие результаты показывает алгоритм случайный лес (RandomForestClassifier). На валидационной выборке RandomForestClassifier уже показывает резульаты F1 меры = 0.61, что выше целевого целевого значения."
   ]
  },
  {
   "cell_type": "markdown",
   "metadata": {},
   "source": [
    "## Тестирование модели"
   ]
  },
  {
   "cell_type": "code",
   "execution_count": null,
   "metadata": {},
   "outputs": [],
   "source": [
    "#Обучим финальную модель\n",
    "model_RFC_final = RandomForestClassifier(\n",
    "    bootstrap = True, class_weight = 'balanced', max_depth= 7,  n_estimators = 43, random_state=12345)\n",
    "model_RFC_final.fit(features_train_upsampled, target_train_upsampled)"
   ]
  },
  {
   "cell_type": "code",
   "execution_count": null,
   "metadata": {},
   "outputs": [],
   "source": [
    "model_RFC_final_prediction = model_RFC_final.predict(features_test)\n",
    "rec_prec_f1(target_test, model_RFC_final_prediction)"
   ]
  },
  {
   "cell_type": "code",
   "execution_count": null,
   "metadata": {},
   "outputs": [],
   "source": [
    "#Расчитаем auc_roc для RFC на тестовой выборке\n",
    "model_RFC_final_valid = model_RFC_final.predict_proba(features_test)[:, 1]\n",
    "\n",
    "auc_roc_RFC = roc_auc_score(target_test, model_RFC_final_valid)\n",
    "\n",
    "auc_roc_RFC"
   ]
  },
  {
   "cell_type": "code",
   "execution_count": null,
   "metadata": {},
   "outputs": [],
   "source": [
    "#Создаем константную модель\n",
    "target_predict_constant = pd.Series([0]*len(target_test))\n",
    "target_predict_constant.value_counts()"
   ]
  },
  {
   "cell_type": "code",
   "execution_count": null,
   "metadata": {},
   "outputs": [],
   "source": [
    "#Сравним показатель точности (accuracy_score) константной модели и финальной\n",
    "print('accuracy_score константой модели:', accuracy_score(target_valid, target_predict_constant))\n",
    "print('accuracy_score финальной модели:', accuracy_score(target_test, model_RFC_final_prediction))\n",
    "#Дополнительно сравним AUC-ROC — единственный параметр подающийся сравнению, потому что константная подель содержит только негативные ответы\n",
    "print('AUC-ROC константой модели:', roc_auc_score(target_valid, target_predict_constant))\n",
    "print('AUC-ROC финальной модели:', roc_auc_score(target_test, model_RFC_final_valid))"
   ]
  },
  {
   "cell_type": "markdown",
   "metadata": {},
   "source": [
    "### Вывод\n",
    "Финальная модель показывает результаты лучше, чем константная модель — модель можно считать адекватной."
   ]
  },
  {
   "cell_type": "markdown",
   "metadata": {},
   "source": [
    "## Выводы\n",
    "В первоначальные данных наблюдался значительный дисбаланс (80% ответов целевого признака были негативными и только 20% позитивными), из-за чего обученная на этих данных модель не проходила проверку на адекватность. \n",
    "\n",
    "После устранения дисбаланса классов в обучающей выборки методом upsampling — увеличилось количество значений позитивного класса в 4 раза. Так мы достигли баланса классос в обучеющей выборки: 0 - 0.501043 1 - 0.498957\n",
    "\n",
    "Разобрали несколько вариантов борьбы с дисбалансом upsampling и downsampling\n",
    "\n",
    "На новых данных все модели показали результат выше, чем на несбалансированной выборке. Лучшие показатели были у модели случайного леса:\n",
    "\n",
    "Полнота 0.722488038277512\n",
    "Точность 0.5392857142857143\n",
    "F1-мера 0.6175869120654396\n",
    "AUC-ROC 0.8527604207622839\n",
    "Финальная модель прошла проверку на адекватность в сравнении с контантной моделью: accuracy_score константой модели: 0.796\n",
    "\n",
    "aaccuracy_score константой модели: 0.791\n",
    "accuracy_score финальной модели: 0.7975\n",
    "AUC-ROC константой модели: 0.5\n",
    "AUC-ROC финальной модели: 0.8493323799115837"
   ]
  }
 ],
 "metadata": {
  "ExecuteTimeLog": [
   {
    "duration": 1544,
    "start_time": "2022-12-18T10:01:34.515Z"
   },
   {
    "duration": 204,
    "start_time": "2022-12-18T10:03:46.795Z"
   },
   {
    "duration": 48,
    "start_time": "2022-12-18T10:06:27.318Z"
   },
   {
    "duration": 50,
    "start_time": "2022-12-18T10:06:40.106Z"
   },
   {
    "duration": 15,
    "start_time": "2022-12-18T10:06:43.693Z"
   },
   {
    "duration": 50,
    "start_time": "2022-12-18T10:07:27.252Z"
   },
   {
    "duration": 108,
    "start_time": "2022-12-18T10:14:19.288Z"
   },
   {
    "duration": 4,
    "start_time": "2022-12-18T10:14:56.417Z"
   },
   {
    "duration": 56,
    "start_time": "2022-12-18T10:14:56.423Z"
   },
   {
    "duration": 18,
    "start_time": "2022-12-18T10:14:56.481Z"
   },
   {
    "duration": 38,
    "start_time": "2022-12-18T10:14:56.501Z"
   },
   {
    "duration": 9,
    "start_time": "2022-12-18T10:14:56.541Z"
   },
   {
    "duration": 11,
    "start_time": "2022-12-18T10:15:15.920Z"
   },
   {
    "duration": 1602,
    "start_time": "2022-12-21T13:39:32.263Z"
   },
   {
    "duration": 108,
    "start_time": "2022-12-21T13:39:33.867Z"
   },
   {
    "duration": 13,
    "start_time": "2022-12-21T13:39:33.976Z"
   },
   {
    "duration": 59,
    "start_time": "2022-12-21T13:39:33.992Z"
   },
   {
    "duration": 12,
    "start_time": "2022-12-21T13:39:34.054Z"
   },
   {
    "duration": 9,
    "start_time": "2022-12-21T13:39:34.067Z"
   },
   {
    "duration": 5,
    "start_time": "2022-12-21T13:45:24.836Z"
   },
   {
    "duration": 4,
    "start_time": "2022-12-21T13:52:40.854Z"
   },
   {
    "duration": 6,
    "start_time": "2022-12-21T14:00:46.040Z"
   },
   {
    "duration": 6,
    "start_time": "2022-12-21T14:01:19.985Z"
   },
   {
    "duration": 114,
    "start_time": "2022-12-21T14:03:21.024Z"
   },
   {
    "duration": 11,
    "start_time": "2022-12-21T14:03:39.938Z"
   },
   {
    "duration": 8,
    "start_time": "2022-12-21T14:03:51.758Z"
   },
   {
    "duration": 9,
    "start_time": "2022-12-21T14:03:58.671Z"
   },
   {
    "duration": 7,
    "start_time": "2022-12-21T14:05:07.681Z"
   },
   {
    "duration": 10,
    "start_time": "2022-12-21T14:22:23.198Z"
   },
   {
    "duration": 6,
    "start_time": "2022-12-21T14:22:56.695Z"
   },
   {
    "duration": 20,
    "start_time": "2022-12-21T14:23:25.011Z"
   },
   {
    "duration": 1454,
    "start_time": "2022-12-29T15:42:40.885Z"
   },
   {
    "duration": 101,
    "start_time": "2022-12-29T15:42:42.341Z"
   },
   {
    "duration": 14,
    "start_time": "2022-12-29T15:42:42.444Z"
   },
   {
    "duration": 39,
    "start_time": "2022-12-29T15:42:42.460Z"
   },
   {
    "duration": 26,
    "start_time": "2022-12-29T15:42:42.501Z"
   },
   {
    "duration": 3,
    "start_time": "2022-12-29T15:42:42.529Z"
   },
   {
    "duration": 20,
    "start_time": "2022-12-29T15:42:42.534Z"
   },
   {
    "duration": 14,
    "start_time": "2022-12-29T15:42:42.556Z"
   },
   {
    "duration": 15,
    "start_time": "2022-12-29T15:42:42.572Z"
   },
   {
    "duration": 15,
    "start_time": "2022-12-29T15:42:42.590Z"
   },
   {
    "duration": 133,
    "start_time": "2022-12-29T15:44:43.591Z"
   },
   {
    "duration": 1249,
    "start_time": "2022-12-29T15:45:09.239Z"
   },
   {
    "duration": 56,
    "start_time": "2022-12-29T15:45:10.490Z"
   },
   {
    "duration": 12,
    "start_time": "2022-12-29T15:45:10.548Z"
   },
   {
    "duration": 40,
    "start_time": "2022-12-29T15:45:10.562Z"
   },
   {
    "duration": 9,
    "start_time": "2022-12-29T15:45:10.621Z"
   },
   {
    "duration": 5,
    "start_time": "2022-12-29T15:45:10.632Z"
   },
   {
    "duration": 15,
    "start_time": "2022-12-29T15:45:10.638Z"
   },
   {
    "duration": 9,
    "start_time": "2022-12-29T15:45:10.655Z"
   },
   {
    "duration": 11,
    "start_time": "2022-12-29T15:45:10.666Z"
   },
   {
    "duration": 20,
    "start_time": "2022-12-29T15:45:10.679Z"
   },
   {
    "duration": 112,
    "start_time": "2022-12-29T15:45:10.700Z"
   },
   {
    "duration": 3,
    "start_time": "2022-12-29T15:45:28.794Z"
   },
   {
    "duration": 9,
    "start_time": "2022-12-29T15:47:09.470Z"
   },
   {
    "duration": 20,
    "start_time": "2022-12-29T15:47:34.488Z"
   },
   {
    "duration": 4,
    "start_time": "2022-12-29T15:48:26.751Z"
   },
   {
    "duration": 5,
    "start_time": "2022-12-29T15:59:07.030Z"
   },
   {
    "duration": 5,
    "start_time": "2022-12-29T16:00:08.821Z"
   },
   {
    "duration": 11,
    "start_time": "2022-12-29T16:04:50.779Z"
   },
   {
    "duration": 3,
    "start_time": "2022-12-29T16:05:23.409Z"
   },
   {
    "duration": 9,
    "start_time": "2022-12-29T16:05:37.786Z"
   },
   {
    "duration": 23,
    "start_time": "2022-12-29T16:07:43.667Z"
   },
   {
    "duration": 9,
    "start_time": "2022-12-29T16:08:02.399Z"
   },
   {
    "duration": 5,
    "start_time": "2022-12-29T16:08:26.808Z"
   },
   {
    "duration": 6,
    "start_time": "2022-12-29T16:08:35.901Z"
   },
   {
    "duration": 6,
    "start_time": "2022-12-29T16:08:37.373Z"
   },
   {
    "duration": 10,
    "start_time": "2022-12-29T16:08:38.599Z"
   },
   {
    "duration": 2,
    "start_time": "2022-12-29T16:08:39.731Z"
   },
   {
    "duration": 7,
    "start_time": "2022-12-29T16:08:41.015Z"
   },
   {
    "duration": 22,
    "start_time": "2022-12-29T16:08:42.963Z"
   },
   {
    "duration": 18,
    "start_time": "2022-12-29T16:08:47.546Z"
   },
   {
    "duration": 17,
    "start_time": "2022-12-29T16:08:50.072Z"
   },
   {
    "duration": 5,
    "start_time": "2022-12-29T16:11:31.861Z"
   },
   {
    "duration": 4,
    "start_time": "2022-12-29T16:11:47.313Z"
   },
   {
    "duration": 352,
    "start_time": "2022-12-29T16:12:16.168Z"
   },
   {
    "duration": 5,
    "start_time": "2022-12-29T16:14:02.843Z"
   },
   {
    "duration": 250,
    "start_time": "2022-12-29T16:14:06.998Z"
   },
   {
    "duration": 4,
    "start_time": "2022-12-29T16:14:31.401Z"
   },
   {
    "duration": 276,
    "start_time": "2022-12-29T16:14:32.347Z"
   },
   {
    "duration": 7,
    "start_time": "2022-12-29T16:15:50.592Z"
   },
   {
    "duration": 81,
    "start_time": "2022-12-29T16:16:31.084Z"
   },
   {
    "duration": 6,
    "start_time": "2022-12-29T16:21:56.087Z"
   },
   {
    "duration": 66,
    "start_time": "2022-12-29T16:21:58.630Z"
   },
   {
    "duration": 5,
    "start_time": "2022-12-29T16:28:25.735Z"
   },
   {
    "duration": 4,
    "start_time": "2022-12-29T16:28:52.239Z"
   },
   {
    "duration": 120,
    "start_time": "2022-12-29T16:32:11.040Z"
   },
   {
    "duration": 11,
    "start_time": "2022-12-29T16:38:48.082Z"
   },
   {
    "duration": 4,
    "start_time": "2022-12-29T16:39:06.242Z"
   },
   {
    "duration": 3,
    "start_time": "2022-12-29T16:39:10.848Z"
   },
   {
    "duration": 46,
    "start_time": "2022-12-29T16:39:10.876Z"
   },
   {
    "duration": 11,
    "start_time": "2022-12-29T16:39:10.924Z"
   },
   {
    "duration": 39,
    "start_time": "2022-12-29T16:39:10.937Z"
   },
   {
    "duration": 9,
    "start_time": "2022-12-29T16:39:10.978Z"
   },
   {
    "duration": 3,
    "start_time": "2022-12-29T16:39:10.989Z"
   },
   {
    "duration": 29,
    "start_time": "2022-12-29T16:39:10.993Z"
   },
   {
    "duration": 4,
    "start_time": "2022-12-29T16:39:11.023Z"
   },
   {
    "duration": 8,
    "start_time": "2022-12-29T16:39:11.029Z"
   },
   {
    "duration": 13,
    "start_time": "2022-12-29T16:39:11.038Z"
   },
   {
    "duration": 14,
    "start_time": "2022-12-29T16:39:11.052Z"
   },
   {
    "duration": 18,
    "start_time": "2022-12-29T16:39:11.067Z"
   },
   {
    "duration": 4,
    "start_time": "2022-12-29T16:39:11.086Z"
   },
   {
    "duration": 11,
    "start_time": "2022-12-29T16:39:11.091Z"
   },
   {
    "duration": 20,
    "start_time": "2022-12-29T16:39:11.104Z"
   },
   {
    "duration": 7,
    "start_time": "2022-12-29T16:39:11.125Z"
   },
   {
    "duration": 11,
    "start_time": "2022-12-29T16:39:11.133Z"
   },
   {
    "duration": 12,
    "start_time": "2022-12-29T16:39:11.146Z"
   },
   {
    "duration": 0,
    "start_time": "2022-12-29T16:39:11.159Z"
   },
   {
    "duration": 0,
    "start_time": "2022-12-29T16:39:11.160Z"
   },
   {
    "duration": 0,
    "start_time": "2022-12-29T16:39:11.162Z"
   },
   {
    "duration": 0,
    "start_time": "2022-12-29T16:39:11.162Z"
   },
   {
    "duration": 0,
    "start_time": "2022-12-29T16:39:11.163Z"
   },
   {
    "duration": 0,
    "start_time": "2022-12-29T16:39:11.164Z"
   },
   {
    "duration": 23,
    "start_time": "2022-12-29T16:40:37.618Z"
   },
   {
    "duration": 4,
    "start_time": "2022-12-29T16:49:14.727Z"
   },
   {
    "duration": 297,
    "start_time": "2022-12-29T16:49:18.427Z"
   },
   {
    "duration": 10,
    "start_time": "2022-12-29T16:50:36.480Z"
   },
   {
    "duration": 166,
    "start_time": "2022-12-29T16:51:38.393Z"
   },
   {
    "duration": 164,
    "start_time": "2022-12-29T16:54:44.196Z"
   },
   {
    "duration": 18,
    "start_time": "2022-12-29T16:55:41.703Z"
   },
   {
    "duration": 4102,
    "start_time": "2022-12-29T16:56:18.554Z"
   },
   {
    "duration": 213,
    "start_time": "2022-12-29T16:59:36.913Z"
   },
   {
    "duration": 11,
    "start_time": "2022-12-29T17:17:59.600Z"
   },
   {
    "duration": 5,
    "start_time": "2022-12-29T17:18:00.795Z"
   },
   {
    "duration": 39,
    "start_time": "2022-12-29T17:18:30.703Z"
   },
   {
    "duration": 1562,
    "start_time": "2022-12-29T17:18:46.348Z"
   },
   {
    "duration": 371,
    "start_time": "2022-12-29T17:18:47.913Z"
   },
   {
    "duration": 16,
    "start_time": "2022-12-29T17:18:48.285Z"
   },
   {
    "duration": 42,
    "start_time": "2022-12-29T17:18:48.303Z"
   },
   {
    "duration": 12,
    "start_time": "2022-12-29T17:18:48.347Z"
   },
   {
    "duration": 19,
    "start_time": "2022-12-29T17:18:48.361Z"
   },
   {
    "duration": 9,
    "start_time": "2022-12-29T17:18:48.381Z"
   },
   {
    "duration": 11,
    "start_time": "2022-12-29T17:18:48.391Z"
   },
   {
    "duration": 9,
    "start_time": "2022-12-29T17:18:48.404Z"
   },
   {
    "duration": 17,
    "start_time": "2022-12-29T17:18:48.415Z"
   },
   {
    "duration": 8,
    "start_time": "2022-12-29T17:18:48.433Z"
   },
   {
    "duration": 36,
    "start_time": "2022-12-29T17:18:48.443Z"
   },
   {
    "duration": 4,
    "start_time": "2022-12-29T17:18:48.480Z"
   },
   {
    "duration": 9,
    "start_time": "2022-12-29T17:18:48.485Z"
   },
   {
    "duration": 5,
    "start_time": "2022-12-29T17:18:48.496Z"
   },
   {
    "duration": 4,
    "start_time": "2022-12-29T17:18:48.503Z"
   },
   {
    "duration": 15,
    "start_time": "2022-12-29T17:18:48.509Z"
   },
   {
    "duration": 28,
    "start_time": "2022-12-29T17:18:48.525Z"
   },
   {
    "duration": 180,
    "start_time": "2022-12-29T17:18:48.555Z"
   },
   {
    "duration": 4078,
    "start_time": "2022-12-29T17:18:48.737Z"
   },
   {
    "duration": 265,
    "start_time": "2022-12-29T17:18:52.816Z"
   },
   {
    "duration": 95,
    "start_time": "2022-12-29T17:18:53.083Z"
   },
   {
    "duration": 312,
    "start_time": "2022-12-29T17:18:53.180Z"
   },
   {
    "duration": 91,
    "start_time": "2022-12-29T17:18:53.493Z"
   },
   {
    "duration": 234,
    "start_time": "2022-12-29T17:18:53.587Z"
   },
   {
    "duration": 5,
    "start_time": "2022-12-29T17:18:53.822Z"
   },
   {
    "duration": 15,
    "start_time": "2022-12-29T17:18:53.829Z"
   },
   {
    "duration": 10,
    "start_time": "2022-12-29T17:18:53.847Z"
   },
   {
    "duration": 15,
    "start_time": "2022-12-29T17:19:14.556Z"
   },
   {
    "duration": 7,
    "start_time": "2022-12-29T17:19:48.177Z"
   },
   {
    "duration": 13,
    "start_time": "2022-12-29T17:23:13.352Z"
   },
   {
    "duration": 11,
    "start_time": "2022-12-29T17:23:32.461Z"
   },
   {
    "duration": 91,
    "start_time": "2022-12-29T17:24:26.406Z"
   },
   {
    "duration": 359,
    "start_time": "2022-12-29T17:25:42.119Z"
   },
   {
    "duration": 357,
    "start_time": "2022-12-29T17:25:46.922Z"
   },
   {
    "duration": 4,
    "start_time": "2022-12-29T17:30:48.584Z"
   },
   {
    "duration": 57,
    "start_time": "2022-12-29T17:30:48.590Z"
   },
   {
    "duration": 12,
    "start_time": "2022-12-29T17:30:48.649Z"
   },
   {
    "duration": 44,
    "start_time": "2022-12-29T17:30:48.663Z"
   },
   {
    "duration": 12,
    "start_time": "2022-12-29T17:30:48.709Z"
   },
   {
    "duration": 4,
    "start_time": "2022-12-29T17:30:48.723Z"
   },
   {
    "duration": 10,
    "start_time": "2022-12-29T17:30:48.728Z"
   },
   {
    "duration": 20,
    "start_time": "2022-12-29T17:30:48.740Z"
   },
   {
    "duration": 17,
    "start_time": "2022-12-29T17:30:48.762Z"
   },
   {
    "duration": 12,
    "start_time": "2022-12-29T17:30:48.781Z"
   },
   {
    "duration": 15,
    "start_time": "2022-12-29T17:30:48.795Z"
   },
   {
    "duration": 22,
    "start_time": "2022-12-29T17:30:48.811Z"
   },
   {
    "duration": 3,
    "start_time": "2022-12-29T17:30:48.835Z"
   },
   {
    "duration": 9,
    "start_time": "2022-12-29T17:30:48.840Z"
   },
   {
    "duration": 28,
    "start_time": "2022-12-29T17:30:48.850Z"
   },
   {
    "duration": 24,
    "start_time": "2022-12-29T17:30:48.880Z"
   },
   {
    "duration": 16,
    "start_time": "2022-12-29T17:30:48.906Z"
   },
   {
    "duration": 35,
    "start_time": "2022-12-29T17:30:48.923Z"
   },
   {
    "duration": 195,
    "start_time": "2022-12-29T17:30:48.960Z"
   },
   {
    "duration": 4221,
    "start_time": "2022-12-29T17:30:49.157Z"
   },
   {
    "duration": 514,
    "start_time": "2022-12-29T17:30:53.380Z"
   },
   {
    "duration": 5,
    "start_time": "2022-12-29T17:30:53.980Z"
   },
   {
    "duration": 397,
    "start_time": "2022-12-29T17:30:53.987Z"
   },
   {
    "duration": 7,
    "start_time": "2022-12-29T17:30:54.385Z"
   },
   {
    "duration": 188,
    "start_time": "2022-12-29T17:30:54.479Z"
   },
   {
    "duration": 11,
    "start_time": "2022-12-29T17:30:54.669Z"
   },
   {
    "duration": 9,
    "start_time": "2022-12-29T17:30:54.682Z"
   },
   {
    "duration": 11,
    "start_time": "2022-12-29T17:30:54.694Z"
   },
   {
    "duration": 13,
    "start_time": "2022-12-29T17:30:54.707Z"
   },
   {
    "duration": 7,
    "start_time": "2022-12-29T17:30:54.721Z"
   },
   {
    "duration": 10,
    "start_time": "2022-12-29T17:30:54.730Z"
   },
   {
    "duration": 42,
    "start_time": "2022-12-29T17:30:54.742Z"
   },
   {
    "duration": 94,
    "start_time": "2022-12-29T17:30:54.786Z"
   },
   {
    "duration": 299,
    "start_time": "2022-12-29T17:30:54.881Z"
   },
   {
    "duration": 464,
    "start_time": "2022-12-29T17:30:55.182Z"
   },
   {
    "duration": 229,
    "start_time": "2022-12-29T17:30:55.690Z"
   },
   {
    "duration": 0,
    "start_time": "2022-12-29T17:30:55.920Z"
   },
   {
    "duration": 0,
    "start_time": "2022-12-29T17:30:55.922Z"
   },
   {
    "duration": 0,
    "start_time": "2022-12-29T17:30:55.923Z"
   },
   {
    "duration": 0,
    "start_time": "2022-12-29T17:30:55.924Z"
   },
   {
    "duration": 0,
    "start_time": "2022-12-29T17:30:55.925Z"
   },
   {
    "duration": 4,
    "start_time": "2022-12-29T17:36:32.806Z"
   },
   {
    "duration": 3,
    "start_time": "2022-12-29T17:36:44.058Z"
   },
   {
    "duration": 3,
    "start_time": "2022-12-29T17:39:31.071Z"
   },
   {
    "duration": 46,
    "start_time": "2022-12-29T17:39:55.173Z"
   },
   {
    "duration": 9,
    "start_time": "2022-12-29T17:40:18.043Z"
   },
   {
    "duration": 287,
    "start_time": "2022-12-29T17:40:38.153Z"
   },
   {
    "duration": 27,
    "start_time": "2022-12-29T17:41:01.463Z"
   },
   {
    "duration": 55,
    "start_time": "2022-12-29T17:41:16.243Z"
   },
   {
    "duration": 10,
    "start_time": "2022-12-29T17:41:39.792Z"
   },
   {
    "duration": 9,
    "start_time": "2022-12-29T17:42:42.435Z"
   },
   {
    "duration": 267,
    "start_time": "2022-12-29T17:42:48.309Z"
   },
   {
    "duration": 22,
    "start_time": "2022-12-29T17:42:49.390Z"
   },
   {
    "duration": 91,
    "start_time": "2022-12-29T17:43:09.343Z"
   },
   {
    "duration": 6,
    "start_time": "2022-12-29T17:43:29.227Z"
   },
   {
    "duration": 10,
    "start_time": "2022-12-29T17:43:52.884Z"
   },
   {
    "duration": 1242,
    "start_time": "2022-12-29T18:04:06.230Z"
   },
   {
    "duration": 52,
    "start_time": "2022-12-29T18:04:07.474Z"
   },
   {
    "duration": 13,
    "start_time": "2022-12-29T18:04:07.528Z"
   },
   {
    "duration": 40,
    "start_time": "2022-12-29T18:04:07.543Z"
   },
   {
    "duration": 11,
    "start_time": "2022-12-29T18:04:07.585Z"
   },
   {
    "duration": 3,
    "start_time": "2022-12-29T18:04:07.598Z"
   },
   {
    "duration": 9,
    "start_time": "2022-12-29T18:04:07.603Z"
   },
   {
    "duration": 9,
    "start_time": "2022-12-29T18:04:07.614Z"
   },
   {
    "duration": 9,
    "start_time": "2022-12-29T18:04:07.625Z"
   },
   {
    "duration": 14,
    "start_time": "2022-12-29T18:04:07.635Z"
   },
   {
    "duration": 29,
    "start_time": "2022-12-29T18:04:07.651Z"
   },
   {
    "duration": 25,
    "start_time": "2022-12-29T18:04:07.682Z"
   },
   {
    "duration": 4,
    "start_time": "2022-12-29T18:04:07.709Z"
   },
   {
    "duration": 5,
    "start_time": "2022-12-29T18:04:07.716Z"
   },
   {
    "duration": 5,
    "start_time": "2022-12-29T18:04:07.723Z"
   },
   {
    "duration": 7,
    "start_time": "2022-12-29T18:04:07.730Z"
   },
   {
    "duration": 11,
    "start_time": "2022-12-29T18:04:07.738Z"
   },
   {
    "duration": 25,
    "start_time": "2022-12-29T18:04:07.778Z"
   },
   {
    "duration": 176,
    "start_time": "2022-12-29T18:04:07.804Z"
   },
   {
    "duration": 3935,
    "start_time": "2022-12-29T18:04:07.982Z"
   },
   {
    "duration": 262,
    "start_time": "2022-12-29T18:04:11.919Z"
   },
   {
    "duration": 96,
    "start_time": "2022-12-29T18:04:12.184Z"
   },
   {
    "duration": 397,
    "start_time": "2022-12-29T18:04:12.282Z"
   },
   {
    "duration": 98,
    "start_time": "2022-12-29T18:04:12.681Z"
   },
   {
    "duration": 143,
    "start_time": "2022-12-29T18:04:12.781Z"
   },
   {
    "duration": 6,
    "start_time": "2022-12-29T18:04:12.925Z"
   },
   {
    "duration": 8,
    "start_time": "2022-12-29T18:04:12.933Z"
   },
   {
    "duration": 22,
    "start_time": "2022-12-29T18:04:12.943Z"
   },
   {
    "duration": 19,
    "start_time": "2022-12-29T18:04:12.967Z"
   },
   {
    "duration": 6,
    "start_time": "2022-12-29T18:04:12.988Z"
   },
   {
    "duration": 11,
    "start_time": "2022-12-29T18:04:12.996Z"
   },
   {
    "duration": 11,
    "start_time": "2022-12-29T18:04:13.009Z"
   },
   {
    "duration": 106,
    "start_time": "2022-12-29T18:04:13.022Z"
   },
   {
    "duration": 277,
    "start_time": "2022-12-29T18:04:13.130Z"
   },
   {
    "duration": 451,
    "start_time": "2022-12-29T18:04:13.478Z"
   },
   {
    "duration": 5,
    "start_time": "2022-12-29T18:04:13.980Z"
   },
   {
    "duration": 162,
    "start_time": "2022-12-29T18:04:13.987Z"
   },
   {
    "duration": 11,
    "start_time": "2022-12-29T18:04:14.151Z"
   },
   {
    "duration": 282,
    "start_time": "2022-12-29T18:04:14.164Z"
   },
   {
    "duration": 20,
    "start_time": "2022-12-29T18:04:14.448Z"
   },
   {
    "duration": 100,
    "start_time": "2022-12-29T18:04:14.479Z"
   },
   {
    "duration": 100,
    "start_time": "2022-12-29T18:04:14.581Z"
   },
   {
    "duration": 362,
    "start_time": "2022-12-29T18:04:14.684Z"
   },
   {
    "duration": 22,
    "start_time": "2022-12-29T18:04:15.048Z"
   },
   {
    "duration": 21,
    "start_time": "2022-12-29T18:04:15.078Z"
   },
   {
    "duration": 6,
    "start_time": "2022-12-29T18:04:15.101Z"
   },
   {
    "duration": 20,
    "start_time": "2022-12-29T18:04:15.109Z"
   },
   {
    "duration": 5,
    "start_time": "2022-12-29T18:08:27.329Z"
   },
   {
    "duration": 262,
    "start_time": "2022-12-29T18:08:28.750Z"
   },
   {
    "duration": 1425,
    "start_time": "2022-12-29T18:10:41.933Z"
   },
   {
    "duration": 71,
    "start_time": "2022-12-29T18:10:43.360Z"
   },
   {
    "duration": 13,
    "start_time": "2022-12-29T18:10:43.433Z"
   },
   {
    "duration": 99,
    "start_time": "2022-12-29T18:10:43.448Z"
   },
   {
    "duration": 14,
    "start_time": "2022-12-29T18:10:43.549Z"
   },
   {
    "duration": 4,
    "start_time": "2022-12-29T18:10:43.564Z"
   },
   {
    "duration": 38,
    "start_time": "2022-12-29T18:10:43.569Z"
   },
   {
    "duration": 16,
    "start_time": "2022-12-29T18:10:43.609Z"
   },
   {
    "duration": 15,
    "start_time": "2022-12-29T18:10:43.626Z"
   },
   {
    "duration": 29,
    "start_time": "2022-12-29T18:10:43.644Z"
   },
   {
    "duration": 56,
    "start_time": "2022-12-29T18:10:43.674Z"
   },
   {
    "duration": 133,
    "start_time": "2022-12-29T18:10:43.732Z"
   },
   {
    "duration": 105,
    "start_time": "2022-12-29T18:10:43.866Z"
   },
   {
    "duration": 59,
    "start_time": "2022-12-29T18:10:43.973Z"
   },
   {
    "duration": 34,
    "start_time": "2022-12-29T18:10:44.034Z"
   },
   {
    "duration": 63,
    "start_time": "2022-12-29T18:10:44.070Z"
   },
   {
    "duration": 41,
    "start_time": "2022-12-29T18:10:44.135Z"
   },
   {
    "duration": 59,
    "start_time": "2022-12-29T18:10:44.178Z"
   },
   {
    "duration": 5,
    "start_time": "2022-12-29T18:10:44.239Z"
   },
   {
    "duration": 369,
    "start_time": "2022-12-29T18:10:44.246Z"
   },
   {
    "duration": 71,
    "start_time": "2022-12-29T18:10:44.617Z"
   },
   {
    "duration": 243,
    "start_time": "2022-12-29T18:10:44.691Z"
   },
   {
    "duration": 6,
    "start_time": "2022-12-29T18:10:44.936Z"
   },
   {
    "duration": 98,
    "start_time": "2022-12-29T18:10:44.943Z"
   },
   {
    "duration": 89,
    "start_time": "2022-12-29T18:10:45.043Z"
   },
   {
    "duration": 30,
    "start_time": "2022-12-29T18:10:45.134Z"
   },
   {
    "duration": 41,
    "start_time": "2022-12-29T18:10:45.166Z"
   },
   {
    "duration": 30,
    "start_time": "2022-12-29T18:10:45.210Z"
   },
   {
    "duration": 18,
    "start_time": "2022-12-29T18:10:45.241Z"
   },
   {
    "duration": 165,
    "start_time": "2022-12-29T18:10:45.260Z"
   },
   {
    "duration": 351,
    "start_time": "2022-12-29T18:10:45.426Z"
   },
   {
    "duration": 496,
    "start_time": "2022-12-29T18:10:45.782Z"
   },
   {
    "duration": 5,
    "start_time": "2022-12-29T18:10:46.280Z"
   },
   {
    "duration": 200,
    "start_time": "2022-12-29T18:10:46.287Z"
   },
   {
    "duration": 11,
    "start_time": "2022-12-29T18:10:46.490Z"
   },
   {
    "duration": 371,
    "start_time": "2022-12-29T18:10:46.503Z"
   },
   {
    "duration": 30,
    "start_time": "2022-12-29T18:10:46.876Z"
   },
   {
    "duration": 175,
    "start_time": "2022-12-29T18:10:46.908Z"
   },
   {
    "duration": 24,
    "start_time": "2022-12-29T18:10:47.085Z"
   },
   {
    "duration": 483,
    "start_time": "2022-12-29T18:10:47.112Z"
   },
   {
    "duration": 25,
    "start_time": "2022-12-29T18:10:47.597Z"
   },
   {
    "duration": 21,
    "start_time": "2022-12-29T18:10:47.624Z"
   },
   {
    "duration": 14,
    "start_time": "2022-12-29T18:10:47.646Z"
   },
   {
    "duration": 38,
    "start_time": "2022-12-29T18:10:47.662Z"
   },
   {
    "duration": 4,
    "start_time": "2022-12-29T18:12:38.541Z"
   },
   {
    "duration": 85,
    "start_time": "2022-12-29T18:12:38.549Z"
   },
   {
    "duration": 17,
    "start_time": "2022-12-29T18:12:38.636Z"
   },
   {
    "duration": 64,
    "start_time": "2022-12-29T18:12:38.655Z"
   },
   {
    "duration": 13,
    "start_time": "2022-12-29T18:12:38.721Z"
   },
   {
    "duration": 11,
    "start_time": "2022-12-29T18:12:38.735Z"
   },
   {
    "duration": 9,
    "start_time": "2022-12-29T18:12:38.748Z"
   },
   {
    "duration": 28,
    "start_time": "2022-12-29T18:12:38.759Z"
   },
   {
    "duration": 21,
    "start_time": "2022-12-29T18:12:38.788Z"
   },
   {
    "duration": 24,
    "start_time": "2022-12-29T18:12:38.811Z"
   },
   {
    "duration": 5,
    "start_time": "2022-12-29T18:12:38.837Z"
   },
   {
    "duration": 26,
    "start_time": "2022-12-29T18:12:38.844Z"
   },
   {
    "duration": 21,
    "start_time": "2022-12-29T18:12:38.872Z"
   },
   {
    "duration": 9,
    "start_time": "2022-12-29T18:12:38.895Z"
   },
   {
    "duration": 7,
    "start_time": "2022-12-29T18:12:38.906Z"
   },
   {
    "duration": 10,
    "start_time": "2022-12-29T18:12:38.914Z"
   },
   {
    "duration": 16,
    "start_time": "2022-12-29T18:12:38.926Z"
   },
   {
    "duration": 49,
    "start_time": "2022-12-29T18:12:38.945Z"
   },
   {
    "duration": 4,
    "start_time": "2022-12-29T18:12:38.996Z"
   },
   {
    "duration": 282,
    "start_time": "2022-12-29T18:12:39.002Z"
   },
   {
    "duration": 9,
    "start_time": "2022-12-29T18:12:39.289Z"
   },
   {
    "duration": 223,
    "start_time": "2022-12-29T18:12:39.300Z"
   },
   {
    "duration": 5,
    "start_time": "2022-12-29T18:12:39.525Z"
   },
   {
    "duration": 9,
    "start_time": "2022-12-29T18:12:39.532Z"
   },
   {
    "duration": 13,
    "start_time": "2022-12-29T18:12:39.543Z"
   },
   {
    "duration": 33,
    "start_time": "2022-12-29T18:12:39.557Z"
   },
   {
    "duration": 8,
    "start_time": "2022-12-29T18:12:39.596Z"
   },
   {
    "duration": 13,
    "start_time": "2022-12-29T18:12:39.606Z"
   },
   {
    "duration": 10,
    "start_time": "2022-12-29T18:12:39.622Z"
   },
   {
    "duration": 105,
    "start_time": "2022-12-29T18:12:39.633Z"
   },
   {
    "duration": 257,
    "start_time": "2022-12-29T18:12:39.740Z"
   },
   {
    "duration": 453,
    "start_time": "2022-12-29T18:12:40.082Z"
   },
   {
    "duration": 46,
    "start_time": "2022-12-29T18:12:40.538Z"
   },
   {
    "duration": 153,
    "start_time": "2022-12-29T18:12:40.587Z"
   },
   {
    "duration": 7,
    "start_time": "2022-12-29T18:12:40.742Z"
   },
   {
    "duration": 324,
    "start_time": "2022-12-29T18:12:40.750Z"
   },
   {
    "duration": 26,
    "start_time": "2022-12-29T18:12:41.077Z"
   },
   {
    "duration": 79,
    "start_time": "2022-12-29T18:12:41.105Z"
   },
   {
    "duration": 95,
    "start_time": "2022-12-29T18:12:41.186Z"
   },
   {
    "duration": 480,
    "start_time": "2022-12-29T18:12:41.284Z"
   },
   {
    "duration": 37,
    "start_time": "2022-12-29T18:12:41.766Z"
   },
   {
    "duration": 32,
    "start_time": "2022-12-29T18:12:41.807Z"
   },
   {
    "duration": 11,
    "start_time": "2022-12-29T18:12:41.841Z"
   },
   {
    "duration": 27,
    "start_time": "2022-12-29T18:12:41.853Z"
   },
   {
    "duration": 11,
    "start_time": "2022-12-29T18:15:34.204Z"
   },
   {
    "duration": 26,
    "start_time": "2022-12-29T18:15:57.893Z"
   },
   {
    "duration": 28,
    "start_time": "2022-12-29T18:16:33.840Z"
   },
   {
    "duration": 5,
    "start_time": "2022-12-29T18:16:37.455Z"
   },
   {
    "duration": 78,
    "start_time": "2022-12-29T18:16:37.462Z"
   },
   {
    "duration": 14,
    "start_time": "2022-12-29T18:16:37.542Z"
   },
   {
    "duration": 44,
    "start_time": "2022-12-29T18:16:37.558Z"
   },
   {
    "duration": 13,
    "start_time": "2022-12-29T18:16:37.604Z"
   },
   {
    "duration": 4,
    "start_time": "2022-12-29T18:16:37.619Z"
   },
   {
    "duration": 15,
    "start_time": "2022-12-29T18:16:37.625Z"
   },
   {
    "duration": 36,
    "start_time": "2022-12-29T18:16:37.642Z"
   },
   {
    "duration": 9,
    "start_time": "2022-12-29T18:16:37.681Z"
   },
   {
    "duration": 22,
    "start_time": "2022-12-29T18:16:37.697Z"
   },
   {
    "duration": 13,
    "start_time": "2022-12-29T18:16:37.722Z"
   },
   {
    "duration": 25,
    "start_time": "2022-12-29T18:16:37.737Z"
   },
   {
    "duration": 4,
    "start_time": "2022-12-29T18:16:37.765Z"
   },
   {
    "duration": 16,
    "start_time": "2022-12-29T18:16:37.771Z"
   },
   {
    "duration": 13,
    "start_time": "2022-12-29T18:16:37.789Z"
   },
   {
    "duration": 14,
    "start_time": "2022-12-29T18:16:37.804Z"
   },
   {
    "duration": 14,
    "start_time": "2022-12-29T18:16:37.820Z"
   },
   {
    "duration": 13,
    "start_time": "2022-12-29T18:16:37.836Z"
   },
   {
    "duration": 28,
    "start_time": "2022-12-29T18:16:37.850Z"
   },
   {
    "duration": 31,
    "start_time": "2022-12-29T18:16:37.885Z"
   },
   {
    "duration": 21,
    "start_time": "2022-12-29T18:16:37.918Z"
   },
   {
    "duration": 5,
    "start_time": "2022-12-29T18:16:37.941Z"
   },
   {
    "duration": 261,
    "start_time": "2022-12-29T18:16:37.949Z"
   },
   {
    "duration": 68,
    "start_time": "2022-12-29T18:16:38.211Z"
   },
   {
    "duration": 248,
    "start_time": "2022-12-29T18:16:38.285Z"
   },
   {
    "duration": 6,
    "start_time": "2022-12-29T18:16:38.535Z"
   },
   {
    "duration": 10,
    "start_time": "2022-12-29T18:16:38.543Z"
   },
   {
    "duration": 14,
    "start_time": "2022-12-29T18:16:38.555Z"
   },
   {
    "duration": 19,
    "start_time": "2022-12-29T18:16:38.579Z"
   },
   {
    "duration": 8,
    "start_time": "2022-12-29T18:16:38.600Z"
   },
   {
    "duration": 14,
    "start_time": "2022-12-29T18:16:38.610Z"
   },
   {
    "duration": 14,
    "start_time": "2022-12-29T18:16:38.626Z"
   },
   {
    "duration": 137,
    "start_time": "2022-12-29T18:16:38.643Z"
   },
   {
    "duration": 307,
    "start_time": "2022-12-29T18:16:38.781Z"
   },
   {
    "duration": 419,
    "start_time": "2022-12-29T18:16:39.095Z"
   },
   {
    "duration": 10,
    "start_time": "2022-12-29T18:16:39.582Z"
   },
   {
    "duration": 148,
    "start_time": "2022-12-29T18:16:39.594Z"
   },
   {
    "duration": 11,
    "start_time": "2022-12-29T18:16:39.744Z"
   },
   {
    "duration": 289,
    "start_time": "2022-12-29T18:16:39.757Z"
   },
   {
    "duration": 22,
    "start_time": "2022-12-29T18:16:40.048Z"
   },
   {
    "duration": 44,
    "start_time": "2022-12-29T18:16:40.071Z"
   },
   {
    "duration": 73,
    "start_time": "2022-12-29T18:16:40.117Z"
   },
   {
    "duration": 462,
    "start_time": "2022-12-29T18:16:40.192Z"
   },
   {
    "duration": 42,
    "start_time": "2022-12-29T18:16:40.656Z"
   },
   {
    "duration": 24,
    "start_time": "2022-12-29T18:16:40.701Z"
   },
   {
    "duration": 7,
    "start_time": "2022-12-29T18:16:40.728Z"
   },
   {
    "duration": 11,
    "start_time": "2022-12-29T18:16:40.736Z"
   },
   {
    "duration": 1342,
    "start_time": "2022-12-29T18:16:47.894Z"
   },
   {
    "duration": 65,
    "start_time": "2022-12-29T18:16:49.238Z"
   },
   {
    "duration": 15,
    "start_time": "2022-12-29T18:16:49.305Z"
   },
   {
    "duration": 51,
    "start_time": "2022-12-29T18:16:49.322Z"
   },
   {
    "duration": 15,
    "start_time": "2022-12-29T18:16:49.379Z"
   },
   {
    "duration": 19,
    "start_time": "2022-12-29T18:16:49.396Z"
   },
   {
    "duration": 20,
    "start_time": "2022-12-29T18:16:49.416Z"
   },
   {
    "duration": 14,
    "start_time": "2022-12-29T18:16:49.438Z"
   },
   {
    "duration": 39,
    "start_time": "2022-12-29T18:16:49.454Z"
   },
   {
    "duration": 42,
    "start_time": "2022-12-29T18:16:49.494Z"
   },
   {
    "duration": 18,
    "start_time": "2022-12-29T18:16:49.538Z"
   },
   {
    "duration": 36,
    "start_time": "2022-12-29T18:16:49.558Z"
   },
   {
    "duration": 20,
    "start_time": "2022-12-29T18:16:49.596Z"
   },
   {
    "duration": 12,
    "start_time": "2022-12-29T18:16:49.619Z"
   },
   {
    "duration": 31,
    "start_time": "2022-12-29T18:16:49.633Z"
   },
   {
    "duration": 28,
    "start_time": "2022-12-29T18:16:49.666Z"
   },
   {
    "duration": 22,
    "start_time": "2022-12-29T18:16:49.696Z"
   },
   {
    "duration": 40,
    "start_time": "2022-12-29T18:16:49.720Z"
   },
   {
    "duration": 34,
    "start_time": "2022-12-29T18:16:49.762Z"
   },
   {
    "duration": 39,
    "start_time": "2022-12-29T18:16:49.798Z"
   },
   {
    "duration": 31,
    "start_time": "2022-12-29T18:16:49.838Z"
   },
   {
    "duration": 28,
    "start_time": "2022-12-29T18:16:49.871Z"
   },
   {
    "duration": 378,
    "start_time": "2022-12-29T18:16:49.901Z"
   },
   {
    "duration": 13,
    "start_time": "2022-12-29T18:16:50.281Z"
   },
   {
    "duration": 242,
    "start_time": "2022-12-29T18:16:50.296Z"
   },
   {
    "duration": 6,
    "start_time": "2022-12-29T18:16:50.540Z"
   },
   {
    "duration": 37,
    "start_time": "2022-12-29T18:16:50.548Z"
   },
   {
    "duration": 37,
    "start_time": "2022-12-29T18:16:50.590Z"
   },
   {
    "duration": 40,
    "start_time": "2022-12-29T18:16:50.628Z"
   },
   {
    "duration": 34,
    "start_time": "2022-12-29T18:16:50.670Z"
   },
   {
    "duration": 17,
    "start_time": "2022-12-29T18:16:50.706Z"
   },
   {
    "duration": 16,
    "start_time": "2022-12-29T18:16:50.724Z"
   },
   {
    "duration": 83,
    "start_time": "2022-12-29T18:16:50.741Z"
   },
   {
    "duration": 272,
    "start_time": "2022-12-29T18:16:50.825Z"
   },
   {
    "duration": 481,
    "start_time": "2022-12-29T18:16:51.100Z"
   },
   {
    "duration": 4,
    "start_time": "2022-12-29T18:16:51.583Z"
   },
   {
    "duration": 223,
    "start_time": "2022-12-29T18:16:51.588Z"
   },
   {
    "duration": 8,
    "start_time": "2022-12-29T18:16:51.813Z"
   },
   {
    "duration": 298,
    "start_time": "2022-12-29T18:16:51.823Z"
   },
   {
    "duration": 21,
    "start_time": "2022-12-29T18:16:52.123Z"
   },
   {
    "duration": 49,
    "start_time": "2022-12-29T18:16:52.147Z"
   },
   {
    "duration": 84,
    "start_time": "2022-12-29T18:16:52.202Z"
   },
   {
    "duration": 456,
    "start_time": "2022-12-29T18:16:52.288Z"
   },
   {
    "duration": 36,
    "start_time": "2022-12-29T18:16:52.746Z"
   },
   {
    "duration": 27,
    "start_time": "2022-12-29T18:16:52.784Z"
   },
   {
    "duration": 7,
    "start_time": "2022-12-29T18:16:52.813Z"
   },
   {
    "duration": 25,
    "start_time": "2022-12-29T18:16:52.822Z"
   },
   {
    "duration": 1265,
    "start_time": "2022-12-29T18:30:44.632Z"
   },
   {
    "duration": 52,
    "start_time": "2022-12-29T18:30:45.900Z"
   },
   {
    "duration": 12,
    "start_time": "2022-12-29T18:30:45.953Z"
   },
   {
    "duration": 42,
    "start_time": "2022-12-29T18:30:45.967Z"
   },
   {
    "duration": 10,
    "start_time": "2022-12-29T18:30:46.010Z"
   },
   {
    "duration": 4,
    "start_time": "2022-12-29T18:30:46.021Z"
   },
   {
    "duration": 8,
    "start_time": "2022-12-29T18:30:46.026Z"
   },
   {
    "duration": 8,
    "start_time": "2022-12-29T18:30:46.035Z"
   },
   {
    "duration": 8,
    "start_time": "2022-12-29T18:30:46.044Z"
   },
   {
    "duration": 32,
    "start_time": "2022-12-29T18:30:46.054Z"
   },
   {
    "duration": 3,
    "start_time": "2022-12-29T18:30:46.088Z"
   },
   {
    "duration": 22,
    "start_time": "2022-12-29T18:30:46.092Z"
   },
   {
    "duration": 3,
    "start_time": "2022-12-29T18:30:46.116Z"
   },
   {
    "duration": 12,
    "start_time": "2022-12-29T18:30:46.120Z"
   },
   {
    "duration": 8,
    "start_time": "2022-12-29T18:30:46.133Z"
   },
   {
    "duration": 5,
    "start_time": "2022-12-29T18:30:46.142Z"
   },
   {
    "duration": 31,
    "start_time": "2022-12-29T18:30:46.148Z"
   },
   {
    "duration": 9,
    "start_time": "2022-12-29T18:30:46.181Z"
   },
   {
    "duration": 21,
    "start_time": "2022-12-29T18:30:46.192Z"
   },
   {
    "duration": 17,
    "start_time": "2022-12-29T18:30:46.214Z"
   },
   {
    "duration": 46,
    "start_time": "2022-12-29T18:30:46.232Z"
   },
   {
    "duration": 4,
    "start_time": "2022-12-29T18:30:46.279Z"
   },
   {
    "duration": 235,
    "start_time": "2022-12-29T18:30:46.285Z"
   },
   {
    "duration": 159,
    "start_time": "2022-12-29T18:30:46.521Z"
   },
   {
    "duration": 0,
    "start_time": "2022-12-29T18:30:46.682Z"
   },
   {
    "duration": 0,
    "start_time": "2022-12-29T18:30:46.683Z"
   },
   {
    "duration": 0,
    "start_time": "2022-12-29T18:30:46.684Z"
   },
   {
    "duration": 0,
    "start_time": "2022-12-29T18:30:46.685Z"
   },
   {
    "duration": 0,
    "start_time": "2022-12-29T18:30:46.686Z"
   },
   {
    "duration": 0,
    "start_time": "2022-12-29T18:30:46.687Z"
   },
   {
    "duration": 0,
    "start_time": "2022-12-29T18:30:46.688Z"
   },
   {
    "duration": 0,
    "start_time": "2022-12-29T18:30:46.689Z"
   },
   {
    "duration": 0,
    "start_time": "2022-12-29T18:30:46.690Z"
   },
   {
    "duration": 0,
    "start_time": "2022-12-29T18:30:46.692Z"
   },
   {
    "duration": 0,
    "start_time": "2022-12-29T18:30:46.692Z"
   },
   {
    "duration": 0,
    "start_time": "2022-12-29T18:30:46.693Z"
   },
   {
    "duration": 0,
    "start_time": "2022-12-29T18:30:46.694Z"
   },
   {
    "duration": 0,
    "start_time": "2022-12-29T18:30:46.695Z"
   },
   {
    "duration": 0,
    "start_time": "2022-12-29T18:30:46.696Z"
   },
   {
    "duration": 0,
    "start_time": "2022-12-29T18:30:46.698Z"
   },
   {
    "duration": 0,
    "start_time": "2022-12-29T18:30:46.699Z"
   },
   {
    "duration": 0,
    "start_time": "2022-12-29T18:30:46.700Z"
   },
   {
    "duration": 0,
    "start_time": "2022-12-29T18:30:46.701Z"
   },
   {
    "duration": 0,
    "start_time": "2022-12-29T18:30:46.701Z"
   },
   {
    "duration": 0,
    "start_time": "2022-12-29T18:30:46.702Z"
   },
   {
    "duration": 0,
    "start_time": "2022-12-29T18:30:46.703Z"
   },
   {
    "duration": 0,
    "start_time": "2022-12-29T18:30:46.705Z"
   },
   {
    "duration": 0,
    "start_time": "2022-12-29T18:30:46.705Z"
   },
   {
    "duration": 0,
    "start_time": "2022-12-29T18:30:46.706Z"
   },
   {
    "duration": 0,
    "start_time": "2022-12-29T18:30:46.707Z"
   },
   {
    "duration": 0,
    "start_time": "2022-12-29T18:30:46.708Z"
   },
   {
    "duration": 0,
    "start_time": "2022-12-29T18:30:46.709Z"
   },
   {
    "duration": 0,
    "start_time": "2022-12-29T18:30:46.710Z"
   },
   {
    "duration": 0,
    "start_time": "2022-12-29T18:30:46.711Z"
   },
   {
    "duration": 0,
    "start_time": "2022-12-29T18:30:46.712Z"
   },
   {
    "duration": 0,
    "start_time": "2022-12-29T18:30:46.713Z"
   },
   {
    "duration": 0,
    "start_time": "2022-12-29T18:30:46.714Z"
   },
   {
    "duration": 0,
    "start_time": "2022-12-29T18:30:46.715Z"
   },
   {
    "duration": 0,
    "start_time": "2022-12-29T18:30:46.716Z"
   },
   {
    "duration": 0,
    "start_time": "2022-12-29T18:30:46.717Z"
   },
   {
    "duration": 1,
    "start_time": "2022-12-29T18:30:46.717Z"
   },
   {
    "duration": 0,
    "start_time": "2022-12-29T18:30:46.719Z"
   },
   {
    "duration": 0,
    "start_time": "2022-12-29T18:30:46.778Z"
   },
   {
    "duration": 2,
    "start_time": "2022-12-29T18:31:14.828Z"
   },
   {
    "duration": 5,
    "start_time": "2022-12-29T18:31:16.429Z"
   },
   {
    "duration": 681,
    "start_time": "2022-12-29T18:31:17.899Z"
   },
   {
    "duration": 688,
    "start_time": "2022-12-29T18:31:28.601Z"
   },
   {
    "duration": 9,
    "start_time": "2022-12-29T18:31:29.695Z"
   },
   {
    "duration": 50,
    "start_time": "2022-12-29T18:31:45.912Z"
   },
   {
    "duration": 34,
    "start_time": "2022-12-29T18:31:51.842Z"
   },
   {
    "duration": 8,
    "start_time": "2022-12-29T18:31:54.620Z"
   },
   {
    "duration": 7,
    "start_time": "2022-12-29T18:31:56.137Z"
   },
   {
    "duration": 23,
    "start_time": "2022-12-29T18:32:00.987Z"
   },
   {
    "duration": 10,
    "start_time": "2022-12-29T18:32:01.748Z"
   },
   {
    "duration": 19,
    "start_time": "2022-12-29T18:32:06.795Z"
   },
   {
    "duration": 4,
    "start_time": "2022-12-29T18:32:09.598Z"
   },
   {
    "duration": 138,
    "start_time": "2022-12-29T18:32:11.205Z"
   },
   {
    "duration": 290,
    "start_time": "2022-12-29T18:32:12.503Z"
   },
   {
    "duration": 5,
    "start_time": "2022-12-29T18:32:17.910Z"
   },
   {
    "duration": 145,
    "start_time": "2022-12-29T18:32:18.877Z"
   },
   {
    "duration": 5,
    "start_time": "2022-12-29T18:32:23.062Z"
   },
   {
    "duration": 4,
    "start_time": "2022-12-29T18:33:48.747Z"
   },
   {
    "duration": 60,
    "start_time": "2022-12-29T18:33:48.752Z"
   },
   {
    "duration": 11,
    "start_time": "2022-12-29T18:33:48.814Z"
   },
   {
    "duration": 55,
    "start_time": "2022-12-29T18:33:48.827Z"
   },
   {
    "duration": 11,
    "start_time": "2022-12-29T18:33:48.884Z"
   },
   {
    "duration": 4,
    "start_time": "2022-12-29T18:33:48.897Z"
   },
   {
    "duration": 9,
    "start_time": "2022-12-29T18:33:48.902Z"
   },
   {
    "duration": 9,
    "start_time": "2022-12-29T18:33:48.912Z"
   },
   {
    "duration": 20,
    "start_time": "2022-12-29T18:33:48.922Z"
   },
   {
    "duration": 39,
    "start_time": "2022-12-29T18:33:48.944Z"
   },
   {
    "duration": 5,
    "start_time": "2022-12-29T18:33:48.985Z"
   },
   {
    "duration": 20,
    "start_time": "2022-12-29T18:33:48.991Z"
   },
   {
    "duration": 4,
    "start_time": "2022-12-29T18:33:49.012Z"
   },
   {
    "duration": 13,
    "start_time": "2022-12-29T18:33:49.018Z"
   },
   {
    "duration": 6,
    "start_time": "2022-12-29T18:33:49.033Z"
   },
   {
    "duration": 8,
    "start_time": "2022-12-29T18:33:49.041Z"
   },
   {
    "duration": 38,
    "start_time": "2022-12-29T18:33:49.050Z"
   },
   {
    "duration": 14,
    "start_time": "2022-12-29T18:33:49.089Z"
   },
   {
    "duration": 22,
    "start_time": "2022-12-29T18:33:49.104Z"
   },
   {
    "duration": 20,
    "start_time": "2022-12-29T18:33:49.128Z"
   },
   {
    "duration": 44,
    "start_time": "2022-12-29T18:33:49.150Z"
   },
   {
    "duration": 4,
    "start_time": "2022-12-29T18:33:49.196Z"
   },
   {
    "duration": 279,
    "start_time": "2022-12-29T18:33:49.202Z"
   },
   {
    "duration": 94,
    "start_time": "2022-12-29T18:33:49.483Z"
   },
   {
    "duration": 106,
    "start_time": "2022-12-29T18:33:49.579Z"
   },
   {
    "duration": 791,
    "start_time": "2022-12-29T18:33:49.687Z"
   },
   {
    "duration": 721,
    "start_time": "2022-12-29T18:33:50.481Z"
   },
   {
    "duration": 8,
    "start_time": "2022-12-29T18:33:51.204Z"
   },
   {
    "duration": 56,
    "start_time": "2022-12-29T18:33:51.215Z"
   },
   {
    "duration": 33,
    "start_time": "2022-12-29T18:33:51.278Z"
   },
   {
    "duration": 8,
    "start_time": "2022-12-29T18:33:51.312Z"
   },
   {
    "duration": 7,
    "start_time": "2022-12-29T18:33:51.322Z"
   },
   {
    "duration": 50,
    "start_time": "2022-12-29T18:33:51.331Z"
   },
   {
    "duration": 96,
    "start_time": "2022-12-29T18:33:51.384Z"
   },
   {
    "duration": 8,
    "start_time": "2022-12-29T18:33:51.482Z"
   },
   {
    "duration": 89,
    "start_time": "2022-12-29T18:33:51.492Z"
   },
   {
    "duration": 214,
    "start_time": "2022-12-29T18:33:51.584Z"
   },
   {
    "duration": 379,
    "start_time": "2022-12-29T18:33:51.800Z"
   },
   {
    "duration": 6,
    "start_time": "2022-12-29T18:33:52.181Z"
   },
   {
    "duration": 140,
    "start_time": "2022-12-29T18:33:52.189Z"
   },
   {
    "duration": 5,
    "start_time": "2022-12-29T18:33:52.330Z"
   },
   {
    "duration": 7,
    "start_time": "2022-12-29T18:33:52.337Z"
   },
   {
    "duration": 14,
    "start_time": "2022-12-29T18:33:52.345Z"
   },
   {
    "duration": 27,
    "start_time": "2022-12-29T18:33:52.361Z"
   },
   {
    "duration": 7,
    "start_time": "2022-12-29T18:33:52.389Z"
   },
   {
    "duration": 15,
    "start_time": "2022-12-29T18:33:52.397Z"
   },
   {
    "duration": 14,
    "start_time": "2022-12-29T18:33:52.414Z"
   },
   {
    "duration": 109,
    "start_time": "2022-12-29T18:33:52.430Z"
   },
   {
    "duration": 251,
    "start_time": "2022-12-29T18:33:52.541Z"
   },
   {
    "duration": 488,
    "start_time": "2022-12-29T18:33:52.794Z"
   },
   {
    "duration": 95,
    "start_time": "2022-12-29T18:33:53.284Z"
   },
   {
    "duration": 133,
    "start_time": "2022-12-29T18:33:53.381Z"
   },
   {
    "duration": 10,
    "start_time": "2022-12-29T18:33:53.515Z"
   },
   {
    "duration": 309,
    "start_time": "2022-12-29T18:33:53.526Z"
   },
   {
    "duration": 23,
    "start_time": "2022-12-29T18:33:53.836Z"
   },
   {
    "duration": 119,
    "start_time": "2022-12-29T18:33:53.861Z"
   },
   {
    "duration": 96,
    "start_time": "2022-12-29T18:33:53.982Z"
   },
   {
    "duration": 350,
    "start_time": "2022-12-29T18:33:54.080Z"
   },
   {
    "duration": 26,
    "start_time": "2022-12-29T18:33:54.433Z"
   },
   {
    "duration": 34,
    "start_time": "2022-12-29T18:33:54.461Z"
   },
   {
    "duration": 7,
    "start_time": "2022-12-29T18:33:54.496Z"
   },
   {
    "duration": 10,
    "start_time": "2022-12-29T18:33:54.505Z"
   },
   {
    "duration": 1766,
    "start_time": "2022-12-29T18:40:13.287Z"
   },
   {
    "duration": 52,
    "start_time": "2022-12-29T18:40:15.055Z"
   },
   {
    "duration": 11,
    "start_time": "2022-12-29T18:40:15.108Z"
   },
   {
    "duration": 38,
    "start_time": "2022-12-29T18:40:15.121Z"
   },
   {
    "duration": 22,
    "start_time": "2022-12-29T18:40:15.160Z"
   },
   {
    "duration": 4,
    "start_time": "2022-12-29T18:40:15.183Z"
   },
   {
    "duration": 10,
    "start_time": "2022-12-29T18:40:15.188Z"
   },
   {
    "duration": 11,
    "start_time": "2022-12-29T18:40:15.200Z"
   },
   {
    "duration": 9,
    "start_time": "2022-12-29T18:40:15.212Z"
   },
   {
    "duration": 15,
    "start_time": "2022-12-29T18:40:15.223Z"
   },
   {
    "duration": 8,
    "start_time": "2022-12-29T18:40:15.240Z"
   },
   {
    "duration": 42,
    "start_time": "2022-12-29T18:40:15.249Z"
   },
   {
    "duration": 5,
    "start_time": "2022-12-29T18:40:15.293Z"
   },
   {
    "duration": 7,
    "start_time": "2022-12-29T18:40:15.300Z"
   },
   {
    "duration": 7,
    "start_time": "2022-12-29T18:40:15.309Z"
   },
   {
    "duration": 11,
    "start_time": "2022-12-29T18:40:15.317Z"
   },
   {
    "duration": 14,
    "start_time": "2022-12-29T18:40:15.330Z"
   },
   {
    "duration": 35,
    "start_time": "2022-12-29T18:40:15.345Z"
   },
   {
    "duration": 23,
    "start_time": "2022-12-29T18:40:15.381Z"
   },
   {
    "duration": 21,
    "start_time": "2022-12-29T18:40:15.406Z"
   },
   {
    "duration": 18,
    "start_time": "2022-12-29T18:40:15.428Z"
   },
   {
    "duration": 32,
    "start_time": "2022-12-29T18:40:15.448Z"
   },
   {
    "duration": 304,
    "start_time": "2022-12-29T18:40:15.481Z"
   },
   {
    "duration": 5,
    "start_time": "2022-12-29T18:40:15.787Z"
   },
   {
    "duration": 661,
    "start_time": "2022-12-29T18:40:15.879Z"
   },
   {
    "duration": 7,
    "start_time": "2022-12-29T18:40:16.542Z"
   },
   {
    "duration": 70,
    "start_time": "2022-12-29T18:40:16.551Z"
   },
   {
    "duration": 36,
    "start_time": "2022-12-29T18:40:16.624Z"
   },
   {
    "duration": 21,
    "start_time": "2022-12-29T18:40:16.661Z"
   },
   {
    "duration": 8,
    "start_time": "2022-12-29T18:40:16.683Z"
   },
   {
    "duration": 84,
    "start_time": "2022-12-29T18:40:16.693Z"
   },
   {
    "duration": 105,
    "start_time": "2022-12-29T18:40:16.779Z"
   },
   {
    "duration": 10,
    "start_time": "2022-12-29T18:40:16.886Z"
   },
   {
    "duration": 184,
    "start_time": "2022-12-29T18:40:16.897Z"
   },
   {
    "duration": 167,
    "start_time": "2022-12-29T18:40:17.083Z"
   },
   {
    "duration": 5,
    "start_time": "2022-12-29T18:40:17.252Z"
   },
   {
    "duration": 11,
    "start_time": "2022-12-29T18:40:17.259Z"
   },
   {
    "duration": 11,
    "start_time": "2022-12-29T18:40:17.278Z"
   },
   {
    "duration": 15,
    "start_time": "2022-12-29T18:40:17.291Z"
   },
   {
    "duration": 7,
    "start_time": "2022-12-29T18:40:17.307Z"
   },
   {
    "duration": 14,
    "start_time": "2022-12-29T18:40:17.316Z"
   },
   {
    "duration": 13,
    "start_time": "2022-12-29T18:40:17.332Z"
   },
   {
    "duration": 104,
    "start_time": "2022-12-29T18:40:17.347Z"
   },
   {
    "duration": 237,
    "start_time": "2022-12-29T18:40:17.453Z"
   },
   {
    "duration": 487,
    "start_time": "2022-12-29T18:40:17.692Z"
   },
   {
    "duration": 214,
    "start_time": "2022-12-29T18:40:18.181Z"
   },
   {
    "duration": 9,
    "start_time": "2022-12-29T18:40:18.397Z"
   },
   {
    "duration": 279,
    "start_time": "2022-12-29T18:40:18.408Z"
   },
   {
    "duration": 20,
    "start_time": "2022-12-29T18:40:18.688Z"
   },
   {
    "duration": 71,
    "start_time": "2022-12-29T18:40:18.710Z"
   },
   {
    "duration": 98,
    "start_time": "2022-12-29T18:40:18.784Z"
   },
   {
    "duration": 388,
    "start_time": "2022-12-29T18:40:18.884Z"
   },
   {
    "duration": 28,
    "start_time": "2022-12-29T18:40:19.274Z"
   },
   {
    "duration": 23,
    "start_time": "2022-12-29T18:40:19.303Z"
   },
   {
    "duration": 6,
    "start_time": "2022-12-29T18:40:19.328Z"
   },
   {
    "duration": 15,
    "start_time": "2022-12-29T18:40:19.335Z"
   },
   {
    "duration": 6,
    "start_time": "2022-12-29T18:44:23.806Z"
   },
   {
    "duration": 65,
    "start_time": "2022-12-29T18:44:23.814Z"
   },
   {
    "duration": 18,
    "start_time": "2022-12-29T18:44:23.881Z"
   },
   {
    "duration": 77,
    "start_time": "2022-12-29T18:44:23.902Z"
   },
   {
    "duration": 14,
    "start_time": "2022-12-29T18:44:23.982Z"
   },
   {
    "duration": 19,
    "start_time": "2022-12-29T18:44:23.998Z"
   },
   {
    "duration": 23,
    "start_time": "2022-12-29T18:44:24.019Z"
   },
   {
    "duration": 22,
    "start_time": "2022-12-29T18:44:24.044Z"
   },
   {
    "duration": 34,
    "start_time": "2022-12-29T18:44:24.068Z"
   },
   {
    "duration": 25,
    "start_time": "2022-12-29T18:44:24.104Z"
   },
   {
    "duration": 27,
    "start_time": "2022-12-29T18:44:24.133Z"
   },
   {
    "duration": 37,
    "start_time": "2022-12-29T18:44:24.162Z"
   },
   {
    "duration": 13,
    "start_time": "2022-12-29T18:44:24.200Z"
   },
   {
    "duration": 38,
    "start_time": "2022-12-29T18:44:24.215Z"
   },
   {
    "duration": 12,
    "start_time": "2022-12-29T18:44:24.255Z"
   },
   {
    "duration": 34,
    "start_time": "2022-12-29T18:44:24.269Z"
   },
   {
    "duration": 12,
    "start_time": "2022-12-29T18:44:24.305Z"
   },
   {
    "duration": 13,
    "start_time": "2022-12-29T18:44:24.318Z"
   },
   {
    "duration": 32,
    "start_time": "2022-12-29T18:44:24.332Z"
   },
   {
    "duration": 25,
    "start_time": "2022-12-29T18:44:24.366Z"
   },
   {
    "duration": 21,
    "start_time": "2022-12-29T18:44:24.393Z"
   },
   {
    "duration": 5,
    "start_time": "2022-12-29T18:44:24.416Z"
   },
   {
    "duration": 267,
    "start_time": "2022-12-29T18:44:24.423Z"
   },
   {
    "duration": 4,
    "start_time": "2022-12-29T18:44:24.691Z"
   },
   {
    "duration": 969,
    "start_time": "2022-12-29T18:44:24.696Z"
   },
   {
    "duration": 17,
    "start_time": "2022-12-29T18:44:25.667Z"
   },
   {
    "duration": 104,
    "start_time": "2022-12-29T18:44:25.686Z"
   },
   {
    "duration": 48,
    "start_time": "2022-12-29T18:44:25.793Z"
   },
   {
    "duration": 16,
    "start_time": "2022-12-29T18:44:25.845Z"
   },
   {
    "duration": 42,
    "start_time": "2022-12-29T18:44:25.863Z"
   },
   {
    "duration": 73,
    "start_time": "2022-12-29T18:44:25.907Z"
   },
   {
    "duration": 13,
    "start_time": "2022-12-29T18:44:25.981Z"
   },
   {
    "duration": 112,
    "start_time": "2022-12-29T18:44:25.996Z"
   },
   {
    "duration": 189,
    "start_time": "2022-12-29T18:44:26.111Z"
   },
   {
    "duration": 211,
    "start_time": "2022-12-29T18:44:26.303Z"
   },
   {
    "duration": 6,
    "start_time": "2022-12-29T18:44:26.516Z"
   },
   {
    "duration": 99,
    "start_time": "2022-12-29T18:44:26.525Z"
   },
   {
    "duration": 18,
    "start_time": "2022-12-29T18:44:26.627Z"
   },
   {
    "duration": 21,
    "start_time": "2022-12-29T18:44:26.647Z"
   },
   {
    "duration": 43,
    "start_time": "2022-12-29T18:44:26.670Z"
   },
   {
    "duration": 24,
    "start_time": "2022-12-29T18:44:26.715Z"
   },
   {
    "duration": 16,
    "start_time": "2022-12-29T18:44:26.741Z"
   },
   {
    "duration": 156,
    "start_time": "2022-12-29T18:44:26.759Z"
   },
   {
    "duration": 373,
    "start_time": "2022-12-29T18:44:26.917Z"
   },
   {
    "duration": 504,
    "start_time": "2022-12-29T18:44:27.295Z"
   },
   {
    "duration": 218,
    "start_time": "2022-12-29T18:44:27.802Z"
   },
   {
    "duration": 12,
    "start_time": "2022-12-29T18:44:28.022Z"
   },
   {
    "duration": 336,
    "start_time": "2022-12-29T18:44:28.036Z"
   },
   {
    "duration": 27,
    "start_time": "2022-12-29T18:44:28.373Z"
   },
   {
    "duration": 83,
    "start_time": "2022-12-29T18:44:28.401Z"
   },
   {
    "duration": 104,
    "start_time": "2022-12-29T18:44:28.485Z"
   },
   {
    "duration": 450,
    "start_time": "2022-12-29T18:44:28.598Z"
   },
   {
    "duration": 34,
    "start_time": "2022-12-29T18:44:29.050Z"
   },
   {
    "duration": 24,
    "start_time": "2022-12-29T18:44:29.086Z"
   },
   {
    "duration": 6,
    "start_time": "2022-12-29T18:44:29.112Z"
   },
   {
    "duration": 17,
    "start_time": "2022-12-29T18:44:29.121Z"
   },
   {
    "duration": 3,
    "start_time": "2022-12-31T09:18:48.730Z"
   },
   {
    "duration": 46,
    "start_time": "2022-12-31T09:21:06.378Z"
   },
   {
    "duration": 1471,
    "start_time": "2022-12-31T09:23:30.929Z"
   },
   {
    "duration": 90,
    "start_time": "2022-12-31T09:23:32.402Z"
   },
   {
    "duration": 13,
    "start_time": "2022-12-31T09:23:32.493Z"
   },
   {
    "duration": 66,
    "start_time": "2022-12-31T09:23:32.507Z"
   },
   {
    "duration": 11,
    "start_time": "2022-12-31T09:23:32.575Z"
   },
   {
    "duration": 38,
    "start_time": "2022-12-31T09:23:32.588Z"
   },
   {
    "duration": 25,
    "start_time": "2022-12-31T09:23:32.627Z"
   },
   {
    "duration": 33,
    "start_time": "2022-12-31T09:23:32.653Z"
   },
   {
    "duration": 10,
    "start_time": "2022-12-31T09:23:32.688Z"
   },
   {
    "duration": 27,
    "start_time": "2022-12-31T09:23:32.699Z"
   },
   {
    "duration": 24,
    "start_time": "2022-12-31T09:23:32.728Z"
   }
  ],
  "kernelspec": {
   "display_name": "Python 3 (ipykernel)",
   "language": "python",
   "name": "python3"
  },
  "language_info": {
   "codemirror_mode": {
    "name": "ipython",
    "version": 3
   },
   "file_extension": ".py",
   "mimetype": "text/x-python",
   "name": "python",
   "nbconvert_exporter": "python",
   "pygments_lexer": "ipython3",
   "version": "3.9.5"
  },
  "toc": {
   "base_numbering": 1,
   "nav_menu": {},
   "number_sections": true,
   "sideBar": true,
   "skip_h1_title": true,
   "title_cell": "Содержание",
   "title_sidebar": "Contents",
   "toc_cell": true,
   "toc_position": {
    "height": "calc(100% - 180px)",
    "left": "10px",
    "top": "150px",
    "width": "165px"
   },
   "toc_section_display": true,
   "toc_window_display": false
  }
 },
 "nbformat": 4,
 "nbformat_minor": 2
}
